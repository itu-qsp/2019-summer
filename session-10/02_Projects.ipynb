{
 "cells": [
  {
   "cell_type": "markdown",
   "metadata": {
    "slideshow": {
     "slide_type": "slide"
    }
   },
   "source": [
    "## The remainder of the seminar\n",
    "\n",
    "* From 10:00 to 12:30 you are split into two groups:\n",
    "\n",
    "  * Helge will present the concepts of Concurrency, Event handling, and Python in the browser\n",
    "    * On the third floor\n",
    "  * Jens will present tools to analyse and visualise data\n",
    "    * In Auditorium 1"
   ]
  },
  {
   "cell_type": "markdown",
   "metadata": {
    "slideshow": {
     "slide_type": "fragment"
    }
   },
   "source": [
    "* On Wednesday and Friday you can do exactly what you want, but **write code**\n",
    "  * Assignments\n",
    "  * Tests\n",
    "  * Projects"
   ]
  },
  {
   "cell_type": "markdown",
   "metadata": {
    "slideshow": {
     "slide_type": "subslide"
    }
   },
   "source": [
    "## Project suggestions\n",
    "\n",
    "* Alien invasion (Python crash course)\n",
    "* Data visualisation (Python crash course)\n",
    "* Web applications (Python crash course)\n",
    "* Automatic web form fillers (Automate the boring stuff, page 431)\n",
    "* Fast file downloader (Automate the boring stuff, page 353)\n",
    "* Write a Python GUI program (Chapter 14 in [How to Think Like a Computer Scientist: Interactive Edition](https://runestone.academy/runestone/books/published/thinkcspy/GUIandEventDrivenProgramming/toctree.html))\n",
    "* Use Python to create a gif (http://superfluoussextant.com/making-gifs-with-python.html)\n",
    "* Recognise cats/objects in your images (https://luminoth.ai/)\n",
    "\n",
    "\n",
    "* Otherwise check out some nice Python libraries\n",
    "  * https://docs.python.org/3/\n",
    "  * https://pythontips.com/2013/07/30/20-python-libraries-you-cant-live-without/\n",
    "  * https://tryolabs.com/blog/2017/12/19/top-10-python-libraries-of-2017/\n"
   ]
  }
 ],
 "metadata": {
  "celltoolbar": "Slideshow",
  "hide_input": false,
  "kernelspec": {
   "display_name": "Python 3",
   "language": "python",
   "name": "python3"
  },
  "language_info": {
   "codemirror_mode": {
    "name": "ipython",
    "version": 3
   },
   "file_extension": ".py",
   "mimetype": "text/x-python",
   "name": "python",
   "nbconvert_exporter": "python",
   "pygments_lexer": "ipython3",
   "version": "3.7.3"
  }
 },
 "nbformat": 4,
 "nbformat_minor": 2
}
