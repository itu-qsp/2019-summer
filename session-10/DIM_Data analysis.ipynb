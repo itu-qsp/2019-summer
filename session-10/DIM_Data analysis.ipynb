{
 "cells": [
  {
   "cell_type": "markdown",
   "metadata": {
    "slideshow": {
     "slide_type": "slide"
    }
   },
   "source": [
    "# Analysing data\n",
    "\n",
    "* Currently 33 zettabytes\n",
    "  * 2025: 173 zettabytes [IDC](https://www.emc.com/collateral/analyst-reports/idc-the-digital-universe-in-2020.pdf\n",
    "  * [173'000'000'000'000'000'000'000](https://en.wikipedia.org/wiki/Zettabyte)"
   ]
  },
  {
   "cell_type": "markdown",
   "metadata": {
    "slideshow": {
     "slide_type": "fragment"
    }
   },
   "source": [
    "* Your future company will bathe in data about everything\n",
    "* You need to learn how to use data and extract valuable information from it"
   ]
  },
  {
   "cell_type": "markdown",
   "metadata": {
    "slideshow": {
     "slide_type": "subslide"
    }
   },
   "source": [
    "## Analysing data with models\n",
    "\n",
    "> All models are wrong, but some are useful\n",
    "\n",
    "Source: [Several](https://en.wikipedia.org/wiki/All_models_are_wrong)"
   ]
  },
  {
   "cell_type": "markdown",
   "metadata": {
    "slideshow": {
     "slide_type": "subslide"
    }
   },
   "source": [
    "## Today: Three relevant questions + geographical show-off\n",
    "\n",
    "1. Are young people really getting poorer?\n",
    "2. How green is Denmark really?\n",
    "3. How many from the Ivory Coast lives in Denmark?\n",
    "\n",
    "\n",
    "* Plotting with Python"
   ]
  },
  {
   "cell_type": "markdown",
   "metadata": {
    "slideshow": {
     "slide_type": "subslide"
    }
   },
   "source": [
    "## Pandas \n",
    "\n",
    "[Pandas](https://pandas.pydata.org/) is a library for Python that helps you do this.\n",
    "\n",
    "Install it now by typing:\n",
    "\n",
    "```bash\n",
    "$ pip install pandas\n",
    "```"
   ]
  },
  {
   "cell_type": "markdown",
   "metadata": {
    "slideshow": {
     "slide_type": "subslide"
    }
   },
   "source": [
    "## Pandas dataframes\n",
    "\n",
    "Pandas works a bit like the `openpyxl` module: you get a 'sheet' of data and read it in columns.\n",
    "\n",
    "Let's do that together now."
   ]
  },
  {
   "cell_type": "code",
   "execution_count": null,
   "metadata": {
    "slideshow": {
     "slide_type": "fragment"
    }
   },
   "outputs": [],
   "source": [
    "import pandas as pd\n",
    "import matplotlib.pyplot as plt"
   ]
  },
  {
   "cell_type": "markdown",
   "metadata": {
    "slideshow": {
     "slide_type": "subslide"
    }
   },
   "source": [
    "But we need a data source!\n",
    "\n",
    "https://www.dr.dk/nyheder/indland/aeldre-bliver-rigere-unge-fattigere"
   ]
  },
  {
   "cell_type": "markdown",
   "metadata": {
    "slideshow": {
     "slide_type": "notes"
    }
   },
   "source": [
    "https://www.dst.dk/da/Statistik/emner/arbejde-indkomst-og-formue/indkomster\n",
    "\n",
    "https://www.dst.dk/da/Statistik/nyt/NytHtml?cid=29483"
   ]
  },
  {
   "cell_type": "code",
   "execution_count": null,
   "metadata": {
    "slideshow": {
     "slide_type": "subslide"
    }
   },
   "outputs": [],
   "source": []
  },
  {
   "cell_type": "markdown",
   "metadata": {
    "slideshow": {
     "slide_type": "notes"
    }
   },
   "source": [
    "df = pd.read_csv('data/2019721183544253670048AINDK267296307071.csv', header=None, encoding='cp1252')"
   ]
  },
  {
   "cell_type": "code",
   "execution_count": null,
   "metadata": {
    "slideshow": {
     "slide_type": "subslide"
    }
   },
   "outputs": [],
   "source": [
    "print(df)"
   ]
  },
  {
   "cell_type": "markdown",
   "metadata": {
    "slideshow": {
     "slide_type": "notes"
    }
   },
   "source": [
    "print(df.head())"
   ]
  },
  {
   "cell_type": "code",
   "execution_count": null,
   "metadata": {
    "slideshow": {
     "slide_type": "subslide"
    }
   },
   "outputs": [],
   "source": [
    "df.head()"
   ]
  },
  {
   "cell_type": "code",
   "execution_count": null,
   "metadata": {
    "slideshow": {
     "slide_type": "fragment"
    }
   },
   "outputs": [],
   "source": [
    "df.columns = ['','', 'region', 'sex', 'age', '2018', '2017', '2016', '2015', '2014', '2013', '2012']"
   ]
  },
  {
   "cell_type": "code",
   "execution_count": null,
   "metadata": {
    "slideshow": {
     "slide_type": "subslide"
    }
   },
   "outputs": [],
   "source": [
    "df.head()"
   ]
  },
  {
   "cell_type": "code",
   "execution_count": null,
   "metadata": {
    "slideshow": {
     "slide_type": "subslide"
    }
   },
   "outputs": [],
   "source": [
    "df['age']"
   ]
  },
  {
   "cell_type": "code",
   "execution_count": null,
   "metadata": {
    "slideshow": {
     "slide_type": "subslide"
    }
   },
   "outputs": [],
   "source": [
    "both = pd.DataFrame()"
   ]
  },
  {
   "cell_type": "code",
   "execution_count": null,
   "metadata": {
    "slideshow": {
     "slide_type": "subslide"
    }
   },
   "outputs": [],
   "source": [
    "both['age'] = df['age'][1:14]"
   ]
  },
  {
   "cell_type": "code",
   "execution_count": null,
   "metadata": {
    "slideshow": {
     "slide_type": "subslide"
    }
   },
   "outputs": [],
   "source": [
    "both"
   ]
  },
  {
   "cell_type": "code",
   "execution_count": null,
   "metadata": {
    "slideshow": {
     "slide_type": "subslide"
    }
   },
   "outputs": [],
   "source": [
    "# Crop columns to only contain 1 to 13"
   ]
  },
  {
   "cell_type": "code",
   "execution_count": null,
   "metadata": {
    "slideshow": {
     "slide_type": "notes"
    }
   },
   "outputs": [],
   "source": [
    "for i in range(2012, 2019):\n",
    "    name = str(i)\n",
    "    both[name] = df[name][1:14]"
   ]
  },
  {
   "cell_type": "code",
   "execution_count": null,
   "metadata": {
    "slideshow": {
     "slide_type": "subslide"
    }
   },
   "outputs": [],
   "source": [
    "both"
   ]
  },
  {
   "cell_type": "code",
   "execution_count": null,
   "metadata": {
    "slideshow": {
     "slide_type": "subslide"
    }
   },
   "outputs": [],
   "source": [
    "both.plot()"
   ]
  },
  {
   "cell_type": "code",
   "execution_count": null,
   "metadata": {
    "slideshow": {
     "slide_type": "subslide"
    }
   },
   "outputs": [],
   "source": [
    "both.T[1:].plot()"
   ]
  },
  {
   "cell_type": "markdown",
   "metadata": {
    "slideshow": {
     "slide_type": "subslide"
    }
   },
   "source": [
    "## Plotting with pandas\n",
    "\n",
    "Pandas `DataFrame`s have a simple `.plot()` method, which plots **columns as x values** and **rows as y values**.\n",
    "\n",
    "https://pandas.pydata.org/pandas-docs/stable/reference/api/pandas.DataFrame.plot.line.html#pandas.DataFrame.plot.line\n",
    "\n",
    "You can also plot barcharts, histograms etc."
   ]
  },
  {
   "cell_type": "code",
   "execution_count": null,
   "metadata": {
    "slideshow": {
     "slide_type": "subslide"
    }
   },
   "outputs": [],
   "source": [
    "both_index = pd.DataFrame()"
   ]
  },
  {
   "cell_type": "code",
   "execution_count": null,
   "metadata": {
    "slideshow": {
     "slide_type": "fragment"
    }
   },
   "outputs": [],
   "source": [
    "both_index['age'] = both['age']"
   ]
  },
  {
   "cell_type": "code",
   "execution_count": null,
   "metadata": {
    "slideshow": {
     "slide_type": "fragment"
    }
   },
   "outputs": [],
   "source": [
    "for i in range(2012, 2019):\n",
    "    name = str(i)\n",
    "    both_index[name] = df[name][1:14]"
   ]
  },
  {
   "cell_type": "markdown",
   "metadata": {
    "slideshow": {
     "slide_type": "notes"
    }
   },
   "source": [
    "```python\n",
    "for i in range(2012, 2019):\n",
    "    name = str(i)\n",
    "    both_index[name] = df[name][1:14] - df['2012'][1:14]\n",
    "```"
   ]
  },
  {
   "cell_type": "code",
   "execution_count": null,
   "metadata": {
    "slideshow": {
     "slide_type": "subslide"
    }
   },
   "outputs": [],
   "source": [
    "both_index"
   ]
  },
  {
   "cell_type": "code",
   "execution_count": null,
   "metadata": {
    "slideshow": {
     "slide_type": "subslide"
    }
   },
   "outputs": [],
   "source": [
    "both_index.T[1:].plot()"
   ]
  },
  {
   "cell_type": "markdown",
   "metadata": {
    "slideshow": {
     "slide_type": "subslide"
    }
   },
   "source": [
    "## Exercise!\n",
    "\n",
    "Use the dataset available from GitHub: `session-10/data`\n",
    "\n",
    "* Can you do the same thing for men and women exclusively?\n",
    "  * Try to turn the problem into a function. The code will almost be the same, but what will change?\n",
    "* Bonus question: Normalise to percentages\n",
    "  * The numbers in the graph are pretty big, can you divide by the maximum number in all the columns? \n",
    "    * This should give you values that are at maximum 1"
   ]
  },
  {
   "cell_type": "markdown",
   "metadata": {
    "slideshow": {
     "slide_type": "subslide"
    }
   },
   "source": [
    "## How green is Denmark?!\n",
    "\n",
    "http://databank.worldbank.org/data/reports.aspx?source=&series=EG.ELC.RNEW.ZS\n",
    "\n",
    "https://databank.worldbank.org/source/world-development-indicators"
   ]
  },
  {
   "cell_type": "code",
   "execution_count": null,
   "metadata": {
    "slideshow": {
     "slide_type": "subslide"
    }
   },
   "outputs": [],
   "source": [
    "pd.read_csv('data/abcc94ae-70a2-4ca3-bfc8-5d6ddc6803d8_Data.csv')"
   ]
  },
  {
   "cell_type": "markdown",
   "metadata": {
    "slideshow": {
     "slide_type": "notes"
    }
   },
   "source": [
    "```python\n",
    "wb = pd.read_csv('data/abcc94ae-70a2-4ca3-bfc8-5d6ddc6803d8_Data.csv')\n",
    "```"
   ]
  },
  {
   "cell_type": "markdown",
   "metadata": {
    "slideshow": {
     "slide_type": "subslide"
    }
   },
   "source": [
    "wb"
   ]
  },
  {
   "cell_type": "markdown",
   "metadata": {
    "slideshow": {
     "slide_type": "subslide"
    }
   },
   "source": [
    "### Pandas `.loc()`\n",
    "\n",
    "Slices the dataset using both row and column indices:\n",
    "\n",
    "`df.loc[rows, columns]`\n",
    "\n",
    "For example: \n",
    "* `df.loc[:, :]` \n",
    "* `df.loc[0, 1960:2018]`\n",
    "\n",
    "Great resource: https://medium.com/dunder-data/selecting-subsets-of-data-in-pandas-6fcd0170be9c"
   ]
  },
  {
   "cell_type": "code",
   "execution_count": null,
   "metadata": {
    "slideshow": {
     "slide_type": "subslide"
    }
   },
   "outputs": [],
   "source": [
    "wb.loc[:, '1960 [YR1960]':'2018 [YR2018]']"
   ]
  },
  {
   "cell_type": "code",
   "execution_count": null,
   "metadata": {
    "slideshow": {
     "slide_type": "subslide"
    }
   },
   "outputs": [],
   "source": [
    "wb_data = wb.loc[:10, '1960 [YR1960]':'2018 [YR2018]'].T"
   ]
  },
  {
   "cell_type": "code",
   "execution_count": null,
   "metadata": {
    "slideshow": {
     "slide_type": "fragment"
    }
   },
   "outputs": [],
   "source": [
    "wb_data"
   ]
  },
  {
   "cell_type": "markdown",
   "metadata": {
    "slideshow": {
     "slide_type": "notes"
    }
   },
   "source": [
    "```python\n",
    "wb_data = wb.loc[:10, '1990 [YR1990]':'2015 [YR2015]'].T\n",
    "```"
   ]
  },
  {
   "cell_type": "code",
   "execution_count": null,
   "metadata": {
    "slideshow": {
     "slide_type": "subslide"
    }
   },
   "outputs": [],
   "source": [
    "wb_data.columns = wb['Country Name'][:11]"
   ]
  },
  {
   "cell_type": "code",
   "execution_count": null,
   "metadata": {
    "slideshow": {
     "slide_type": "subslide"
    }
   },
   "outputs": [],
   "source": [
    "wb_data.plot()"
   ]
  },
  {
   "cell_type": "markdown",
   "metadata": {
    "slideshow": {
     "slide_type": "notes"
    }
   },
   "source": [
    "```python\n",
    "wb_data.plot(figsize=(20, 20))\n",
    "```"
   ]
  },
  {
   "cell_type": "markdown",
   "metadata": {
    "slideshow": {
     "slide_type": "subslide"
    }
   },
   "source": [
    "## Exercise\n",
    "\n",
    "We only care about our northern bretheren of course. Can you filter our all the other countries? Perhaps using `.loc`?\n",
    "\n",
    "Use the dataset available from GitHub: `session-10/data`\n",
    "\n",
    "```python\n",
    "import pandas as pd\n",
    "import matplotlib.pyplot as plt\n",
    "\n",
    "wb = pd.read_csv('abcc94ae-70a2-4ca3-bfc8-5d6ddc6803d8_Data.csv')\n",
    "wb_data = wb.loc[:10, '1990 [YR1990]':'2015 [YR2015]'].T\n",
    "wb_data.columns = wb['Country Name'][:11]\n",
    "wb_data.plot()\n",
    "plt.show()\n",
    "```"
   ]
  },
  {
   "cell_type": "markdown",
   "metadata": {
    "slideshow": {
     "slide_type": "subslide"
    }
   },
   "source": [
    "## How many from the Ivory Coast lives in Copenhagen?"
   ]
  },
  {
   "cell_type": "code",
   "execution_count": null,
   "metadata": {
    "slideshow": {
     "slide_type": "subslide"
    }
   },
   "outputs": [],
   "source": [
    "cph = pd.read_csv('data/befkbhalderstatkode_small.csv')"
   ]
  },
  {
   "cell_type": "code",
   "execution_count": null,
   "metadata": {
    "slideshow": {
     "slide_type": "subslide"
    }
   },
   "outputs": [],
   "source": [
    "KBH_NEIGHBORHOODS = {\n",
    "    '1': 'Indre By',\n",
    "    '2': 'Østerbro',\n",
    "    '3': 'Nørrebro',\n",
    "    '4': 'Vesterbro/Kgs. Enghave',\n",
    "    '5': 'Valby',\n",
    "    '6': 'Vanløse',\n",
    "    '7': 'Brønshøj-Husum',\n",
    "    '8': 'Bispebjerg',\n",
    "    '9': 'Amager Øst',\n",
    "    '10': 'Amager Vest',\n",
    "    '99': 'Udenfor inddeling'\n",
    "}"
   ]
  },
  {
   "cell_type": "code",
   "execution_count": null,
   "metadata": {
    "slideshow": {
     "slide_type": "subslide"
    }
   },
   "outputs": [],
   "source": [
    "COUNTRY_CODES = {\n",
    "    '0': 'Uoplyst (1)',\n",
    "    '5001': 'Uoplyst (2)',\n",
    "    '5100': 'Danmark',\n",
    "    '5101': 'Grønland',\n",
    "    '5102': 'Udlandet uoplyst',\n",
    "    '5103': 'Statsløs',\n",
    "    '5104': 'Finland',\n",
    "    '5105': 'Island, ligeret dansk',\n",
    "    '5106': 'Island',\n",
    "    '5107': 'Liechtenstein',\n",
    "    '5108': 'Luxembourg',\n",
    "    '5109': 'Monaco',\n",
    "    '5110': 'Norge',\n",
    "    '5114': 'Europa uoplyst',\n",
    "    '5115': 'Kongelig',\n",
    "    '5120': 'Sverige',\n",
    "    '5122': 'Albanien',\n",
    "    '5124': 'Andorra',\n",
    "    '5126': 'Belgien',\n",
    "    '5128': 'Bulgarien',\n",
    "    '5129': 'Tjekkoslovakiet',\n",
    "    '5130': 'Frankrig',\n",
    "    '5134': 'Grækenland',\n",
    "    '5140': 'Nederlandene',\n",
    "    '5142': 'Irland',\n",
    "    '5150': 'Italien',\n",
    "    '5151': 'Serbien og Montenegro',\n",
    "    '5152': 'Jugoslavien',\n",
    "    '5153': 'Malta',\n",
    "    '5154': 'Polen',\n",
    "    '5156': 'Portugal',\n",
    "    '5158': 'Rumænien',\n",
    "    '5159': 'San Marino',\n",
    "    '5160': 'Schweiz',\n",
    "    '5162': 'Sovjetunionen',\n",
    "    '5164': 'Spanien',\n",
    "    '5170': 'Storbritannien',\n",
    "    '5172': 'Tyrkiet',\n",
    "    '5174': 'Ungarn',\n",
    "    '5176': 'Vatikanstaten',\n",
    "    '5180': 'Tyskland',\n",
    "    '5182': 'Østrig',\n",
    "    '5199': 'Europa uoplyst',\n",
    "    '5202': 'Algeriet',\n",
    "    '5204': 'Angola',\n",
    "    '5207': 'Botswana',\n",
    "    '5213': 'Burundi',\n",
    "    '5214': 'Etiopien',\n",
    "    '5215': 'Comorerne',\n",
    "    '5216': 'Eritrea',\n",
    "    '5222': 'Gambia',\n",
    "    '5228': 'Ghana',\n",
    "    '5230': 'Ækvatorialguinea',\n",
    "    '5231': 'Guinea-Bissau',\n",
    "    '5232': 'Guinea',\n",
    "    '5233': 'Kap Verde',\n",
    "    '5234': 'Kenya',\n",
    "    '5235': 'Lesotho',\n",
    "    '5236': 'Liberia',\n",
    "    '5238': 'Libyen',\n",
    "    '5240': 'Mozambique',\n",
    "    '5242': 'Madagaskar',\n",
    "    '5243': 'Mali',\n",
    "    '5244': 'Marokko',\n",
    "    '5245': 'Mauritius',\n",
    "    '5246': 'Nigeria',\n",
    "    '5247': 'Namibia',\n",
    "    '5248': 'Marshalløerne',\n",
    "    '5255': 'Sierra Leone',\n",
    "    '5258': 'Sudan',\n",
    "    '5259': 'Swaziland',\n",
    "    '5260': 'Sydsudan',\n",
    "    '5262': 'Sydafrika',\n",
    "    '5266': 'Tanzania',\n",
    "    '5268': 'Tunesien',\n",
    "    '5269': 'Uganda',\n",
    "    '5272': 'Egypten',\n",
    "    '5273': 'Tuvalu',\n",
    "    '5274': 'Kiribati',\n",
    "    '5275': 'Vanuatu',\n",
    "    '5276': 'Centralafrikanske Republik',\n",
    "    '5277': 'Cameroun',\n",
    "    '5278': 'Congo, Demokratiske Republik',\n",
    "    '5279': 'Congo, Republikken',\n",
    "    '5281': 'Benin',\n",
    "    '5282': 'Elfenbenskysten',\n",
    "    '5283': 'Gabon',\n",
    "    '5284': 'Mauretanien',\n",
    "    '5285': 'Niger',\n",
    "    '5287': 'Rwanda',\n",
    "    '5288': 'Senegal',\n",
    "    '5289': 'Somalia',\n",
    "    '5292': 'Tchad',\n",
    "    '5293': 'Togo',\n",
    "    '5294': 'Burkina Faso',\n",
    "    '5295': 'Zimbabwe',\n",
    "    '5296': 'Zambia',\n",
    "    '5297': 'Malawi',\n",
    "    '5298': 'Seychellerne',\n",
    "    '5299': 'Afrika uoplyst',\n",
    "    '5302': 'Argentina',\n",
    "    '5303': 'Bahamas',\n",
    "    '5304': 'Bolivia',\n",
    "    '5305': 'Barbados',\n",
    "    '5306': 'Brasilien',\n",
    "    '5308': 'Guyana',\n",
    "    '5309': 'Antigua og Barbuda',\n",
    "    '5310': 'Nauru',\n",
    "    '5311': 'Skt. Vincent og Grenadinerne',\n",
    "    '5314': 'Canada',\n",
    "    '5316': 'Chile',\n",
    "    '5318': 'Colombia',\n",
    "    '5319': 'Syd- og Mellemamerika uoplyst',\n",
    "    '5322': 'Costa Rica',\n",
    "    '5324': 'Cuba',\n",
    "    '5326': 'Dominikanske Republik',\n",
    "    '5328': 'Ecuador',\n",
    "    '5338': 'Guatemala',\n",
    "    '5339': 'Grenada',\n",
    "    '5342': 'Haiti',\n",
    "    '5344': 'Surinam',\n",
    "    '5345': 'Dominica',\n",
    "    '5347': 'Skt. Lucia',\n",
    "    '5348': 'Honduras',\n",
    "    '5352': 'Jamaica',\n",
    "    '5354': 'Mexico',\n",
    "    '5356': 'Nicaragua',\n",
    "    '5358': 'Panama',\n",
    "    '5364': 'Paraguay',\n",
    "    '5366': 'Peru',\n",
    "    '5372': 'El Salvador',\n",
    "    '5374': 'Trinidad og Tobago',\n",
    "    '5376': 'Uruguay',\n",
    "    '5390': 'USA',\n",
    "    '5392': 'Venezuela',\n",
    "    '5395': 'Vestindiske Øer',\n",
    "    '5397': 'Nordamerika uoplyst',\n",
    "    '5398': 'Syd- og Mellemamerika uoplyst',\n",
    "    '5402': 'Yemen',\n",
    "    '5403': 'Forenede Arabiske Emirater',\n",
    "    '5404': 'Afghanistan',\n",
    "    '5406': 'Bahrain',\n",
    "    '5408': 'Bhutan',\n",
    "    '5410': 'Bangladesh',\n",
    "    '5412': 'Brunei',\n",
    "    '5414': 'Myanmar',\n",
    "    '5416': 'Cambodja',\n",
    "    '5418': 'Sri Lanka',\n",
    "    '5422': 'Cypern',\n",
    "    '5424': 'Taiwan',\n",
    "    '5432': 'Indien',\n",
    "    '5434': 'Indonesien',\n",
    "    '5435': 'Østtimor',\n",
    "    '5436': 'Irak',\n",
    "    '5438': 'Iran',\n",
    "    '5442': 'Israel',\n",
    "    '5444': 'Japan',\n",
    "    '5446': 'Jordan',\n",
    "    '5448': 'Kina',\n",
    "    '5452': 'Kuwait',\n",
    "    '5454': 'Laos',\n",
    "    '5456': 'Libanon',\n",
    "    '5457': 'Maldiverne',\n",
    "    '5458': 'Malaysia',\n",
    "    '5459': 'Mongoliet',\n",
    "    '5462': 'Oman',\n",
    "    '5464': 'Nepal',\n",
    "    '5466': 'Nordkorea',\n",
    "    '5468': 'Vietnam (1)',\n",
    "    '5471': 'Asien uoplyst',\n",
    "    '5472': 'Pakistan',\n",
    "    '5474': 'Filippinerne',\n",
    "    '5478': 'Saudi-Arabien',\n",
    "    '5482': 'Singapore',\n",
    "    '5484': 'Sydkorea',\n",
    "    '5486': 'Syrien',\n",
    "    '5487': 'Mellemøsten uoplyst',\n",
    "    '5488': 'Vietnam (2)',\n",
    "    '5492': 'Thailand',\n",
    "    '5496': 'Qatar',\n",
    "    '5499': 'Asien uoplyst',\n",
    "    '5502': 'Australien',\n",
    "    '5505': 'Tonga',\n",
    "    '5508': 'Fiji',\n",
    "    '5514': 'New Zealand',\n",
    "    '5522': 'Samoa',\n",
    "    '5525': 'Djibouti',\n",
    "    '5526': 'Belize',\n",
    "    '5534': 'Papua Ny Guinea',\n",
    "    '5599': 'Øer i Stillehavet',\n",
    "    '5607': 'Estland',\n",
    "    '5609': 'Letland',\n",
    "    '5611': 'Litauen',\n",
    "    '5621': 'Sao Tome og Principe',\n",
    "    '5623': 'Salomonøerne',\n",
    "    '5625': 'Skt. Kitts og Nevis',\n",
    "    '5700': 'Rusland',\n",
    "    '5704': 'Ukraine',\n",
    "    '5706': 'Hviderusland',\n",
    "    '5708': 'Armenien',\n",
    "    '5710': 'Aserbajdsjan',\n",
    "    '5712': 'Moldova',\n",
    "    '5714': 'Usbekistan',\n",
    "    '5716': 'Kasakhstan',\n",
    "    '5718': 'Turkmenistan',\n",
    "    '5720': 'Kirgisistan',\n",
    "    '5722': 'Tadsjikistan',\n",
    "    '5724': 'Georgien',\n",
    "    '5750': 'Kroatien',\n",
    "    '5752': 'Slovenien',\n",
    "    '5754': 'Bosnien-Hercegovina',\n",
    "    '5756': 'Makedonien',\n",
    "    '5757': 'Serbien',\n",
    "    '5758': 'Jugoslavien, Forbundsrepublikken',\n",
    "    '5759': 'Montenegro',\n",
    "    '5761': 'Kosovo',\n",
    "    '5776': 'Tjekkiet',\n",
    "    '5778': 'Slovakiet',\n",
    "    '5779': 'Cookøerne',\n",
    "    '5800': 'Land ukendt (2)',\n",
    "    '5901': 'Færøerne uoplyst',\n",
    "    '5902': 'Færøerne',\n",
    "    '5999': 'Land ukendt (1)'\n",
    "}"
   ]
  },
  {
   "cell_type": "code",
   "execution_count": null,
   "metadata": {
    "slideshow": {
     "slide_type": "subslide"
    }
   },
   "outputs": [],
   "source": [
    "cph.groupby('STATKODE').sum().loc[5100]"
   ]
  },
  {
   "cell_type": "markdown",
   "metadata": {
    "slideshow": {
     "slide_type": "subslide"
    }
   },
   "source": [
    "## Exercise\n",
    "\n",
    "How many from the Ivory Coast lives in Copenhagen?\n",
    "\n",
    "1. Open the `data/befkbhalderstatkode_small.csv` dataset using `pandas`\n",
    "2. Group by the `'STATKODE'` column\n",
    "3. Sum all the values\n",
    "4. Find the row corresponding to the Ivory Coast (`5282`)"
   ]
  },
  {
   "cell_type": "markdown",
   "metadata": {
    "slideshow": {
     "slide_type": "subslide"
    }
   },
   "source": [
    "## Plotting maps with folium (showcase)\n",
    "\n",
    "https://python-visualization.github.io/folium/"
   ]
  },
  {
   "cell_type": "code",
   "execution_count": null,
   "metadata": {
    "slideshow": {
     "slide_type": "subslide"
    }
   },
   "outputs": [],
   "source": [
    "cph_lat, cph_lon = 55.6867243, 12.5700724"
   ]
  },
  {
   "cell_type": "code",
   "execution_count": null,
   "metadata": {
    "slideshow": {
     "slide_type": "fragment"
    }
   },
   "outputs": [],
   "source": []
  },
  {
   "cell_type": "markdown",
   "metadata": {
    "slideshow": {
     "slide_type": "notes"
    }
   },
   "source": [
    "```python\n",
    "import requests\n",
    "\n",
    "# Copenhagen map data: http://wfs-kbhkort.kk.dk/web/\n",
    "url = 'http://wfs-kbhkort.kk.dk/k101/ows?service=WFS&version=1.0.0&request=GetFeature&typeName=k101:trafiktaelling&maxFeatures=50&outputFormat=application%2Fjson&SRSNAME=EPSG:4326'\n",
    "geo_json = requests.get(url).json()\n",
    "```"
   ]
  },
  {
   "cell_type": "code",
   "execution_count": null,
   "metadata": {
    "slideshow": {
     "slide_type": "subslide"
    }
   },
   "outputs": [],
   "source": []
  },
  {
   "cell_type": "markdown",
   "metadata": {
    "slideshow": {
     "slide_type": "notes"
    }
   },
   "source": [
    "```python\n",
    "import folium\n",
    "\n",
    "# Create a map on a specific location (tuple)\n",
    "map_osm = folium.Map(location=(cph_lat, cph_lon), zoom_start=10)\n",
    "# Using geospatial data formatted in JSON, add the points from the dataset to the map\n",
    "folium.GeoJson(geo_json, name='geojson').add_to(map_osm)\n",
    "# Show the map\n",
    "map_osm\n",
    "```"
   ]
  },
  {
   "cell_type": "markdown",
   "metadata": {
    "slideshow": {
     "slide_type": "slide"
    }
   },
   "source": [
    "## Data sources\n",
    "\n",
    "All ripe for the taking!\n",
    "\n",
    "* [World Bank](https://www.worldbank.org/)\n",
    "* [WTO](https://data.wto.org/)\n",
    "* [WHO](https://www.who.int/hiv/data/en/)\n",
    "* [Twitter](http://www.tweepy.org/)\n",
    "* [Kaggle](https://www.kaggle.com/datasets)\n",
    "* [Københavns datasæt](https://data.kk.dk/dataset)"
   ]
  }
 ],
 "metadata": {
  "celltoolbar": "Slideshow",
  "hide_input": false,
  "kernelspec": {
   "display_name": "Python 3",
   "language": "python",
   "name": "python3"
  },
  "language_info": {
   "codemirror_mode": {
    "name": "ipython",
    "version": 3
   },
   "file_extension": ".py",
   "mimetype": "text/x-python",
   "name": "python",
   "nbconvert_exporter": "python",
   "pygments_lexer": "ipython3",
   "version": "3.7.3"
  }
 },
 "nbformat": 4,
 "nbformat_minor": 2
}
