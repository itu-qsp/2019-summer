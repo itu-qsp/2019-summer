{
 "cells": [
  {
   "cell_type": "markdown",
   "metadata": {
    "slideshow": {
     "slide_type": "slide"
    }
   },
   "source": [
    "# Basic Python Syntax\n",
    "\n",
    "Your code is stored in plain text files, which usually end on `.py`. More on files later.\n",
    "\n",
    "First, here are some basics."
   ]
  },
  {
   "cell_type": "markdown",
   "metadata": {
    "slideshow": {
     "slide_type": "subslide"
    }
   },
   "source": [
    "## '\\#' Marks Comments"
   ]
  },
  {
   "cell_type": "code",
   "execution_count": null,
   "metadata": {
    "slideshow": {
     "slide_type": "fragment"
    }
   },
   "outputs": [],
   "source": [
    "# I am a comment"
   ]
  },
  {
   "cell_type": "code",
   "execution_count": null,
   "metadata": {
    "slideshow": {
     "slide_type": "fragment"
    }
   },
   "outputs": [],
   "source": [
    "print('Hello World!')  # prints a string"
   ]
  },
  {
   "cell_type": "markdown",
   "metadata": {
    "slideshow": {
     "slide_type": "subslide"
    }
   },
   "source": [
    "## End-of-Line Terminates a Statement\n",
    "\n",
    "The return key (⏎) marks the end of a line."
   ]
  },
  {
   "cell_type": "code",
   "execution_count": null,
   "metadata": {
    "slideshow": {
     "slide_type": "fragment"
    }
   },
   "outputs": [],
   "source": [
    "print('Hello World!')\n",
    "print('Next Statement')"
   ]
  },
  {
   "cell_type": "markdown",
   "metadata": {
    "slideshow": {
     "slide_type": "fragment"
    }
   },
   "source": [
    "So, programs really are just sequences of statements."
   ]
  },
  {
   "cell_type": "markdown",
   "metadata": {
    "slideshow": {
     "slide_type": "subslide"
    }
   },
   "source": [
    "## Expressions with Basic Operators"
   ]
  },
  {
   "cell_type": "code",
   "execution_count": null,
   "metadata": {
    "slideshow": {
     "slide_type": "fragment"
    }
   },
   "outputs": [],
   "source": [
    "2 + 3 * 6"
   ]
  },
  {
   "cell_type": "markdown",
   "metadata": {
    "slideshow": {
     "slide_type": "fragment"
    }
   },
   "source": [
    "Nå, I thought the result will be `30`...\n",
    "\n",
    "Why isn't it?"
   ]
  },
  {
   "cell_type": "code",
   "execution_count": null,
   "metadata": {
    "slideshow": {
     "slide_type": "fragment"
    }
   },
   "outputs": [],
   "source": [
    "(2 + 3) * 6"
   ]
  },
  {
   "cell_type": "markdown",
   "metadata": {
    "slideshow": {
     "slide_type": "subslide"
    }
   },
   "source": [
    "#### You can compute arbitrarily complex operations."
   ]
  },
  {
   "cell_type": "code",
   "execution_count": null,
   "metadata": {
    "slideshow": {
     "slide_type": "subslide"
    }
   },
   "outputs": [],
   "source": [
    "(5 - 1) * ((7 + 1) / (3 - 1))"
   ]
  },
  {
   "cell_type": "markdown",
   "metadata": {
    "slideshow": {
     "slide_type": "fragment"
    }
   },
   "source": [
    "##### But what happened here?"
   ]
  },
  {
   "cell_type": "code",
   "execution_count": null,
   "metadata": {
    "slideshow": {
     "slide_type": "fragment"
    }
   },
   "outputs": [],
   "source": [
    "(4) * ((7 + 1) / (3 - 1))"
   ]
  },
  {
   "cell_type": "code",
   "execution_count": null,
   "metadata": {
    "slideshow": {
     "slide_type": "fragment"
    }
   },
   "outputs": [],
   "source": [
    "(4) * ((8) / (3 - 1))"
   ]
  },
  {
   "cell_type": "code",
   "execution_count": null,
   "metadata": {
    "slideshow": {
     "slide_type": "fragment"
    }
   },
   "outputs": [],
   "source": [
    "(4) * ((8) / (2))"
   ]
  },
  {
   "cell_type": "code",
   "execution_count": null,
   "metadata": {
    "slideshow": {
     "slide_type": "fragment"
    }
   },
   "outputs": [],
   "source": [
    "(4) * (4)"
   ]
  },
  {
   "cell_type": "code",
   "execution_count": null,
   "metadata": {
    "slideshow": {
     "slide_type": "fragment"
    }
   },
   "outputs": [],
   "source": [
    "16"
   ]
  },
  {
   "cell_type": "markdown",
   "metadata": {
    "slideshow": {
     "slide_type": "subslide"
    }
   },
   "source": [
    "Math operators from highest to lowest precedence:\n",
    " \n",
    "|Operator|Operation|Example|Evaluates to...\n",
    "|--|--|--|---------------------------|\n",
    "| `**` | Exponent | `2 ** 3` | 8 |\n",
    "| `%` | Modulus | `22 % 8` | 6 |\n",
    "| `//` | Integer division | `22 // 8` | 2 |\n",
    "| `/` | Division | `22 / 8` | 2.75 |\n",
    "| `*` | Multiplication | `2 * 8` | 16 |\n",
    "| `-` | Subtraction | `22 - 16` | 6 |\n",
    "| `+` | Addition | `2 + 3` | 5 |"
   ]
  },
  {
   "cell_type": "markdown",
   "metadata": {
    "slideshow": {
     "slide_type": "subslide"
    }
   },
   "source": [
    "## Calculating rent\n",
    "\n",
    "```python\n",
    "monthly_rent = 4000\n",
    "yearly_rent = monthly_rent * 12\n",
    "print(yearly_rent)\n",
    "```"
   ]
  },
  {
   "cell_type": "markdown",
   "metadata": {
    "slideshow": {
     "slide_type": "subslide"
    }
   },
   "source": [
    "## Money spent on coffee per yer\n",
    "\n",
    "Okay, but how much do you spent for coffee-to-go per year?\n",
    "\n",
    "Write a small Python program, which computes your yearly expenses for coffee-to-go.\n",
    "\n",
    "Very likely it is important for your program that you know\n",
    "\n",
    "  * The price per cup\n",
    "  * How many cups of coffee you buy per week\n",
    "  * How many weeks you do that per year"
   ]
  },
  {
   "cell_type": "code",
   "execution_count": null,
   "metadata": {
    "slideshow": {
     "slide_type": "fragment"
    }
   },
   "outputs": [],
   "source": []
  },
  {
   "cell_type": "markdown",
   "metadata": {
    "slideshow": {
     "slide_type": "subslide"
    }
   },
   "source": [
    "And how much would that be in Euro and US Dollars?\n",
    "\n",
    "Extend your program, so that it computes your yearly expenses for coffee-to-go in Euro an USD.\n",
    "You can find daily exchange rates to DKK for example here:\n",
    "https://www.xe.com/currencyconverter/convert/?From=USD&To=DKK"
   ]
  },
  {
   "cell_type": "code",
   "execution_count": null,
   "metadata": {
    "slideshow": {
     "slide_type": "fragment"
    }
   },
   "outputs": [],
   "source": [
    "price_per_cup = 20\n",
    "price_per_year = price_per_cup * 5 * 52\n",
    "price_in_eur = price_per_year / 7.46465\n",
    "price_in_usd = price_per_year / 6.61436\n",
    "\n",
    "print(price_in_eur)\n",
    "print(price_in_usd)"
   ]
  },
  {
   "cell_type": "markdown",
   "metadata": {
    "slideshow": {
     "slide_type": "subslide"
    }
   },
   "source": [
    "## Integer, Floating-point, and String Data Types\n",
    "\n",
    "Common data types\n",
    "\n",
    "|Data Type|Examples|\n",
    "|--|--|\n",
    "| Integers | -2, -1, 0, 1, 2, 3, 4, 5 |\n",
    "| Floating-point numbers | -1.25, -1.0, --0.5, 0.0, 0.5, 1.0, 1.25 |\n",
    "| Strings | 'a', 'aa', 'aaa', 'Hello!', '11 things' | "
   ]
  },
  {
   "cell_type": "markdown",
   "metadata": {
    "slideshow": {
     "slide_type": "subslide"
    }
   },
   "source": [
    "\n",
    "### Strings\n",
    "\n",
    "A string is simply a series of characters. Anything inside quotes is considered a string in Python, and you can use single or double quotes around your strings."
   ]
  },
  {
   "cell_type": "code",
   "execution_count": null,
   "metadata": {
    "slideshow": {
     "slide_type": "fragment"
    }
   },
   "outputs": [],
   "source": [
    "'Hello world!'"
   ]
  },
  {
   "cell_type": "code",
   "execution_count": null,
   "metadata": {
    "slideshow": {
     "slide_type": "fragment"
    }
   },
   "outputs": [],
   "source": [
    "\"Hello world!\""
   ]
  },
  {
   "cell_type": "code",
   "execution_count": null,
   "metadata": {
    "slideshow": {
     "slide_type": "fragment"
    }
   },
   "outputs": [],
   "source": [
    "\"Hello world!\" == 'Hello world!'"
   ]
  },
  {
   "cell_type": "markdown",
   "metadata": {
    "slideshow": {
     "slide_type": "subslide"
    }
   },
   "source": [
    "#### String Concatenation and Replication"
   ]
  },
  {
   "cell_type": "code",
   "execution_count": null,
   "metadata": {
    "slideshow": {
     "slide_type": "subslide"
    }
   },
   "outputs": [],
   "source": [
    "'Hello' + 'World' + '!'"
   ]
  },
  {
   "cell_type": "code",
   "execution_count": null,
   "metadata": {
    "slideshow": {
     "slide_type": "fragment"
    }
   },
   "outputs": [],
   "source": [
    "'Hello' + 42"
   ]
  },
  {
   "cell_type": "code",
   "execution_count": null,
   "metadata": {
    "slideshow": {
     "slide_type": "fragment"
    }
   },
   "outputs": [],
   "source": [
    "'Hello' * 4"
   ]
  },
  {
   "cell_type": "code",
   "execution_count": null,
   "metadata": {
    "slideshow": {
     "slide_type": "fragment"
    }
   },
   "outputs": [],
   "source": [
    "'Hello' * 'World'"
   ]
  },
  {
   "cell_type": "markdown",
   "metadata": {
    "slideshow": {
     "slide_type": "subslide"
    }
   },
   "source": [
    "## The `None` Value\n",
    "\n",
    "In Python there is a value called `None`, which represents the absence of a value. None is the only value of the `NoneType` data type. (Other programming languages might call this value `null`, `nil`, or `undefined`.) Just like the Boolean `True` and `False` values, `None` must be typed with a capital N.\n",
    "This value-without-a-value can be helpful when you need to store something that won’t be confused for a real value in a variable. One place where `None` is used is as the return value of `print()`. The `print()` function displays text on the screen, but it does not need to return anything in the same way `len()` or `input()` does. But since all function calls need to evaluate to a return value, `print()` returns `None`."
   ]
  },
  {
   "cell_type": "code",
   "execution_count": null,
   "metadata": {
    "slideshow": {
     "slide_type": "subslide"
    }
   },
   "outputs": [],
   "source": [
    "None "
   ]
  },
  {
   "cell_type": "code",
   "execution_count": null,
   "metadata": {
    "slideshow": {
     "slide_type": "fragment"
    }
   },
   "outputs": [],
   "source": [
    "result = print('Hello')\n",
    "print(result)"
   ]
  },
  {
   "cell_type": "markdown",
   "metadata": {
    "slideshow": {
     "slide_type": "subslide"
    }
   },
   "source": [
    "# Assignment Statements & Variables\n",
    "\n",
    "A variable is initialized the first time a value is stored in it. When a variable is assigned a new value, the old value is *overwritten*."
   ]
  },
  {
   "cell_type": "code",
   "execution_count": null,
   "metadata": {
    "slideshow": {
     "slide_type": "fragment"
    }
   },
   "outputs": [],
   "source": [
    "message = 'Hello'\n",
    "message = 'World!'\n",
    "print(message)"
   ]
  },
  {
   "cell_type": "code",
   "execution_count": null,
   "metadata": {
    "slideshow": {
     "slide_type": "fragment"
    }
   },
   "outputs": [],
   "source": [
    "message = 'Hello'\n",
    "message = message + ' World!'\n",
    "print(message)"
   ]
  },
  {
   "cell_type": "code",
   "execution_count": null,
   "metadata": {
    "slideshow": {
     "slide_type": "fragment"
    }
   },
   "outputs": [],
   "source": [
    "message = 'Hello'\n",
    "message += ' World!'\n",
    "print(message)"
   ]
  },
  {
   "cell_type": "markdown",
   "metadata": {
    "slideshow": {
     "slide_type": "subslide"
    }
   },
   "source": [
    "## Naming and Using Variables\n",
    "\n",
    "When you’re using variables in Python, you need to adhere to a few rules and guidelines. Breaking some of these rules will cause errors; other guidelines just help you write code that’s easier to read and understand. Be sure to keep the following variable rules in mind:\n",
    "\n",
    "Variable names can:\n",
    "\n",
    "  * contain only letters, numbers, and underscores\n",
    "  * start with a letter or an underscore\n",
    "  * not start with a number\n",
    "  * not contain spaces"
   ]
  },
  {
   "cell_type": "code",
   "execution_count": null,
   "metadata": {},
   "outputs": [],
   "source": [
    "message_1 = 'Hello'\n",
    "print(message_1)"
   ]
  },
  {
   "cell_type": "code",
   "execution_count": null,
   "metadata": {
    "slideshow": {
     "slide_type": "fragment"
    }
   },
   "outputs": [],
   "source": [
    "1_message = 'Hello'"
   ]
  },
  {
   "cell_type": "code",
   "execution_count": null,
   "metadata": {
    "slideshow": {
     "slide_type": "fragment"
    }
   },
   "outputs": [],
   "source": [
    "greeting_message = 'Hej!'"
   ]
  },
  {
   "cell_type": "markdown",
   "metadata": {
    "slideshow": {
     "slide_type": "subslide"
    }
   },
   "source": [
    "Guidelines:\n",
    "\n",
    "  * Avoid using Python keywords and function names as variable names!\n",
    "  * Variable names should be short but descriptive.\n",
    "  \n",
    "For example, `name` is better than `n`, `student_name` is better than `s_n`, and `name_length` is better than `length_of_persons_name`.\n",
    "\n",
    "Python keywords are the following:\n",
    "\n",
    "`False`, `None`, `True`, `and`, `as`, `assert`, `break`, `class`, `continue`, `def`, `del`, `elif`, `else`, `except`, `finally`, `for`, `from`, `global`, `if`, `import`, `in`, `is`, `lambda`, `nonlocal`, `not`, `or`, `pass`, `raise`, `return`, `try`, `while`, `with`, `yield`\n",
    "\n",
    "Python has 33 keywords."
   ]
  },
  {
   "cell_type": "markdown",
   "metadata": {
    "slideshow": {
     "slide_type": "subslide"
    }
   },
   "source": [
    "So **never** do something like the following, it will just generate weird errors in your programs that are hard to find..."
   ]
  },
  {
   "cell_type": "code",
   "execution_count": null,
   "metadata": {},
   "outputs": [],
   "source": [
    "message = 'Important!'\n",
    "print = 'Do not do this at home :)'\n",
    "print(message)"
   ]
  },
  {
   "cell_type": "markdown",
   "metadata": {
    "slideshow": {
     "slide_type": "subslide"
    }
   },
   "source": [
    "## Augmented Assignment Operators\n",
    "\n",
    "When assigning a value to a variable, you will frequently use the variable itself.\n",
    "\n",
    "```python\n",
    ">>> value = 42\n",
    ">>> value = value + 1\n",
    ">>> value\n",
    "43\n",
    "```\n",
    "\n",
    "Instead, as a shortcut, you can use the augmented assignment operator `+=` to do the same.\n",
    "\n",
    "There are augmented assignment operators for the `+`, `-`, `*`, `/`, and `%` operators.\n",
    "\n",
    "|Augmented Assignment Statement|Equivalent Assignment Statement|\n",
    "|--|--|\n",
    "| `value += 1` | `value = value + 1` |\n",
    "| `value -= 1` | `value = value - 1` |\n",
    "| `value *= 1` | `value = value * 1` |\n",
    "| `value /= 1` | `value = value / 1` |\n",
    "| `value %= 1` | `value = value % 1` |\n",
    "\n",
    "Note, the `+=` operator can also do string and list concatenation (adding something to the end of something else), and the `*=` operator can do string and list replication."
   ]
  }
 ],
 "metadata": {
  "celltoolbar": "Slideshow",
  "kernelspec": {
   "display_name": "Python 3",
   "language": "python",
   "name": "python3"
  },
  "language_info": {
   "codemirror_mode": {
    "name": "ipython",
    "version": 3
   },
   "file_extension": ".py",
   "mimetype": "text/x-python",
   "name": "python",
   "nbconvert_exporter": "python",
   "pygments_lexer": "ipython3",
   "version": "3.7.3"
  }
 },
 "nbformat": 4,
 "nbformat_minor": 2
}
