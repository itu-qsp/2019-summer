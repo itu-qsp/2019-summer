{
 "cells": [
  {
   "cell_type": "markdown",
   "metadata": {},
   "source": [
    "# Small Python exercises\n",
    "The purpose of theese exercises is just to do a small recap of some of the skills you have acquired so fare"
   ]
  },
  {
   "cell_type": "markdown",
   "metadata": {},
   "source": [
    "# Variables, lists and dictionaries"
   ]
  },
  {
   "cell_type": "markdown",
   "metadata": {},
   "source": [
    "### Create a variable named: my_integer with the value 10"
   ]
  },
  {
   "cell_type": "code",
   "execution_count": 1,
   "metadata": {},
   "outputs": [],
   "source": [
    "my_integer = 10"
   ]
  },
  {
   "cell_type": "markdown",
   "metadata": {},
   "source": [
    "### Now print that vaiable"
   ]
  },
  {
   "cell_type": "code",
   "execution_count": 2,
   "metadata": {},
   "outputs": [
    {
     "name": "stdout",
     "output_type": "stream",
     "text": [
      "10\n"
     ]
    }
   ],
   "source": [
    "print(my_integer)"
   ]
  },
  {
   "cell_type": "markdown",
   "metadata": {},
   "source": [
    "### Which typ is this variable?\n"
   ]
  },
  {
   "cell_type": "code",
   "execution_count": 3,
   "metadata": {},
   "outputs": [
    {
     "data": {
      "text/plain": [
       "int"
      ]
     },
     "execution_count": 3,
     "metadata": {},
     "output_type": "execute_result"
    }
   ],
   "source": [
    "type(my_integer)"
   ]
  },
  {
   "cell_type": "markdown",
   "metadata": {},
   "source": [
    "### Create a variable named my_string with an string attached"
   ]
  },
  {
   "cell_type": "code",
   "execution_count": 11,
   "metadata": {},
   "outputs": [],
   "source": [
    "my_string = \"Hello World!\""
   ]
  },
  {
   "cell_type": "markdown",
   "metadata": {},
   "source": [
    "### Now print that vaiable"
   ]
  },
  {
   "cell_type": "code",
   "execution_count": 12,
   "metadata": {},
   "outputs": [
    {
     "name": "stdout",
     "output_type": "stream",
     "text": [
      "Hello World!\n"
     ]
    }
   ],
   "source": [
    "print(my_string)"
   ]
  },
  {
   "cell_type": "markdown",
   "metadata": {},
   "source": [
    "### How do you increment my_integer with 10"
   ]
  },
  {
   "cell_type": "code",
   "execution_count": 6,
   "metadata": {},
   "outputs": [],
   "source": [
    "# my_integer = my_integer + 10\n",
    "my_integer += 10"
   ]
  },
  {
   "cell_type": "markdown",
   "metadata": {},
   "source": [
    "### Now print my_integer"
   ]
  },
  {
   "cell_type": "code",
   "execution_count": 7,
   "metadata": {},
   "outputs": [
    {
     "name": "stdout",
     "output_type": "stream",
     "text": [
      "20\n"
     ]
    }
   ],
   "source": [
    "print(my_integer)"
   ]
  },
  {
   "cell_type": "markdown",
   "metadata": {},
   "source": [
    "### How do you concatenate my_string with the following  string:\n",
    "    other_string = \"This is another string\"\n",
    "\n",
    "Print the result"
   ]
  },
  {
   "cell_type": "code",
   "execution_count": 8,
   "metadata": {},
   "outputs": [],
   "source": [
    "other_string = \"This is another string\""
   ]
  },
  {
   "cell_type": "code",
   "execution_count": 13,
   "metadata": {},
   "outputs": [
    {
     "name": "stdout",
     "output_type": "stream",
     "text": [
      "Hello World! This is another string\n"
     ]
    }
   ],
   "source": [
    "my_string += \" \" + other_string\n",
    "print(my_string)"
   ]
  },
  {
   "cell_type": "markdown",
   "metadata": {},
   "source": [
    "### Now split my_string into a list called: new_list and then print it"
   ]
  },
  {
   "cell_type": "code",
   "execution_count": 15,
   "metadata": {},
   "outputs": [
    {
     "name": "stdout",
     "output_type": "stream",
     "text": [
      "['Hello', 'World!', 'This', 'is', 'another', 'string']\n"
     ]
    }
   ],
   "source": [
    "new_list = my_string.split()\n",
    "print(new_list)"
   ]
  },
  {
   "cell_type": "markdown",
   "metadata": {},
   "source": [
    "** Create the following variables:**\n",
    "\n",
    "    my_name = \"Peter Møller Nielse\"  # don't know who that is\n",
    "    my_height = 110  # My height in cm\n",
    "\n",
    "** Create a new string variable called: new_string with the following sentece: **\n",
    "\n",
    "    \"Hi, my name is Peter Møller Nielsen and I'm 110cm tall\"\n",
    "    \n",
    "** Then print new_string **"
   ]
  },
  {
   "cell_type": "code",
   "execution_count": 16,
   "metadata": {},
   "outputs": [],
   "source": [
    "my_name = \"Peter Møller Nielse\"  # Change it to your name\n",
    "my_height = 110  # Your height"
   ]
  },
  {
   "cell_type": "code",
   "execution_count": 18,
   "metadata": {},
   "outputs": [
    {
     "name": "stdout",
     "output_type": "stream",
     "text": [
      "Hi, my name is Peter Møller Nielse and I'm 110cm tall\n"
     ]
    }
   ],
   "source": [
    "new_string = \"Hi, my name is \" + my_name + \" and I'm \" + str(my_height) + \"cm tall\"\n",
    "print(new_string)"
   ]
  },
  {
   "cell_type": "markdown",
   "metadata": {},
   "source": [
    "## Lists & dicts"
   ]
  },
  {
   "cell_type": "code",
   "execution_count": 19,
   "metadata": {},
   "outputs": [],
   "source": [
    "list_a = [1,2,3,4,5]"
   ]
  },
  {
   "cell_type": "markdown",
   "metadata": {},
   "source": [
    "### Print the third element in list_a"
   ]
  },
  {
   "cell_type": "code",
   "execution_count": 21,
   "metadata": {},
   "outputs": [
    {
     "data": {
      "text/plain": [
       "3"
      ]
     },
     "execution_count": 21,
     "metadata": {},
     "output_type": "execute_result"
    }
   ],
   "source": [
    "list_a[2]"
   ]
  },
  {
   "cell_type": "markdown",
   "metadata": {},
   "source": [
    "### Print a new list container the first 3 elements"
   ]
  },
  {
   "cell_type": "code",
   "execution_count": 22,
   "metadata": {},
   "outputs": [
    {
     "data": {
      "text/plain": [
       "[1, 2, 3]"
      ]
     },
     "execution_count": 22,
     "metadata": {},
     "output_type": "execute_result"
    }
   ],
   "source": [
    "list_a[:3]"
   ]
  },
  {
   "cell_type": "markdown",
   "metadata": {},
   "source": [
    "### Print a new list containing the last 3 element"
   ]
  },
  {
   "cell_type": "code",
   "execution_count": 23,
   "metadata": {},
   "outputs": [
    {
     "name": "stdout",
     "output_type": "stream",
     "text": [
      "[3, 4, 5]\n",
      "[3, 4, 5]\n"
     ]
    }
   ],
   "source": [
    "print(list_a[2:])\n",
    "print(list_a[-3:])"
   ]
  },
  {
   "cell_type": "markdown",
   "metadata": {},
   "source": [
    "### print a new list containing the items 2,3,4 from list_a"
   ]
  },
  {
   "cell_type": "code",
   "execution_count": 26,
   "metadata": {},
   "outputs": [
    {
     "data": {
      "text/plain": [
       "[2, 3, 4]"
      ]
     },
     "execution_count": 26,
     "metadata": {},
     "output_type": "execute_result"
    }
   ],
   "source": [
    "list_a[1:-1]"
   ]
  },
  {
   "cell_type": "markdown",
   "metadata": {},
   "source": [
    "### Find the index value using the index() for the name \"Bell\" in the follwing list:\n",
    "    crazy_list = ['Smith', 'Johnson', 'Williams', 'Jones', 'Brown', 'Davis',\n",
    "    'Miller', 'Wilson', 'Moore', 'Taylor', 'Anderson', 'Thomas', 'Jackson',\n",
    "    'White', 'Harris', 'Martin', 'Thompson', 'Garcia', 'Martinez',\n",
    "    'Robinson', 'Clark', 'Rodriguez', 'Lewis', 'Lee', 'Walker', 'Hall',\n",
    "    'Allen', 'Young', 'Hernandez', 'King', 'Wright', 'Lopez', 'Hill',\n",
    "    'Scott', 'Green', 'Adams', 'Baker', 'Gonzalez', 'Nelson', 'Carter',\n",
    "    'Mitchell', 'Perez', 'Roberts', 'Turner', 'Phillips', 'Campbell',\n",
    "    'Parker', 'Evans', 'Edwards', 'Collins', 'Stewart', 'Sanchez', 'Morris',\n",
    "    'Rogers', 'Reed', 'Cook', 'Morgan', 'Bell']"
   ]
  },
  {
   "cell_type": "code",
   "execution_count": 27,
   "metadata": {},
   "outputs": [],
   "source": [
    "crazy_list = ['Smith', 'Johnson', 'Williams', 'Jones', 'Brown', 'Davis',\n",
    "'Miller', 'Wilson', 'Moore', 'Taylor', 'Anderson', 'Thomas', 'Jackson',\n",
    "'White', 'Harris', 'Martin', 'Thompson', 'Garcia', 'Martinez',\n",
    "'Robinson', 'Clark', 'Rodriguez', 'Lewis', 'Lee', 'Walker', 'Hall',\n",
    "'Allen', 'Young', 'Hernandez', 'King', 'Wright', 'Lopez', 'Hill',\n",
    "'Scott', 'Green', 'Adams', 'Baker', 'Gonzalez', 'Nelson', 'Carter',\n",
    "'Mitchell', 'Perez', 'Roberts', 'Turner', 'Phillips', 'Campbell',\n",
    "'Parker', 'Evans', 'Edwards', 'Collins', 'Stewart', 'Sanchez', 'Morris',\n",
    "'Rogers', 'Reed', 'Cook', 'Morgan', 'Bell']"
   ]
  },
  {
   "cell_type": "code",
   "execution_count": 28,
   "metadata": {},
   "outputs": [
    {
     "data": {
      "text/plain": [
       "57"
      ]
     },
     "execution_count": 28,
     "metadata": {},
     "output_type": "execute_result"
    }
   ],
   "source": [
    "crazy_list.index(\"Bell\")"
   ]
  },
  {
   "cell_type": "markdown",
   "metadata": {},
   "source": [
    "### Now print \"Bell\" from the crazy_list using it's index value "
   ]
  },
  {
   "cell_type": "code",
   "execution_count": 29,
   "metadata": {},
   "outputs": [
    {
     "name": "stdout",
     "output_type": "stream",
     "text": [
      "Bell\n"
     ]
    }
   ],
   "source": [
    "print(crazy_list[57])"
   ]
  },
  {
   "cell_type": "markdown",
   "metadata": {},
   "source": [
    "### Create an empty dictionary calle my_dict"
   ]
  },
  {
   "cell_type": "code",
   "execution_count": 30,
   "metadata": {},
   "outputs": [
    {
     "name": "stdout",
     "output_type": "stream",
     "text": [
      "{}\n"
     ]
    }
   ],
   "source": [
    "my_dict = {}\n",
    "print(my_dict)"
   ]
  },
  {
   "cell_type": "markdown",
   "metadata": {},
   "source": [
    "### Add a new key called \"my_key\" with the value of 10"
   ]
  },
  {
   "cell_type": "code",
   "execution_count": 31,
   "metadata": {},
   "outputs": [
    {
     "name": "stdout",
     "output_type": "stream",
     "text": [
      "{'my_key': 10}\n"
     ]
    }
   ],
   "source": [
    "my_dict['my_key'] = 10\n",
    "print(my_dict)"
   ]
  },
  {
   "cell_type": "markdown",
   "metadata": {},
   "source": [
    "### Create a new dictionary called new_dict containing the following key: value pairs:\n",
    "    \"key_1\": 10\n",
    "    \"key_2\": 100\n",
    "    \"key_3\": 1000\n",
    "    \"key_4\": 10000"
   ]
  },
  {
   "cell_type": "code",
   "execution_count": 69,
   "metadata": {},
   "outputs": [
    {
     "name": "stdout",
     "output_type": "stream",
     "text": [
      "{'key_1': 10, 'key_2': 100, 'key_3': 1000, 'key_4': 10000}\n"
     ]
    }
   ],
   "source": [
    "new_dict = {\"key_1\": 10,\"key_2\": 100,\"key_3\": 1000,\"key_4\": 10000}\n",
    "print(new_dict)"
   ]
  },
  {
   "cell_type": "code",
   "execution_count": 70,
   "metadata": {},
   "outputs": [
    {
     "name": "stdout",
     "output_type": "stream",
     "text": [
      "{'key_1': 10, 'key_2': 100, 'key_3': 1000, 'key_4': 10000, 'keys_2': 100, 'keys_3': 1000, 'keys_4': 10000, 'kesy_1': 10, 'kesy_2': 100, 'keys3': 1000, 'kaseyas_1': 10}\n"
     ]
    }
   ],
   "source": [
    "new_new_dict = {\"key_1\": 10,\"key_2\": 100,\"key_3\": 1000,\"key_4\": 10000,\"key_1\": 10,\"keys_2\": 100,\"keys_3\": 1000,\"keys_4\": 10000,\"kesy_1\": 10,\"kesy_2\": 100,\"keys3\": 1000,\"keys_4\": 10000,\"kaseyas_1\": 10,\"key_2\": 100,\"key_3\": 1000,\"key_4\": 10000,}\n",
    "print(new_new_dict)"
   ]
  },
  {
   "cell_type": "code",
   "execution_count": 71,
   "metadata": {},
   "outputs": [
    {
     "name": "stdout",
     "output_type": "stream",
     "text": [
      "{'kaseyas_1': 10,\n",
      " 'kesy_1': 10,\n",
      " 'kesy_2': 100,\n",
      " 'key_1': 10,\n",
      " 'key_2': 100,\n",
      " 'key_3': 1000,\n",
      " 'key_4': 10000,\n",
      " 'keys3': 1000,\n",
      " 'keys_2': 100,\n",
      " 'keys_3': 1000,\n",
      " 'keys_4': 10000}\n"
     ]
    }
   ],
   "source": [
    "import pprint\n",
    "pprint.pprint(new_new_dict)"
   ]
  },
  {
   "cell_type": "markdown",
   "metadata": {},
   "source": [
    "### Print the value of the key \"key_2\""
   ]
  },
  {
   "cell_type": "code",
   "execution_count": 72,
   "metadata": {},
   "outputs": [
    {
     "data": {
      "text/plain": [
       "100"
      ]
     },
     "execution_count": 72,
     "metadata": {},
     "output_type": "execute_result"
    }
   ],
   "source": [
    "new_dict[\"key_2\"]"
   ]
  },
  {
   "cell_type": "markdown",
   "metadata": {},
   "source": [
    "### Print the names of all keys in the new_dict\n",
    "### Print the names of all values in the new_dict"
   ]
  },
  {
   "cell_type": "code",
   "execution_count": 73,
   "metadata": {},
   "outputs": [
    {
     "name": "stdout",
     "output_type": "stream",
     "text": [
      "dict_keys(['key_1', 'key_2', 'key_3', 'key_4'])\n",
      "dict_values([10, 100, 1000, 10000])\n"
     ]
    }
   ],
   "source": [
    "print(new_dict.keys())\n",
    "print(new_dict.values())"
   ]
  },
  {
   "cell_type": "markdown",
   "metadata": {},
   "source": [
    "# For-loops"
   ]
  },
  {
   "cell_type": "markdown",
   "metadata": {},
   "source": [
    "## Create a-for loop that prints each element in the following list:\n",
    "    list_b = [\"I\",\"am\",\"a\",\"champion\",\"programmer\"]"
   ]
  },
  {
   "cell_type": "code",
   "execution_count": 41,
   "metadata": {},
   "outputs": [],
   "source": [
    "list_b = [\"I\",\"am\",\"a\",\"champion\",\"programmer\"]"
   ]
  },
  {
   "cell_type": "code",
   "execution_count": 44,
   "metadata": {},
   "outputs": [
    {
     "name": "stdout",
     "output_type": "stream",
     "text": [
      "I\n",
      "am\n",
      "a\n",
      "champion\n",
      "programmer\n"
     ]
    }
   ],
   "source": [
    "for word in list_b:\n",
    "    print(word)"
   ]
  },
  {
   "cell_type": "markdown",
   "metadata": {},
   "source": [
    "## Now print each item and the items index value from list_b"
   ]
  },
  {
   "cell_type": "code",
   "execution_count": 49,
   "metadata": {},
   "outputs": [
    {
     "name": "stdout",
     "output_type": "stream",
     "text": [
      "0 I\n",
      "1 am\n",
      "2 a\n",
      "3 champion\n",
      "4 programmer\n"
     ]
    }
   ],
   "source": [
    "for i in range(len(list_b)):\n",
    "    print(i, list_b[i])"
   ]
  },
  {
   "cell_type": "code",
   "execution_count": 50,
   "metadata": {},
   "outputs": [
    {
     "name": "stdout",
     "output_type": "stream",
     "text": [
      "0 I\n",
      "1 am\n",
      "2 a\n",
      "3 champion\n",
      "4 programmer\n"
     ]
    }
   ],
   "source": [
    "for idx, item in enumerate(list_b):\n",
    "    print(idx, item)"
   ]
  },
  {
   "cell_type": "markdown",
   "metadata": {},
   "source": [
    "### Now using a for-loop, try to find the index value of the name \"Evans\" in the crazy_list\n",
    "#### Hint: use an if statement to check if a name is \"Evans\""
   ]
  },
  {
   "cell_type": "code",
   "execution_count": 59,
   "metadata": {},
   "outputs": [
    {
     "name": "stdout",
     "output_type": "stream",
     "text": [
      "47\n"
     ]
    }
   ],
   "source": [
    "for i in range(len(crazy_list)):\n",
    "    if crazy_list[i] == \"Evans\":\n",
    "        print(i)"
   ]
  },
  {
   "cell_type": "code",
   "execution_count": 53,
   "metadata": {},
   "outputs": [
    {
     "name": "stdout",
     "output_type": "stream",
     "text": [
      "47\n"
     ]
    }
   ],
   "source": [
    "for idx, name in enumerate(crazy_list):\n",
    "    if name == \"Evans\":\n",
    "        print(idx)"
   ]
  },
  {
   "cell_type": "markdown",
   "metadata": {},
   "source": [
    "### Now check if the index is right by printing it from the list."
   ]
  },
  {
   "cell_type": "code",
   "execution_count": 60,
   "metadata": {},
   "outputs": [
    {
     "name": "stdout",
     "output_type": "stream",
     "text": [
      "Evans\n"
     ]
    }
   ],
   "source": [
    "print(crazy_list[47])"
   ]
  },
  {
   "cell_type": "markdown",
   "metadata": {},
   "source": [
    "### Now create a for-loop that count the occurrences of a name in crazy_list2 using a dictionary:\n",
    "    crazy_list2 = ['Smith', 'Johnson', 'Williams', 'Jones', 'Brown', 'Davis',\n",
    "'Miller', 'Wilson', 'Moore', 'Taylor', 'Anderson', 'Thomas', 'Jackson',\n",
    "'White', 'Harris', 'Martin', 'Thompson', 'Garcia', 'Martinez',\n",
    "'Robinson', 'Clark', 'Rodriguez', 'Lewis', 'Lee', 'Walker', 'Hall',\n",
    "'Allen', 'Young', 'Hernandez', 'King', 'Wright', 'Lopez', 'Hill',\n",
    "'Scott', 'Green', 'Adams', 'Baker', 'Gonzalez', 'Nelson', 'Carter',\n",
    "'Mitchell', 'Perez', 'Roberts', 'Turner', 'Phillips', 'Campbell',\n",
    "'Parker', 'Evans', 'Edwards', 'Collins', 'Stewart', 'Sanchez', 'Morris',\n",
    "'Rogers', 'Reed', 'Cook', 'Morgan', 'Bell','Smith', 'Johnson', 'Williams', 'Jones', 'Brown', 'Davis',\n",
    "'Miller', 'Wilson', 'Moore', 'Taylor', 'Anderson', 'Thomas', 'Jackson',\n",
    "'White', 'Harris', 'Martin', 'Thompson', 'Garcia', 'Martinez',\n",
    "'Robinson', 'Clark', 'Rodriguez', 'Lewis', 'Lee', 'Walker', 'Hall',\n",
    "'Allen', 'Young', 'Hernandez', 'King', 'Wright', 'Lopez', 'Hill',\n",
    "'Scott', 'Green', 'Adams', 'Baker', 'Gonzalez', 'Nelson', 'Carter',\n",
    "'Mitchell', 'Perez', 'Roberts', 'Turner', 'Phillips', 'Campbell',\n",
    "'Parker', 'Evans', 'Edwards', 'Collins', 'Stewart', 'Sanchez', 'Morris',\n",
    "'Rogers', 'Reed', 'Cook', 'Morgan', 'Bell','Smith', 'Johnson', 'Williams', 'Jones', 'Brown', 'Davis',\n",
    "'Miller', 'Wilson', 'Moore', 'Taylor', 'Anderson', 'Thomas', 'Jackson',\n",
    "'White', 'Harris', 'Martin', 'Thompson', 'Garcia', 'Martinez',\n",
    "'Robinson', 'Clark', 'Rodriguez', 'Lewis', 'Lee', 'Walker', 'Hall',\n",
    "'Allen', 'Young', 'Hernandez', 'King', 'Wright', 'Lopez', 'Hill',\n",
    "'Scott', 'Green', 'Adams', 'Baker', 'Gonzalez', 'Nelson', 'Carter',\n",
    "'Mitchell', 'Perez', 'Roberts', 'Turner', 'Phillips', 'Campbell',\n",
    "'Parker', 'Evans', 'Edwards', 'Collins', 'Stewart', 'Sanchez', 'Morris',\n",
    "'Rogers', 'Reed', 'Cook', 'Morgan', 'Bell']"
   ]
  },
  {
   "cell_type": "code",
   "execution_count": 61,
   "metadata": {},
   "outputs": [],
   "source": [
    "crazy_list2 = ['Smith', 'Johnson', 'Williams', 'Jones', 'Brown', 'Davis',\n",
    "'Miller', 'Wilson', 'Moore', 'Taylor', 'Anderson', 'Thomas', 'Jackson',\n",
    "'White', 'Harris', 'Martin', 'Thompson', 'Garcia', 'Martinez',\n",
    "'Robinson', 'Clark', 'Rodriguez', 'Lewis', 'Lee', 'Walker', 'Hall',\n",
    "'Allen', 'Young', 'Hernandez', 'King', 'Wright', 'Lopez', 'Hill',\n",
    "'Scott', 'Green', 'Adams', 'Baker', 'Gonzalez', 'Nelson', 'Carter',\n",
    "'Mitchell', 'Perez', 'Roberts', 'Turner', 'Phillips', 'Campbell',\n",
    "'Parker', 'Evans', 'Edwards', 'Collins', 'Stewart', 'Sanchez', 'Morris',\n",
    "'Rogers', 'Reed', 'Cook', 'Morgan', 'Bell','Smith', 'Johnson', 'Williams', 'Jones', 'Brown', 'Davis',\n",
    "'Miller', 'Wilson', 'Moore', 'Taylor', 'Anderson', 'Thomas', 'Jackson',\n",
    "'White', 'Harris', 'Martin', 'Thompson', 'Garcia', 'Martinez',\n",
    "'Robinson', 'Clark', 'Rodriguez', 'Lewis', 'Lee', 'Walker', 'Hall',\n",
    "'Allen', 'Young', 'Hernandez', 'King', 'Wright', 'Lopez', 'Hill',\n",
    "'Scott', 'Green', 'Adams', 'Baker', 'Gonzalez', 'Nelson', 'Carter',\n",
    "'Mitchell', 'Perez', 'Roberts', 'Turner', 'Phillips', 'Campbell',\n",
    "'Parker', 'Evans', 'Edwards', 'Collins', 'Stewart', 'Sanchez', 'Morris',\n",
    "'Rogers', 'Reed', 'Cook', 'Morgan', 'Bell','Smith', 'Johnson', 'Williams', 'Jones', 'Brown', 'Davis',\n",
    "'Miller', 'Wilson', 'Moore', 'Taylor', 'Anderson', 'Thomas', 'Jackson',\n",
    "'White', 'Harris', 'Martin', 'Thompson', 'Garcia', 'Martinez',\n",
    "'Robinson', 'Clark', 'Rodriguez', 'Lewis', 'Lee', 'Walker', 'Hall',\n",
    "'Allen', 'Young', 'Hernandez', 'King', 'Wright', 'Lopez', 'Hill',\n",
    "'Scott', 'Green', 'Adams', 'Baker', 'Gonzalez', 'Nelson', 'Carter',\n",
    "'Mitchell', 'Perez', 'Roberts', 'Turner', 'Phillips', 'Campbell',\n",
    "'Parker', 'Evans', 'Edwards', 'Collins', 'Stewart', 'Sanchez', 'Morris',\n",
    "'Rogers', 'Reed', 'Cook', 'Morgan', 'Bell']"
   ]
  },
  {
   "cell_type": "code",
   "execution_count": 64,
   "metadata": {},
   "outputs": [
    {
     "name": "stdout",
     "output_type": "stream",
     "text": [
      "{'Smith': 3, 'Johnson': 3, 'Williams': 3, 'Jones': 3, 'Brown': 3, 'Davis': 3, 'Miller': 3, 'Wilson': 3, 'Moore': 3, 'Taylor': 3, 'Anderson': 3, 'Thomas': 3, 'Jackson': 3, 'White': 3, 'Harris': 3, 'Martin': 3, 'Thompson': 3, 'Garcia': 3, 'Martinez': 3, 'Robinson': 3, 'Clark': 3, 'Rodriguez': 3, 'Lewis': 3, 'Lee': 3, 'Walker': 3, 'Hall': 3, 'Allen': 3, 'Young': 3, 'Hernandez': 3, 'King': 3, 'Wright': 3, 'Lopez': 3, 'Hill': 3, 'Scott': 3, 'Green': 3, 'Adams': 3, 'Baker': 3, 'Gonzalez': 3, 'Nelson': 3, 'Carter': 3, 'Mitchell': 3, 'Perez': 3, 'Roberts': 3, 'Turner': 3, 'Phillips': 3, 'Campbell': 3, 'Parker': 3, 'Evans': 3, 'Edwards': 3, 'Collins': 3, 'Stewart': 3, 'Sanchez': 3, 'Morris': 3, 'Rogers': 3, 'Reed': 3, 'Cook': 3, 'Morgan': 3, 'Bell': 3}\n"
     ]
    }
   ],
   "source": [
    "counter = {}\n",
    "for name in crazy_list2:\n",
    "    counter.setdefault(name,0)\n",
    "    counter[name] += 1\n",
    "print(counter)"
   ]
  },
  {
   "cell_type": "markdown",
   "metadata": {},
   "source": [
    "### Create a for-loop that prints all keys and values. in counter"
   ]
  },
  {
   "cell_type": "code",
   "execution_count": 66,
   "metadata": {},
   "outputs": [
    {
     "name": "stdout",
     "output_type": "stream",
     "text": [
      "Smith 3\n",
      "Johnson 3\n",
      "Williams 3\n",
      "Jones 3\n",
      "Brown 3\n",
      "Davis 3\n",
      "Miller 3\n",
      "Wilson 3\n",
      "Moore 3\n",
      "Taylor 3\n",
      "Anderson 3\n",
      "Thomas 3\n",
      "Jackson 3\n",
      "White 3\n",
      "Harris 3\n",
      "Martin 3\n",
      "Thompson 3\n",
      "Garcia 3\n",
      "Martinez 3\n",
      "Robinson 3\n",
      "Clark 3\n",
      "Rodriguez 3\n",
      "Lewis 3\n",
      "Lee 3\n",
      "Walker 3\n",
      "Hall 3\n",
      "Allen 3\n",
      "Young 3\n",
      "Hernandez 3\n",
      "King 3\n",
      "Wright 3\n",
      "Lopez 3\n",
      "Hill 3\n",
      "Scott 3\n",
      "Green 3\n",
      "Adams 3\n",
      "Baker 3\n",
      "Gonzalez 3\n",
      "Nelson 3\n",
      "Carter 3\n",
      "Mitchell 3\n",
      "Perez 3\n",
      "Roberts 3\n",
      "Turner 3\n",
      "Phillips 3\n",
      "Campbell 3\n",
      "Parker 3\n",
      "Evans 3\n",
      "Edwards 3\n",
      "Collins 3\n",
      "Stewart 3\n",
      "Sanchez 3\n",
      "Morris 3\n",
      "Rogers 3\n",
      "Reed 3\n",
      "Cook 3\n",
      "Morgan 3\n",
      "Bell 3\n"
     ]
    }
   ],
   "source": [
    "for key, value in counter.items():\n",
    "    print(key, value)"
   ]
  },
  {
   "cell_type": "markdown",
   "metadata": {},
   "source": [
    "# Good job!"
   ]
  }
 ],
 "metadata": {
  "kernelspec": {
   "display_name": "Python 3",
   "language": "python",
   "name": "python3"
  },
  "language_info": {
   "codemirror_mode": {
    "name": "ipython",
    "version": 3
   },
   "file_extension": ".py",
   "mimetype": "text/x-python",
   "name": "python",
   "nbconvert_exporter": "python",
   "pygments_lexer": "ipython3",
   "version": "3.6.5"
  },
  "latex_envs": {
   "LaTeX_envs_menu_present": true,
   "autoclose": false,
   "autocomplete": true,
   "bibliofile": "biblio.bib",
   "cite_by": "apalike",
   "current_citInitial": 1,
   "eqLabelWithNumbers": true,
   "eqNumInitial": 1,
   "hotkeys": {
    "equation": "Ctrl-E",
    "itemize": "Ctrl-I"
   },
   "labels_anchors": false,
   "latex_user_defs": false,
   "report_style_numbering": false,
   "user_envs_cfg": false
  }
 },
 "nbformat": 4,
 "nbformat_minor": 2
}
