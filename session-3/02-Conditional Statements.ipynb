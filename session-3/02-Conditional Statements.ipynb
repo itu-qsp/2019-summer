{
 "cells": [
  {
   "cell_type": "markdown",
   "metadata": {
    "slideshow": {
     "slide_type": "slide"
    }
   },
   "source": [
    "# A First Example\n",
    "Programming often involves examining a set of conditions and deciding which action to take based on those conditions. Python’s `if` statement allows you to examine the current state of a program and respond appropriately to that state."
   ]
  },
  {
   "cell_type": "code",
   "execution_count": null,
   "metadata": {
    "slideshow": {
     "slide_type": "fragment"
    }
   },
   "outputs": [],
   "source": [
    "titles = ['moby-dick; or, the whale', 'dracula', 'adventures of huckleberry finn', \n",
    "         'the adventures of sherlock holmes', \"alice's adventures in wonderland\"]\n",
    "\n",
    "for title in titles:\n",
    "    if 'moby-dick' in title:\n",
    "        print(title.upper())\n",
    "    else:\n",
    "        print(title.title())"
   ]
  },
  {
   "cell_type": "markdown",
   "metadata": {
    "slideshow": {
     "slide_type": "subslide"
    }
   },
   "source": [
    "# Conditional Tests\n",
    "\n",
    "At the heart of every `if` statement is an **expression** that can be evaluated as `True` or `False` that is called a conditional test. Python uses the values `True` and `False` to decide whether the code in an `if` statement should be executed. If a conditional test evaluates to `True`, Python executes the code following the `if` statement. If the test evaluates to `False`, Python ignores the code following the if statement.\n",
    "\n",
    "That is, conditional test are just **Boolean Expressions**.  \n",
    "\n",
    "  > \"A Boolean expression is an expression in a programming language that produces a Boolean value when evaluated, i.e. one of true or false. A Boolean expression may be composed of a combination of the Boolean constants true or false, Boolean-typed variables, Boolean-valued operators, and Boolean-valued functions.\"\n",
    "  >\n",
    "  > Gries, David; Schneider, Fred B. (1993), \"Chapter 2. Boolean Expressions\", _A Logical Approach to Discrete Math_, Monographs in Computer Science, Springer, p. 25"
   ]
  },
  {
   "cell_type": "code",
   "execution_count": 3,
   "metadata": {
    "slideshow": {
     "slide_type": "subslide"
    }
   },
   "outputs": [
    {
     "name": "stdout",
     "output_type": "stream",
     "text": [
      "Reading Moby Dick.\n"
     ]
    }
   ],
   "source": [
    "name = 'Ishmael'\n",
    "\n",
    "# Check for equality\n",
    "if name == 'Ishmael':\n",
    "    print('Reading Moby Dick.')\n",
    "    \n",
    "# Check for inequality\n",
    "if name != 'Ishmael':\n",
    "    print('Reading something else.')"
   ]
  },
  {
   "cell_type": "markdown",
   "metadata": {
    "slideshow": {
     "slide_type": "subslide"
    }
   },
   "source": [
    "## Comparison Operators\n",
    "\n",
    "Comparison operators compare two values and evaluate down to a single Boolean value.\n",
    "\n",
    "|Operator|Meaning|\n",
    "|--|--|\n",
    "| `==` | Equal to |\n",
    "| `!=` | Not equal to |\n",
    "| `<` | Less than |\n",
    "| `>` | Greater than |\n",
    "| `<=` | Less than or equal to |\n",
    "| `>=` | Greater than or equal to |\n",
    "\n"
   ]
  },
  {
   "cell_type": "code",
   "execution_count": 4,
   "metadata": {
    "slideshow": {
     "slide_type": "fragment"
    }
   },
   "outputs": [
    {
     "data": {
      "text/plain": [
       "True"
      ]
     },
     "execution_count": 4,
     "metadata": {},
     "output_type": "execute_result"
    }
   ],
   "source": [
    "42 == 42"
   ]
  },
  {
   "cell_type": "code",
   "execution_count": 5,
   "metadata": {
    "slideshow": {
     "slide_type": "fragment"
    }
   },
   "outputs": [
    {
     "data": {
      "text/plain": [
       "False"
      ]
     },
     "execution_count": 5,
     "metadata": {},
     "output_type": "execute_result"
    }
   ],
   "source": [
    "42 == 99"
   ]
  },
  {
   "cell_type": "code",
   "execution_count": 6,
   "metadata": {
    "slideshow": {
     "slide_type": "fragment"
    }
   },
   "outputs": [
    {
     "data": {
      "text/plain": [
       "True"
      ]
     },
     "execution_count": 6,
     "metadata": {},
     "output_type": "execute_result"
    }
   ],
   "source": [
    "2 != 3"
   ]
  },
  {
   "cell_type": "code",
   "execution_count": 7,
   "metadata": {
    "slideshow": {
     "slide_type": "subslide"
    }
   },
   "outputs": [
    {
     "data": {
      "text/plain": [
       "False"
      ]
     },
     "execution_count": 7,
     "metadata": {},
     "output_type": "execute_result"
    }
   ],
   "source": [
    "2 != 2"
   ]
  },
  {
   "cell_type": "code",
   "execution_count": 8,
   "metadata": {
    "slideshow": {
     "slide_type": "fragment"
    }
   },
   "outputs": [
    {
     "data": {
      "text/plain": [
       "True"
      ]
     },
     "execution_count": 8,
     "metadata": {},
     "output_type": "execute_result"
    }
   ],
   "source": [
    "'Hej' == 'Hej'"
   ]
  },
  {
   "cell_type": "code",
   "execution_count": 9,
   "metadata": {
    "slideshow": {
     "slide_type": "fragment"
    }
   },
   "outputs": [
    {
     "data": {
      "text/plain": [
       "False"
      ]
     },
     "execution_count": 9,
     "metadata": {},
     "output_type": "execute_result"
    }
   ],
   "source": [
    "'Hej' == 'hej'"
   ]
  },
  {
   "cell_type": "code",
   "execution_count": 10,
   "metadata": {
    "slideshow": {
     "slide_type": "fragment"
    }
   },
   "outputs": [
    {
     "data": {
      "text/plain": [
       "True"
      ]
     },
     "execution_count": 10,
     "metadata": {},
     "output_type": "execute_result"
    }
   ],
   "source": [
    "True == True"
   ]
  },
  {
   "cell_type": "code",
   "execution_count": 11,
   "metadata": {
    "slideshow": {
     "slide_type": "fragment"
    }
   },
   "outputs": [
    {
     "data": {
      "text/plain": [
       "True"
      ]
     },
     "execution_count": 11,
     "metadata": {},
     "output_type": "execute_result"
    }
   ],
   "source": [
    "True != False"
   ]
  },
  {
   "cell_type": "code",
   "execution_count": 14,
   "metadata": {
    "slideshow": {
     "slide_type": "fragment"
    }
   },
   "outputs": [
    {
     "data": {
      "text/plain": [
       "True"
      ]
     },
     "execution_count": 14,
     "metadata": {},
     "output_type": "execute_result"
    }
   ],
   "source": [
    "42 == 42.0"
   ]
  },
  {
   "cell_type": "code",
   "execution_count": 17,
   "metadata": {
    "slideshow": {
     "slide_type": "fragment"
    }
   },
   "outputs": [
    {
     "data": {
      "text/plain": [
       "False"
      ]
     },
     "execution_count": 17,
     "metadata": {},
     "output_type": "execute_result"
    }
   ],
   "source": [
    "42 == '42'"
   ]
  },
  {
   "cell_type": "markdown",
   "metadata": {
    "slideshow": {
     "slide_type": "subslide"
    }
   },
   "source": [
    "## Boolean operators\n",
    "\n",
    "The and and or operators always take two Boolean values or expressions, i.e., they are binary operators. The `and` operator evaluates an expression to `True` if both Boolean values are `True`; otherwise, it evaluates to `False`.\n",
    "\n",
    "On the other hand, the or operator evaluates an expression to True if either of the two Boolean values is True. If both are False, it evaluates to False.\n",
    "\n",
    "|Expression|Evaluates to...|\n",
    "|--|--|\n",
    "| `True and True` | `True` |\n",
    "| `True and False` | `False` |\n",
    "| `False and True` | `False` |\n",
    "| `False and False` |`False` |\n",
    "\n",
    "|Expression|Evaluates to...|\n",
    "|--|--|\n",
    "| `True or True` | `True` |\n",
    "| `True or False` | `True` |\n",
    "| `False or True` | `True` |\n",
    "| `False or False` |`False` |\n"
   ]
  },
  {
   "cell_type": "markdown",
   "metadata": {
    "slideshow": {
     "slide_type": "subslide"
    }
   },
   "source": [
    "Unlike `and` and `or`, the `not` operator operates on only one Boolean value or expression. The `not` operator simply evaluates to the opposite Boolean value, i.e., its negation.\n",
    "\n",
    "|Expression|Evaluates to...|\n",
    "|--|--|\n",
    "| `not True` | `False` |\n",
    "| `not False` | `True` |\n"
   ]
  },
  {
   "cell_type": "code",
   "execution_count": 18,
   "metadata": {
    "slideshow": {
     "slide_type": "subslide"
    }
   },
   "outputs": [
    {
     "data": {
      "text/plain": [
       "True"
      ]
     },
     "execution_count": 18,
     "metadata": {},
     "output_type": "execute_result"
    }
   ],
   "source": [
    "True and True"
   ]
  },
  {
   "cell_type": "code",
   "execution_count": 20,
   "metadata": {
    "slideshow": {
     "slide_type": "fragment"
    }
   },
   "outputs": [
    {
     "data": {
      "text/plain": [
       "False"
      ]
     },
     "execution_count": 20,
     "metadata": {},
     "output_type": "execute_result"
    }
   ],
   "source": [
    "True and False"
   ]
  },
  {
   "cell_type": "code",
   "execution_count": 21,
   "metadata": {
    "slideshow": {
     "slide_type": "fragment"
    }
   },
   "outputs": [
    {
     "data": {
      "text/plain": [
       "True"
      ]
     },
     "execution_count": 21,
     "metadata": {},
     "output_type": "execute_result"
    }
   ],
   "source": [
    "(5 > 4) and True "
   ]
  },
  {
   "cell_type": "code",
   "execution_count": 22,
   "metadata": {
    "slideshow": {
     "slide_type": "fragment"
    }
   },
   "outputs": [
    {
     "data": {
      "text/plain": [
       "True"
      ]
     },
     "execution_count": 22,
     "metadata": {},
     "output_type": "execute_result"
    }
   ],
   "source": [
    "False or (100 / 2 == 50)"
   ]
  },
  {
   "cell_type": "code",
   "execution_count": 23,
   "metadata": {
    "slideshow": {
     "slide_type": "fragment"
    }
   },
   "outputs": [
    {
     "data": {
      "text/plain": [
       "True"
      ]
     },
     "execution_count": 23,
     "metadata": {},
     "output_type": "execute_result"
    }
   ],
   "source": [
    "not not not not True"
   ]
  },
  {
   "cell_type": "code",
   "execution_count": 24,
   "metadata": {
    "slideshow": {
     "slide_type": "fragment"
    }
   },
   "outputs": [
    {
     "data": {
      "text/plain": [
       "True"
      ]
     },
     "execution_count": 24,
     "metadata": {},
     "output_type": "execute_result"
    }
   ],
   "source": [
    "2 + 2 == 4 and not 2 + 2 == 5 and 2 * 2 == 2 + 2 and not 'Hej'.startswith('O')\n",
    "#    True  and True           and   True         and True "
   ]
  },
  {
   "cell_type": "markdown",
   "metadata": {
    "slideshow": {
     "slide_type": "subslide"
    }
   },
   "source": [
    "## Checking Whether a value is in a List\n",
    "\n",
    "Recall from the session on lists, that you have the `in` operator to check wether a value is a member of a list."
   ]
  },
  {
   "cell_type": "code",
   "execution_count": 25,
   "metadata": {
    "slideshow": {
     "slide_type": "fragment"
    }
   },
   "outputs": [
    {
     "data": {
      "text/plain": [
       "True"
      ]
     },
     "execution_count": 25,
     "metadata": {},
     "output_type": "execute_result"
    }
   ],
   "source": [
    "1 in [0, 1, 2, 3]"
   ]
  },
  {
   "cell_type": "code",
   "execution_count": 38,
   "metadata": {
    "slideshow": {
     "slide_type": "fragment"
    }
   },
   "outputs": [
    {
     "data": {
      "text/plain": [
       "False"
      ]
     },
     "execution_count": 38,
     "metadata": {},
     "output_type": "execute_result"
    }
   ],
   "source": [
    "1 not in [0, 1, 2, 3]"
   ]
  },
  {
   "cell_type": "markdown",
   "metadata": {
    "slideshow": {
     "slide_type": "slide"
    }
   },
   "source": [
    "# `if` Statements\n",
    "\n",
    "## Simple if Statements\n",
    "The simplest kind of if statement has one test and one action:\n",
    "\n",
    "```python \n",
    "if conditional_test: \n",
    "    statements\n",
    "```\n",
    "\n",
    "\n",
    "If the conditional test evaluates to `True`, Python executes the code following the `if` statement. If the test evaluates to `False`, Python ignores the code following the `if` statement."
   ]
  },
  {
   "cell_type": "code",
   "execution_count": 46,
   "metadata": {
    "slideshow": {
     "slide_type": "fragment"
    }
   },
   "outputs": [
    {
     "name": "stdout",
     "output_type": "stream",
     "text": [
      "Not true\n"
     ]
    }
   ],
   "source": [
    "if 5 < 4:\n",
    "    print('Yep, right!')\n",
    "    print('Still, right!')\n",
    "else:\n",
    "    print('Not true')"
   ]
  },
  {
   "cell_type": "markdown",
   "metadata": {
    "slideshow": {
     "slide_type": "subslide"
    }
   },
   "source": [
    "**OBS!** Remember intendation to match your intents."
   ]
  },
  {
   "cell_type": "code",
   "execution_count": 47,
   "metadata": {
    "slideshow": {
     "slide_type": "subslide"
    }
   },
   "outputs": [
    {
     "name": "stdout",
     "output_type": "stream",
     "text": [
      "Still, right!\n"
     ]
    }
   ],
   "source": [
    "if 5 < 4:\n",
    "    print('Yep, right!')\n",
    "print('Still, right!')  "
   ]
  },
  {
   "cell_type": "markdown",
   "metadata": {
    "slideshow": {
     "slide_type": "subslide"
    }
   },
   "source": [
    "## `if`-`else` Statements\n",
    "\n",
    "An if-else block is similar to a simple if statement, but the else statement allows you to define an action or set of actions that are executed when the conditional test fails."
   ]
  },
  {
   "cell_type": "code",
   "execution_count": 48,
   "metadata": {
    "slideshow": {
     "slide_type": "fragment"
    }
   },
   "outputs": [
    {
     "name": "stdout",
     "output_type": "stream",
     "text": [
      "by Herman Melville\n"
     ]
    }
   ],
   "source": [
    "title = 'Moby-Dick; or, the Whale'\n",
    "\n",
    "if 'Moby-Dick' in title:\n",
    "    print('by Herman Melville')\n",
    "else:\n",
    "    print('hmm, I do not know the author.')"
   ]
  },
  {
   "cell_type": "markdown",
   "metadata": {
    "slideshow": {
     "slide_type": "subslide"
    }
   },
   "source": [
    "![](images/ifflow.jpg)"
   ]
  },
  {
   "cell_type": "markdown",
   "metadata": {
    "slideshow": {
     "slide_type": "subslide"
    }
   },
   "source": [
    "## The if-elif-else Chain\n",
    "\n",
    "Often, you’ll need to test more than two possible situations, and to evaluate these you can use Python’s `if`-`elif`-`else` syntax. Python executes only one block in an if-elif-else chain. It runs each conditional test in order until one passes. When a test passes, the code following that test is executed and subsequent tests are skipped. You can use as many elif blocks in your code as you like.\n",
    "\n",
    "Python does not require an else block at the end of an `if`-`elif` chain. Sometimes an else block is useful; sometimes it is clearer to use an additional `elif` statement that catches the specific condition of interest.\n",
    "\n",
    "The `else` block is a catchall statement. It matches any condition that was not matched by a specific if or `elif` test, and that can sometimes include invalid or even malicious data. If you have a specific final condition you are testing for, consider using a final `elif` block and omit the else block. As a result, you will gain extra confidence that your code will run only under the correct conditions."
   ]
  },
  {
   "cell_type": "code",
   "execution_count": 55,
   "metadata": {
    "slideshow": {
     "slide_type": "subslide"
    }
   },
   "outputs": [
    {
     "name": "stdout",
     "output_type": "stream",
     "text": [
      "Hmm, I do not know this year...\n"
     ]
    }
   ],
   "source": [
    "year = 1850\n",
    "\n",
    "if year == 1851:\n",
    "    message = 'First print.'\n",
    "elif year == 1855:\n",
    "    message = 'Second print.'\n",
    "elif year == 1863:\n",
    "    message = 'Third print.'\n",
    "elif year == 1871:\n",
    "    message = 'Fourth print.'\n",
    "else:\n",
    "    message = 'Hmm, I do not know this year...'\n",
    "\n",
    "print(message)"
   ]
  },
  {
   "cell_type": "markdown",
   "metadata": {
    "slideshow": {
     "slide_type": "subslide"
    }
   },
   "source": [
    "What is the difference between these two programs?\n",
    "```python\n",
    "number = 10\n",
    "if number > 0:\n",
    "    print('Number is bigger than 0')\n",
    "if number > 5:\n",
    "    print('Number is bigger than 5')\n",
    "```\n",
    "---\n",
    "```python\n",
    "number = 10\n",
    "if number > 0:\n",
    "    print('Number is bigger than 0')\n",
    "elif number > 5:\n",
    "    print('Number is bigger than 5')\n",
    "```"
   ]
  },
  {
   "cell_type": "markdown",
   "metadata": {
    "slideshow": {
     "slide_type": "subslide"
    }
   },
   "source": [
    "What is the the following program doing?\n",
    "\n",
    "```python\n",
    "name = input('Enter smart person here: ')\n",
    "if name == 'John Locke':\n",
    "    print('Capitalism is great!')\n",
    "elif name == 'Karl Marx':\n",
    "    print('Capitalism is evil!')\n",
    "elif name == 'John M. Keynes':\n",
    "    print('Capitalism is good when controlled')\n",
    "else:\n",
    "    print('Capitalism is a system for exchanging values')\n",
    "```"
   ]
  },
  {
   "cell_type": "markdown",
   "metadata": {
    "slideshow": {
     "slide_type": "subslide"
    }
   },
   "source": [
    "## Checking that a List is not Empty\n",
    "\n",
    "Empty lists are `False` and non-empty lists will be `True`. This can be useful to quickly discover whether a list is empty or not:\n",
    "\n",
    "```python\n",
    "library = []\n",
    "\n",
    "if library: \n",
    "    print('List is not empty.')  # If we reach this point, library is NOT empty\n",
    "```\n",
    "\n",
    "is equivalent to:\n",
    "\n",
    "```python\n",
    "if library != []:\n",
    "    print('List is not empty.')\n",
    "```\n",
    "\n",
    "However, the former is more pythonic."
   ]
  },
  {
   "cell_type": "code",
   "execution_count": null,
   "metadata": {
    "slideshow": {
     "slide_type": "subslide"
    }
   },
   "outputs": [],
   "source": [
    "library = []\n",
    "\n",
    "if library:\n",
    "    print('List is not empty.')\n",
    "else:\n",
    "    print('List is empty.')"
   ]
  },
  {
   "cell_type": "code",
   "execution_count": 56,
   "metadata": {
    "slideshow": {
     "slide_type": "subslide"
    }
   },
   "outputs": [
    {
     "data": {
      "text/plain": [
       "False"
      ]
     },
     "execution_count": 56,
     "metadata": {},
     "output_type": "execute_result"
    }
   ],
   "source": [
    "bool([])"
   ]
  },
  {
   "cell_type": "code",
   "execution_count": 57,
   "metadata": {
    "slideshow": {
     "slide_type": "subslide"
    }
   },
   "outputs": [
    {
     "data": {
      "text/plain": [
       "True"
      ]
     },
     "execution_count": 57,
     "metadata": {},
     "output_type": "execute_result"
    }
   ],
   "source": [
    "bool([1, 2, 3])"
   ]
  }
 ],
 "metadata": {
  "celltoolbar": "Slideshow",
  "kernelspec": {
   "display_name": "Python 3",
   "language": "python",
   "name": "python3"
  },
  "language_info": {
   "codemirror_mode": {
    "name": "ipython",
    "version": 3
   },
   "file_extension": ".py",
   "mimetype": "text/x-python",
   "name": "python",
   "nbconvert_exporter": "python",
   "pygments_lexer": "ipython3",
   "version": "3.7.3"
  }
 },
 "nbformat": 4,
 "nbformat_minor": 2
}
