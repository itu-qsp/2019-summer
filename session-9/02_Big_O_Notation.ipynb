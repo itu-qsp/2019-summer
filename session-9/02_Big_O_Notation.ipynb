{
 "cells": [
  {
   "cell_type": "code",
   "execution_count": 3,
   "metadata": {
    "slideshow": {
     "slide_type": "skip"
    }
   },
   "outputs": [
    {
     "name": "stdout",
     "output_type": "stream",
     "text": [
      "Populating the interactive namespace from numpy and matplotlib\n"
     ]
    }
   ],
   "source": [
    "%pylab inline"
   ]
  },
  {
   "cell_type": "markdown",
   "metadata": {
    "slideshow": {
     "slide_type": "slide"
    }
   },
   "source": [
    "#  Big-O Notation"
   ]
  },
  {
   "cell_type": "markdown",
   "metadata": {
    "slideshow": {
     "slide_type": "subslide"
    }
   },
   "source": [
    "## Recap\n",
    "\n",
    "* We want to analyse the runtime and performance of our code\n",
    "* Logarithmic, linear, quadratic, qubic and exponential times"
   ]
  },
  {
   "cell_type": "markdown",
   "metadata": {
    "slideshow": {
     "slide_type": "subslide"
    }
   },
   "source": [
    "## Turtle example"
   ]
  },
  {
   "cell_type": "code",
   "execution_count": null,
   "metadata": {},
   "outputs": [],
   "source": [
    "from timeit import default_timer\n",
    "\n",
    "\n",
    "def do_something():\n",
    "    start = default_timer()\n",
    "    # Magic happens here\n",
    "    end = default_timer()\n",
    "    return end - start\n",
    "\n",
    "xs = [do_someting(x) for x in range(4, 8)]"
   ]
  },
  {
   "cell_type": "markdown",
   "metadata": {},
   "source": [
    "| `lv` | Running time |\n",
    "| --- | ------- |\n",
    "| 2 | 0.11665843200171366 |\n",
    "| 3 | 0.3481470539991278 | \n",
    "| 4 | 0.8079697409993969 |\n",
    "| 5 | 1.7410687139999936 |\n",
    "| 6 | 3.619540038998821 |\n",
    "| 7 | 7.414633906002564 |"
   ]
  },
  {
   "cell_type": "code",
   "execution_count": 11,
   "metadata": {
    "slideshow": {
     "slide_type": "subslide"
    }
   },
   "outputs": [
    {
     "data": {
      "image/png": "[encoded data removed]",
      "text/plain": [
       "<Figure size 432x288 with 1 Axes>"
      ]
     },
     "metadata": {
      "needs_background": "light"
     },
     "output_type": "display_data"
    }
   ],
   "source": [
    "import matplotlib.pyplot as plt\n",
    "\n",
    "xs = [2, 3, 4, 5, 6, 7]\n",
    "ys = [0.11665843200171366, 0.3481470539991278, 0.8079697409993969, 1.7410687139999936, 3.619540038998821, 7.414633906002564]\n",
    "\n",
    "plt.plot(xs, ys)\n",
    "plt.show()"
   ]
  },
  {
   "cell_type": "markdown",
   "metadata": {
    "slideshow": {
     "slide_type": "subslide"
    }
   },
   "source": [
    "## Objectives\n",
    "\n",
    "- To understand why algorithm analysis is important.\n",
    "- To be able to use \"Big-O\" to describe execution time.\n",
    "- To understand the \"Big-O\" execution time of common operations on Python lists and dictionaries.\n",
    "- To understand how the implementation of Python data impacts algorithm analysis.\n",
    "- To understand how to benchmark simple Python programs."
   ]
  },
  {
   "cell_type": "markdown",
   "metadata": {
    "slideshow": {
     "slide_type": "subslide"
    }
   },
   "source": [
    "## General Scope\n",
    "\n",
    "- In general, we are interested in *the performance* of the programs that we write\n",
    "  - That is, how many seconds/minutes/hours/days is the code going to run?\n",
    "  "
   ]
  },
  {
   "cell_type": "markdown",
   "metadata": {
    "slideshow": {
     "slide_type": "subslide"
    }
   },
   "source": [
    "\n",
    "- This is very dependent on the computer we run the program on\n",
    "  - Can we find something more independent of the actual computer?U\n",
    " "
   ]
  },
  {
   "cell_type": "markdown",
   "metadata": {
    "slideshow": {
     "slide_type": "subslide"
    }
   },
   "source": [
    "## Finding the position of the smallest number in a list\n",
    "\n",
    "Let's solve the following problem:\n",
    "\n",
    "We want to find a certain element in a list and return it's position.\n",
    "\n",
    "  * Input: Given a list of numbers in ascending order. \n",
    "  * That is, write a function `find_element_in_a_list(data, element)` with the following behavior:\n",
    "    ```python\n",
    ">>> find_element_in_a_list([1, 3, 5], 3)\n",
    "1\n",
    ">>> find_element_in_a_list([2 * x for x in range(1000)], 550)\n",
    "275\n",
    "```"
   ]
  },
  {
   "cell_type": "markdown",
   "metadata": {
    "slideshow": {
     "slide_type": "subslide"
    }
   },
   "source": [
    "### Defining the data"
   ]
  },
  {
   "cell_type": "code",
   "execution_count": null,
   "metadata": {
    "slideshow": {
     "slide_type": "fragment"
    }
   },
   "outputs": [],
   "source": [
    "data_list = list(range(1000))\n",
    "element_to_find = 999"
   ]
  },
  {
   "cell_type": "code",
   "execution_count": null,
   "metadata": {
    "slideshow": {
     "slide_type": "subslide"
    }
   },
   "outputs": [],
   "source": [
    "def find_element_in_a_list(data_list, element):\n",
    "    for idx, el in enumerate(data_list):\n",
    "        if el == element:\n",
    "            return idx"
   ]
  },
  {
   "cell_type": "code",
   "execution_count": null,
   "metadata": {
    "slideshow": {
     "slide_type": "fragment"
    }
   },
   "outputs": [],
   "source": [
    "%time find_element_in_a_list(data_list, element_to_find)"
   ]
  },
  {
   "cell_type": "markdown",
   "metadata": {
    "slideshow": {
     "slide_type": "fragment"
    }
   },
   "source": [
    "How much is a microsecond?\n",
    "\n",
    "\n",
    "1 µs = 0.000001 s\n",
    "= $\\dfrac{\\dfrac{1s}{1000}}{1000}$ = $\\dfrac{1s}{1000^2}$"
   ]
  },
  {
   "cell_type": "markdown",
   "metadata": {
    "slideshow": {
     "slide_type": "subslide"
    }
   },
   "source": [
    "## Big-O Notation\n",
    "\n",
    "Describes the **the limiting behaviour of a function** (Wikipedia)\n",
    "\n",
    "Big-O ignores everything except the **limiting** part of a piece of code. Examples from math:\n",
    "\n",
    "$f(x) = 2x$ &nbsp;&nbsp;&nbsp;&nbsp;&nbsp;&nbsp;&nbsp; ($x$)\n",
    "\n",
    "$f(x) = x^{1000} + 100000000$&nbsp;&nbsp;&nbsp;&nbsp;&nbsp;&nbsp;&nbsp; ($x^{1000}$)\n",
    "\n",
    "$f(x) = x^4 + \\frac{x}{9} + 2005 * \\frac{x^9}{1000}$ &nbsp;&nbsp;&nbsp;&nbsp;&nbsp;&nbsp;&nbsp;($\\frac{x^9}{1000} \\approx x^9$)"
   ]
  },
  {
   "cell_type": "markdown",
   "metadata": {
    "slideshow": {
     "slide_type": "subslide"
    }
   },
   "source": [
    "## Big-O in code\n",
    "\n",
    "* What is the running time of this?\n",
    "\n",
    "```python\n",
    "statement 1\n",
    "```"
   ]
  },
  {
   "cell_type": "markdown",
   "metadata": {
    "slideshow": {
     "slide_type": "fragment"
    }
   },
   "source": [
    "* 1 (constant!)\n",
    "  * $O(1)$"
   ]
  },
  {
   "cell_type": "markdown",
   "metadata": {
    "slideshow": {
     "slide_type": "subslide"
    }
   },
   "source": [
    "* What is the running time of this?\n",
    "\n",
    "```python\n",
    "if (cond): \n",
    "    block 1 #sequence of statements\n",
    "else:\n",
    "    block 2 #sequence of statements\n",
    "```"
   ]
  },
  {
   "cell_type": "markdown",
   "metadata": {
    "slideshow": {
     "slide_type": "fragment"
    }
   },
   "source": [
    "* 1 (constant!)\n",
    "  * $O(1)$"
   ]
  },
  {
   "cell_type": "markdown",
   "metadata": {
    "slideshow": {
     "slide_type": "subslide"
    }
   },
   "source": [
    "* What is the running time of this?\n",
    "\n",
    "```python\n",
    "statement 1\n",
    "statement 2\n",
    "...\n",
    "statement n\n",
    "```"
   ]
  },
  {
   "cell_type": "markdown",
   "metadata": {
    "slideshow": {
     "slide_type": "fragment"
    }
   },
   "source": [
    "```python\n",
    "total_time = statement 1 + statement 2 + ... + statement n\n",
    "```"
   ]
  },
  {
   "cell_type": "markdown",
   "metadata": {
    "slideshow": {
     "slide_type": "fragment"
    }
   },
   "source": [
    "* 1 (constant!)\n",
    "  * It does **not** depend on the input size. The amount of statements is constant\n",
    "  * $O(1)$"
   ]
  },
  {
   "cell_type": "markdown",
   "metadata": {
    "slideshow": {
     "slide_type": "subslide"
    }
   },
   "source": [
    "* What is the running time of this?\n",
    "\n",
    "```python\n",
    "for x in range(0, n):\n",
    "    block 1\n",
    "```"
   ]
  },
  {
   "cell_type": "markdown",
   "metadata": {
    "slideshow": {
     "slide_type": "fragment"
    }
   },
   "source": [
    "* Linear\n",
    "  * The runtime depends on exactly the input (once for each element)\n",
    "  * $O(n)$"
   ]
  },
  {
   "cell_type": "markdown",
   "metadata": {
    "slideshow": {
     "slide_type": "subslide"
    }
   },
   "source": [
    "* What is the running time of this?\n",
    "\n",
    "```python\n",
    "for x in range(0, n):\n",
    "    for y in range(0, n):\n",
    "        block 1\n",
    "```"
   ]
  },
  {
   "cell_type": "markdown",
   "metadata": {
    "slideshow": {
     "slide_type": "fragment"
    }
   },
   "source": [
    "* Quadratic\n",
    "  * Everytime we have one n we need to go through all other n\n",
    "  * $O(n^2)$ or $(n * n)$"
   ]
  },
  {
   "cell_type": "markdown",
   "metadata": {
    "slideshow": {
     "slide_type": "subslide"
    }
   },
   "source": [
    "* What is the running time of this?\n",
    "\n",
    "```python\n",
    "for x in range(0, n):\n",
    "    for y in range(0, m):\n",
    "        block 1\n",
    "```"
   ]
  },
  {
   "cell_type": "markdown",
   "metadata": {
    "slideshow": {
     "slide_type": "fragment"
    }
   },
   "source": [
    "* Quadratic\n",
    "  * But no longer only depending on $n$\n",
    "  * $O(n * m)$"
   ]
  },
  {
   "cell_type": "markdown",
   "metadata": {
    "slideshow": {
     "slide_type": "subslide"
    }
   },
   "source": [
    "* Is the runtime complexity of `find_element_in_a_list` and `find_element_double_loop` different?\n",
    "\n",
    "\n",
    "```python\n",
    "def find_element_in_a_list(data_list, element):\n",
    "    for idx, el in enumerate(data_list):\n",
    "        if el == element:\n",
    "            return idx\n",
    "\n",
    "\n",
    "def find_element_double_loop(data_list, element):\n",
    "    for idx, el in enumerate(data_list):\n",
    "        if el == element:\n",
    "            first_result_idx = idx\n",
    "            break\n",
    "    for idx, el in enumerate(data_list):\n",
    "        if el == element and idx == first_result_idx:\n",
    "            return idx, el\n",
    "```"
   ]
  },
  {
   "cell_type": "markdown",
   "metadata": {
    "slideshow": {
     "slide_type": "subslide"
    }
   },
   "source": [
    "Why do we not say $O(2n)$?\n",
    "\n",
    "  * Because only $n$ matters when the size grows very big in $2n$, the $2$ does not matter anymore:\n",
    "     * $10 \\not\\approx 20$\n",
    "     * $1'000'000 \\approx 2'000'000$"
   ]
  },
  {
   "cell_type": "markdown",
   "metadata": {
    "slideshow": {
     "slide_type": "subslide"
    }
   },
   "source": [
    "\n",
    "Let's say one elementary operation takes 10 nanoseconds, then we get\n",
    "\n",
    "![](images/runtimes.png)"
   ]
  },
  {
   "cell_type": "markdown",
   "metadata": {
    "slideshow": {
     "slide_type": "slide"
    }
   },
   "source": [
    "## Big-O as an approximation\n",
    "\n",
    "Describes the **the limiting behaviour of a function** (Wikipedia)\n",
    "\n",
    "Big-O ignores everything except the **limiting** part of a piece of code."
   ]
  },
  {
   "cell_type": "markdown",
   "metadata": {
    "slideshow": {
     "slide_type": "fragment"
    }
   },
   "source": [
    "Can be used to know the complexity of your code **without running it**!"
   ]
  },
  {
   "cell_type": "markdown",
   "metadata": {
    "slideshow": {
     "slide_type": "subslide"
    }
   },
   "source": [
    "## What is the worst-case runtime of this?\n",
    "\n",
    "```python\n",
    "def find_element_in_a_list(data_list, element):\n",
    "    for idx, el in enumerate(data_list):\n",
    "        if el == element:\n",
    "            return idx, el\n",
    "```"
   ]
  },
  {
   "cell_type": "markdown",
   "metadata": {
    "slideshow": {
     "slide_type": "fragment"
    }
   },
   "source": [
    "How often do we iterate over the elements of the list in the worst case?"
   ]
  },
  {
   "cell_type": "markdown",
   "metadata": {
    "slideshow": {
     "slide_type": "subslide"
    }
   },
   "source": [
    "## What is the worst-case runtime of this?\n",
    "\n",
    "```python\n",
    "def find_element_double_loop(data_list, element):\n",
    "    for idx, el in enumerate(data_list):\n",
    "        if el == element:\n",
    "            first_result_idx = idx\n",
    "            break\n",
    "    for idx, el in enumerate(data_list):\n",
    "        if el == element and idx == first_result_idx:\n",
    "            return idx, el\n",
    "```"
   ]
  },
  {
   "cell_type": "markdown",
   "metadata": {
    "slideshow": {
     "slide_type": "fragment"
    }
   },
   "source": [
    "\n",
    "\n",
    "How often do we iterate over the elements of the list in the worst case?"
   ]
  },
  {
   "cell_type": "markdown",
   "metadata": {},
   "source": [
    "How often do we iterate over the elements of the list in the worst case?"
   ]
  },
  {
   "cell_type": "markdown",
   "metadata": {
    "slideshow": {
     "slide_type": "subslide"
    }
   },
   "source": [
    "## What is the worst-case runtime of this?\n",
    "\n",
    "```python\n",
    "def find_element_nested_loop(data_list, element):\n",
    "    for idx, el in enumerate(data_list):\n",
    "        for idx2, el2 in enumerate(data_list):\n",
    "            if el == el2 == element and idx == idx2:\n",
    "                return idx, el\n",
    "```\n"
   ]
  },
  {
   "cell_type": "markdown",
   "metadata": {
    "slideshow": {
     "slide_type": "fragment"
    }
   },
   "source": [
    "\n",
    "How often do we iterate over the elements of the list in the worst case?"
   ]
  },
  {
   "cell_type": "markdown",
   "metadata": {
    "slideshow": {
     "slide_type": "subslide"
    }
   },
   "source": [
    "## What is the worst-case runtime of this?\n",
    "\n",
    "```python\n",
    "def find_element_recursive(data_list, element):\n",
    "    half_idx = len(data_list) // 2\n",
    "    \n",
    "    if element == data_list[half_idx]:\n",
    "        return half_idx\n",
    "    elif element < data_list[half_idx]:\n",
    "        lower_half_list = list(data_list[:half_idx])\n",
    "        return find_element_recursive(lower_half_list, element)\n",
    "    elif element > data_list[half_idx]:\n",
    "        upper_half_list = list(data_list[half_idx:])\n",
    "        return find_element_recursive(upper_half_list, element)\n",
    "```"
   ]
  },
  {
   "cell_type": "markdown",
   "metadata": {
    "slideshow": {
     "slide_type": "fragment"
    }
   },
   "source": [
    "How often do we iterate over the elements of the list in the worst case?"
   ]
  },
  {
   "cell_type": "markdown",
   "metadata": {
    "slideshow": {
     "slide_type": "slide"
    }
   },
   "source": [
    "## How to count and _not_ count...\n",
    "\n",
    "When asked 'count the number of occurrences of all words in a list'. Assuming we have a list of words in `words`, here are two solutions:"
   ]
  },
  {
   "cell_type": "code",
   "execution_count": 12,
   "metadata": {},
   "outputs": [],
   "source": [
    "words = ['seldom', 'heard', 'him', 'mention', 'her', 'under', 'any', \n",
    "         'other', 'name', 'In', 'his', 'eyes', 'she', 'eclipses', \n",
    "         'and', 'predominates', 'the', 'whole', 'of', 'her', 'sex', \n",
    "         'It', 'was', 'not', 'that', 'he', 'felt', 'any', 'emotion', \n",
    "         'akin', 'to', 'love', 'for', 'Irene', 'Adler', 'All', \n",
    "         'emotions', 'and', 'that', 'one', 'particularly', 'were', \n",
    "         'abhorrent', 'to', 'his', 'cold', 'precise', 'but', \n",
    "         'admirably', 'balanced', 'mind', 'He', 'was', 'I', 'take', \n",
    "         'it', 'the', 'most', 'perfect', 'reasoning', 'and', \n",
    "         'observing', 'machine', 'that', 'the', 'world', 'has', \n",
    "         'seen', 'but', 'as', 'a', 'lover', 'he', 'would', 'have', \n",
    "         'placed', 'himself', 'in', 'a', 'false', 'position', 'He', \n",
    "         'never', 'spoke', 'of', 'the', 'softer', 'passions', 'save', \n",
    "         'with', 'a', 'gibe', 'and', 'a', 'sneer']"
   ]
  },
  {
   "cell_type": "markdown",
   "metadata": {
    "slideshow": {
     "slide_type": "subslide"
    }
   },
   "source": [
    "## How to count and _not_ count...\n",
    "\n",
    "When asked 'count the number of occurrences of all words in a list'. Assuming we have a list of words in `words`, here are two solutions:"
   ]
  },
  {
   "cell_type": "code",
   "execution_count": null,
   "metadata": {
    "slideshow": {
     "slide_type": "-"
    }
   },
   "outputs": [],
   "source": [
    "word_counts = {}\n",
    "for word in words:\n",
    "    word_counts.setdefault(word, 0)\n",
    "    word_counts[word] += 1\n",
    "print(word_counts)"
   ]
  },
  {
   "cell_type": "code",
   "execution_count": null,
   "metadata": {
    "slideshow": {
     "slide_type": "-"
    }
   },
   "outputs": [],
   "source": [
    "word_counts = {}\n",
    "for word in words:\n",
    "    counts = words.count(word)\n",
    "    word_counts[word] = counts\n",
    "print(word_counts)"
   ]
  },
  {
   "cell_type": "code",
   "execution_count": 14,
   "metadata": {},
   "outputs": [
    {
     "name": "stdout",
     "output_type": "stream",
     "text": [
      "Help on built-in function count:\n",
      "\n",
      "count(value, /) method of builtins.list instance\n",
      "    Return number of occurrences of value.\n",
      "\n",
      "None\n"
     ]
    }
   ],
   "source": [
    "print(help([].count))"
   ]
  },
  {
   "cell_type": "markdown",
   "metadata": {},
   "source": [
    "  - What is the running time complexity of each solution? \n",
    "  - Which one is thus preferable?"
   ]
  }
 ],
 "metadata": {
  "celltoolbar": "Slideshow",
  "hide_input": false,
  "kernelspec": {
   "display_name": "Python 3",
   "language": "python",
   "name": "python3"
  },
  "language_info": {
   "codemirror_mode": {
    "name": "ipython",
    "version": 3
   },
   "file_extension": ".py",
   "mimetype": "text/x-python",
   "name": "python",
   "nbconvert_exporter": "python",
   "pygments_lexer": "ipython3",
   "version": "3.7.3"
  }
 },
 "nbformat": 4,
 "nbformat_minor": 2
}
