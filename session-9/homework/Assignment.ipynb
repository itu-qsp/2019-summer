{
 "cells": [
  {
   "cell_type": "markdown",
   "metadata": {},
   "source": [
    "The assignment for this week is simply the test that was given to the students august last year. In the `augusttest.zip` file you will find a complete copy of what was given to the students.\n",
    "\n",
    "We suggest the following:\n",
    "\n",
    "0. Work alone, not in a group\n",
    "1. Set a timer to run for 4 hours exactly\n",
    "2. Download and extract the `augusttest.zip` file to your computer\n",
    "3. Open the `2018-aug-question.pdf` file and **read the instructions carefully**\n",
    "4. Once the 4 hours have gone, stop solving the exercise and hand in what you have\n",
    "\n",
    "Hand-in by zipping the directory `answers-xxxx` into a file `answers-<you_itu_login>.zip` and upload that to LearnIT. Hand-in individually.\n",
    "\n",
    "If you follow our advice you get a realistic picture of what will happen for the test. And the assignment feedback will tell you 1) what you did well, 2) what you can improve on and probably also 3) how much you need to work yet\n",
    "  \n",
    "**Please note** that the test you will get very well may be different. But the type of assignments and the way it is phrased should be pretty similar."
   ]
  }
 ],
 "metadata": {
  "hide_input": false,
  "kernelspec": {
   "display_name": "Python 3",
   "language": "python",
   "name": "python3"
  },
  "language_info": {
   "codemirror_mode": {
    "name": "ipython",
    "version": 3
   },
   "file_extension": ".py",
   "mimetype": "text/x-python",
   "name": "python",
   "nbconvert_exporter": "python",
   "pygments_lexer": "ipython3",
   "version": "3.7.3"
  }
 },
 "nbformat": 4,
 "nbformat_minor": 2
}
