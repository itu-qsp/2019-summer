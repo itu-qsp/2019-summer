{
 "cells": [
  {
   "cell_type": "markdown",
   "metadata": {
    "slideshow": {
     "slide_type": "slide"
    }
   },
   "source": [
    "# Excourse - History of programming\n"
   ]
  },
  {
   "cell_type": "markdown",
   "metadata": {
    "slideshow": {
     "slide_type": "subslide"
    }
   },
   "source": [
    "## Programs as sequences of statements\n",
    "\n",
    "\n",
    "![](https://3c1703fe8d.site.internapcdn.net/newman/csz/news/800/2016/imagemargare.jpg)\n",
    "\n",
    "When Margaret Hamilton programmed the flight software for NASA's Apollo program, which landed humans on the moon for the first time in the 1960's she wrote programs in a way similar to your programs in the first four sessions of the seminar."
   ]
  },
  {
   "cell_type": "markdown",
   "metadata": {
    "slideshow": {
     "slide_type": "subslide"
    }
   },
   "source": [
    "## Structured programming - Procedural programs\n",
    "\n",
    "When we in session five introduced functions and modules to structure your programs, we jumped to the late 60s/70s where people like Niklaus Wirth published languages like Algol W, Pascal, Modula, etc., which popularized the idea of reusable code in functions (procedures) and modules (units).\n",
    "\n",
    "![](https://upload.wikimedia.org/wikipedia/commons/thumb/d/d0/Niklaus_Wirth_large.jpg/220px-Niklaus_Wirth_large.jpg)"
   ]
  },
  {
   "cell_type": "markdown",
   "metadata": {
    "slideshow": {
     "slide_type": "subslide"
    }
   },
   "source": [
    "## Object-oriented programming\n",
    "\n",
    "Also in the 70s people like Alan Kay were arguing that it would make more sense to organize code according to shared data (properties) and (behavior).\n",
    "\n",
    "![](http://ei.cs.vt.edu/~history/GASCH1.KAY..GIF)\n",
    "\n",
    "This is where we are now, after Friday's lecture. Especially in Denmark it is the predominant programming paradigm. Likely, almost all software that you will meet in your professional lives is written according to this paradigm."
   ]
  },
  {
   "cell_type": "markdown",
   "metadata": {
    "slideshow": {
     "slide_type": "slide"
    }
   },
   "source": [
    "# Applying the object-oriented paradigm\n",
    "\n",
    "  * We saw how to work with cats, foxes and turtles as classes\n",
    "  * But why does object-orientation matter in practice?\n",
    "\n",
    "\n",
    "\n",
    "<!--\n",
    "\n",
    "* The idea of classes and objects can be transferred to many other types of problems\n",
    "  * We are going to work with one type: Excel spreadsheets\n",
    "  -->"
   ]
  },
  {
   "cell_type": "markdown",
   "metadata": {
    "slideshow": {
     "slide_type": "subslide"
    }
   },
   "source": [
    "## You know this, don't you?\n",
    "\n",
    "Describe what you see.\n",
    "\n",
    "![](images/excel.png)"
   ]
  },
  {
   "cell_type": "markdown",
   "metadata": {
    "slideshow": {
     "slide_type": "subslide"
    }
   },
   "source": [
    "## Object-oriented analysis\n",
    "\n",
    "One of the first activities when writing object-oriented code is to identify what we are talking about (entities/classes), how these classes are related, and which behavior (methods) is supported by each of those.\n",
    "![](images/excel_annotated.png)"
   ]
  },
  {
   "cell_type": "markdown",
   "metadata": {
    "slideshow": {
     "slide_type": "subslide"
    }
   },
   "source": [
    "## Object-oriented design\n",
    "\n",
    "If we were to draw an image in a formal language to represent the knowledge of the above annotations, it would likely look similar to the following:\n",
    "\n",
    "![](images/classdiagram.png)\n",
    "\n",
    "This is an UML diagram. We are not going into detail about those but you will very likely meet them in your professional lives."
   ]
  },
  {
   "cell_type": "markdown",
   "metadata": {
    "slideshow": {
     "slide_type": "subslide"
    }
   },
   "source": [
    "## Object-oriented design in Python Code\n",
    "\n",
    "An incomplete implementation of the previous UML diagram in Python code could look like this.\n",
    "\n",
    "```python\n",
    "class Workbook:\n",
    "    def __init__(self):\n",
    "        self.sheetnames = []  # a list of strings\n",
    "        self.worksheets = []  # a list of Worksheet objects\n",
    "    \n",
    "    def create_sheet(self, title=None, index=None):\n",
    "        # ...\n",
    "    \n",
    "    def remove(self, workbook):\n",
    "        # ...\n",
    "\n",
    "class Worksheet:\n",
    "    def __init__(self):\n",
    "        self.title = ''  #  string for sheet name\n",
    "        self.columns = ()  # tuple of cells\n",
    "        self.rows = ()  # tuple of cells\n",
    "    \n",
    "    def cells(self, row, column, value=None):\n",
    "        # ...\n",
    "\n",
    "    def calculate_dimension(self):\n",
    "        # ...        \n",
    "\n",
    "class Cell:\n",
    "    def __init__(self):\n",
    "        self.value = ''  #  string for sheet name\n",
    "        self.coordinate = ''  # string with own coordinate       \n",
    "```"
   ]
  },
  {
   "cell_type": "markdown",
   "metadata": {
    "slideshow": {
     "slide_type": "subslide"
    }
   },
   "source": [
    "## The Application Programming Interface (API)\n",
    "\n",
    "The collection of accessible (callable) methods and properties forms the application programming interface (API).\n",
    "\n",
    "![](images/classdiagram_code.png)\n",
    "\n",
    "In your later careers you will meet colleagues, customers, contractors, etc. that talk about APIs.\n",
    "In this lecture, we will work with `openpyxl`, a Python library that allows you to read and write Microsoft Excel files."
   ]
  },
  {
   "cell_type": "markdown",
   "metadata": {
    "slideshow": {
     "slide_type": "subslide"
    }
   },
   "source": [
    "## Excel Documents\n",
    "\n",
    "An Excel spreadsheet document is called a *workbook*. A single workbook is saved in a file with the `.xlsx` extension. \n",
    "\n",
    "Each workbook can contain multiple sheets -also called *worksheets*. The sheet the user is currently viewing (or last viewed before closing Excel) is called the *active sheet*.\n",
    "\n",
    "Each sheet has *columns* (addressed by letters starting at A) and *rows* (addressed by numbers starting at 1). A box at a particular column and row is called a cell. Each cell can contain a number or text value. The grid of cells with data makes up a sheet."
   ]
  },
  {
   "cell_type": "markdown",
   "metadata": {
    "slideshow": {
     "slide_type": "subslide"
    }
   },
   "source": [
    "### The Copenhagen population dataset\n",
    "\n",
    "We will use a spreadsheet named `befkbhalderstatkode_small.xlsx` stored in the folder of this session. \n",
    "\n",
    "The dataset contains statistics about Copenhagen's population corresponding in 2015."
   ]
  },
  {
   "cell_type": "markdown",
   "metadata": {
    "slideshow": {
     "slide_type": "subslide"
    }
   },
   "source": [
    "### Opening Excel Documents with `openpyxl`\n",
    "\n",
    "* We will work with the document through a library called `openpyxl`. A 'library' is a collection of modules that can make certain things easy for us.\n",
    "\n",
    "* You can start working with `openpyxl` by importing the `openpyxl` module like so:\n",
    "```python\n",
    "import openpyxl\n",
    "```"
   ]
  },
  {
   "cell_type": "markdown",
   "metadata": {
    "slideshow": {
     "slide_type": "fragment"
    }
   },
   "source": [
    "Once you have imported the openpyxl module, you will be able to use the openpyxl `.load_workbook()` function.  You can get a list of all the sheet names in the workbook by calling the `get_sheet_names()` method."
   ]
  },
  {
   "cell_type": "code",
   "execution_count": 2,
   "metadata": {
    "slideshow": {
     "slide_type": "subslide"
    }
   },
   "outputs": [
    {
     "name": "stdout",
     "output_type": "stream",
     "text": [
      "<openpyxl.workbook.workbook.Workbook object at 0x117435a58>\n"
     ]
    }
   ],
   "source": [
    "import openpyxl\n",
    "\n",
    "\n",
    "filename = 'befkbhalderstatkode_small.xlsx'\n",
    "wb = openpyxl.load_workbook(filename)\n",
    "print(wb)"
   ]
  },
  {
   "cell_type": "code",
   "execution_count": 5,
   "metadata": {
    "slideshow": {
     "slide_type": "fragment"
    }
   },
   "outputs": [
    {
     "name": "stdout",
     "output_type": "stream",
     "text": [
      "['Sheet1']\n"
     ]
    }
   ],
   "source": [
    "print(wb.sheetnames)"
   ]
  },
  {
   "cell_type": "markdown",
   "metadata": {
    "slideshow": {
     "slide_type": "subslide"
    }
   },
   "source": [
    "The `openpyxl.load_workbook()` function takes in the filename and returns a value of the workbook data type. \n",
    "\n",
    "* This Workbook object represents the Excel file, a bit like how a File object represents an opened text file.\n",
    "\n",
    "* Remember that `befkbhalderstatkode_small.xlsx` needs to be in the current working directory in order for you to work with it."
   ]
  },
  {
   "cell_type": "markdown",
   "metadata": {
    "slideshow": {
     "slide_type": "subslide"
    }
   },
   "source": [
    "## How to learn about the API of a new library like `openpyxl`?\n",
    "\n",
    "* New libraries have tons of new features, including\n",
    "  * Variables (like `string.ascii_letters`)\n",
    "  * Functions (like `os.path.isfile`)\n",
    "  * Classes (like `openpyxl.workbook.workbook.Workbook`)\n",
    "  \n",
    "* How do you know what variables, functions and classes are in there?!"
   ]
  },
  {
   "cell_type": "markdown",
   "metadata": {
    "slideshow": {
     "slide_type": "fragment"
    }
   },
   "source": [
    "* You go to the documentation:\n",
    "  - https://lmddgtfy.net/?q=openpyxl"
   ]
  },
  {
   "cell_type": "markdown",
   "metadata": {
    "slideshow": {
     "slide_type": "subslide"
    }
   },
   "source": [
    "### Getting Sheets from the Workbook\n",
    "\n",
    "* Each sheet is represented by a Worksheet object, which you can obtain by passing the sheet name string to the `get_sheet_by_name()` workbook method. \n",
    "* You can call the `get_active_sheet()` method of a Workbook object to get the workbook’s active sheet. The active sheet is the sheet that’s on top when the workbook is opened in Excel. Once you have the Worksheet object, you can get its name from the title attribute."
   ]
  },
  {
   "cell_type": "code",
   "execution_count": 2,
   "metadata": {
    "slideshow": {
     "slide_type": "subslide"
    }
   },
   "outputs": [
    {
     "name": "stdout",
     "output_type": "stream",
     "text": [
      "Sheet1\n",
      "<Worksheet \"Sheet1\">\n"
     ]
    }
   ],
   "source": [
    "import openpyxl\n",
    "\n",
    "\n",
    "filename = 'befkbhalderstatkode_small.xlsx'\n",
    "wb = openpyxl.load_workbook(filename)\n",
    "\n",
    "sheet = wb['Sheet1']\n",
    "print(sheet.title)\n",
    "print(wb.active)"
   ]
  },
  {
   "cell_type": "markdown",
   "metadata": {
    "slideshow": {
     "slide_type": "subslide"
    }
   },
   "source": [
    "### Getting Cells from the Sheets\n",
    "\n",
    "Once you have a Worksheet object, you can access a Cell object by its name.\n",
    "\n",
    "The Cell object has a value attribute that contains the value stored in that cell. Cell objects also have *row*, *column*, and *coordinate attributes* that provide location information for the cell."
   ]
  },
  {
   "cell_type": "code",
   "execution_count": 3,
   "metadata": {
    "slideshow": {
     "slide_type": "subslide"
    }
   },
   "outputs": [
    {
     "name": "stdout",
     "output_type": "stream",
     "text": [
      "<Cell 'Sheet1'.B1>\n"
     ]
    }
   ],
   "source": [
    "cell = sheet['B1']\n",
    "print(cell)"
   ]
  },
  {
   "cell_type": "markdown",
   "metadata": {
    "slideshow": {
     "slide_type": "fragment"
    }
   },
   "source": [
    "We can get a 'cell' by accessing the exact cell 'B1' in the spreadsheet.\n",
    "\n",
    "Notice we are not yet printing the contents, just verifying that this is indeed a cell."
   ]
  },
  {
   "cell_type": "code",
   "execution_count": 4,
   "metadata": {
    "slideshow": {
     "slide_type": "fragment"
    }
   },
   "outputs": [
    {
     "name": "stdout",
     "output_type": "stream",
     "text": [
      "(1, 2, 'BYDEL')\n"
     ]
    }
   ],
   "source": [
    "print((cell.row, cell.column, cell.value))"
   ]
  },
  {
   "cell_type": "markdown",
   "metadata": {
    "slideshow": {
     "slide_type": "fragment"
    }
   },
   "source": [
    "The row attribute gives us the integer `1`, the column attribute gives us `B`, and the coordinate attribute gives us 'Sepal width'."
   ]
  },
  {
   "cell_type": "code",
   "execution_count": 5,
   "metadata": {
    "slideshow": {
     "slide_type": "subslide"
    }
   },
   "outputs": [
    {
     "name": "stdout",
     "output_type": "stream",
     "text": [
      "<Cell 'Sheet1'.B1>\n"
     ]
    }
   ],
   "source": [
    "print(sheet.cell(row=1, column=2))"
   ]
  },
  {
   "cell_type": "markdown",
   "metadata": {
    "slideshow": {
     "slide_type": "fragment"
    }
   },
   "source": [
    "This is another way of doing the same. We access row 1 and column 2 ('B')."
   ]
  },
  {
   "cell_type": "code",
   "execution_count": 6,
   "metadata": {
    "slideshow": {
     "slide_type": "subslide"
    }
   },
   "outputs": [
    {
     "name": "stdout",
     "output_type": "stream",
     "text": [
      "True\n"
     ]
    }
   ],
   "source": [
    "print(sheet.cell(row=1, column=2) == cell)"
   ]
  },
  {
   "cell_type": "code",
   "execution_count": 7,
   "metadata": {
    "slideshow": {
     "slide_type": "subslide"
    }
   },
   "outputs": [
    {
     "name": "stdout",
     "output_type": "stream",
     "text": [
      "BYDEL\n",
      "BYDEL\n",
      "BYDEL\n"
     ]
    }
   ],
   "source": [
    "print(sheet.cell(row=1, column=2).value)\n",
    "print(sheet['B1'].value)\n",
    "print(cell.value)"
   ]
  },
  {
   "cell_type": "markdown",
   "metadata": {
    "slideshow": {
     "slide_type": "fragment"
    }
   },
   "source": [
    "Here, accessing the value attribute of our Cell object for cell `B1` gives us the string 'BYDEL', i.e., neighbourhood."
   ]
  },
  {
   "cell_type": "markdown",
   "metadata": {
    "slideshow": {
     "slide_type": "subslide"
    }
   },
   "source": [
    "OpenPyXL will automatically interpret the values in cells and return them as as values of the correct type rather than strings. "
   ]
  },
  {
   "cell_type": "markdown",
   "metadata": {
    "slideshow": {
     "slide_type": "subslide"
    }
   },
   "source": [
    "## Exercise!\n",
    "\n",
    "1. Open the Befolknings data \n",
    "  * ```python\n",
    "openpyxl.load_workbook(filename)\n",
    "    ```\n",
    "2. Store the sheet object in a variable\n",
    "  *  Remember you can get a sheet by doing: \n",
    "  ```python\n",
    "workbook[\"Sheet1\"]\n",
    "```\n",
    "  * What is type of the variable?\n",
    "\n",
    "3. Using the `[]` notation of the sheet, get the cell `C3`\n",
    "\n",
    "4. Can you use the range-notation `:` from lists to get the cells from `A1` to `C3`?"
   ]
  },
  {
   "cell_type": "markdown",
   "metadata": {
    "slideshow": {
     "slide_type": "subslide"
    }
   },
   "source": [
    "### Getting Rows and Columns from the Sheets\n",
    "\n",
    "You can slice Worksheet objects to get all the Cell objects in a row, column, or rectangular area of the spreadsheet. Then you can loop over all the cells in the slice."
   ]
  },
  {
   "cell_type": "code",
   "execution_count": 10,
   "metadata": {
    "slideshow": {
     "slide_type": "-"
    }
   },
   "outputs": [
    {
     "data": {
      "text/plain": [
       "<Cell 'Sheet1'.A4>"
      ]
     },
     "execution_count": 10,
     "metadata": {},
     "output_type": "execute_result"
    }
   ],
   "source": [
    "sheet['A1':'D4'][3][0]"
   ]
  },
  {
   "cell_type": "markdown",
   "metadata": {
    "slideshow": {
     "slide_type": "fragment"
    }
   },
   "source": [
    "```python\n",
    "sheet['A1':'D4']\n",
    "```\n",
    "Here, we specify that we want the Cell objects in the rectangular area from A1 to D4.\n",
    "\n",
    "This tuple contains four tuples: one for each row, from the top of the desired area to the bottom. "
   ]
  },
  {
   "cell_type": "markdown",
   "metadata": {
    "slideshow": {
     "slide_type": "subslide"
    }
   },
   "source": [
    "## Printing cells within rows\n",
    "\n",
    "To print the values of each cell in the area, we use two `for` loops. The outer for loop goes over each row in the slice. Then, for each row, the nested for loop goes through each cell in that row."
   ]
  },
  {
   "cell_type": "code",
   "execution_count": 11,
   "metadata": {
    "slideshow": {
     "slide_type": "subslide"
    }
   },
   "outputs": [
    {
     "name": "stdout",
     "output_type": "stream",
     "text": [
      "A1 AAR\n",
      "B1 BYDEL\n",
      "C1 ALDER\n",
      "D1 STATKODE\n",
      "---------\n",
      "A2 2015\n",
      "B2 1\n",
      "C2 0\n",
      "D2 5100\n",
      "---------\n",
      "A3 2015\n",
      "B3 1\n",
      "C3 0\n",
      "D3 5104\n",
      "---------\n",
      "A4 2015\n",
      "B4 1\n",
      "C4 0\n",
      "D4 5106\n",
      "---------\n"
     ]
    }
   ],
   "source": [
    "for row_of_cell_objects in sheet['A1':'D4']:\n",
    "    for cell_obj in row_of_cell_objects:\n",
    "        print(cell_obj.coordinate, cell_obj.value)\n",
    "    print('---------')"
   ]
  },
  {
   "cell_type": "markdown",
   "metadata": {
    "slideshow": {
     "slide_type": "subslide"
    }
   },
   "source": [
    "### Getting an entire column via its position in a list"
   ]
  },
  {
   "cell_type": "code",
   "execution_count": null,
   "metadata": {
    "slideshow": {
     "slide_type": "fragment"
    }
   },
   "outputs": [],
   "source": [
    "for cellObj in list(sheet.columns)[2]:\n",
    "    print(cellObj.value)"
   ]
  },
  {
   "cell_type": "markdown",
   "metadata": {
    "slideshow": {
     "slide_type": "subslide"
    }
   },
   "source": [
    "#### Converting Between Column Letters and Numbers\n",
    "\n",
    "To convert from letters to numbers, call the `openpyxl.utils.column_index_from _string()` function. To convert from numbers to letters, call the `openpyxl.utils.get_column_letter()` function."
   ]
  },
  {
   "cell_type": "code",
   "execution_count": 14,
   "metadata": {
    "slideshow": {
     "slide_type": "subslide"
    }
   },
   "outputs": [
    {
     "name": "stdout",
     "output_type": "stream",
     "text": [
      "['AAR', 'BYDEL', 'ALDER', 'STATKODE', 'PERSONER']\n"
     ]
    }
   ],
   "source": [
    "columns = ['A', 'B', 'C', 'D', 'E']\n",
    "\n",
    "header = []\n",
    "for column_name in columns:\n",
    "    idx = column_name + '1'\n",
    "    header.append(sheet[idx].value)\n",
    "\n",
    "print(header)"
   ]
  },
  {
   "cell_type": "code",
   "execution_count": null,
   "metadata": {
    "slideshow": {
     "slide_type": "subslide"
    }
   },
   "outputs": [],
   "source": [
    "import openpyxl.utils as exutil\n",
    "\n",
    "\n",
    "columns = ['A', 'B', 'C', 'D', 'E']\n",
    "\n",
    "col_values = []\n",
    "for column_name in columns:\n",
    "    col_idx = exutil.column_index_from_string(column_name) - 1\n",
    "    column = []\n",
    "    for cell in list(sheet.columns)[col_idx][1:]:\n",
    "        column.append(cell.value)\n",
    "    \n",
    "    col_values.append(column)\n",
    "    \n",
    "print(col_values)"
   ]
  },
  {
   "cell_type": "markdown",
   "metadata": {
    "slideshow": {
     "slide_type": "skip"
    }
   },
   "source": [
    "# Exercise!!!\n",
    "\n",
    "\n",
    "  * Write a program `report_all_nationalities.py`, which prints from which countries citicens lived in Copenhagen in 2015.\n",
    "    - Let your program read data from the Excel file `befkbhalderstatkode_small.xlsx`.\n",
    "    - _Hint:_ Remember that you can read an Excel sheet as in the following:\n",
    "    ```python\n",
    "    filename = 'befkbhalderstatkode_small.xlsx'\n",
    "    wb = openpyxl.load_workbook(filename)\n",
    "    sheet = wb.get_sheet_by_name(\"Sheet1\")\n",
    "    wb.get_active_sheet()\n",
    "```\n",
    "    - _Hint:_ Use a `for` loop iterating over each row in the spreadsheet.\n",
    "    - _Hint:_ the value of the element in the fourth cell of the row contains the country code.\n",
    "    - _Hint:_ Make use of the module `stats_code.py`, which contains a variable with a dictionary `COUNTRY_CODES`. That is, after importing the module, you can lookup the description of a country code via something like the following, which should print `'Belgien'`:\n",
    "    ```python\n",
    "belgien_code = stat_codes.COUNTRY_CODES['5126']\n",
    "print(belgien_code)\n",
    "```\n",
    "  "
   ]
  },
  {
   "cell_type": "markdown",
   "metadata": {
    "slideshow": {
     "slide_type": "skip"
    }
   },
   "source": [
    "  * Write a small CLI program that counts how many people from a certain nation lived in Copenhagen in 2015.\n",
    "    - Call your program `count_nationalities.py`\n",
    "    - Let it read data from the Excel file `befkbhalderstatkode_small.xlsx`\n",
    "    - Let it consume an argument from the command-line, which says which nationality you want to count. For example, running `count_nationalities.py` with the CLI argument `5126` -the country code for Belgien- should print `273`:\n",
    "    ```bash\n",
    "$ python count_nationalities.py 5126\n",
    "273\n",
    "```\n",
    "    - _Hint:_ Use a `for` loop iterating over each row in the spreadsheet.\n",
    "    - _Hint:_ When the value of the element in first cell of the row is `2015` and the value of the fourth cell of the row is the given country code then you want to use the value of the last cell of the row for counting."
   ]
  },
  {
   "cell_type": "markdown",
   "metadata": {
    "slideshow": {
     "slide_type": "fragment"
    }
   },
   "source": [
    "In case you are interested, the Economist published an article about Python recently, saying amongst others that some companies that use Excel extensively now started training their staff in programming Python.\n",
    "\n",
    "\"Python has brought computer programming to a vast new audience\" https://www.economist.com/science-and-technology/2018/07/21/python-has-brought-computer-programming-to-a-vast-new-audience"
   ]
  }
 ],
 "metadata": {
  "celltoolbar": "Slideshow",
  "kernelspec": {
   "display_name": "Python 3",
   "language": "python",
   "name": "python3"
  },
  "language_info": {
   "codemirror_mode": {
    "name": "ipython",
    "version": 3
   },
   "file_extension": ".py",
   "mimetype": "text/x-python",
   "name": "python",
   "nbconvert_exporter": "python",
   "pygments_lexer": "ipython3",
   "version": "3.7.3"
  }
 },
 "nbformat": 4,
 "nbformat_minor": 2
}
