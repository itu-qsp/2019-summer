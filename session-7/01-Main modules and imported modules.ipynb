{
 "cells": [
  {
   "cell_type": "markdown",
   "metadata": {
    "slideshow": {
     "slide_type": "subslide"
    }
   },
   "source": [
    "## Modules are Files\n",
    "\n",
    "Modules are actually just plain text files with a `.py` ending. So if you write:\n",
    "\n",
    "```python\n",
    "import string\n",
    "```\n",
    "\n",
    "you actually tell the Python interpreter to fetch the `string.py` file.\n",
    "\n",
    "Let's have a closer look at that!\n",
    "\n",
    "Do not worry about not understanding this."
   ]
  },
  {
   "cell_type": "markdown",
   "metadata": {
    "slideshow": {
     "slide_type": "subslide"
    }
   },
   "source": [
    "All modules that are executed by the Python interpreter get assigned two _magic_ variables. `__name__`, the name of the module and `__file__` the absolute path of that file.\n",
    "\n",
    "You already know these two variables from the debugger in mu-editor."
   ]
  },
  {
   "cell_type": "code",
   "execution_count": 2,
   "metadata": {
    "slideshow": {
     "slide_type": "fragment"
    }
   },
   "outputs": [
    {
     "name": "stdout",
     "output_type": "stream",
     "text": [
      "/usr/local/anaconda3/lib/python3.7/string.py\n",
      "string\n"
     ]
    }
   ],
   "source": [
    "import string\n",
    "\n",
    "\n",
    "print(string.__file__)\n",
    "print(string.__name__)"
   ]
  },
  {
   "cell_type": "markdown",
   "metadata": {
    "slideshow": {
     "slide_type": "subslide"
    }
   },
   "source": [
    "## Let's try that ourselves!\n",
    "\n",
    "  * Create a new file `global_warming.py`\n",
    "  * In the file, put these four lines of code:\n",
    "\n",
    "```python\n",
    "def global_warming_status():\n",
    "      return 'The globe is heating up!'\n",
    "\n",
    "    \n",
    "status = global_warming_status()\n",
    "print(status)\n",
    "```\n",
    "\n",
    "* What is the code doing?\n",
    "\n"
   ]
  },
  {
   "cell_type": "markdown",
   "metadata": {
    "slideshow": {
     "slide_type": "fragment"
    }
   },
   "source": [
    "* Save the file and run it on the terminal via: `python global_warming.py`"
   ]
  },
  {
   "cell_type": "markdown",
   "metadata": {
    "slideshow": {
     "slide_type": "subslide"
    }
   },
   "source": [
    "## If modules are text files, we can import them!\n",
    "\n",
    "* Create a new file called `united_nations.py` with the following code:\n",
    "\n",
    "```python\n",
    "import global_warming\n",
    "\n",
    "\n",
    "status = global_warming.global_warming_status()\n",
    "print('UN expert panel says: ' + status)\n",
    "```\n",
    "* What do you think will happen when you run it?"
   ]
  },
  {
   "cell_type": "markdown",
   "metadata": {
    "slideshow": {
     "slide_type": "subslide"
    }
   },
   "source": [
    "* Run `united_nations.py` either in Mu or in the terminal.\n",
    "  * Did you get the expected result?"
   ]
  },
  {
   "cell_type": "markdown",
   "metadata": {
    "slideshow": {
     "slide_type": "subslide"
    }
   },
   "source": [
    "## Python Main Modules vs. Imported Modules\n",
    "\n",
    "* Python modules that you run with `python <file_name>.py` are considered **main** modules\n",
    "  - That is, the file we *actually* want to run\n",
    "* All other files are modules, and should not execute anything until we ask them to do so."
   ]
  },
  {
   "cell_type": "markdown",
   "metadata": {
    "slideshow": {
     "slide_type": "fragment"
    }
   },
   "source": [
    "* In your `united_nations.py` file, add the line `print(__file__, __name__)`\n",
    "  - Run the file again. What happens?"
   ]
  },
  {
   "cell_type": "markdown",
   "metadata": {
    "slideshow": {
     "slide_type": "fragment"
    }
   },
   "source": [
    "* In your `global_warming.py` file, add the line `print(__file__, __name__)`\n",
    "  - First run the `global_warming.py` file. What happens?\n",
    "  - Then run the `united_nations.py` file. What happens?"
   ]
  },
  {
   "cell_type": "markdown",
   "metadata": {
    "slideshow": {
     "slide_type": "subslide"
    }
   },
   "source": [
    "Ok, so `__name__` is either the string `'__main__'` if it is the *first* file to be run, or the actual name of the file (without extension) otherwise.\n",
    "\n",
    "\n",
    "We can use that to avoid running code in `global_warming.py`, *unless* we use it as the main file?"
   ]
  },
  {
   "cell_type": "code",
   "execution_count": null,
   "metadata": {
    "slideshow": {
     "slide_type": "subslide"
    }
   },
   "outputs": [],
   "source": [
    "def global_warming_status():\n",
    "    return 'The globe is heating up!'\n",
    "\n",
    "\n",
    "if __name__ == '__main__':\n",
    "    status = global_warming_status()\n",
    "    print(status)\n",
    "    print(__file__, __name__)"
   ]
  }
 ],
 "metadata": {
  "celltoolbar": "Slideshow",
  "kernelspec": {
   "display_name": "Python 3",
   "language": "python",
   "name": "python3"
  },
  "language_info": {
   "codemirror_mode": {
    "name": "ipython",
    "version": 3
   },
   "file_extension": ".py",
   "mimetype": "text/x-python",
   "name": "python",
   "nbconvert_exporter": "python",
   "pygments_lexer": "ipython3",
   "version": "3.7.3"
  }
 },
 "nbformat": 4,
 "nbformat_minor": 2
}
