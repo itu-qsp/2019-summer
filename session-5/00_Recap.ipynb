{
 "cells": [
  {
   "cell_type": "markdown",
   "metadata": {
    "slideshow": {
     "slide_type": "slide"
    }
   },
   "source": [
    "# Good Morning!\n",
    "\n",
    "![](https://media1.tenor.com/images/c29b786e70f5ad60674d00cd4733e81d/tenor.gif?itemid=7270909)"
   ]
  },
  {
   "cell_type": "markdown",
   "metadata": {
    "slideshow": {
     "slide_type": "slide"
    }
   },
   "source": [
    "# How are you?"
   ]
  },
  {
   "cell_type": "markdown",
   "metadata": {
    "slideshow": {
     "slide_type": "subslide"
    }
   },
   "source": [
    "I will skip this now as we will have an evaluation before lunch where we try to collect feedback on that :)"
   ]
  },
  {
   "cell_type": "markdown",
   "metadata": {
    "slideshow": {
     "slide_type": "subslide"
    }
   },
   "source": [
    "# I need help! I do not understand a certain function...\n",
    "\n"
   ]
  },
  {
   "cell_type": "markdown",
   "metadata": {
    "slideshow": {
     "slide_type": "subslide"
    }
   },
   "source": [
    "## Option A - The Official Documentation\n",
    "\n",
    "For your workshops/homework, you might want to search in the official manual: https://docs.python.org/3/\n",
    "It is the authoritative source of information. **Drawback**, you cannot use it during the test as you cannot connect to the internet during the test.\n",
    "\n",
    "For example: _\"I do not understand why the find method returns -1 for the following code:\"_\n",
    "\n",
    "```python\n",
    "'Waldo is not here'.find('waldo')\n",
    "```"
   ]
  },
  {
   "cell_type": "code",
   "execution_count": 1,
   "metadata": {
    "hide_input": true,
    "slideshow": {
     "slide_type": "-"
    }
   },
   "outputs": [
    {
     "data": {
      "text/html": [
       "\n",
       "        <iframe\n",
       "            width=\"100%\"\n",
       "            height=\"60%\"\n",
       "            src=\"https://docs.python.org/3/library/stdtypes.html?highlight=find#str.find\"\n",
       "            frameborder=\"0\"\n",
       "            allowfullscreen\n",
       "        ></iframe>\n",
       "        "
      ],
      "text/plain": [
       "<IPython.lib.display.IFrame at 0x7f9844decba8>"
      ]
     },
     "execution_count": 1,
     "metadata": {},
     "output_type": "execute_result"
    }
   ],
   "source": [
    "from IPython.display import IFrame\n",
    "\n",
    "doc_url = 'https://docs.python.org/3/library/stdtypes.html?highlight=find#str.find'\n",
    "IFrame(src=doc_url, width='100%', height='60%')"
   ]
  },
  {
   "cell_type": "markdown",
   "metadata": {
    "slideshow": {
     "slide_type": "subslide"
    }
   },
   "source": [
    "## Option B - The inbuilt help system\n",
    "\n",
    "\n",
    "For example: \"I do not understand why the find method returns -1 for the following code:\"\n",
    "\n",
    "```python\n",
    "'Waldo is not here'.find('waldo')\n",
    "```\n",
    "\n",
    "The write a small program with a single line saying:"
   ]
  },
  {
   "cell_type": "code",
   "execution_count": 9,
   "metadata": {},
   "outputs": [
    {
     "name": "stdout",
     "output_type": "stream",
     "text": [
      "Help on built-in function find:\n",
      "\n",
      "find(...) method of builtins.str instance\n",
      "    S.find(sub[, start[, end]]) -> int\n",
      "    \n",
      "    Return the lowest index in S where substring sub is found,\n",
      "    such that sub is contained within S[start:end].  Optional\n",
      "    arguments start and end are interpreted as in slice notation.\n",
      "    \n",
      "    Return -1 on failure.\n",
      "\n",
      "None\n"
     ]
    }
   ],
   "source": [
    "print(help('Waldo is not here'.find))"
   ]
  },
  {
   "cell_type": "markdown",
   "metadata": {},
   "source": [
    "  * **Advantage**, you can use this during the test as everything is stored on your computer. \n",
    "  * **Drawback**, you have to type a bit more and you have to remember to not type any parenthesis for the function for which you need help."
   ]
  },
  {
   "cell_type": "markdown",
   "metadata": {
    "slideshow": {
     "slide_type": "subslide"
    }
   },
   "source": [
    "## Practical Tip from Morten!\n",
    "\n",
    "Keep a file `doodle.py` open in your Mu editor, in which you type in these help queries and in which you can experiment with small fragments of code."
   ]
  },
  {
   "cell_type": "markdown",
   "metadata": {
    "slideshow": {
     "slide_type": "slide"
    }
   },
   "source": [
    "# I need more small exercise to recap what I learned\n",
    "\n",
    "Nice, that sounds like a good idea.\n",
    "\n",
    "The book https://automatetheboringstuff.com contains a lot of exercises in the end of every chapter. From last year's students we know that they liked those!"
   ]
  },
  {
   "cell_type": "code",
   "execution_count": 16,
   "metadata": {
    "hide_input": true
   },
   "outputs": [
    {
     "data": {
      "text/html": [
       "\n",
       "        <iframe\n",
       "            width=\"100%\"\n",
       "            height=\"500\"\n",
       "            src=\"https://automatetheboringstuff.com/chapter4/\"\n",
       "            frameborder=\"0\"\n",
       "            allowfullscreen\n",
       "        ></iframe>\n",
       "        "
      ],
      "text/plain": [
       "<IPython.lib.display.IFrame at 0x1074552e8>"
      ]
     },
     "execution_count": 16,
     "metadata": {},
     "output_type": "execute_result"
    }
   ],
   "source": [
    "from IPython.display import IFrame\n",
    "\n",
    "doc_url = 'https://automatetheboringstuff.com/chapter4/'\n",
    "IFrame(src=doc_url, width='100%', height=500)"
   ]
  },
  {
   "cell_type": "markdown",
   "metadata": {
    "slideshow": {
     "slide_type": "subslide"
    }
   },
   "source": [
    "# Keep up the good work!\n",
    "\n",
    "Unfortunately, with the setup of the seminar, there is not really time to have a longer mental break.\n",
    "\n",
    "But after today's session we are halfway through the contents of the seminar and done with all the Python basics.\n",
    "\n",
    "In essence, after today you know everything to be a programmer!"
   ]
  },
  {
   "cell_type": "markdown",
   "metadata": {
    "slideshow": {
     "slide_type": "slide"
    }
   },
   "source": [
    "# What did you learn so far?"
   ]
  },
  {
   "cell_type": "markdown",
   "metadata": {
    "slideshow": {
     "slide_type": "subslide"
    }
   },
   "source": [
    "## Variables as \"vaults\"\n",
    "\n",
    "```python\n",
    "my_variable = 100\n",
    "```\n",
    "\n",
    "... later ...\n",
    "```python\n",
    "print(my_variable)\n",
    "```"
   ]
  },
  {
   "cell_type": "markdown",
   "metadata": {
    "slideshow": {
     "slide_type": "subslide"
    }
   },
   "source": [
    "## Conditionals as control logic\n",
    "\n",
    "```python\n",
    "if age < 18:\n",
    "    print('You cannot buy cigarettes!')\n",
    "else:\n",
    "    print('You may smoke.')\n",
    "```"
   ]
  },
  {
   "cell_type": "markdown",
   "metadata": {
    "slideshow": {
     "slide_type": "subslide"
    }
   },
   "source": [
    "## Lists\n",
    "\n",
    "```python\n",
    "numbers = [1, 2, 3, 5, 8]\n",
    "print(numbers[0])\n",
    "```"
   ]
  },
  {
   "cell_type": "markdown",
   "metadata": {
    "slideshow": {
     "slide_type": "subslide"
    }
   },
   "source": [
    "## Loops\n",
    "\n",
    "`for` loops and `while` loops\n",
    "\n",
    "They can express the same. Remember Morten's slide!: This:"
   ]
  },
  {
   "cell_type": "code",
   "execution_count": null,
   "metadata": {
    "slideshow": {
     "slide_type": "fragment"
    }
   },
   "outputs": [],
   "source": [
    "my_list = [1, 'elephant', 4, 'rats']\n",
    "\n",
    "index = 0\n",
    "while index < len(my_list):\n",
    "    element = my_list[index]\n",
    "    print(element)\n",
    "    index += 1"
   ]
  },
  {
   "cell_type": "markdown",
   "metadata": {
    "slideshow": {
     "slide_type": "fragment"
    }
   },
   "source": [
    "is the same as \n"
   ]
  },
  {
   "cell_type": "code",
   "execution_count": null,
   "metadata": {
    "slideshow": {
     "slide_type": "fragment"
    }
   },
   "outputs": [],
   "source": [
    "my_list = [1, 'elephant', 4, 'rats']\n",
    "\n",
    "for element in my_list:\n",
    "    print(element)"
   ]
  },
  {
   "cell_type": "markdown",
   "metadata": {
    "slideshow": {
     "slide_type": "subslide"
    }
   },
   "source": [
    "# `len(my_list) != last_index`\n",
    "\n",
    "Remember, the length of a list is always one bigger than its last index number!\n",
    "\n",
    "That is, what will the following program do?"
   ]
  },
  {
   "cell_type": "code",
   "execution_count": 2,
   "metadata": {
    "slideshow": {
     "slide_type": "fragment"
    }
   },
   "outputs": [
    {
     "ename": "IndexError",
     "evalue": "list index out of range",
     "output_type": "error",
     "traceback": [
      "\u001b[0;31m---------------------------------------------------------------------------\u001b[0m",
      "\u001b[0;31mIndexError\u001b[0m                                Traceback (most recent call last)",
      "\u001b[0;32m<ipython-input-2-dc219e102709>\u001b[0m in \u001b[0;36m<module>\u001b[0;34m\u001b[0m\n\u001b[1;32m      2\u001b[0m \u001b[0;34m\u001b[0m\u001b[0m\n\u001b[1;32m      3\u001b[0m \u001b[0mlength\u001b[0m \u001b[0;34m=\u001b[0m \u001b[0mlen\u001b[0m\u001b[0;34m(\u001b[0m\u001b[0mmy_list\u001b[0m\u001b[0;34m)\u001b[0m\u001b[0;34m\u001b[0m\u001b[0;34m\u001b[0m\u001b[0m\n\u001b[0;32m----> 4\u001b[0;31m \u001b[0mlast_element\u001b[0m \u001b[0;34m=\u001b[0m \u001b[0mmy_list\u001b[0m\u001b[0;34m[\u001b[0m\u001b[0mlength\u001b[0m\u001b[0;34m]\u001b[0m\u001b[0;34m\u001b[0m\u001b[0;34m\u001b[0m\u001b[0m\n\u001b[0m\u001b[1;32m      5\u001b[0m \u001b[0mprint\u001b[0m\u001b[0;34m(\u001b[0m\u001b[0mlast_element\u001b[0m\u001b[0;34m)\u001b[0m\u001b[0;34m\u001b[0m\u001b[0;34m\u001b[0m\u001b[0m\n",
      "\u001b[0;31mIndexError\u001b[0m: list index out of range"
     ]
    }
   ],
   "source": [
    "my_list = [1, 'elephant', 4, 'rats']\n",
    "\n",
    "length = len(my_list)\n",
    "last_element = my_list[length]\n",
    "print(last_element)"
   ]
  },
  {
   "cell_type": "markdown",
   "metadata": {
    "slideshow": {
     "slide_type": "fragment"
    }
   },
   "source": [
    "It can be fixed as:"
   ]
  },
  {
   "cell_type": "code",
   "execution_count": null,
   "metadata": {
    "slideshow": {
     "slide_type": "-"
    }
   },
   "outputs": [],
   "source": [
    "my_list = [1, 'elephant', 4, 'rats']\n",
    "\n",
    "length = len(my_list)\n",
    "last_index = length - 1\n",
    "last_element = my_list[last_index]\n",
    "print(last_element)"
   ]
  },
  {
   "cell_type": "markdown",
   "metadata": {
    "slideshow": {
     "slide_type": "slide"
    }
   },
   "source": [
    "# Deconstructing Lists\n",
    "\n",
    "Let's say we have the following list:"
   ]
  },
  {
   "cell_type": "code",
   "execution_count": null,
   "metadata": {},
   "outputs": [],
   "source": [
    "animals = ['elephant', 4500, 'rat', 0.2, 'bat', 0.057]"
   ]
  },
  {
   "cell_type": "markdown",
   "metadata": {
    "slideshow": {
     "slide_type": "fragment"
    }
   },
   "source": [
    "You can deconstruct that to variables like so:"
   ]
  },
  {
   "cell_type": "code",
   "execution_count": null,
   "metadata": {},
   "outputs": [],
   "source": [
    "first_element = animals[0]\n",
    "second_element = animals[1]\n",
    "third_element = animals[2]\n",
    "fourth_element = animals[3]\n",
    "fifth_element = animals[4]\n",
    "sixth_element = animals[5]"
   ]
  },
  {
   "cell_type": "markdown",
   "metadata": {
    "slideshow": {
     "slide_type": "subslide"
    }
   },
   "source": [
    "Do you remember a shorter notation for this?"
   ]
  },
  {
   "cell_type": "code",
   "execution_count": 3,
   "metadata": {
    "slideshow": {
     "slide_type": "-"
    }
   },
   "outputs": [
    {
     "name": "stdout",
     "output_type": "stream",
     "text": [
      "elephant\n",
      "0.057\n"
     ]
    }
   ],
   "source": [
    "animals = ['elephant', 4500, 'rat', 0.2, 'bat', 0.057]\n",
    "\n",
    "first_el, second_el, third_el, fourth_el, fifth_el, sixth_el = animals\n",
    "print(first_el)\n",
    "print(sixth_el)"
   ]
  },
  {
   "cell_type": "markdown",
   "metadata": {},
   "source": [
    "That technique is usually called unpacking in Python and the book calls it the _The Multiple Assignment Trick\n",
    "_"
   ]
  },
  {
   "cell_type": "markdown",
   "metadata": {
    "slideshow": {
     "slide_type": "subslide"
    }
   },
   "source": [
    "## Deconstruction requires the correct length"
   ]
  },
  {
   "cell_type": "code",
   "execution_count": 7,
   "metadata": {},
   "outputs": [],
   "source": [
    "animals = ['elephant', 4500, 'rat', 0.2, 'bat', 0.057]\n",
    "\n",
    "fst_animal, fst_animal_weight = animals"
   ]
  },
  {
   "cell_type": "code",
   "execution_count": null,
   "metadata": {
    "slideshow": {
     "slide_type": "fragment"
    }
   },
   "outputs": [],
   "source": [
    "animals = ['elephant', 4500, 'rat', 0.2, 'bat', 0.057]\n",
    "\n",
    "fst, fst_weight, snd, snd_weight, thrd, thrd_weight = elements"
   ]
  },
  {
   "cell_type": "markdown",
   "metadata": {
    "slideshow": {
     "slide_type": "subslide"
    }
   },
   "source": [
    "## But I do not want all elements when destructuring\n",
    "\n",
    "You can use `_` as a placeholder for data that you are not interested in. \n",
    "\n",
    "You can think of it as an _unnamed_ variable."
   ]
  },
  {
   "cell_type": "code",
   "execution_count": 5,
   "metadata": {},
   "outputs": [
    {
     "name": "stdout",
     "output_type": "stream",
     "text": [
      "elephant\n"
     ]
    }
   ],
   "source": [
    "animals = ['elephant', 4500, 'rat', 0.2, 'bat', 0.057]\n",
    "\n",
    "fst_animal, _, second_animal, _, third_animal, _ = animals\n",
    "print(fst_animal)"
   ]
  }
 ],
 "metadata": {
  "celltoolbar": "Slideshow",
  "kernelspec": {
   "display_name": "Python 3",
   "language": "python",
   "name": "python3"
  },
  "language_info": {
   "codemirror_mode": {
    "name": "ipython",
    "version": 3
   },
   "file_extension": ".py",
   "mimetype": "text/x-python",
   "name": "python",
   "nbconvert_exporter": "python",
   "pygments_lexer": "ipython3",
   "version": "3.7.3"
  }
 },
 "nbformat": 4,
 "nbformat_minor": 2
}
