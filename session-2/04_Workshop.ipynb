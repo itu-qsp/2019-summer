{
 "cells": [
  {
   "cell_type": "markdown",
   "metadata": {},
   "source": [
    "## Workshop\n",
    "\n",
    "1. Go through the slides and make sure you know what these things are:\n",
    "  * Variables\n",
    "  * Data types\n",
    "  * If statements\n",
    "2. Look at the Cookie Dough program from slide `03_Take control!`\n",
    "  * If you didn't implement it, do that now\n",
    "3. Look at the code below\n",
    "  * Fill in the blanks (`_`) of each piece of code, and make it run within Mu\n",
    "  * Following the code are comments that describe what it is supposed to do. Don't copy the comments into Mu"
   ]
  },
  {
   "cell_type": "code",
   "execution_count": null,
   "metadata": {},
   "outputs": [],
   "source": [
    "# Print the text to screen\n",
    "____('hi')"
   ]
  },
  {
   "cell_type": "code",
   "execution_count": null,
   "metadata": {},
   "outputs": [],
   "source": [
    "# Print the product of 3 divided by 5 then multiplied by 4\n",
    "print((3 * 5 / 4_)"
   ]
  },
  {
   "cell_type": "code",
   "execution_count": null,
   "metadata": {},
   "outputs": [],
   "source": [
    "# Convert the input from a string to an integer\n",
    "___(input('Write a number: '))"
   ]
  },
  {
   "cell_type": "code",
   "execution_count": null,
   "metadata": {},
   "outputs": [],
   "source": [
    "# Convert some user input from a string to an integer and save it to the variable x\n",
    "x = ________________"
   ]
  },
  {
   "cell_type": "code",
   "execution_count": null,
   "metadata": {},
   "outputs": [],
   "source": [
    "# Repeat the code above, and print out the variable x. But only if it is bigger than 4\n",
    "# Otherwise, output 'Not large enough'\n",
    "x = ________________\n",
    "if x > 4:\n",
    "    _____\n",
    "else:\n",
    "    _____"
   ]
  },
  {
   "cell_type": "markdown",
   "metadata": {},
   "source": [
    "If you get this far you are ready to move on to the assignment! Look in the homework folder on GitHub."
   ]
  },
  {
   "cell_type": "markdown",
   "metadata": {},
   "source": [
    "4. Money spent on coffee per year\n",
    "\n",
    "How much do you spent for coffee-to-go per year?\n",
    "\n",
    "Write a small Python program, which computes your yearly expenses for coffee-to-go.\n",
    "\n",
    "Very likely it is important for your program that you know\n",
    "\n",
    "  * The price per cup\n",
    "  * How many cups of coffee you buy per week\n",
    "  * How many weeks you do that per year"
   ]
  },
  {
   "cell_type": "markdown",
   "metadata": {},
   "source": [
    "5. Cookie Dough\n",
    "\n",
    "  - Have a look to slide set `01_Your first program.ipynb`, read and implement the cookie dough program from the slide with the headline _\"A cookie dough program\"_\n",
    "  - Now, extend it as described in the bottom of slide set `03_Take control!.ipynb`"
   ]
  }
 ],
 "metadata": {
  "kernelspec": {
   "display_name": "Python 3",
   "language": "python",
   "name": "python3"
  },
  "language_info": {
   "codemirror_mode": {
    "name": "ipython",
    "version": 3
   },
   "file_extension": ".py",
   "mimetype": "text/x-python",
   "name": "python",
   "nbconvert_exporter": "python",
   "pygments_lexer": "ipython3",
   "version": "3.7.1"
  }
 },
 "nbformat": 4,
 "nbformat_minor": 2
}
