{
 "cells": [
  {
   "cell_type": "markdown",
   "metadata": {
    "slideshow": {
     "slide_type": "subslide"
    }
   },
   "source": [
    "## Debugging your code\n",
    "\n",
    "Mu can execute your code in steps. You can do that by pressing the `Debug` button with the Bug icon next to it.\n",
    "\n",
    "![](images/debug.png)\n",
    "\n",
    "Try to type in the following code in Mu and press `Debug`:\n",
    "\n",
    "```python\n",
    "my_variable = 0\n",
    "while True:\n",
    "    my_variable += 1\n",
    "```"
   ]
  },
  {
   "cell_type": "markdown",
   "metadata": {
    "slideshow": {
     "slide_type": "subslide"
    }
   },
   "source": [
    "Notice that a few things happen: You get not just one, but two new windows. You also get a number of new buttons!\n",
    "\n",
    "The window to your right lists all the variables that exists right now.\n",
    "  * `__file__` is the current file that you're running\n",
    "  * `__name__` is the name of the current program"
   ]
  },
  {
   "cell_type": "markdown",
   "metadata": {
    "slideshow": {
     "slide_type": "subslide"
    }
   },
   "source": [
    "The new buttons can help you navigate your code step by step. We'll focus on the `Step Over` button now.\n",
    "\n",
    "Try to press the `Step Over` and see what happens. "
   ]
  },
  {
   "cell_type": "markdown",
   "metadata": {
    "slideshow": {
     "slide_type": "fragment"
    }
   },
   "source": [
    "Press it again and again until you get bored."
   ]
  },
  {
   "cell_type": "markdown",
   "metadata": {
    "slideshow": {
     "slide_type": "subslide"
    }
   },
   "source": [
    "## Breakpoints \n",
    "\n",
    "Find line number 3 (`my_variable += 1`) and click in the grey area to the left of the line.\n",
    "\n",
    "A red dot should appear. This is called a **break point**. \n",
    "\n",
    "Whenever you press the `Continue` button in the debug mode, your program will continue to run, until it reaches the break point."
   ]
  },
  {
   "cell_type": "markdown",
   "metadata": {
    "slideshow": {
     "slide_type": "subslide"
    }
   },
   "source": [
    "![](images/debugger.gif)"
   ]
  },
  {
   "cell_type": "markdown",
   "metadata": {
    "slideshow": {
     "slide_type": "subslide"
    }
   },
   "source": [
    "## Working with the debugger\n",
    "\n",
    "The debugger can help you explain *exactly* what happens, **in your pace**!"
   ]
  },
  {
   "cell_type": "markdown",
   "metadata": {
    "slideshow": {
     "slide_type": "subslide"
    }
   },
   "source": [
    "Let's try to debug this turtle program:\n",
    "\n",
    "```python\n",
    "from turtle import forward, left\n",
    "\n",
    "\n",
    "moves = [100, 10, 100]\n",
    "for move in moves:\n",
    "    forward(move)\n",
    "    left(90)\n",
    "```"
   ]
  }
 ],
 "metadata": {
  "celltoolbar": "Slideshow",
  "kernelspec": {
   "display_name": "Python 3",
   "language": "python",
   "name": "python3"
  },
  "language_info": {
   "codemirror_mode": {
    "name": "ipython",
    "version": 3
   },
   "file_extension": ".py",
   "mimetype": "text/x-python",
   "name": "python",
   "nbconvert_exporter": "python",
   "pygments_lexer": "ipython3",
   "version": "3.7.3"
  }
 },
 "nbformat": 4,
 "nbformat_minor": 2
}
