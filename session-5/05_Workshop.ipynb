{
 "cells": [
  {
   "cell_type": "markdown",
   "metadata": {},
   "source": [
    "![image](http://forums.pixeltailgames.com/uploads/default/original/2X/f/f9c0a82e6ada756bc3f549b6a678e79df2cb5e1a.gif)"
   ]
  },
  {
   "cell_type": "markdown",
   "metadata": {},
   "source": [
    "## Workshop: Functions, modules, sets and dictionaries\n",
    "\n",
    "This workshop will help you understand functions, modules, sets and dictionaries. Luckily you've worked with functions and modules quite a bit already.\n",
    "\n",
    "1. Go through the slides to make sure you understand:\n",
    "  * Functions\n",
    "    * Can you write your own function by heart?\n",
    "    * What are function arguments and how can you use them in your code?\n",
    "  * Modules\n",
    "    * Can you import and use a module? \n",
    "    * What is a module you used before?\n",
    "  * Sets\n",
    "    * Why use sets compared to lists?\n",
    "    * How do you create a set?\n",
    "  * Dictionary\n",
    "    * Why use dictionaries?\n",
    "    * How do you create a dictionary?\n",
    "2. Read the documentation for the `len` function using the `help` function as demonstrated in the recap session.\n",
    "3. Deconstruct the list \n",
    "```python\n",
    "animals = [['elephant', 'rat', 'bat'], [4500, 0.2, 0.057]]\n",
    "```\n",
    "    \n",
    "    into two variables `animals` and `weights` respectively so that `animals` contains the list `['elephant', 'rat', 'bat']` and `weights` contains the list `[4500, 0.2, 0.057]`.\n",
    "4. Given a set `{'Call', 'me', 'Ishmael'}`, can you write one line of code that checks whether the string `'me'` is inside the set (yielding either `True` or `False`)?\n",
    "5. Dictionary exercise\n",
    "  * Create a dictionary with the following key-value pairs:\n",
    "    * `'color'`: `'greyscale'`\n",
    "    * `'size'`: `289983`\n",
    "    * `'type'`: `'jpg'`\n",
    "    * `'address'`: `'https://upload.wikimedia.org/wikipedia/commons/7/7b/Moby_Dick_p510_illustration.jpg'`\n",
    "  * Add the key `source` with the value `'Wikipedia'` to the dictionary \n",
    "  * Loop over all the **items** in the dictionary, and print the key-value pairs separated by the string `' - '`\n",
    "6. Can you turn the following code into a function called `cookie_likeness`? What should the argument be?\n",
    "```python\n",
    "data = input('How much do you like cookie dough?')\n",
    "data = int(data)\n",
    "print('You ' + 'really ' * data + 'like cookie dough')\n",
    "```\n",
    "5. Print out the number of CPU cores in your computer using the `os` module\n",
    "6. Given a list of ingredients (for instance `['Vodka', 'Apple Cider', 'Apple Brandy']`), write a function `print_ingredients` that prints the ingredients separated by a comma (`','`) except for the two last items, that should be separated by an `'and'`. So the above example should show as`Vodka, Apple Cider and Apple Brandy`\n",
    "\n",
    "  * Try it out with the following ingredient lists:\n",
    "    * `['Gin', 'Vermouth', 'Campari', 'Orange peel']`\n",
    "    * `['White port', 'Tonic water']`\n",
    "7. (**Bonus question** - don't spend too much time on this): Create a new function `get_me_a_drink` that takes a list of ingredient lists and randomly selects one of the ingredient lists to be printed. When an ingredient list has been selected, store it in a variable and print it. You can reuse the function you wrote above in part 7. Use the list of ingredient lists below to test your function.\n",
    "  * Hint: We used a function previously in the session that could pick a random element from a list.\n",
    "```python\n",
    "list_of_lists = [\n",
    "       ['Gin', 'Vermouth', 'Campari', 'Orange peel'],\n",
    "       ['White port', 'Tonic water'],\n",
    "       ['Vodka', 'Triple sec', 'Cranberry juice', 'Lime juice'],\n",
    "       ['Vodka', 'Tequila', 'Light rum', 'Triple sec', 'Gin', 'Cola'],\n",
    "       ['Vodka', 'Tomato juice', 'Worcestershire sauce']\n",
    "] \n",
    "```"
   ]
  }
 ],
 "metadata": {
  "kernelspec": {
   "display_name": "Python 3",
   "language": "python",
   "name": "python3"
  },
  "language_info": {
   "codemirror_mode": {
    "name": "ipython",
    "version": 3
   },
   "file_extension": ".py",
   "mimetype": "text/x-python",
   "name": "python",
   "nbconvert_exporter": "python",
   "pygments_lexer": "ipython3",
   "version": "3.7.3"
  }
 },
 "nbformat": 4,
 "nbformat_minor": 2
}
