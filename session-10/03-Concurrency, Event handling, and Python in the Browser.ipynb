{
 "cells": [
  {
   "cell_type": "markdown",
   "metadata": {
    "slideshow": {
     "slide_type": "slide"
    }
   },
   "source": [
    "# Your future studies...\n",
    "\n",
    "You will have courses that make use of the programming language JavaScript. Mostly in relation to web-development and design.\n",
    "\n",
    "JavaScript is usually run in the browser. That is unlike the Python programs that you run directly on your operating system."
   ]
  },
  {
   "cell_type": "code",
   "execution_count": 8,
   "metadata": {
    "slideshow": {
     "slide_type": "subslide"
    }
   },
   "outputs": [
    {
     "data": {
      "text/html": [
       "\n",
       "        <iframe\n",
       "            width=\"320\"\n",
       "            height=\"480\"\n",
       "            src=\"http://itu.dk/people/ropf/flappybird\"\n",
       "            frameborder=\"0\"\n",
       "            allowfullscreen\n",
       "        ></iframe>\n",
       "        "
      ],
      "text/plain": [
       "<IPython.lib.display.IFrame at 0x1091c0cf8>"
      ]
     },
     "execution_count": 8,
     "metadata": {},
     "output_type": "execute_result"
    }
   ],
   "source": [
    "from IPython.display import IFrame\n",
    "\n",
    "\n",
    "url = 'http://itu.dk/people/ropf/flappybird'\n",
    "IFrame(src=url, width='320', height='480')"
   ]
  },
  {
   "cell_type": "markdown",
   "metadata": {
    "slideshow": {
     "slide_type": "subslide"
    }
   },
   "source": [
    "## JavaScript Syntax\n",
    "\n",
    "JavaScript has a syntax that is different to Python's."
   ]
  },
  {
   "cell_type": "markdown",
   "metadata": {
    "slideshow": {
     "slide_type": "fragment"
    }
   },
   "source": [
    "```JavaScript\n",
    "// SELECT CVS\n",
    "const cvs = document.getElementById(\"bird\");\n",
    "const ctx = cvs.getContext(\"2d\");\n",
    "\n",
    "// GAME VARS AND CONSTS\n",
    "let frames = 0;\n",
    "const DEGREE = Math.PI/180;\n",
    "\n",
    "// LOAD SPRITE IMAGE\n",
    "const sprite = new Image();\n",
    "sprite.src = \"img/sprite.png\";\n",
    "\n",
    "// LOAD SOUNDS\n",
    "const SCORE_S = new Audio();\n",
    "SCORE_S.src = \"audio/sfx_point.wav\";\n",
    "\n",
    "const FLAP = new Audio();\n",
    "FLAP.src = \"audio/sfx_flap.wav\";\n",
    "\n",
    "const HIT = new Audio();\n",
    "HIT.src = \"audio/sfx_hit.wav\";\n",
    "\n",
    "const SWOOSHING = new Audio();\n",
    "SWOOSHING.src = \"audio/sfx_swooshing.wav\";\n",
    "\n",
    "const DIE = new Audio();\n",
    "DIE.src = \"audio/sfx_die.wav\";\n",
    "\n",
    "// GAME STATE\n",
    "const state = {\n",
    "    current : 0,\n",
    "    getReady : 0,\n",
    "    game : 1,\n",
    "    over : 2\n",
    "}\n",
    "\n",
    "// START BUTTON COORD\n",
    "const startBtn = {\n",
    "    x : 120,\n",
    "    y : 263,\n",
    "    w : 83,\n",
    "    h : 29\n",
    "}\n",
    "\n",
    "// CONTROL THE GAME\n",
    "cvs.addEventListener(\"click\", function(evt){\n",
    "    switch(state.current){\n",
    "        case state.getReady:\n",
    "            state.current = state.game;\n",
    "            SWOOSHING.play();\n",
    "            break;\n",
    "        case state.game:\n",
    "            if(bird.y - bird.radius <= 0) return;\n",
    "            bird.flap();\n",
    "            FLAP.play();\n",
    "            break;\n",
    "        case state.over:\n",
    "            let rect = cvs.getBoundingClientRect();\n",
    "            let clickX = evt.clientX - rect.left;\n",
    "            let clickY = evt.clientY - rect.top;\n",
    "            \n",
    "            // CHECK IF WE CLICK ON THE START BUTTON\n",
    "            if(clickX >= startBtn.x && clickX <= startBtn.x + startBtn.w && clickY >= startBtn.y && clickY <= startBtn.y + startBtn.h){\n",
    "                pipes.reset();\n",
    "                bird.speedReset();\n",
    "                score.reset();\n",
    "                state.current = state.getReady;\n",
    "            }\n",
    "            break;\n",
    "    }\n",
    "});\n",
    "\n",
    "\n",
    "// BACKGROUND\n",
    "const bg = {\n",
    "    sX : 0,\n",
    "    sY : 0,\n",
    "    w : 275,\n",
    "    h : 226,\n",
    "    x : 0,\n",
    "    y : cvs.height - 226,\n",
    "    \n",
    "    draw : function(){\n",
    "        ctx.drawImage(sprite, this.sX, this.sY, this.w, this.h, this.x, this.y, this.w, this.h);\n",
    "        \n",
    "        ctx.drawImage(sprite, this.sX, this.sY, this.w, this.h, this.x + this.w, this.y, this.w, this.h);\n",
    "    }\n",
    "    \n",
    "}\n",
    "\n",
    "// FOREGROUND\n",
    "const fg = {\n",
    "    sX: 276,\n",
    "    sY: 0,\n",
    "    w: 224,\n",
    "    h: 112,\n",
    "    x: 0,\n",
    "    y: cvs.height - 112,\n",
    "    \n",
    "    dx : 2,\n",
    "    \n",
    "    draw : function(){\n",
    "        ctx.drawImage(sprite, this.sX, this.sY, this.w, this.h, this.x, this.y, this.w, this.h);\n",
    "        \n",
    "        ctx.drawImage(sprite, this.sX, this.sY, this.w, this.h, this.x + this.w, this.y, this.w, this.h);\n",
    "    },\n",
    "    \n",
    "    update: function(){\n",
    "        if(state.current == state.game){\n",
    "            this.x = (this.x - this.dx)%(this.w/2);\n",
    "        }\n",
    "    }\n",
    "}\n",
    "\n",
    "// BIRD\n",
    "const bird = {\n",
    "    animation : [\n",
    "        {sX: 276, sY : 112},\n",
    "        {sX: 276, sY : 139},\n",
    "        {sX: 276, sY : 164},\n",
    "        {sX: 276, sY : 139}\n",
    "    ],\n",
    "    x : 50,\n",
    "    y : 150,\n",
    "    w : 34,\n",
    "    h : 26,\n",
    "    \n",
    "    radius : 12,\n",
    "    \n",
    "    frame : 0,\n",
    "    \n",
    "    gravity : 0.25,\n",
    "    jump : 4.6,\n",
    "    speed : 0,\n",
    "    rotation : 0,\n",
    "    \n",
    "    draw : function(){\n",
    "        let bird = this.animation[this.frame];\n",
    "        \n",
    "        ctx.save();\n",
    "        ctx.translate(this.x, this.y);\n",
    "        ctx.rotate(this.rotation);\n",
    "        ctx.drawImage(sprite, bird.sX, bird.sY, this.w, this.h,- this.w/2, - this.h/2, this.w, this.h);\n",
    "        \n",
    "        ctx.restore();\n",
    "    },\n",
    "    \n",
    "    flap : function(){\n",
    "        this.speed = - this.jump;\n",
    "    },\n",
    "    \n",
    "    update: function(){\n",
    "        // IF THE GAME STATE IS GET READY STATE, THE BIRD MUST FLAP SLOWLY\n",
    "        this.period = state.current == state.getReady ? 10 : 5;\n",
    "        // WE INCREMENT THE FRAME BY 1, EACH PERIOD\n",
    "        this.frame += frames%this.period == 0 ? 1 : 0;\n",
    "        // FRAME GOES FROM 0 To 4, THEN AGAIN TO 0\n",
    "        this.frame = this.frame%this.animation.length;\n",
    "        \n",
    "        if(state.current == state.getReady){\n",
    "            this.y = 150; // RESET POSITION OF THE BIRD AFTER GAME OVER\n",
    "            this.rotation = 0 * DEGREE;\n",
    "        }else{\n",
    "            this.speed += this.gravity;\n",
    "            this.y += this.speed;\n",
    "            \n",
    "            if(this.y + this.h/2 >= cvs.height - fg.h){\n",
    "                this.y = cvs.height - fg.h - this.h/2;\n",
    "                if(state.current == state.game){\n",
    "                    state.current = state.over;\n",
    "                    DIE.play();\n",
    "                }\n",
    "            }\n",
    "            \n",
    "            // IF THE SPEED IS GREATER THAN THE JUMP MEANS THE BIRD IS FALLING DOWN\n",
    "            if(this.speed >= this.jump){\n",
    "                this.rotation = 90 * DEGREE;\n",
    "                this.frame = 1;\n",
    "            }else{\n",
    "                this.rotation = -25 * DEGREE;\n",
    "            }\n",
    "        }\n",
    "        \n",
    "    },\n",
    "    speedReset : function(){\n",
    "        this.speed = 0;\n",
    "    }\n",
    "}\n",
    "\n",
    "// GET READY MESSAGE\n",
    "const getReady = {\n",
    "    sX : 0,\n",
    "    sY : 228,\n",
    "    w : 173,\n",
    "    h : 152,\n",
    "    x : cvs.width/2 - 173/2,\n",
    "    y : 80,\n",
    "    \n",
    "    draw: function(){\n",
    "        if(state.current == state.getReady){\n",
    "            ctx.drawImage(sprite, this.sX, this.sY, this.w, this.h, this.x, this.y, this.w, this.h);\n",
    "        }\n",
    "    }\n",
    "    \n",
    "}\n",
    "\n",
    "// GAME OVER MESSAGE\n",
    "const gameOver = {\n",
    "    sX : 175,\n",
    "    sY : 228,\n",
    "    w : 225,\n",
    "    h : 202,\n",
    "    x : cvs.width/2 - 225/2,\n",
    "    y : 90,\n",
    "    \n",
    "    draw: function(){\n",
    "        if(state.current == state.over){\n",
    "            ctx.drawImage(sprite, this.sX, this.sY, this.w, this.h, this.x, this.y, this.w, this.h);   \n",
    "        }\n",
    "    }\n",
    "    \n",
    "}\n",
    "\n",
    "// PIPES\n",
    "const pipes = {\n",
    "    position : [],\n",
    "    \n",
    "    top : {\n",
    "        sX : 553,\n",
    "        sY : 0\n",
    "    },\n",
    "    bottom:{\n",
    "        sX : 502,\n",
    "        sY : 0\n",
    "    },\n",
    "    \n",
    "    w : 53,\n",
    "    h : 400,\n",
    "    gap : 85,\n",
    "    maxYPos : -150,\n",
    "    dx : 2,\n",
    "    \n",
    "    draw : function(){\n",
    "        for(let i  = 0; i < this.position.length; i++){\n",
    "            let p = this.position[i];\n",
    "            \n",
    "            let topYPos = p.y;\n",
    "            let bottomYPos = p.y + this.h + this.gap;\n",
    "            \n",
    "            // top pipe\n",
    "            ctx.drawImage(sprite, this.top.sX, this.top.sY, this.w, this.h, p.x, topYPos, this.w, this.h);  \n",
    "            \n",
    "            // bottom pipe\n",
    "            ctx.drawImage(sprite, this.bottom.sX, this.bottom.sY, this.w, this.h, p.x, bottomYPos, this.w, this.h);  \n",
    "        }\n",
    "    },\n",
    "    \n",
    "    update: function(){\n",
    "        if(state.current !== state.game) return;\n",
    "        \n",
    "        if(frames%100 == 0){\n",
    "            this.position.push({\n",
    "                x : cvs.width,\n",
    "                y : this.maxYPos * ( Math.random() + 1)\n",
    "            });\n",
    "        }\n",
    "        for(let i = 0; i < this.position.length; i++){\n",
    "            let p = this.position[i];\n",
    "            \n",
    "            let bottomPipeYPos = p.y + this.h + this.gap;\n",
    "            \n",
    "            // COLLISION DETECTION\n",
    "            // TOP PIPE\n",
    "            if(bird.x + bird.radius > p.x && bird.x - bird.radius < p.x + this.w && bird.y + bird.radius > p.y && bird.y - bird.radius < p.y + this.h){\n",
    "                state.current = state.over;\n",
    "                HIT.play();\n",
    "            }\n",
    "            // BOTTOM PIPE\n",
    "            if(bird.x + bird.radius > p.x && bird.x - bird.radius < p.x + this.w && bird.y + bird.radius > bottomPipeYPos && bird.y - bird.radius < bottomPipeYPos + this.h){\n",
    "                state.current = state.over;\n",
    "                HIT.play();\n",
    "            }\n",
    "            \n",
    "            // MOVE THE PIPES TO THE LEFT\n",
    "            p.x -= this.dx;\n",
    "            \n",
    "            // if the pipes go beyond canvas, we delete them from the array\n",
    "            if(p.x + this.w <= 0){\n",
    "                this.position.shift();\n",
    "                score.value += 1;\n",
    "                SCORE_S.play();\n",
    "                score.best = Math.max(score.value, score.best);\n",
    "                localStorage.setItem(\"best\", score.best);\n",
    "            }\n",
    "        }\n",
    "    },\n",
    "    \n",
    "    reset : function(){\n",
    "        this.position = [];\n",
    "    }\n",
    "    \n",
    "}\n",
    "\n",
    "// SCORE\n",
    "const score= {\n",
    "    best : parseInt(localStorage.getItem(\"best\")) || 0,\n",
    "    value : 0,\n",
    "    \n",
    "    draw : function(){\n",
    "        ctx.fillStyle = \"#FFF\";\n",
    "        ctx.strokeStyle = \"#000\";\n",
    "        \n",
    "        if(state.current == state.game){\n",
    "            ctx.lineWidth = 2;\n",
    "            ctx.font = \"35px Teko\";\n",
    "            ctx.fillText(this.value, cvs.width/2, 50);\n",
    "            ctx.strokeText(this.value, cvs.width/2, 50);\n",
    "            \n",
    "        }else if(state.current == state.over){\n",
    "            // SCORE VALUE\n",
    "            ctx.font = \"25px Teko\";\n",
    "            ctx.fillText(this.value, 225, 186);\n",
    "            ctx.strokeText(this.value, 225, 186);\n",
    "            // BEST SCORE\n",
    "            ctx.fillText(this.best, 225, 228);\n",
    "            ctx.strokeText(this.best, 225, 228);\n",
    "        }\n",
    "    },\n",
    "    \n",
    "    reset : function(){\n",
    "        this.value = 0;\n",
    "    }\n",
    "}\n",
    "\n",
    "// DRAW\n",
    "function draw(){\n",
    "    ctx.fillStyle = \"#70c5ce\";\n",
    "    ctx.fillRect(0, 0, cvs.width, cvs.height);\n",
    "    \n",
    "    bg.draw();\n",
    "    pipes.draw();\n",
    "    fg.draw();\n",
    "    bird.draw();\n",
    "    getReady.draw();\n",
    "    gameOver.draw();\n",
    "    score.draw();\n",
    "}\n",
    "\n",
    "// UPDATE\n",
    "function update(){\n",
    "    bird.update();\n",
    "    fg.update();\n",
    "    pipes.update();\n",
    "}\n",
    "\n",
    "// LOOP\n",
    "function loop(){\n",
    "    update();\n",
    "    draw();\n",
    "    frames++;\n",
    "    \n",
    "    requestAnimationFrame(loop);\n",
    "}\n",
    "loop();\n",
    "```\n",
    "\n",
    "The game comes from here: https://github.com/CodeExplainedRepo/Original-Flappy-bird-JavaScript"
   ]
  },
  {
   "cell_type": "markdown",
   "metadata": {
    "slideshow": {
     "slide_type": "subslide"
    }
   },
   "source": [
    "But conceptually, there is nothing really in the language that you do not know from Python yet.\n",
    "\n",
    "Almost, we are addressing the missing pieces today."
   ]
  },
  {
   "cell_type": "markdown",
   "metadata": {
    "slideshow": {
     "slide_type": "subslide"
    }
   },
   "source": [
    "JavaScript is a programming language that is actually -besides the syntactic differences- quite similar to Python.\n",
    "\n",
    "You have:\n",
    "\n",
    "  - basic datatypes, such as integers, floats, strings, lists, dictionaries (hashmaps) etc.\n",
    "  - basic syntactic structures, such as `for`-loops, `while`-loops, `if`-`else` conditionals, etc.\n",
    "  - functions and methods, classes, objects, and modules\n",
    "  - ...\n",
    "\n",
    "\n",
    "That is, when learning JavaScript in the next semesters, you do not have to start learning programming from scratch. Instead, just try to map what you know from Python to how it is written in Python.\n",
    "\n",
    "That is, it will be similar to learning Italian when you know already another Latin language, such as French. "
   ]
  },
  {
   "cell_type": "markdown",
   "metadata": {
    "slideshow": {
     "slide_type": "slide"
    }
   },
   "source": [
    "# Agenda\n",
    "\n",
    "To easen your start with JavaScript in the next semesters, I would like to cover four concepts\n",
    "\n",
    "  * Concurrent programs\n",
    "  * First-class functions\n",
    "  * Event-driven programming\n",
    "  * Web-applications (Python in the Browser)"
   ]
  },
  {
   "cell_type": "markdown",
   "metadata": {
    "slideshow": {
     "slide_type": "slide"
    }
   },
   "source": [
    "## Running Code Concurrently"
   ]
  },
  {
   "cell_type": "code",
   "execution_count": 2,
   "metadata": {
    "slideshow": {
     "slide_type": "subslide"
    }
   },
   "outputs": [],
   "source": [
    "import sys\n",
    "import subprocess\n",
    "from time import sleep\n",
    "\n",
    "\n",
    "def say_something(msg, speak=True):\n",
    "    if speak:\n",
    "        cmd = f\"\"\"osascript -e 'say \"{msg}\"'\"\"\"\n",
    "        subprocess.run(cmd, shell=True)\n",
    "    else:\n",
    "        for letter in msg:\n",
    "            sys.stdout.write(letter)\n",
    "            sys.stdout.flush()\n",
    "            sleep(0.1)\n",
    "        print()  # Finish with a newline"
   ]
  },
  {
   "cell_type": "code",
   "execution_count": 4,
   "metadata": {
    "slideshow": {
     "slide_type": "fragment"
    }
   },
   "outputs": [],
   "source": [
    "msg = 'Hi, how are you?'\n",
    "say_something(msg)"
   ]
  },
  {
   "cell_type": "code",
   "execution_count": 5,
   "metadata": {
    "slideshow": {
     "slide_type": "fragment"
    }
   },
   "outputs": [
    {
     "name": "stdout",
     "output_type": "stream",
     "text": [
      "Hi, how are you?\n"
     ]
    }
   ],
   "source": [
    "say_something(msg, speak=False)"
   ]
  },
  {
   "cell_type": "markdown",
   "metadata": {
    "slideshow": {
     "slide_type": "subslide"
    }
   },
   "source": [
    "### Reflection\n",
    "\n",
    "Running code takes time. The longer your computation in the body of a function the longer this function is running.\n",
    "\n",
    "While one function is running, no other function can be executed. That is, one statement **blocks** the execution of the next statement.\n",
    "\n",
    "That is, all the statements in your program run strictly sequentially, so far:"
   ]
  },
  {
   "cell_type": "code",
   "execution_count": 21,
   "metadata": {},
   "outputs": [],
   "source": [
    "msg1 = 'Good morning! I am just telling you a very very long story!'\n",
    "msg2 = 'Argh, I forgot, I wanted to tell you an even longer story!'\n",
    "\n",
    "say_something(msg1)\n",
    "say_something(msg2)"
   ]
  },
  {
   "cell_type": "markdown",
   "metadata": {
    "slideshow": {
     "slide_type": "subslide"
    }
   },
   "source": [
    "That is not always desired. Sometimes you want to execute code _concurrently_, i.e., at the same time.\n",
    "\n",
    "For example, on your computer you want to listen to Spotify, while programming in Mu-editor, while downloading a book, while your email client is checking for new emails.\n",
    "\n",
    "All these programs run concurrently on your computer and your operating system decides, which program is executed when for a tiny period of time."
   ]
  },
  {
   "cell_type": "code",
   "execution_count": 24,
   "metadata": {
    "slideshow": {
     "slide_type": "fragment"
    }
   },
   "outputs": [],
   "source": [
    "import threading\n",
    "\n",
    "\n",
    "msg1 = 'Good morning! I am just telling you a very very long story!'\n",
    "msg2 = 'Argh, I forgot, I wanted to tell you an even longer story!'\n",
    "\n",
    "\n",
    "background_thread1 = threading.Thread(target=say_something, args=[msg1])\n",
    "background_thread1.start()\n",
    "background_thread2 = threading.Thread(target=say_something, args=[msg2])\n",
    "background_thread2.start()"
   ]
  },
  {
   "cell_type": "markdown",
   "metadata": {
    "slideshow": {
     "slide_type": "subslide"
    }
   },
   "source": [
    "#### Recap: Sequential execution of code"
   ]
  },
  {
   "cell_type": "code",
   "execution_count": 25,
   "metadata": {
    "slideshow": {
     "slide_type": "-"
    }
   },
   "outputs": [
    {
     "name": "stdout",
     "output_type": "stream",
     "text": [
      "Good morning! I am just telling you a very very long story!\n",
      "Argh, I forgot, I wanted to tell you an even longer story!\n"
     ]
    }
   ],
   "source": [
    "msg1 = 'Good morning! I am just telling you a very very long story!'\n",
    "msg2 = 'Argh, I forgot, I wanted to tell you an even longer story!'\n",
    "\n",
    "\n",
    "say_something(msg1, False)\n",
    "say_something(msg2, False)"
   ]
  },
  {
   "cell_type": "markdown",
   "metadata": {
    "slideshow": {
     "slide_type": "subslide"
    }
   },
   "source": [
    "#### Recap: Concurrent execution of code"
   ]
  },
  {
   "cell_type": "code",
   "execution_count": 28,
   "metadata": {
    "slideshow": {
     "slide_type": "-"
    }
   },
   "outputs": [
    {
     "name": "stdout",
     "output_type": "stream",
     "text": [
      "GA lory gooydhuo , u ma Io ar vnnfe iorernyvgg evon!  etlI,r oy aI ngm l weojarnu ngsts tsteodt  rtoetryl!yo!l \n",
      "i\n",
      "tnegll  yyoouu a  avn eervye vn elryo nlgoenrg s tsotroryy!\n",
      "!\n"
     ]
    }
   ],
   "source": [
    "import threading\n",
    "\n",
    "\n",
    "msg1 = 'Good morning! I am just telling you a very very long story!'\n",
    "msg2 = 'Argh, I forgot, I wanted to tell you an even longer story!'\n",
    "\n",
    "\n",
    "background_thread1 = threading.Thread(target=say_something, args=[msg1, False])\n",
    "background_thread1.start()\n",
    "background_thread2 = threading.Thread(target=say_something, args=[msg2, False])\n",
    "background_thread2.start()"
   ]
  },
  {
   "cell_type": "markdown",
   "metadata": {
    "slideshow": {
     "slide_type": "subslide"
    }
   },
   "source": [
    "### Concurrency != Parallelism"
   ]
  },
  {
   "cell_type": "markdown",
   "metadata": {
    "slideshow": {
     "slide_type": "slide"
    }
   },
   "source": [
    "# Btw., what was that? A function name as an argument?"
   ]
  },
  {
   "cell_type": "code",
   "execution_count": null,
   "metadata": {},
   "outputs": [],
   "source": [
    "def say_something(msg, speak=True):\n",
    "    if speak:\n",
    "        cmd = f\"\"\"osascript -e 'say \"{msg}\"'\"\"\"\n",
    "        subprocess.run(cmd, shell=True)\n",
    "    else:\n",
    "        for letter in msg:\n",
    "            sys.stdout.write(letter)\n",
    "            sys.stdout.flush()\n",
    "            sleep(0.1)\n",
    "        print()  # Finish with a newline\n",
    "\n",
    "\n",
    "background_thread1 = threading.Thread(target=say_something, args=[msg1, False])\n",
    "background_thread1.start()"
   ]
  },
  {
   "cell_type": "markdown",
   "metadata": {
    "slideshow": {
     "slide_type": "subslide"
    }
   },
   "source": [
    "### Your Turn!\n",
    "\n",
    "  * Write the following code in Mu-editor.\n",
    "  * Debug it by setting a breakpoint on line six.\n",
    "  * Inspect in the debugger window to the right, which variables are declared.\n",
    "  * What is the value of `say_something` there?\n",
    "  * What is `say_something` there?"
   ]
  },
  {
   "cell_type": "code",
   "execution_count": null,
   "metadata": {},
   "outputs": [],
   "source": [
    "def say_something(msg):\n",
    "    print(msg)\n",
    "    return 'I said: ' + msg\n",
    "\n",
    "\n",
    "say_something(msg)"
   ]
  },
  {
   "cell_type": "markdown",
   "metadata": {
    "slideshow": {
     "slide_type": "subslide"
    }
   },
   "source": [
    "### Your Turn!\n",
    "\n",
    "  * Now, do the same with the following program.\n",
    "  * What is the value of `say_something` there?\n",
    "  * What is `say_something` there?\n",
    "  * What is the value of `another_variable` there?\n",
    "  * What is `another_variable` there?\n",
    "  * What happens when you execute (Step over) line seven?\n",
    "  * What is printed?"
   ]
  },
  {
   "cell_type": "code",
   "execution_count": null,
   "metadata": {},
   "outputs": [],
   "source": [
    "def say_something(msg):\n",
    "    print(msg)\n",
    "    return 'I said: ' + msg\n",
    "\n",
    "\n",
    "another_variable = say_something\n",
    "result = another_variable('Uiuiui!')\n",
    "print(result)"
   ]
  },
  {
   "cell_type": "markdown",
   "metadata": {
    "slideshow": {
     "slide_type": "subslide"
    }
   },
   "source": [
    "### First-class functions\n",
    "\n",
    "In Python as well as in JavaScript, functions are just variables pointing to their implementation. That is, their implementation is their value, which is first executed when the parenthesis appear.\n",
    "\n",
    "[See an example the above example visualized here.](http://pythontutor.com/visualize.html#code=def%20say_something%28msg%29%3A%0A%20%20%20%20print%28msg%29%0A%20%20%20%20return%20'I%20said%3A%20'%20%2B%20msg%0A%0A%0Aanother_variable%20%3D%20say_something%0Aresult%20%3D%20another_variable%28'Uiuiui!'%29%0Aprint%28result%29&cumulative=false&curInstr=1&heapPrimitives=nevernest&mode=display&origin=opt-frontend.js&py=3&rawInputLstJSON=%5B%5D&textReferences=false)"
   ]
  },
  {
   "cell_type": "code",
   "execution_count": null,
   "metadata": {
    "slideshow": {
     "slide_type": "fragment"
    }
   },
   "outputs": [],
   "source": [
    "background_thread1 = threading.Thread(target=say_something, args=[msg1, False])\n",
    "background_thread1.start()"
   ]
  },
  {
   "cell_type": "markdown",
   "metadata": {},
   "source": [
    "However, do not use that to _rename_ your functions! That is a bad coding practice:\n",
    "\n",
    "```python\n",
    "def say_something(msg):\n",
    "    print(msg)\n",
    "    return 'I said: ' + msg\n",
    "\n",
    "\n",
    "another_variable = say_something\n",
    "result = another_variable('Uiuiui!')\n",
    "print(result)\n",
    "```\n",
    "\n",
    "However, we can use this pattern to write programs that react on events, such as user input, time changes, etc."
   ]
  },
  {
   "cell_type": "markdown",
   "metadata": {
    "slideshow": {
     "slide_type": "slide"
    }
   },
   "source": [
    "# Batch programming vs. Event-driven programming\n",
    "\n",
    "\n",
    "Think about how you would write a program in which you want to steer a turtle over the screen with your current knowledge.\n",
    "\n",
    "Very likely, your program would look similar to the code in `turtle_batch.py`, see it below. Run it from the command-line with `python turtle_batch.py`\n"
   ]
  },
  {
   "cell_type": "code",
   "execution_count": null,
   "metadata": {},
   "outputs": [],
   "source": [
    "import sys\n",
    "import turtle\n",
    "\n",
    "\n",
    "turtle.setup(400, 500)\n",
    "window = turtle.Screen()\n",
    "window.title('Handling keypresses!')\n",
    "tess = turtle.Turtle()\n",
    "\n",
    "\n",
    "def move():\n",
    "    tess.forward(30)\n",
    "\n",
    "def turn_left():\n",
    "    tess.left(45)\n",
    "\n",
    "def turn_right():\n",
    "    tess.right(45)\n",
    "\n",
    "def quit():\n",
    "    window.bye()\n",
    "    sys.exit()\n",
    "\n",
    "\n",
    "while True:\n",
    "    command = input('What shall I do? ')\n",
    "    print('Received command: ' + command)\n",
    "    if command == 'm':\n",
    "        move()\n",
    "    elif command == 'l':\n",
    "        turn_left()\n",
    "    elif command == 'r':\n",
    "        turn_right()\n",
    "    elif command == 'q':\n",
    "        quit()\n",
    "    else:\n",
    "        print('Valid commands are `m`, `l`, `r`, `q`...')"
   ]
  },
  {
   "cell_type": "markdown",
   "metadata": {
    "slideshow": {
     "slide_type": "subslide"
    }
   },
   "source": [
    "Using the `input` function here, makes your program block until the user hits the return key on the command line after the corresponding command.\n",
    "\n",
    "This is likely not what you really want or do your computer games or other applications behave like that?"
   ]
  },
  {
   "cell_type": "markdown",
   "metadata": {
    "slideshow": {
     "slide_type": "fragment"
    }
   },
   "source": [
    "Instead you rather like your program to execute the functions `move`, `turn_left`, `turn_right`, and `quit` whenever you hit a desired key."
   ]
  },
  {
   "cell_type": "markdown",
   "metadata": {
    "slideshow": {
     "slide_type": "fragment"
    }
   },
   "source": [
    "Key presses are registered by your operating system, which creates an event for each key press and puts the event on an event-_queue_.\n",
    "\n",
    "You can register your functions so that they are executed whenever a certain event appears on the event-queue.\n",
    "\n",
    "See that for example in `turtle_event_driven.py`."
   ]
  },
  {
   "cell_type": "code",
   "execution_count": null,
   "metadata": {
    "slideshow": {
     "slide_type": "subslide"
    }
   },
   "outputs": [],
   "source": [
    "import sys\n",
    "import turtle\n",
    "\n",
    "\n",
    "turtle.setup(400, 500)\n",
    "window = turtle.Screen()\n",
    "window.title('Handling keypresses!')\n",
    "tess = turtle.Turtle()\n",
    "\n",
    "say_thread = 'I never said anything...'\n",
    "\n",
    "# The next four functions are our 'event handlers'.\n",
    "def go_up():\n",
    "    tess.forward(30)\n",
    "\n",
    "\n",
    "def turn_left():\n",
    "    tess.left(45)\n",
    "\n",
    "\n",
    "def turn_right():\n",
    "    tess.right(45)\n",
    "\n",
    "\n",
    "def quit():\n",
    "    window.bye()  # Close down the turtle window\n",
    "\n",
    "\n",
    "# These lines 'wire up' keypresses to the handlers we've defined.\n",
    "window.onkey(go_up, 'Up')\n",
    "window.onkey(turn_left, 'Left')\n",
    "window.onkey(turn_right, 'Right')\n",
    "window.onkey(quit, 'q')\n",
    "\n",
    "\n",
    "# Now we need to tell the window to start listening for events,\n",
    "# If any of the keys that we're monitoring is pressed, its\n",
    "# handler will be called.\n",
    "window.listen()\n",
    "window.mainloop()"
   ]
  },
  {
   "cell_type": "markdown",
   "metadata": {
    "slideshow": {
     "slide_type": "subslide"
    }
   },
   "source": [
    "There, you connect you functions to certain key events:\n",
    "\n",
    "```python\n",
    "window.onkey(go_up, 'Up')\n",
    "window.onkey(turn_left, 'Left')\n",
    "window.onkey(turn_right, 'Right')\n",
    "window.onkey(quit, 'q')\n",
    "```\n",
    "\n",
    "Here, you have to use the pointers to the functions as values. Otherwise you would execute the respective function directly."
   ]
  },
  {
   "cell_type": "markdown",
   "metadata": {
    "slideshow": {
     "slide_type": "fragment"
    }
   },
   "source": [
    "And you listen to and start the event-loop:\n",
    "    \n",
    "```python\n",
    "window.listen()\n",
    "window.mainloop()\n",
    "```"
   ]
  },
  {
   "cell_type": "markdown",
   "metadata": {
    "slideshow": {
     "slide_type": "subslide"
    }
   },
   "source": [
    "## Event-loop??? Meeting the Queue again.\n",
    "\n",
    "\n",
    "```python\n",
    "while True:\n",
    "    # Get the next event from the operating system\n",
    "    event = get_next_event()\n",
    "\n",
    "    # Get the function that is assigned to handle this event\n",
    "    a_function_to_handle_the_event = event-handlers[event]\n",
    "\n",
    "    # If a function has been assigned to handle this event, \n",
    "    # call the function\n",
    "    if a_function_to_handle_the_event:\n",
    "        # Call the event-handler function\n",
    "        a_function_to_handle_the_event()\n",
    "\n",
    "    # Stop processing events if the user gives a command to \n",
    "    # stop the application\n",
    "    if window_needs_to_close:\n",
    "        break  # out of the event-loop\n",
    "```\n",
    "\n",
    "Read more on GUI-programming and the event-loop in TKinter programs [here](https://runestone.academy/runestone/books/published/thinkcspy/GUIandEventDrivenProgramming/toctree.html)."
   ]
  },
  {
   "cell_type": "markdown",
   "metadata": {
    "slideshow": {
     "slide_type": "subslide"
    }
   },
   "source": [
    "Obviously, `event-handlers[event]` return functions, which are assigned to a variable `a_function_to_handle_the_event`. The respective function is called with `a_function_to_handle_the_event()`"
   ]
  },
  {
   "cell_type": "markdown",
   "metadata": {
    "slideshow": {
     "slide_type": "subslide"
    }
   },
   "source": [
    "## Timer Events - Repetitive Tasks with a Timer\n",
    "\n",
    "Now, let's rewrite the previous program in which you steer Tess the turtle to advance automatically every so and so many seconds and not any longer when a certain key is pressed.\n",
    "\n",
    "For that, we register the function `go_up` to be triggered by a timer event."
   ]
  },
  {
   "cell_type": "code",
   "execution_count": null,
   "metadata": {},
   "outputs": [],
   "source": [
    "import sys\n",
    "import turtle\n",
    "\n",
    "\n",
    "turtle.setup(400, 500)\n",
    "window = turtle.Screen()\n",
    "window.title('Handling keypresses!')\n",
    "tess = turtle.Turtle()\n",
    "\n",
    "\n",
    "def go_up():\n",
    "    tess.forward(30)\n",
    "    window.ontimer(go_up, 160)\n",
    "\n",
    "\n",
    "def turn_left():\n",
    "    tess.left(45)\n",
    "\n",
    "\n",
    "def turn_right():\n",
    "    tess.right(45)\n",
    "\n",
    "\n",
    "def quit():\n",
    "    window.bye()\n",
    "    sys.exit() \n",
    "\n",
    "\n",
    "# These lines 'wire up' keypresses to the handlers we've defined.\n",
    "window.onkey(turn_left, 'Left')\n",
    "window.onkey(turn_right, 'Right')\n",
    "window.onkey(quit, 'q')\n",
    "\n",
    "window.ontimer(go_up, 160)\n",
    "\n",
    "window.listen()\n",
    "window.mainloop()"
   ]
  },
  {
   "cell_type": "markdown",
   "metadata": {
    "slideshow": {
     "slide_type": "subslide"
    }
   },
   "source": [
    "## Long running functions block the UI thread\n",
    "\n",
    "Let's say something on a key event for speaking.\n",
    "\n",
    "What happens?\n",
    "\n",
    "Can you observe the queue somewhere?"
   ]
  },
  {
   "cell_type": "code",
   "execution_count": null,
   "metadata": {},
   "outputs": [],
   "source": [
    "import turtle\n",
    "import platform\n",
    "import threading\n",
    "import subprocess\n",
    "from time import sleep\n",
    "\n",
    "\n",
    "turtle.setup(400, 500)\n",
    "window = turtle.Screen()\n",
    "window.title('Handling keypresses!')\n",
    "tess = turtle.Turtle()\n",
    "\n",
    "\n",
    "# The next four functions are our \"event handlers\".\n",
    "def go_up():\n",
    "    tess.forward(30)\n",
    "    window.ontimer(go_up, 160)\n",
    "\n",
    "\n",
    "def turn_left():\n",
    "    tess.left(45)\n",
    "\n",
    "\n",
    "def turn_right():\n",
    "    tess.right(45)\n",
    "\n",
    "\n",
    "def quit():\n",
    "    window.bye()\n",
    "\n",
    "\n",
    "def say_something(msg, speak=True):\n",
    "    if speak:\n",
    "        cmd = f\"\"\"osascript -e 'say \"{msg}\"'\"\"\"\n",
    "        subprocess.run(cmd, shell=True)\n",
    "    else:\n",
    "        for letter in msg:\n",
    "            sys.stdout.write(letter)\n",
    "            sys.stdout.flush()\n",
    "            sleep(0.1)\n",
    "        print()  # Finish with a newline\n",
    "\n",
    "\n",
    "def speak():\n",
    "    msg = 'Move Tess the turtle!'\n",
    "    say_something(msg, speak=True)\n",
    "    \n",
    "\n",
    "# These lines 'wire up' keypresses to the handlers we've defined.\n",
    "window.onkey(turn_left, 'Left')\n",
    "window.onkey(turn_right, 'Right')\n",
    "window.onkey(quit, 'q')\n",
    "window.onkey(speak, 's')\n",
    "\n",
    "window.ontimer(go_up, 160)\n",
    "\n",
    "\n",
    "# Now we need to tell the window to start listening for events,\n",
    "# If any of the keys that we're monitoring is pressed, its\n",
    "# handler will be called.\n",
    "window.listen()\n",
    "window.mainloop()"
   ]
  },
  {
   "cell_type": "markdown",
   "metadata": {
    "slideshow": {
     "slide_type": "slide"
    }
   },
   "source": [
    "# Python in the Browser\n",
    "\n",
    "Web-applications are usually written in JavaScript in combination with HTML and CSS.\n",
    "\n",
    "With [Brython](https://brython.info) you can write web-applications in Python too.\n",
    "\n",
    "Brython is a Python interpreter written in JavaScript, which can run in the browser."
   ]
  },
  {
   "cell_type": "markdown",
   "metadata": {},
   "source": [
    "```html\n",
    "<html>\n",
    "  <head>\n",
    "    <script type=\"text/javascript\"\n",
    "       src=\"https://cdnjs.cloudflare.com/ajax/libs/brython/3.7.1/brython.min.js\">\n",
    "    </script>\n",
    "    <script type=\"text/javascript\"\n",
    "    src=\"https://cdnjs.cloudflare.com/ajax/libs/brython/3.7.1/brython_stdlib.js\">\n",
    "</script>\n",
    "    <script type=\"text/python\" src=\"./clicker.py\"></script>\n",
    "  </head>\n",
    "\n",
    "  <body onload=\"brython()\">\n",
    "    <canvas id=\"playground\" width=\"400\" height=\"400\" style=\"border-color:#000;border-style:solid;border-width:1px;margin-left:5em;\"></canvas>\n",
    "    <br>\n",
    "    <button id=\"turnbutton\">Turn!</button>\n",
    "    <span id=\"score\"></span>\n",
    "\n",
    "  </body>\n",
    "\n",
    "</html>\n",
    "```"
   ]
  },
  {
   "cell_type": "markdown",
   "metadata": {},
   "source": [
    "```python\n",
    "from browser import document, timer, alert\n",
    "\n",
    "\n",
    "class GameState:\n",
    "    def __init__(self):\n",
    "        self.x = 10\n",
    "        self.y = 10\n",
    "        self.x_step = 5\n",
    "        self.y_step = 5\n",
    "\n",
    "        self.score = 0\n",
    "\n",
    "\n",
    "PLAYER_SIZE = 20\n",
    "\n",
    "canvas = document['playground']\n",
    "ctx = canvas.getContext('2d')\n",
    "ctx.fillStyle = 'green'\n",
    "\n",
    "clicker_state = GameState()\n",
    "\n",
    "\n",
    "def restart_game():\n",
    "    alert('Banging against the wall?')\n",
    "    clicker_state.x = clicker_state.y = 10\n",
    "    clicker_state.x_step = clicker_state.y_step = 5\n",
    "    clicker_state.score = 0\n",
    "\n",
    "\n",
    "def clear_screen():\n",
    "    ctx.clearRect(0, 0, ctx.canvas.width, ctx.canvas.height)\n",
    "\n",
    "\n",
    "def draw():\n",
    "    clear_screen()\n",
    "\n",
    "    clicker_state.x += clicker_state.x_step\n",
    "    clicker_state.y += clicker_state.y_step\n",
    "\n",
    "    if ((clicker_state.x < 0) or\n",
    "       (clicker_state.x > ctx.canvas.width - PLAYER_SIZE) or\n",
    "       (clicker_state.y < 0) or\n",
    "       (clicker_state.y > ctx.canvas.height - PLAYER_SIZE)):\n",
    "        restart_game()\n",
    "\n",
    "    ctx.fillRect(clicker_state.x, clicker_state.y, PLAYER_SIZE, PLAYER_SIZE)\n",
    "    clicker_state.score += 1\n",
    "    document['score'].textContent = 'Your score: ' + str(clicker_state.score)\n",
    "\n",
    "\n",
    "def turn_it():\n",
    "    going_right = (clicker_state.x_step > 0)\n",
    "    going_left = (clicker_state.x_step < 0)\n",
    "    going_down = (clicker_state.y_step > 0)\n",
    "    going_up = (clicker_state.y_step < 0)\n",
    "    if (going_right and going_down) or (going_left and going_up):\n",
    "        clicker_state.y_step *= -1\n",
    "    elif (going_right and going_up) or (going_left and going_down):\n",
    "        clicker_state.x_step *= -1\n",
    "\n",
    "    clicker_state.score -= 20\n",
    "\n",
    "\n",
    "timer.set_interval(draw, 50)\n",
    "\n",
    "document['turnbutton'].bind('click', turn_it)\n",
    "```"
   ]
  },
  {
   "cell_type": "markdown",
   "metadata": {
    "slideshow": {
     "slide_type": "slide"
    }
   },
   "source": [
    "# Workshop\n",
    "\n",
    "\n",
    "1. Download the clicker game from the folder `clicker_game` under `session-10`. It consists of two files, `index.html` and `clicker.py` and store them in on directory `clicker_game` on your computer.\n",
    "  - Start the game on your computer using the following commands:\n",
    "\n",
    "   ```bash\n",
    "$ cd clicker_game\n",
    "$ python -m http.server\n",
    "```\n",
    "  This starts a webserver on your computer in this local directory.\n",
    "  \n",
    "  - Play the game locally by pointing your browser to http://localhost:8000/\n",
    "  - You can always stop the web-server in the terminal by pressing `ctrl+c`, i.e., press the `ctrl` and the `c` keys simultaneously to stop the server.\n",
    "  \n",
    "\n",
    "### Finding your own IP address\n",
    "\n",
    "  - Find the IP address of your computer by running the following small Python program, which will print your computer's IP address:\n",
    "  \n",
    "```python\n",
    "import socket\n",
    "\n",
    "\n",
    "host_name = socket.gethostname()\n",
    "ip_address = socket.gethostbyname(host_name)\n",
    "print(f\"My computer's IP address: {ip_address}\")\n",
    "```\n",
    "  - Alternatively, you can run either `ifconfig` on (MacOS/Linux) or `ipconfig` on Windows to find the IP address of your computer. On MacOS it is usually listed behind the entry `inet` below the networkcard, which is ususally `en1`. See for example, for [MacOS](https://www.youtube.com/watch?v=CTA3hu7XG8k) or for [Windows](https://www.youtube.com/watch?v=PZtbGoTaN3E)\n",
    "\n",
    "  - Note down the IP address of your computer and share it with your group mates.\n",
    "  - Now, start the webserver again via:\n",
    "\n",
    "  ```bash\n",
    "$ cd clicker_game\n",
    "$ python -m http.server\n",
    "```\n",
    "\n",
    "  - Instead of playing the game on your computer, let your group mates navigate in their browsers to http://<your_ip_address>:8000/\n",
    "  - Now, they are playing the game with the code that was downloaded from your computer.\n",
    "\n",
    "**OBS**: To be able to connect a browser on another computer to the given IP address, all involved devices, i.e., the computer serving the game, and all the clients have to be on the same network. At ITU this is for example  the `ITU++` network.\n",
    "  \n",
    "### Extending the Clicker game\n",
    "\n",
    "Choose to implement either of the following:\n",
    "\n",
    "#### A) Adding levels to the game \n",
    "\n",
    "Add another field `Your level: ` next to the field `Your score: ` on the game page. You should start playing in level `0` and every `100` steps the level should increase.\n",
    "\n",
    "**Hint**:\n",
    "  - Add another property `steps` to the class `GameState` and increase it in the `draw` function similar to how `clicker_state.score += 1` is increased on line 48.\n",
    "  - Add another property `level` to the class `GameState` and increase it in the `draw` function similar to how `clicker_state.score += 1` is increased on line 48 whenever `steps` another multiply of `100`.\n",
    "  - Additionally, to modifying the code in `clicker.py` you have to modify the code in `index.html`\n",
    "    - You have to add another `span` element like `<span id=\"level\"></span>` on line 17 in `index.html`.\n",
    "    - To write to it you need an extra line in `clicker.py`, which is similar to: `document['score'].textContent = 'Your score: ' + str(clicker_state.score)`\n",
    "    \n",
    "  \n",
    "#### B) Adding a chaos mode\n",
    "\n",
    "Add another button to the game page by adding the following line to `index.html`:\n",
    "\n",
    "```html\n",
    "<button id=\"chaosbutton\">Chaos!</button>\n",
    "``` \n",
    "\n",
    "Create a new function `chaos` in `clicker.py` and add a binding to it in the very button of `clicker.py`, which looks like:\n",
    "\n",
    "```python\n",
    "document['chaos'].bind('click', chaos)\n",
    "```\n",
    "\n",
    "Lines 56 to 59 in `clicker.py` control in which direction the square turns whenever the `turn` button is clicked.\n",
    "\n",
    "```python\n",
    "    if (going_right and going_down) or (going_left and going_up):\n",
    "        clicker_state.y_step *= -1\n",
    "    elif (going_right and going_up) or (going_left and going_down):\n",
    "        clicker_state.x_step *= -1\n",
    "```\n",
    "\n",
    "Replace the two occurrences of `-1` with values (`chaos_x` and `chaos_y`) stored in the `GameState`. Let these values change randomly whenever the `chaos` button is clicked. Use for example:\n",
    "\n",
    "```python\n",
    "clicker_state.chaos_x = random.choice([1, -1])\n",
    "clicker_state.chaos_y = random.choice([1, -1])\n",
    "```\n",
    "\n",
    "in it.\n",
    "\n",
    "#### C) Adding edible gems\n",
    "\n",
    "Place every now and then (every so and so many steps) a red square on a random place on the game board.\n"
   ]
  }
 ],
 "metadata": {
  "celltoolbar": "Slideshow",
  "kernelspec": {
   "display_name": "Python 3",
   "language": "python",
   "name": "python3"
  },
  "language_info": {
   "codemirror_mode": {
    "name": "ipython",
    "version": 3
   },
   "file_extension": ".py",
   "mimetype": "text/x-python",
   "name": "python",
   "nbconvert_exporter": "python",
   "pygments_lexer": "ipython3",
   "version": "3.7.3"
  }
 },
 "nbformat": 4,
 "nbformat_minor": 2
}
