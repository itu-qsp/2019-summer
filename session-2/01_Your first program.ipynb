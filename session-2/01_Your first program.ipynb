{
 "cells": [
  {
   "cell_type": "markdown",
   "metadata": {
    "slideshow": {
     "slide_type": "slide"
    }
   },
   "source": [
    "# Writing your first program"
   ]
  },
  {
   "cell_type": "markdown",
   "metadata": {
    "slideshow": {
     "slide_type": "subslide"
    }
   },
   "source": [
    "* Last session you installed Mu.\n",
    "\n",
    "* Mu is a **Python code editor**\n",
    "  * Meaning that it is smarter than just a text editor. You will see why later today."
   ]
  },
  {
   "cell_type": "markdown",
   "metadata": {
    "slideshow": {
     "slide_type": "fragment"
    }
   },
   "source": [
    "  * Open the Mu editor from the command line via the command `mu-editor` \n",
    "  * Now, write the code from the hand-out into a file in Mu\n",
    "    * Copy the text **exactly** as it stands\n",
    "    * When you are done, press run (▶)\n",
    "  * You will likely get an error, and that is completely okay\n",
    "  * Try to find the typo that caused the error and fix it"
   ]
  },
  {
   "cell_type": "code",
   "execution_count": null,
   "metadata": {
    "slideshow": {
     "slide_type": "skip"
    }
   },
   "outputs": [],
   "source": [
    "# My first Python program\n",
    "name = input('What is your name? ')\n",
    "print('Hello, ' + name + '. Time to play hangman!')\n",
    "print('Start guessing...')\n",
    "\n",
    "secret_word = 'secret'\n",
    "guesses = ''\n",
    "turns = 10\n",
    "\n",
    "while turns > 0:\n",
    "    failed = 0\n",
    "\n",
    "    for char in secret_word:\n",
    "        if char in guesses:\n",
    "            print(char, end='')\n",
    "        else:\n",
    "            print('_', end='')\n",
    "            failed += 1\n",
    "\n",
    "    if failed == 0:\n",
    "        print('\\nYou won!')\n",
    "        break\n",
    "\n",
    "    print()\n",
    "    guess = input('guess a character: ')\n",
    "\n",
    "    if len(guess) > 1:\n",
    "        print('Only one character at the time, please!')\n",
    "        continue\n",
    "\n",
    "    guesses += guess\n",
    "\n",
    "    if guess not in secret_word:\n",
    "        turns -= 1\n",
    "        print('Wrong\\n')\n",
    "        print('You have', turns, 'more guesses')\n",
    "        if turns == 0:\n",
    "            print('You lose!')\n"
   ]
  },
  {
   "cell_type": "markdown",
   "metadata": {
    "slideshow": {
     "slide_type": "slide"
    }
   },
   "source": [
    "# Diving into Python\n",
    "\n",
    "We'll now start to cover basic Python.\n",
    "\n",
    "During this lecture, we will ask you to write down code. So have your Mu editor ready. Preferably using an empty code file."You can call it whatever you want, for instance `session2.py`."
   ]
  },
  {
   "cell_type": "markdown",
   "metadata": {
    "slideshow": {
     "slide_type": "subslide"
    }
   },
   "source": [
    "# Data Input\n",
    "\n",
    "In Python you can get input from the user via the keyboard with the help of the `input` statement.\n",
    "\n",
    "```python\n",
    "input('Give me some data: ')\n",
    "```\n",
    "\n",
    "Write the above code into Mu and execute it by pressing the `▶ Run` button."
   ]
  },
  {
   "cell_type": "markdown",
   "metadata": {
    "slideshow": {
     "slide_type": "subslide"
    }
   },
   "source": [
    "## Wait, what just happened?!\n",
    "\n",
    "Two things happened: \n",
    "1. A window appeared called `Running ...` with a the text `Give me some data: ` and a blinking cursor!\n",
    "2. The `▶ Run` button became a **`x`**` Stop` button!"
   ]
  },
  {
   "cell_type": "markdown",
   "metadata": {
    "slideshow": {
     "slide_type": "fragment"
    }
   },
   "source": [
    "Now type in some text in the field below and press `Enter`. When you do that `>>>` appears. This means that your application terminated (finished). Press F5 again or the **`x`**` Stop` button to close the window again."
   ]
  },
  {
   "cell_type": "markdown",
   "metadata": {
    "slideshow": {
     "slide_type": "subslide"
    }
   },
   "source": [
    "Try to change the text a bit (for instance `Give me MORE data: `) and run the program again! \n",
    "\n",
    "Did it do what you expected it to do?"
   ]
  },
  {
   "cell_type": "markdown",
   "metadata": {
    "slideshow": {
     "slide_type": "subslide"
    }
   },
   "source": [
    "# Data Output\n",
    "\n",
    "\n",
    "In Python you can display information to the user with a `print` statement.\n",
    "\n",
    "```python\n",
    "print('Hey, wait! I have to tell you something important.')\n",
    "```\n",
    "\n",
    "Delete your previous code and replace it with the code above. Then execute the code by hitting F5 or by clicking `▶ Run`."
   ]
  },
  {
   "cell_type": "markdown",
   "metadata": {
    "slideshow": {
     "slide_type": "subslide"
    }
   },
   "source": [
    "## Mu can help you!\n",
    "\n",
    "Notice that when you write `print(` something happens. This is called documentation. Focus on the first couple of words for now.\n",
    "\n",
    "![](images/mu-help.png)"
   ]
  },
  {
   "cell_type": "markdown",
   "metadata": {
    "slideshow": {
     "slide_type": "subslide"
    }
   },
   "source": [
    "## A program\n",
    "\n",
    "  > A computer is a device that can perform actions on input (which is also called data). The actions are specified by a program, which is a sequence of instructions.\n",
    "  >\n",
    "  > [Interactive Python](http://interactivepython.org/runestone/static/StudentCSP/CSPTuring/whatIsComputer.html)"
   ]
  },
  {
   "cell_type": "markdown",
   "metadata": {
    "slideshow": {
     "slide_type": "fragment"
    }
   },
   "source": [
    "```\n",
    "                +---------+\n",
    "User input  ->  | Program |  ->  Program output\n",
    "                +---------+        (typically screen)\n",
    "\n",
    "```"
   ]
  },
  {
   "cell_type": "markdown",
   "metadata": {
    "slideshow": {
     "slide_type": "subslide"
    }
   },
   "source": [
    "## A program\n",
    "\n",
    "  > A computer is a device that can perform actions on input (which is also called data). The actions are specified by a program, which is a sequence of instructions.\n",
    "  >\n",
    "  > [Interactive Python](http://interactivepython.org/runestone/static/StudentCSP/CSPTuring/whatIsComputer.html)\n",
    "\n",
    "```\n",
    "                +------------+\n",
    "User input  ->  | Processing |  ->  Program output\n",
    "                +------------+        (typically screen)\n",
    "\n",
    "```"
   ]
  },
  {
   "cell_type": "markdown",
   "metadata": {
    "slideshow": {
     "slide_type": "subslide"
    }
   },
   "source": [
    "# Data Processing"
   ]
  },
  {
   "cell_type": "markdown",
   "metadata": {
    "slideshow": {
     "slide_type": "subslide"
    }
   },
   "source": [
    "## Remembering\n",
    "\n",
    "The first important step in a program is to remember stuff, otherwise we cannot do any kind of processing.\n",
    "\n",
    "Think about your `input('Give me some data: ')`. The second you pressed enter, that data disappeared. Gone.\n",
    "\n",
    "Before we can do any processing, we have to save it somewhere. Like putting stuff on a shelf."
   ]
  },
  {
   "cell_type": "markdown",
   "metadata": {
    "slideshow": {
     "slide_type": "subslide"
    }
   },
   "source": [
    "## Saving into a placeholder\n",
    "\n",
    "We need a place to store things. Safely, so we can find it again.\n",
    "\n",
    "That placeholder is called a variable. \n",
    "\n",
    "![](images/vault.gif)"
   ]
  },
  {
   "cell_type": "markdown",
   "metadata": {
    "slideshow": {
     "slide_type": "subslide"
    }
   },
   "source": [
    "## Saving with `=`\n",
    "\n",
    "Our vaults have names to describe what they contain. So a vault called `number` probably contains a number.\n",
    "While a vault called `first_name` probably contains someones first name.\n",
    "\n",
    "This piece of python code:\n",
    "```python\n",
    "person = 'Mother Theresa'\n",
    "```\n",
    "Is the same as saying:\n",
    "1. Build me a vault and call it `person`\n",
    "2. Take the data `'Mother Theresa'` and store it safely inside the vault"
   ]
  },
  {
   "cell_type": "markdown",
   "metadata": {
    "slideshow": {
     "slide_type": "subslide"
    }
   },
   "source": [
    "## Using data\n",
    "\n",
    "We can now use the data hidden inside the variable `person` like this:\n",
    "\n",
    "```python\n",
    "print(person)\n",
    "```\n",
    "\n",
    "Note that there are no quotes around `person`."
   ]
  },
  {
   "cell_type": "markdown",
   "metadata": {
    "slideshow": {
     "slide_type": "fragment"
    }
   },
   "source": [
    "And we can re-use the variable twice or even more!\n",
    "```python\n",
    "print(person)\n",
    "print(person)\n",
    "```"
   ]
  },
  {
   "cell_type": "markdown",
   "metadata": {
    "slideshow": {
     "slide_type": "subslide"
    }
   },
   "source": [
    "## Programs without user input / interaction\n",
    "\n",
    "Using these vaults, we can easily create programs without user input / interaction. Like this:\n",
    "\n",
    "```python\n",
    "first_person = 'Albert Einstein'\n",
    "second_person = 'Stephen Hawkings'\n",
    "\n",
    "print('EPIC RAP BATTLES OF HISTORY!')\n",
    "print(first_person)\n",
    "print('VS.')\n",
    "print(second_person)\n",
    "print('BEGIN!')\n",
    "```\n",
    "\n",
    "Write down and run this program. Now run it again. And again."
   ]
  },
  {
   "cell_type": "markdown",
   "metadata": {
    "slideshow": {
     "slide_type": "subslide"
    }
   },
   "source": [
    "When you run this program, the behaviour will never change. Unless you manually change the variables. Let's do that now so we can change them into our favourite epic rap battles of history characters!"
   ]
  },
  {
   "cell_type": "markdown",
   "metadata": {
    "slideshow": {
     "slide_type": "subslide"
    }
   },
   "source": [
    "Now that we can store things, we can combine input and output. This is your very first program!\n",
    "\n",
    "```python\n",
    "data = input('Give me some data: ')\n",
    "print(data)\n",
    "```\n",
    "\n",
    "Type this into Mu. When you're done, verbally explain what is happening step by step with your neighbour."
   ]
  },
  {
   "cell_type": "markdown",
   "metadata": {
    "slideshow": {
     "slide_type": "slide"
    }
   },
   "source": [
    "# Variables and data \n",
    "\n",
    "Notice that we refer to variables differently than we refer to data.\n",
    "\n",
    "We have to tell Python when we mean \"Create a variable for me\" and when we mean \"Create the letters `Albert Einstein`\".\n",
    "\n",
    "* Variables are written **without** surrounding `'` quotes\n",
    "* Text is written **with** surrounding `'` quotes"
   ]
  },
  {
   "cell_type": "markdown",
   "metadata": {
    "slideshow": {
     "slide_type": "subslide"
    }
   },
   "source": [
    "Before we *created* a variable by storing something in it, that we later retrieved:\n",
    "```python\n",
    "first_person = 'Mother Theresa'\n",
    "print(first_person)\n",
    "```\n",
    "\n",
    "What if we simply try to retrieve it, *without* storing anything in it?\n",
    "```python\n",
    "print(first_person)\n",
    "```\n",
    "What happens when you run that code in Mu?"
   ]
  },
  {
   "cell_type": "markdown",
   "metadata": {
    "slideshow": {
     "slide_type": "fragment"
    }
   },
   "source": [
    "Compare that to writing:\n",
    "```python\n",
    "print('first_person')\n",
    "```"
   ]
  },
  {
   "cell_type": "markdown",
   "metadata": {
    "slideshow": {
     "slide_type": "slide"
    }
   },
   "source": [
    "# Data types\n",
    "\n",
    "Variables can contain all kinds of data. And text is just one of them. \n",
    "Anther type of data are numbers.\n",
    "\n",
    "* This is a piece of text: `'Give me some data: '`\n",
    "* This is a number: `10`\n",
    "* This is another number: `1.618`"
   ]
  },
  {
   "cell_type": "markdown",
   "metadata": {
    "slideshow": {
     "slide_type": "fragment"
    }
   },
   "source": [
    "In Python text is actually called _strings_. _Strings_ in Python are surrounded with a single quote like so: `'I am text'`  \n",
    "\n",
    "Note: Python also accepts quotation marks to indicate a string: `\"I am text\"`. But we will stick to the single quotes. "
   ]
  },
  {
   "cell_type": "markdown",
   "metadata": {
    "slideshow": {
     "slide_type": "subslide"
    }
   },
   "source": [
    "In Python numbers are divided into _integers_ and _floats_. We will cover floats later.\n",
    "\n",
    "_Integers_ are whole numbers like `1`, `8`, `-15`."
   ]
  },
  {
   "cell_type": "markdown",
   "metadata": {
    "slideshow": {
     "slide_type": "fragment"
    }
   },
   "source": [
    "In an empty file in Mu, write an integer. Just an integer. Then run the program.\n",
    "* What do you expect will happen?\n",
    "* Did your expectations align with what you saw?\n",
    "\n",
    "Remember that you can execute your code by hitting F5 or by clicking `▶ Run`"
   ]
  },
  {
   "cell_type": "markdown",
   "metadata": {
    "slideshow": {
     "slide_type": "subslide"
    }
   },
   "source": [
    "Why is nothing showing?"
   ]
  },
  {
   "cell_type": "markdown",
   "metadata": {
    "slideshow": {
     "slide_type": "fragment"
    }
   },
   "source": [
    "Well, you're not outputting anything. Do you remember how to output something in Python?"
   ]
  },
  {
   "cell_type": "markdown",
   "metadata": {},
   "source": [
    "Now delete the number and write a string instead. \n",
    "* What do you expect will happen?\n",
    "* Did your expectations align with what you saw?"
   ]
  },
  {
   "cell_type": "markdown",
   "metadata": {
    "slideshow": {
     "slide_type": "subslide"
    }
   },
   "source": [
    "# Doing stuff with numbers and text\n",
    "\n",
    "There is a reason for distinguishing between numbers and text. In Mu, \n",
    "* multiply the integer 4 with 17\n",
    "* What do you expect will happen?\n",
    "* Did your expectations align with what you saw?\n",
    "\n",
    "A multiplication in Python is written with the asterix character (`*`). Multiplying 1 with 2 is written `1 * 2`."
   ]
  },
  {
   "cell_type": "markdown",
   "metadata": {
    "slideshow": {
     "slide_type": "subslide"
    }
   },
   "source": [
    "You probably expected that. But what happens if you multiply the string `'ring '` with 8 (don't forget the trailing space)? Try it out."
   ]
  },
  {
   "cell_type": "markdown",
   "metadata": {
    "slideshow": {
     "slide_type": "fragment"
    }
   },
   "source": [
    "... Banana phone! Can you guess what happens when you execute the code below?"
   ]
  },
  {
   "cell_type": "code",
   "execution_count": null,
   "metadata": {
    "slideshow": {
     "slide_type": "fragment"
    }
   },
   "outputs": [],
   "source": [
    "('Na' * 16) + ' Batman!'"
   ]
  },
  {
   "cell_type": "markdown",
   "metadata": {
    "slideshow": {
     "slide_type": "subslide"
    }
   },
   "source": [
    "## Oh oh, he just ran code on the screen!\n",
    "\n",
    "Yes, yes I did. And that's completely fine. This is also Python. The same kind of Python that you write in Mu. \n",
    "\n",
    "The difference is that it automatically prints the output onto these presentation slides."
   ]
  },
  {
   "cell_type": "markdown",
   "metadata": {
    "slideshow": {
     "slide_type": "subslide"
    }
   },
   "source": [
    "Can you store the value `'D' + 'K'` in the variable called `text`?"
   ]
  },
  {
   "cell_type": "code",
   "execution_count": null,
   "metadata": {
    "slideshow": {
     "slide_type": "fragment"
    }
   },
   "outputs": [],
   "source": []
  },
  {
   "cell_type": "markdown",
   "metadata": {
    "slideshow": {
     "slide_type": "subslide"
    }
   },
   "source": [
    "Can you guess what the variable contains? Try to print the content of the variable and see if it matches your expectation."
   ]
  },
  {
   "cell_type": "code",
   "execution_count": null,
   "metadata": {
    "slideshow": {
     "slide_type": "fragment"
    }
   },
   "outputs": [],
   "source": []
  },
  {
   "cell_type": "markdown",
   "metadata": {
    "slideshow": {
     "slide_type": "subslide"
    }
   },
   "source": [
    "Variables are great because they help us remember things. Your variable `text` now exists until you either:\n",
    "* kill the application that contains the variable (Mu) or\n",
    "* overwrite the variable\n",
    "\n",
    "We don't want to close the Mu editor just yet (although we encourage you to try and see what happens), so let's try to overwrite your variable. Store `'Hello'` in the variable `text` and print the content:"
   ]
  },
  {
   "cell_type": "code",
   "execution_count": null,
   "metadata": {
    "slideshow": {
     "slide_type": "fragment"
    }
   },
   "outputs": [],
   "source": []
  },
  {
   "cell_type": "markdown",
   "metadata": {
    "slideshow": {
     "slide_type": "subslide"
    }
   },
   "source": [
    "This form of overwriting *completely removes* the previous value of `text`. We cannot acces the previous data (`'DK'`).\n",
    "You can think of variables as placeholders: now `text` is equivalent to `'Hello'`, so every time we need the \n",
    "string `'Hello'` we can simply write `text`. \n",
    "\n",
    "This is pretty daft of course because `'Hello'` is not that much more difficult to write than `text`. But you can save much more data in a variable, and then this form of substitution becomes very handy."
   ]
  },
  {
   "cell_type": "markdown",
   "metadata": {
    "slideshow": {
     "slide_type": "subslide"
    }
   },
   "source": [
    "## Code is executed stepwise\n",
    "\n",
    "Code follows a strict logic. It executes code line-wise **one line at the time**! No exceptions."
   ]
  },
  {
   "cell_type": "markdown",
   "metadata": {
    "slideshow": {
     "slide_type": "subslide"
    }
   },
   "source": [
    "What is the result of this?"
   ]
  },
  {
   "cell_type": "code",
   "execution_count": null,
   "metadata": {
    "slideshow": {
     "slide_type": "subslide"
    }
   },
   "outputs": [],
   "source": [
    "text = 'Hello'\n",
    "text = 'World'\n",
    "print(text)"
   ]
  },
  {
   "cell_type": "code",
   "execution_count": null,
   "metadata": {
    "slideshow": {
     "slide_type": "subslide"
    }
   },
   "outputs": [],
   "source": [
    "number = 10\n",
    "number = number + 1\n",
    "print(number)"
   ]
  },
  {
   "cell_type": "markdown",
   "metadata": {
    "slideshow": {
     "slide_type": "subslide"
    }
   },
   "source": [
    "## Converting strings to integers\n",
    "\n",
    "A Python program treats all input that it receives from the keyboard as a string. That is, as a sequence of textual characters. Even when you enter numbers, such as `1`, `2`, `3`, etc.\n",
    "\n",
    "If you wanted to input numbers and treat them as numbers and not as strings, you have to tell your program to convert the data type of your input into an integer (`int`).\n",
    "\n",
    "```python\n",
    "data = '10'\n",
    "number = int(data)\n",
    "print(number)\n",
    "```"
   ]
  },
  {
   "cell_type": "markdown",
   "metadata": {
    "slideshow": {
     "slide_type": "subslide"
    }
   },
   "source": [
    "Type in this program and explain to your neighbour what it does:\n",
    "\n",
    "```python\n",
    "data = input('Give me a positive number: ')\n",
    "print('I say \"Hello\" multiple times: ' + data)\n",
    "data = int(data)\n",
    "print(data * 'Hello')\n",
    "```"
   ]
  },
  {
   "cell_type": "markdown",
   "metadata": {
    "slideshow": {
     "slide_type": "subslide"
    }
   },
   "source": [
    "Describe the difference between the two programs: \n",
    "\n",
    "```python\n",
    "data = input('Give me a positive number: ')\n",
    "print('I say \"Hello\" multiple times: ' + data)\n",
    "data = int(data)\n",
    "print(data * 'Hello')\n",
    "```\n",
    "\n",
    "---\n",
    "\n",
    "```python\n",
    "data = input('Give me a positive number: ')\n",
    "print('I say \"Hello\" multiple times: ' + data)\n",
    "print(int(data) * 'Hello')\n",
    "```"
   ]
  },
  {
   "cell_type": "code",
   "execution_count": null,
   "metadata": {
    "slideshow": {
     "slide_type": "fragment"
    }
   },
   "outputs": [],
   "source": []
  },
  {
   "cell_type": "markdown",
   "metadata": {
    "slideshow": {
     "slide_type": "subslide"
    }
   },
   "source": [
    "Sometimes Python gets confused about the type of your data. We saw that you could multiply a `string` with an `integer`. But what about `adding` (`+`) a string with an `integer`? Try to execute the following:"
   ]
  },
  {
   "cell_type": "code",
   "execution_count": null,
   "metadata": {
    "slideshow": {
     "slide_type": "fragment"
    }
   },
   "outputs": [],
   "source": [
    "'Space' + 10"
   ]
  },
  {
   "cell_type": "markdown",
   "metadata": {
    "slideshow": {
     "slide_type": "subslide"
    }
   },
   "source": [
    "What you just saw was an `Error`. You will see a lot of these in your programming career. But don't worry, it helps us to understand the root of the problem.\n",
    "\n",
    "`TypeError: must be str, not int`\n",
    "\n",
    "In other words Python gets confused about the *types* of your data. Python sees an `int` (`10`), but is expecting a `str` (`string`). Luckily we can fix this. Just like we could take a `string` and turn it into an `int` (using `int`), we can also take an `integer` and turn it into a `str` (`string`). Can you guess how and fix the code below?"
   ]
  },
  {
   "cell_type": "code",
   "execution_count": null,
   "metadata": {
    "slideshow": {
     "slide_type": "fragment"
    }
   },
   "outputs": [],
   "source": [
    "'Space' + 10"
   ]
  },
  {
   "cell_type": "markdown",
   "metadata": {
    "slideshow": {
     "slide_type": "subslide"
    }
   },
   "source": [
    "## Operations\n",
    " \n",
    "So far you have worked with `+`, `*` to manipulate your data. These are called `operators` because they `operate` on your data."
   ]
  },
  {
   "cell_type": "markdown",
   "metadata": {
    "slideshow": {
     "slide_type": "subslide"
    }
   },
   "source": [
    "The following piece of code uses the operator `*`. But it returns an empty string (`''`). Can you figure out why? And can you make it return `'Hello'`?"
   ]
  },
  {
   "cell_type": "code",
   "execution_count": null,
   "metadata": {
    "slideshow": {
     "slide_type": "fragment"
    }
   },
   "outputs": [],
   "source": [
    "'Hello' * 0"
   ]
  },
  {
   "cell_type": "markdown",
   "metadata": {
    "slideshow": {
     "slide_type": "subslide"
    }
   },
   "source": [
    "Which of these are operators and which are data?\n",
    "\n",
    "* ``+``\n",
    "* ``8``\n",
    "* ``'Yolo'``\n",
    "* ``*``\n",
    "* ``'C4rp3 Di3m'``\n",
    "* ``/``\n",
    "* ``'*'``"
   ]
  },
  {
   "cell_type": "markdown",
   "metadata": {
    "slideshow": {
     "slide_type": "subslide"
    }
   },
   "source": [
    "Before you saw an example where you added `strings` and `integers`. Let's try to expand that. Can you make the below code return '7ate9'?"
   ]
  },
  {
   "cell_type": "code",
   "execution_count": null,
   "metadata": {
    "slideshow": {
     "slide_type": "fragment"
    }
   },
   "outputs": [],
   "source": [
    "7 + 8 + 9"
   ]
  },
  {
   "cell_type": "markdown",
   "metadata": {
    "slideshow": {
     "slide_type": "subslide"
    }
   },
   "source": [
    "# A cookie dough program\n",
    "\n",
    "Now that we have learned about getting input (with `input`), printing text (strings), data types (`str` and `int`) and operators (`+`, `*` and `/`), we'll put it all together. \n",
    "\n",
    "Here is the requirement for your program:\n",
    "Your program will identify how much the user likes cookie dough. The user can give a number between 1 and 10 to indicate just how much he/she likes it. If the user types 1, you should print `'I really like cookie dough'`. If the user types 3, you should print `'I really really really like cookie dough'`. If the user types 10, we have a serious cookie dough lover, so you should print `'really'` 10 times. \n",
    "\n",
    "You can assume that the user will never enter a number outside the range of 1-10."
   ]
  },
  {
   "cell_type": "code",
   "execution_count": null,
   "metadata": {
    "slideshow": {
     "slide_type": "fragment"
    }
   },
   "outputs": [],
   "source": []
  },
  {
   "cell_type": "markdown",
   "metadata": {
    "slideshow": {
     "slide_type": "fragment"
    }
   },
   "source": [
    "Hint: Developing applications is hard. The best approach is to break the problem down into steps. What is the first thing you need for your program?"
   ]
  },
  {
   "cell_type": "markdown",
   "metadata": {
    "slideshow": {
     "slide_type": "subslide"
    }
   },
   "source": [
    "\n",
    "Hint: The first thing you need is input. Look above: do you remember how to get some input from the user? Now you can proceed: what type is the input you just received? And what type do you actually need?"
   ]
  },
  {
   "cell_type": "markdown",
   "metadata": {
    "slideshow": {
     "slide_type": "subslide"
    }
   },
   "source": [
    "Hint: Now that you have a number from the user (between 1 and 10) the second step is to use that number. For what do you have to use the number?"
   ]
  },
  {
   "cell_type": "markdown",
   "metadata": {
    "slideshow": {
     "slide_type": "subslide"
    }
   },
   "source": [
    "Hint: The number determines how many times the string `'really'` should be printed. Do you remember what operator can print a string multiple times?"
   ]
  },
  {
   "cell_type": "markdown",
   "metadata": {
    "slideshow": {
     "slide_type": "slide"
    }
   },
   "source": [
    "# Congratulations!\n",
    "\n",
    "You have now written your first program. And it's actually a pretty useful program. Think about it; you have \n",
    "1. received input from a user\n",
    "2. processed that into the number you needed\n",
    "3. used that number to produce some output\n",
    "4. ..that you printed back to the user\n",
    "\n",
    "Good job! Next you'll write a more sophisticated program that can talk back to you! Then we will look at exactly why you are writing code like this and why it's so useful."
   ]
  },
  {
   "cell_type": "markdown",
   "metadata": {
    "slideshow": {
     "slide_type": "slide"
    }
   },
   "source": [
    "# What is programming actually?\n",
    "\n",
    "\n",
    "Recently on Twitter, \"Describe programming in only six words\": https://twitter.com/hashtag/ProgrammingIn6Words?src=hash\n",
    "\n",
    "<img src=\"images/twitter.jpg\" width=\"45%\"/>"
   ]
  },
  {
   "cell_type": "code",
   "execution_count": 7,
   "metadata": {
    "slideshow": {
     "slide_type": "subslide"
    }
   },
   "outputs": [
    {
     "data": {
      "image/jpeg": "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\n",
      "text/html": [
       "\n",
       "        <iframe\n",
       "            width=\"400\"\n",
       "            height=\"300\"\n",
       "            src=\"https://www.youtube.com/embed/5S-CREfOnXw\"\n",
       "            frameborder=\"0\"\n",
       "            allowfullscreen\n",
       "        ></iframe>\n",
       "        "
      ],
      "text/plain": [
       "<IPython.lib.display.YouTubeVideo at 0x7fd7d85de5c0>"
      ]
     },
     "execution_count": 7,
     "metadata": {},
     "output_type": "execute_result"
    }
   ],
   "source": [
    "from IPython.display import YouTubeVideo\n",
    "YouTubeVideo('5S-CREfOnXw')\n"
   ]
  }
 ],
 "metadata": {
  "celltoolbar": "Slideshow",
  "kernelspec": {
   "display_name": "Python 3",
   "language": "python",
   "name": "python3"
  },
  "language_info": {
   "codemirror_mode": {
    "name": "ipython",
    "version": 3
   },
   "file_extension": ".py",
   "mimetype": "text/x-python",
   "name": "python",
   "nbconvert_exporter": "python",
   "pygments_lexer": "ipython3",
   "version": "3.7.3"
  }
 },
 "nbformat": 4,
 "nbformat_minor": 2
}
