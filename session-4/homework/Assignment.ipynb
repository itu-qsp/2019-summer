{
 "cells": [
  {
   "cell_type": "markdown",
   "metadata": {},
   "source": [
    "# Assignment 4: Programs and modules\n",
    "\n",
    "Please remember to hand in the solutions in a single `.zip` file, where you give the answers for each part in separate files.\n",
    "\n",
    "## Exercise A: Debugging loops\n",
    "Download the file `loops.py`, open it in Mu and use the debugger to understand the program. Answer the following questions:\n",
    "\n",
    "* What is the difference between the variable called `ingredients` and the variable called `ingredient`?\n",
    "* Why are there two `for` loops? \n",
    "\n",
    "Finally, rewrite the code to do the same thing, but using one single `for` loop. In other words you need to replace line 13 and 14 with code that replaces the lines, but without using a loop.\n",
    "* Hint: Do you remember how to convert a list of strings into a single string using `.join()`?\n",
    "\n",
    "\n",
    "## Exercise B: Save the turtles!\n",
    "Turtle programs are cool because they can draw nifty things like rectangles. And we can even choose how big they should be! Even though this part is split in two, you can hand in a single `B.py` file.\n",
    "\n",
    "### Exercise B.1: Parameterising rectangles\n",
    "Your task in this assignment is to draw rectangles, whose width and height are specified by the user. In other words, you will have to ask the user to input the width and height of the rectangle, and then draw it using turtles. \n",
    "\n",
    "**Hint**: Before writing the program, write down the problem in pseudo code. How would you solve this in steps?\n",
    "\n",
    "### Exercise B.2: Crash the turtle!\n",
    "Unfortunately, not all users are equally smart. Some users might not give you a number when you ask for it, and then what? Try to break your program by writing something like `'Anna, Viktor, Morten and Jana are awesome!'` instead of a number. What happens?\n",
    "\n",
    "Likely you program doesn't survive that and crashes. We want to avoid that. Modify your program so you *catch* that error. Meaning, your program should not crash with an ugly exception. Instead, your program should write a neat error message to the user like: `'Please type a number'`.\n",
    "\n",
    "**Hint**: If you don't know what we mean by *catching* an error, look at the slides about exceptions.\n",
    "\n",
    "### Exercise B.3: Save the turtle! (Bonus question: skip this if it takes too long)\n",
    "If the user wrote gibberish instead of numbers your program now terminates in a better way than before, but it still terminates without completing its job.\n",
    "Can you modify the program so that you continue to ask the user for the width and height of your rectangle, until the user writes two meaningful numbers?\n",
    " \n",
    "**Hint**: Do you know how to repeat some code, until you fulfill a certain condition (user typing two meaningful numbers)?\n",
    "\n",
    "## Exercise C: Understanding command line programs\n",
    "Download the file `cli_program.py`, open it in Mu and describe what it does. Write a few lines of prose describing the program in general terms. Then answer the following questions:\n",
    "\n",
    "* What does `sys.argv[1]` mean? \n",
    "* What does `for line in sys.stdin` mean?\n",
    "* What does `line.replace(...)` mean?\n",
    "\n",
    "## Exercise D: Creating a command line Python program\n",
    "Your job is to write the code necessary for a program to take an argument from the command line and return its value increased by one.\n",
    "\n",
    "Assuming your file is called `incrementor.py`, the goal is to make the following command give back the number `3`:\n",
    "```bash\n",
    "python incrementor.py 2\n",
    "```\n",
    "\n",
    "* Hint: Break this down into smaller steps. First, can you write a program that prints out the number you give it? (And **ONLY** prints it out, nothing else -- wait with the rest!). So if you write `python incrementor.py 9` can you make it print `9`? Next step: can you make it print out `10`?\n",
    "* Hint: If you don't remember what an argument it, now's a good time to revisit the materials we prepared for you."
   ]
  },
  {
   "cell_type": "code",
   "execution_count": null,
   "metadata": {},
   "outputs": [],
   "source": []
  }
 ],
 "metadata": {
  "kernelspec": {
   "display_name": "Python 3",
   "language": "python",
   "name": "python3"
  },
  "language_info": {
   "codemirror_mode": {
    "name": "ipython",
    "version": 3
   },
   "file_extension": ".py",
   "mimetype": "text/x-python",
   "name": "python",
   "nbconvert_exporter": "python",
   "pygments_lexer": "ipython3",
   "version": "3.7.3"
  }
 },
 "nbformat": 4,
 "nbformat_minor": 2
}
