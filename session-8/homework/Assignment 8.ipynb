{
 "cells": [
  {
   "cell_type": "markdown",
   "metadata": {},
   "source": [
    "# A: Searching for an index\n",
    "\n",
    "In this part of the assignment, you should write a function `where_is` that finds an element in a list. More precisely:\n",
    "\n",
    "**Input**: A list `l` and an element `x` to search for.\n",
    "\n",
    "**Output**: An index `idx` such that `l[idx] == x`, or `None` if `x` is not present in `l`. If `x` occurs more than once, the first occurrence is reported.\n",
    "\n",
    "The following has to work: \n",
    "\n",
    "```python \n",
    "> where_is([1, 3, 5], 3)\n",
    "1\n",
    "> where_is([1, 2, 4, 5, 4], 4)\n",
    "2\n",
    "> where_is([1, 2, 3], 0)\n",
    "None\n",
    "```\n",
    "\n",
    "1. Break down the problem: What is the first thing you need?\n",
    "   * This sub-problem should **not be more than 1-2 lines of code!**\n",
    "2. Solve that first problem **until you have something that works**\n",
    "3. Identify the next sub-problem and continue with 1.\n",
    "\n",
    "\n",
    "* Hint: Start by writing a function that takes the requested input and simply prints back `None`. \n",
    "   * This should only be 2 lines of code\n",
    "\n",
    "# B: Best- and worst-case runtimes (without running the code)\n",
    "\n",
    "Open the file `search.py` and read the code. In it is a function called `find_element_in_list`.\n",
    "\n",
    "1. What value of `element` is the best case for `find_element_in_list` when the `data_list` is `[0, 1, ..., 9999]`?\n",
    "2. What value of `element` is the worst case for `find_element_in_list` when the `data_list` is `[0, 1, ..., 9999]`?\n",
    "3. Let's say `find_element_in_list` is run with a list of size `n`. The worst-case runtime $O(n)$ is one of the following choices a-d, write down which one:\n",
    "\n",
    "        a. constant\n",
    "        b. linear\n",
    "        c. quadratic\n",
    "        d. exponential\n",
    "\n",
    "\n",
    "# C: Runtime analysis: Looking for elements\n",
    "\n",
    "Consider the following variant of `find_element_in_list`:\n",
    "\n",
    "```python\n",
    "def find_element_in_list2(data_list, element):\n",
    "    for idx, el in enumerate(data_list):\n",
    "        if el == element:\n",
    "            first_result_idx = idx\n",
    "            break\n",
    "    for idx, el in enumerate(data_list):\n",
    "        if el == element and idx == first_result_idx:\n",
    "            return idx, el\n",
    "```\n",
    "\n",
    "1. Let's say `find_element_in_list2` is run with a list of size `n` . The worst-case runtime  $O(n)$  is one of the following choices a.-d. But which one?\n",
    "\n",
    "        a. constant\n",
    "        b. linear\n",
    "        c. quadratic\n",
    "        d. exponential"
   ]
  },
  {
   "cell_type": "markdown",
   "metadata": {},
   "source": [
    "# D: Runtime analysis: Turtles\n",
    "  * Take the following turtle program and measure how long it takes to complete:\n",
    "\n",
    "```python\n",
    "import turtle\n",
    "    \n",
    "    \n",
    "turtle = turtle.Turtle()\n",
    "n = 8\n",
    "moves = [100] * n\n",
    "for move in moves:\n",
    "    turtle.forward(move)\n",
    "    turtle.left(45)\n",
    "```\n",
    "  \n",
    "  * What happens with the runtime if you double `n` (set it to 16)?\n",
    "  * What happens with the runtime if you double `n` again (set it to 32)?\n",
    "  * What is the limiting factor of the turtle program? And what is the big-O notation for that?"
   ]
  },
  {
   "cell_type": "markdown",
   "metadata": {},
   "source": [
    "# E: Sort performance\n",
    "\n",
    "In the file `sort_algos.py` are three sorting algorithms: bubble, selection and merge sort.\n",
    "\n",
    "1. Using the four lists below, your job is to measure the runtimes of the three algorithms. Taking one list at the time, go through the three sorting algorithms and record their runtimes in the table below.\n",
    "You can record the runtimes from python using the `timeit` module as seen in class.\n",
    "\n",
    "```python\n",
    "import random\n",
    "list1 = list(range(1000))\n",
    "list2 = list(range(10000))\n",
    "list3 = list(range(100000))\n",
    "list4 = list3[:] # Copy the full list3 into list4 ([:] is a slicing operation that copies ALL elements)\n",
    "random.shuffle(list4) # Shuffles list4, so the elements are now in random positions\n",
    "```"
   ]
  },
  {
   "cell_type": "markdown",
   "metadata": {},
   "source": [
    "  Algorithm    |      Runtime for list1      Runtime for list2       Runtime for list3       Runtime for list4\n",
    "---------------|--------------------------------------------------------------------------------------------------\n",
    "Bubble sort    |\n",
    "---------------|--------------------------------------------------------------------------------------------------\n",
    "Selection sort |\n",
    "---------------|--------------------------------------------------------------------------------------------------\n",
    "Merge sort     |"
   ]
  },
  {
   "cell_type": "markdown",
   "metadata": {},
   "source": [
    "2. (Optional) Draw and hand in a graph of the runtimes, where the x axis is time and the y axis is the size of the list."
   ]
  },
  {
   "cell_type": "markdown",
   "metadata": {},
   "source": [
    "3. What are the worst-case ($O(n)$) runtime for the the three sorting algorithms? Can you tell us why?\n",
    "  * Bubble sort\n",
    "  * Selection sort\n",
    "  * Merge sort\n",
    "  \n",
    "  \n",
    "Note: All inputs are worst-case inputs. The algorithms does not take into account that they could terminate early."
   ]
  }
 ],
 "metadata": {
  "hide_input": false,
  "kernelspec": {
   "display_name": "Python 3",
   "language": "python",
   "name": "python3"
  },
  "language_info": {
   "codemirror_mode": {
    "name": "ipython",
    "version": 3
   },
   "file_extension": ".py",
   "mimetype": "text/x-python",
   "name": "python",
   "nbconvert_exporter": "python",
   "pygments_lexer": "ipython3",
   "version": "3.7.3"
  }
 },
 "nbformat": 4,
 "nbformat_minor": 2
}
