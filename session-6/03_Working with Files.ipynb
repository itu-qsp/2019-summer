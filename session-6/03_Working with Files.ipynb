{
 "cells": [
  {
   "cell_type": "markdown",
   "metadata": {
    "slideshow": {
     "slide_type": "slide"
    }
   },
   "source": [
    "# Reading from a File\n",
    "\n",
    "A 'file' is what your computer can save and read as **data**.\n",
    "\n",
    "An incredible amount of data is available in files. \n",
    "\n",
    "Files can contain weather data, traffic data, socioeconomic data, literary works, and more. Reading from a file is particularly useful in data analysis applications, but it’s also applicable to any situation in which you want to analyze or modify information stored in a file. \n",
    "\n",
    "![](images/cabinet.gif)"
   ]
  },
  {
   "cell_type": "markdown",
   "metadata": {
    "slideshow": {
     "slide_type": "subslide"
    }
   },
   "source": [
    "## File types\n",
    "\n",
    "You probably noticed that files are typically of the form `name.suffix`. The `suffix` part tells us about the type of the file. Here are some file ending examples:\n",
    "\n",
    "* `.txt`    Plain text files\n",
    "* `.html`   Website files\n",
    "* `.csv`    Comma-separated values\n",
    "* `.rtf`    Rich-text formatting\n",
    "* `.doc`    Document files\n",
    "* `.pdf`    Pdf files\n",
    "\n",
    "We will get back to this later. For now let's look at a plain text file (`.txt`): "
   ]
  },
  {
   "cell_type": "code",
   "execution_count": null,
   "metadata": {
    "slideshow": {
     "slide_type": "fragment"
    }
   },
   "outputs": [],
   "source": [
    "%%bash\n",
    "head bones_in_london.txt"
   ]
  },
  {
   "cell_type": "markdown",
   "metadata": {
    "slideshow": {
     "slide_type": "subslide"
    }
   },
   "source": [
    "Text files can either be read from or written to. Let's have a look at reading first."
   ]
  },
  {
   "cell_type": "markdown",
   "metadata": {
    "slideshow": {
     "slide_type": "subslide"
    }
   },
   "source": [
    "## Reading an Entire File\n",
    "\n",
    "When you want to work with the information in a text file, the first step is to **open** it. \n",
    "\n",
    "```python\n",
    "with open('bones_in_london.txt') as file:\n",
    "    ...\n",
    "```\n",
    "\n",
    "This will give you an **object** in the `file` variable. You can use this object to both read and write. But let's look at reading first."
   ]
  },
  {
   "cell_type": "code",
   "execution_count": null,
   "metadata": {
    "slideshow": {
     "slide_type": "subslide"
    }
   },
   "outputs": [],
   "source": [
    "with open('bones_in_london.txt') as file:\n",
    "    print(file)"
   ]
  },
  {
   "cell_type": "markdown",
   "metadata": {
    "slideshow": {
     "slide_type": "subslide"
    }
   },
   "source": [
    "## `file.read()`"
   ]
  },
  {
   "cell_type": "code",
   "execution_count": null,
   "metadata": {},
   "outputs": [],
   "source": [
    "with open('bones_in_london.txt') as file:\n",
    "    content = file.read()\n",
    "    print(content)"
   ]
  },
  {
   "cell_type": "markdown",
   "metadata": {
    "slideshow": {
     "slide_type": "subslide"
    }
   },
   "source": [
    "Challenge: print only the first 700 lines"
   ]
  },
  {
   "cell_type": "code",
   "execution_count": null,
   "metadata": {
    "slideshow": {
     "slide_type": "-"
    }
   },
   "outputs": [],
   "source": [
    "with open('bones_in_london.txt') as file:\n",
    "    content = file.read()\n",
    "    print(content)"
   ]
  },
  {
   "cell_type": "markdown",
   "metadata": {
    "slideshow": {
     "slide_type": "notes"
    }
   },
   "source": [
    "Let’s start by looking at the `open() function`. To do any work with a file, even just printing its contents, you first need to open the file to access it. The `open()` function needs one argument: the name of the file you want to open. Python looks for this file in the directory where the program that is currently being executed is stored. \n",
    "\n",
    "The `open()` function returns an object representing the file. Here, `open(file_name)` returns an object representing `a_study_in_scarlet.txt`. Python stores this object in `file_object`, which we will work with later in the program.\n",
    "\n",
    "The keyword `with` denotes a *Context Manager*, which essentially wraps a block of code and performs an action at the end of the block, no matter how it exits. In this case, it closes the file once access to it is no longer needed. Notice how we call `open()` in this program but not `close()`. You could open and close the file by calling `open()` and `close()`, but if a bug in your program prevents the `close()` statement from being executed, the file may never close. This may seem trivial, but improperly closed files can cause data to be lost or corrupted. And if you call `close()` too early in your program, you’ll find yourself trying to work with a closed file (a file you can’t access), which leads to more errors. It is not always easy to know exactly when you should close a file, but with the structure shown here, Python will figure that out for you. All you have to do is open the file and work with it as desired, trusting that Python will close it automatically when the time is right.\n",
    "\n",
    "Once we have a file object representing `a_study_in_scarlet.txt`, we use the `read()` method in the second line of our program to read the entire contents of the file and store it as one long string in contents. When we print the value of contents, we get the **entire** text file back.\n",
    "\n",
    "The only difference between this output and the original file is the extra blank line at the end of the output. The blank line appears because `read()` returns an empty string when it reaches the end of the file; this empty string shows up as a blank line. If you want to remove the extra blank line, you can use `rstrip()`."
   ]
  },
  {
   "cell_type": "markdown",
   "metadata": {
    "slideshow": {
     "slide_type": "subslide"
    }
   },
   "source": [
    "## Reading Line by Line\n",
    "\n",
    "When you are reading a file, you will often want to examine each line of the file. You might be looking for certain information in the file, or you might want to modify the text in the file in some way. \n",
    "\n",
    "You can use a `for` loop on the file object to examine each line from a file one at a time."
   ]
  },
  {
   "cell_type": "code",
   "execution_count": null,
   "metadata": {
    "slideshow": {
     "slide_type": "fragment"
    }
   },
   "outputs": [],
   "source": [
    "with open('bones_in_london.txt') as file:\n",
    "    for line in file:\n",
    "        print(line)"
   ]
  },
  {
   "cell_type": "markdown",
   "metadata": {
    "slideshow": {
     "slide_type": "subslide"
    }
   },
   "source": [
    "## Making a List of Lines from a File\n",
    "\n",
    "When you use `with`, the file object returned by `open()` is only available inside the `with` block that contains it. If you want to retain access to a file’s contents outside the with block, you can store the file’s lines in a list inside the block and then work with that list.\n",
    "\n",
    "The following example stores the lines of `bones_in_london.txt` in a list inside the with block and then prints the lines outside the `with` block."
   ]
  },
  {
   "cell_type": "code",
   "execution_count": null,
   "metadata": {
    "slideshow": {
     "slide_type": "subslide"
    }
   },
   "outputs": [],
   "source": [
    "filename = 'bones_in_london.txt'\n",
    "\n",
    "with open(filename) as file_pointer:\n",
    "    lines = file_pointer.readlines()\n",
    "\n",
    "for line in lines:\n",
    "    print(line)"
   ]
  },
  {
   "cell_type": "markdown",
   "metadata": {
    "slideshow": {
     "slide_type": "subslide"
    }
   },
   "source": [
    "## Working with a File’s Contents\n",
    "\n",
    "After you have read a file into memory, you can do whatever you want with that data, so let’s briefly explore some lines of the Sherlock Holmes story. First, we’ll attempt to build a single string containing all the digits in the file with no whitespace in it.\n",
    "\n",
    "**Warning!** When Python reads from a text file, it interprets all text in the file as a string. If you read in a number and want to work with that value in a numerical context, you will have to convert it to an integer using the `int()` function or convert it to a float using the `float()` function.\n",
    "\n",
    "Python has no inherent limit to how much data you can work with; you can work with as much data as your system’s memory can handle."
   ]
  },
  {
   "cell_type": "code",
   "execution_count": null,
   "metadata": {
    "slideshow": {
     "slide_type": "subslide"
    }
   },
   "outputs": [],
   "source": [
    "filename = 'bones_in_london.txt'\n",
    "\n",
    "with open(filename) as file_pointer:\n",
    "    lines = file_pointer.readlines()\n",
    "\n",
    "story_string = ''\n",
    "for line in lines[100:120]:\n",
    "    story_string += line.rstrip()\n",
    "\n",
    "print(story_string) \n",
    "print(len(story_string))"
   ]
  },
  {
   "cell_type": "markdown",
   "metadata": {
    "slideshow": {
     "slide_type": "slide"
    }
   },
   "source": [
    "# A quick note on binary files\n",
    "\n",
    "Not all files are good to read. Let's try to open an image file in Python:"
   ]
  },
  {
   "cell_type": "code",
   "execution_count": null,
   "metadata": {
    "slideshow": {
     "slide_type": "fragment"
    }
   },
   "outputs": [],
   "source": [
    "with open('images/cabinet.gif') as file_pointer:\n",
    "    for line in file_pointer:\n",
    "        print(line)"
   ]
  },
  {
   "cell_type": "markdown",
   "metadata": {
    "slideshow": {
     "slide_type": "subslide"
    }
   },
   "source": [
    "Uh-oh. What happened? As you know images are not text. Neither are `.pdf`, `.docx` or `.xlsx` files. \n",
    "\n",
    "If you try to open these files as text you run into problem. They are stored as binary digits (0 or 1s) in a very specific order."
   ]
  },
  {
   "cell_type": "markdown",
   "metadata": {
    "slideshow": {
     "slide_type": "subslide"
    }
   },
   "source": [
    "## Recap\n",
    "\n",
    "* Files and folders\n",
    "* Reading from files\n",
    "  * ```python\n",
    "with open('file.txt') as file:\n",
    "       ...\n",
    "```\n",
    "  * Or on the command line: `cat file.txt`\n",
    "* Difference between text and binary files"
   ]
  },
  {
   "cell_type": "markdown",
   "metadata": {
    "slideshow": {
     "slide_type": "slide"
    }
   },
   "source": [
    "# Writing to a File with `file.write()`\n",
    "\n",
    "One of the simplest ways to save data is to write it to a file. When you write text to a file, the output will still be available after you close the terminal containing your program’s output. \n"
   ]
  },
  {
   "cell_type": "code",
   "execution_count": null,
   "metadata": {},
   "outputs": [],
   "source": [
    "with open('new_file.txt', 'w') as file: # Notice the 'w' for 'write'!\n",
    "    file.write('This is a test!')"
   ]
  },
  {
   "cell_type": "code",
   "execution_count": null,
   "metadata": {},
   "outputs": [],
   "source": [
    "with open('new_file.txt', 'r') as file: # Notice the 'r' for 'read'!\n",
    "    print(file.read())"
   ]
  },
  {
   "cell_type": "markdown",
   "metadata": {},
   "source": [
    "## File modes\n",
    "\n",
    "| File mode | `open` letter | Effect |\n",
    "| --------- | ------------- | ------ |\n",
    "| Read mode | `r` | Only **read** from the file |\n",
    "| Write mode | `w` | Only **write** to the file |\n",
    "| Append mode | `a` | Only **append** to the file |\n",
    "\n",
    "Default mode (no `open` letter) is reading.\n",
    "\n",
    "For more modes, see https://docs.python.org/3.7/tutorial/inputoutput.html#reading-and-writing-files"
   ]
  },
  {
   "cell_type": "code",
   "execution_count": null,
   "metadata": {
    "slideshow": {
     "slide_type": "subslide"
    }
   },
   "outputs": [],
   "source": [
    "with open('new_file.txt', 'a') as file: # Notice the 'a' for 'append'!\n",
    "    file.write('This is a test!')"
   ]
  },
  {
   "cell_type": "code",
   "execution_count": null,
   "metadata": {
    "slideshow": {
     "slide_type": "slide"
    }
   },
   "outputs": [],
   "source": [
    "with open('new_file.txt', 'r') as file: # Notice the 'r' for 'read'!\n",
    "    file.write('This is a test!')"
   ]
  },
  {
   "cell_type": "markdown",
   "metadata": {
    "slideshow": {
     "slide_type": "subslide"
    }
   },
   "source": [
    "## Exercise\n",
    "\n",
    "* Go through the program with your neighbour. What does the program do?"
   ]
  },
  {
   "cell_type": "code",
   "execution_count": null,
   "metadata": {
    "slideshow": {
     "slide_type": "-"
    }
   },
   "outputs": [],
   "source": [
    "# Reading\n",
    "filename = 'bones_in_london.txt'\n",
    "with open(filename) as file_pointer:\n",
    "    lines = file_pointer.readlines()\n",
    "\n",
    "# Processing\n",
    "story_string = ''\n",
    "for line in lines[100:120]:\n",
    "    story_string += line\n",
    "\n",
    "# Writing\n",
    "filename = 'sherlock_copy.txt'\n",
    "with open(filename, 'w') as file_object:\n",
    "    file_object.write(story_string)"
   ]
  },
  {
   "cell_type": "code",
   "execution_count": null,
   "metadata": {
    "slideshow": {
     "slide_type": "subslide"
    }
   },
   "outputs": [],
   "source": [
    "with open('sherlock_copy.txt') as file:\n",
    "    print(file.read())"
   ]
  },
  {
   "cell_type": "markdown",
   "metadata": {
    "slideshow": {
     "slide_type": "subslide"
    }
   },
   "source": [
    "## Newlines are platform dependent\n",
    "\n",
    "In Unix world, newlines are `'\\n'`, but in Windows they are `''`:"
   ]
  },
  {
   "cell_type": "code",
   "execution_count": null,
   "metadata": {
    "slideshow": {
     "slide_type": "-"
    }
   },
   "outputs": [],
   "source": [
    "import platform\n",
    "\n",
    "\n",
    "if platform.system() == 'Windows':\n",
    "    newline = ''\n",
    "else:\n",
    "    newline = None\n",
    "    \n",
    "with open('sherlock_copy.txt', 'w', newline=newline) as file_object:\n",
    "    file_object.write(story_string)"
   ]
  },
  {
   "cell_type": "markdown",
   "metadata": {
    "slideshow": {
     "slide_type": "subslide"
    }
   },
   "source": [
    "That is, on Windows you have to pass the newline argument when writing files.\n",
    "\n",
    "##### Windows\n",
    "\n",
    "```python\n",
    "with open('sherlock_copy.txt', 'w', newline='') as file_object:\n",
    "    file_object.write(story_string)\n",
    "```\n",
    "\n",
    "##### MacOS, Linux, other Unixes\n",
    "\n",
    "```python\n",
    "with open('sherlock_copy.txt', 'w') as file_object:\n",
    "    file_object.write(story_string)\n",
    "```"
   ]
  },
  {
   "cell_type": "markdown",
   "metadata": {
    "slideshow": {
     "slide_type": "subslide"
    }
   },
   "source": [
    "## String `rstrip()`"
   ]
  },
  {
   "cell_type": "code",
   "execution_count": null,
   "metadata": {},
   "outputs": [],
   "source": [
    "print(help(str.rstrip))"
   ]
  },
  {
   "cell_type": "code",
   "execution_count": null,
   "metadata": {},
   "outputs": [],
   "source": [
    "print('Hello world \\n\\n\\n')"
   ]
  },
  {
   "cell_type": "code",
   "execution_count": null,
   "metadata": {},
   "outputs": [],
   "source": [
    "print('Hello world \\n\\n\\n'.rstrip())"
   ]
  },
  {
   "cell_type": "markdown",
   "metadata": {
    "slideshow": {
     "slide_type": "subslide"
    }
   },
   "source": [
    "## Writing Multiple Lines\n",
    "\n",
    "The `write()` function does not add any newlines to the text you write. So if you write more than one line without including newline characters, your file may not look the way you want it to."
   ]
  },
  {
   "cell_type": "code",
   "execution_count": null,
   "metadata": {
    "slideshow": {
     "slide_type": "subslide"
    }
   },
   "outputs": [],
   "source": [
    "filename = 'a_study_in_scarlet.txt'\n",
    "with open(filename) as file_pointer:\n",
    "    lines = file_pointer.readlines()\n",
    "    \n",
    "story_string = ''\n",
    "for line in lines[100:120]:\n",
    "    story_string += line.strip()\n",
    "\n",
    "filename = 'sherlock_copy.txt'\n",
    "with open(filename, 'w') as file_object:\n",
    "    file_object.write(story_string[:50] + '\\n')\n",
    "    file_object.write(story_string[50:100])"
   ]
  },
  {
   "cell_type": "code",
   "execution_count": null,
   "metadata": {
    "slideshow": {
     "slide_type": "subslide"
    }
   },
   "outputs": [],
   "source": [
    "with open('sherlock_copy.txt') as file:\n",
    "    print(file.read())"
   ]
  }
 ],
 "metadata": {
  "celltoolbar": "Slideshow",
  "kernelspec": {
   "display_name": "Python 3",
   "language": "python",
   "name": "python3"
  },
  "language_info": {
   "codemirror_mode": {
    "name": "ipython",
    "version": 3
   },
   "file_extension": ".py",
   "mimetype": "text/x-python",
   "name": "python",
   "nbconvert_exporter": "python",
   "pygments_lexer": "ipython3",
   "version": "3.7.3"
  }
 },
 "nbformat": 4,
 "nbformat_minor": 2
}
