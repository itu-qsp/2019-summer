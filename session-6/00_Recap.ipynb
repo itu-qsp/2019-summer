{
 "cells": [
  {
   "cell_type": "markdown",
   "metadata": {
    "slideshow": {
     "slide_type": "slide"
    }
   },
   "source": [
    "## Good morning!\n",
    "\n",
    "![](https://img21.dreamies.de/img/572/b/h0h8txspk3h.gif)"
   ]
  },
  {
   "cell_type": "markdown",
   "metadata": {
    "slideshow": {
     "slide_type": "subslide"
    }
   },
   "source": [
    "## Assignment 4 feedback"
   ]
  },
  {
   "cell_type": "markdown",
   "metadata": {
    "slideshow": {
     "slide_type": "subslide"
    }
   },
   "source": [
    "## Part A: Loops in loops\n",
    "\n",
    "```python\n",
    "list_of_lists = [\n",
    "    ['Gin', 'Vermouth', 'Campari', 'Orange peel'],\n",
    "    ['White port', 'Tonic water'],\n",
    "    ['Vodka', 'Triple sec', 'Cranberry juice', 'Lime juice'],\n",
    "    ['Vodka', 'Tequila', 'Light rum', 'Triple sec', 'Gin', 'Cola'],\n",
    "    ['Vodka', 'Tomato juice', 'Worcestershire sauce']\n",
    "]\n",
    "```"
   ]
  },
  {
   "cell_type": "markdown",
   "metadata": {
    "slideshow": {
     "slide_type": "subslide"
    }
   },
   "source": [
    "```python\n",
    "for ingredients in list_of_lists:\n",
    "    print('For this drink I need the following ingredients:')\n",
    "    for ingredient in ingredients:\n",
    "        print(ingredient, end=', ')\n",
    "    print('and that was it!\\n')\n",
    "```"
   ]
  },
  {
   "cell_type": "markdown",
   "metadata": {
    "slideshow": {
     "slide_type": "fragment"
    }
   },
   "source": [
    "\n",
    "```\n",
    "# What is the difference between ingredients and ingredient?\n",
    "#   - Ingredients represents the individual lists in the list of lists, we have named list_of_lists\n",
    "#       - Example: 'Gin', 'Vermouth', 'Campari', 'Orange peel']\n",
    "#   - Ingredient then represents the value within each of the lists within the lists\n",
    "#       - Example: 'Gin'\n",
    "```"
   ]
  },
  {
   "cell_type": "markdown",
   "metadata": {
    "slideshow": {
     "slide_type": "subslide"
    }
   },
   "source": [
    "## Part C: CLI programs\n",
    "\n",
    "```python\n",
    "import sys\n",
    "\n",
    "pattern = sys.argv[1]\n",
    "substitution = sys.argv[2]\n",
    "line = \"My cat looks weirdly. The neighbour's cat too...\"\n",
    "print(line.replace(pattern, substitution))\n",
    "```"
   ]
  },
  {
   "cell_type": "markdown",
   "metadata": {
    "slideshow": {
     "slide_type": "-"
    }
   },
   "source": [
    "Running the program:\n",
    "\n",
    "```\n",
    "$ python cli_program.py cat dog\n",
    "```"
   ]
  },
  {
   "cell_type": "markdown",
   "metadata": {
    "slideshow": {
     "slide_type": "subslide"
    }
   },
   "source": [
    "## Part D: CLI incrementor\n",
    "\n",
    "```python\n",
    "import sys\n",
    "\n",
    "number = int(sys.argv[1])\n",
    "incremented = number + 1\n",
    "print(incremented)\n",
    "```"
   ]
  },
  {
   "cell_type": "markdown",
   "metadata": {
    "slideshow": {
     "slide_type": "-"
    }
   },
   "source": [
    "Running the program:\n",
    "\n",
    "```\n",
    "$ python incrementor.py 2\n",
    "```"
   ]
  },
  {
   "cell_type": "markdown",
   "metadata": {
    "slideshow": {
     "slide_type": "slide"
    }
   },
   "source": [
    "## Evaluation feedback\n",
    "\n",
    "### Negative\n",
    "\n",
    "* Too fast and too much\n",
    "  * Lectures\n",
    "  * Course in general\n",
    "* Varying speeds in lecture\n",
    "* No explanation about the test\n",
    "* No TAs after 15\n",
    "  * Difficult to get help at home\n",
    "* No slides before class\n",
    "* No overview of syntax\n",
    "* Mistakes in assignment\n",
    "* Not enough examples\n",
    "* Information in many places\n",
    "* Can be hard to hear us\n",
    "  * Especially in the recording"
   ]
  },
  {
   "cell_type": "markdown",
   "metadata": {
    "slideshow": {
     "slide_type": "subslide"
    }
   },
   "source": [
    "## Evaluation feedback\n",
    "\n",
    "### Positive\n",
    "\n",
    "* Enthusiastic/engaging teachers and TAs\n",
    "  * Humor and teamwork\n",
    "* Good structure\n",
    "  * Lecture/workshop/assignment\n",
    "  * Breaks in lecture\n",
    "  * \"Break day\"\n",
    "* Accessible/diverse material\n",
    "  * Good book\n",
    "* Embracing failure\n",
    "  * Good for beginners\n",
    "* Relevant\n",
    "* Good feedback"
   ]
  },
  {
   "cell_type": "markdown",
   "metadata": {
    "slideshow": {
     "slide_type": "subslide"
    }
   },
   "source": [
    "## How to see the course material\n",
    "\n",
    "https://github.com/itu-qsp/2019-summer\n",
    "\n",
    "![](images/github.png)"
   ]
  },
  {
   "cell_type": "markdown",
   "metadata": {
    "slideshow": {
     "slide_type": "subslide"
    }
   },
   "source": [
    "## Multiline strings\n",
    "\n",
    "What was that?"
   ]
  },
  {
   "cell_type": "code",
   "execution_count": 2,
   "metadata": {
    "slideshow": {
     "slide_type": "fragment"
    }
   },
   "outputs": [
    {
     "name": "stdout",
     "output_type": "stream",
     "text": [
      "To Sherlock Holmes she is always the woman. I have \n",
      "seldom heard him mention her under any other name. In his eyes \n",
      "she eclipses and predominates the whole of her sex. It was not \n",
      "that he felt any emotion akin to love for Irene Adler.\n"
     ]
    }
   ],
   "source": [
    "text = 'To Sherlock Holmes she is always the woman. I have \\nseldom heard him mention her under any other name. In his eyes \\nshe eclipses and predominates the whole of her sex. It was not \\nthat he felt any emotion akin to love for Irene Adler.'\n",
    "print(text)"
   ]
  },
  {
   "cell_type": "code",
   "execution_count": 3,
   "metadata": {
    "slideshow": {
     "slide_type": "fragment"
    }
   },
   "outputs": [
    {
     "name": "stdout",
     "output_type": "stream",
     "text": [
      "To Sherlock Holmes she is always the woman. I have \n",
      "seldom heard him mention her under any other name. In his eyes \n",
      "she eclipses and predominates the whole of her sex. It was not \n",
      "that he felt any emotion akin to love for Irene Adler.\n"
     ]
    }
   ],
   "source": [
    "text = '''To Sherlock Holmes she is always the woman. I have \n",
    "seldom heard him mention her under any other name. In his eyes \n",
    "she eclipses and predominates the whole of her sex. It was not \n",
    "that he felt any emotion akin to love for Irene Adler.'''\n",
    "print(text)"
   ]
  },
  {
   "cell_type": "markdown",
   "metadata": {
    "slideshow": {
     "slide_type": "slide"
    }
   },
   "source": [
    "## What you learned so far\n",
    "\n",
    "\n",
    "| Date     | Topic | Contents |\n",
    "| ---------| ----- | -------- | \n",
    "| 1/7/2019 | 1: Meet your (other) computer! | Terminals, files and folders\n",
    "| 3/7/2019 | 2: Learning Python | Python data types and logic\n",
    "| 5/7/2019 | 3: Using Python | Lists and loops\n",
    "| 8/7/2019 | 4: Solving actual problems | More lists, exceptions and pseudo code\n",
    "| 10/7/2019 | 5: Python building blocks | Functions, modules, sets and dictionaries"
   ]
  }
 ],
 "metadata": {
  "celltoolbar": "Slideshow",
  "kernelspec": {
   "display_name": "Python 3",
   "language": "python",
   "name": "python3"
  },
  "language_info": {
   "codemirror_mode": {
    "name": "ipython",
    "version": 3
   },
   "file_extension": ".py",
   "mimetype": "text/x-python",
   "name": "python",
   "nbconvert_exporter": "python",
   "pygments_lexer": "ipython3",
   "version": "3.7.3"
  }
 },
 "nbformat": 4,
 "nbformat_minor": 2
}
