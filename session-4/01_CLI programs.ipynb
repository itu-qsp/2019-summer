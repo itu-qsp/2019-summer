{
 "cells": [
  {
   "cell_type": "markdown",
   "metadata": {
    "slideshow": {
     "slide_type": "slide"
    }
   },
   "source": [
    "# Running Python Programs from the Command-line\n",
    "\n",
    "When you call your Python programs from the command-line, you can pass arguments to it too. In the most basic form this looks like:\n",
    "\n",
    "```bash\n",
    "$ python your_program.py arg1 arg2\n",
    "```\n",
    "\n",
    "Passing CLI arguments is common praxis for running your program in various configurations. \n",
    "\n",
    "In this session, we will learn how to parse CLI arguments and options so that you can run your programs parametrized from the command-line."
   ]
  },
  {
   "cell_type": "markdown",
   "metadata": {
    "collapsed": true,
    "slideshow": {
     "slide_type": "slide"
    }
   },
   "source": [
    "## Parsing CLI Arguments\n",
    "\n",
    "Arguments are given -separated by spaces- after the name of your program on the CLI. Within your code, you can access them via the `argv` in the `sys` module. Here `argv[0]` is the script pathname (if known) and all the following elements of that list are the arguments given to your program.\n",
    "\n",
    "\n",
    "\n",
    "\n",
    "```python\n",
    "import sys\n",
    "\n",
    "\n",
    "print('Script is: ' + sys.argv[0])\n",
    "print('Arguments given: ' + str(sys.argv[1:]))\n",
    "```"
   ]
  },
  {
   "cell_type": "markdown",
   "metadata": {
    "slideshow": {
     "slide_type": "subslide"
    }
   },
   "source": [
    "## Your turn\n",
    "\n",
    "Clear Mu and type this in:\n",
    "\n",
    "```python\n",
    "import sys\n",
    "\n",
    "\n",
    "print(__file__)\n",
    "print(sys.argv[0])\n",
    "```\n",
    "\n",
    "* What do you think the two arguments mean (`__file__` and `sys.argv[0]`)? \n",
    "* Why do you think it prints what it prints?\n",
    "* Remove the `[0]` from the second line. Do you get what you expect?"
   ]
  },
  {
   "cell_type": "markdown",
   "metadata": {
    "slideshow": {
     "slide_type": "subslide"
    }
   },
   "source": [
    "Your program now looks like this:\n",
    "\n",
    "```python\n",
    "import sys\n",
    "\n",
    "\n",
    "print(__file__)\n",
    "print(sys.argv[0])\n",
    "```\n",
    "\n",
    "* Save it somewhere you can find it\n",
    "* Open a terminal, and navigate to the place where you saved the file\n",
    "* Run it with `python my_program.py`, where `my_program.py` is the name of your file\n",
    "* Do you get what you expect?"
   ]
  },
  {
   "cell_type": "markdown",
   "metadata": {
    "slideshow": {
     "slide_type": "subslide"
    }
   },
   "source": [
    "## Exercise\n",
    "\n",
    "Write a small command-line program that prints all the command-line arguments (one per line), regardless of how many arguments you give it!\n",
    "\n",
    "Executing\n",
    "```bash\n",
    "python printer.py faithful and friendly with stories to shaaaaare\n",
    "```\n",
    "\n",
    "Shall produce: \n",
    "```bash\n",
    "faithful\n",
    "and\n",
    "friendly\n",
    "with\n",
    "stories\n",
    "to \n",
    "shaaaaare\n",
    "```"
   ]
  },
  {
   "cell_type": "markdown",
   "metadata": {
    "slideshow": {
     "slide_type": "skip"
    }
   },
   "source": [
    "### Exercise:\n",
    "\n",
    "Write a small command-line program that can create lines of Scatman songs. For example, the following call\n",
    "\n",
    "```bash\n",
    "python scatman.py ba-da 2 ba-be 1 bop 2 bodda 1 bope 1\n",
    "```\n",
    "\n",
    "Shall produce the 13th line of the song: `ba-daba-da ba-be bopbop bodda bope`\n",
    "\n",
    "The arguments for your program shall be an even length list of string integer pairs, where the string denotes the _scatter_ and the integer denotes how often it appears in that line.\n",
    "\n",
    "\n",
    "See the Scatman lyrics for more possible lines to produce: https://www.azlyrics.com/lyrics/scatmanjohn/scatmanskibabopbadopbop.html\n",
    "And the song:\n",
    "https://www.youtube.com/watch?v=Hy8kmNEo1i8"
   ]
  },
  {
   "cell_type": "markdown",
   "metadata": {
    "slideshow": {
     "slide_type": "subslide"
    }
   },
   "source": [
    "## CLI options\n",
    "\n",
    "So we saw how you can give a program arguments that it **requires** before it can run. But what about optional arguments? Or flags?\n",
    "\n",
    "To provide something to a CLI program that is **optional** the convention is to use a single dash and a single character (`-h`) or double dashed and a full word (`--help`). \n",
    "\n",
    "Try that out with `python`: `python -h` and `python --help`"
   ]
  },
  {
   "cell_type": "markdown",
   "metadata": {
    "slideshow": {
     "slide_type": "subslide"
    }
   },
   "source": [
    "## Parsing CLI options and arguments\n",
    "\n",
    "You can of course parse all the arguments and options yourself, but there exist a module for exactly this: `argparse`: \n",
    "\n",
    "```python\n",
    "import argparse\n",
    "\n",
    "\n",
    "parser = argparse.ArgumentParser()\n",
    "parser.add_argument('person', help='A required argument!')\n",
    "parser.add_argument('-f', '--foo', help='An optional argument')\n",
    "arguments = parser.parse_args()\n",
    "\n",
    "print(\"Person: \" + arguments.person)\n",
    "print(\"Arguments: \" + arguments.foo)\n",
    "```"
   ]
  },
  {
   "cell_type": "markdown",
   "metadata": {
    "slideshow": {
     "slide_type": "skip"
    }
   },
   "source": [
    "# Program pipes\n",
    "\n",
    "Just like your program here in your notebooks can use `input` to read input from the user, so can your CLI program. But instead of calling `input()` we have to call a special function in the `sys.stdin` module called `read`:\n",
    "\n",
    "```python\n",
    "import sys\n",
    "\n",
    "\n",
    "user_input = sys.stdin.read()\n",
    "print(user_input)\n",
    "```"
   ]
  },
  {
   "cell_type": "markdown",
   "metadata": {
    "slideshow": {
     "slide_type": "skip"
    }
   },
   "source": [
    "## Program pipes\n",
    "\n",
    "`stdin` stands for **standard input**, which is the common way to put something **into** a program.\n",
    "\n",
    "As you probably guessed, there is also a way to get something **out** of your program. And, yes, that's called `stdout`. Only, you don't have to specify that you write to `stdout`. Whenever you `print`, that is done automatically."
   ]
  },
  {
   "cell_type": "markdown",
   "metadata": {
    "slideshow": {
     "slide_type": "skip"
    }
   },
   "source": [
    "## Piping Arguments to Your Program\n",
    "\n",
    "Here is another example (see `cli_reverse.py`), that reverses all lines that are piped to it. That is, it is called via for example `cat your.txt | python cli_reverse.py`. The program writes it's output again to `stdout`.\n",
    "\n",
    "```python\n",
    "import sys\n",
    "\n",
    "\n",
    "input_lines = sys.stdin.read().split('\\n')\n",
    "output_lines = reversed(input_lines)\n",
    "output_str = '\\n'.join(output_lines)\n",
    "sys.stdout.write(output_str)\n",
    "\n",
    "```"
   ]
  },
  {
   "cell_type": "markdown",
   "metadata": {
    "slideshow": {
     "slide_type": "skip"
    }
   },
   "source": [
    "## Pipe inception!\n",
    "\n",
    "Wait!, you think. Does that mean that we can take the output of a program and feed that to another program? Well, yes it does.\n",
    "\n",
    "\n",
    "You can combine CLI arguments and piping support, as the following example illustrates. `cli_replace.py` replaces a match for a regular expression line by line with a replacement text. The regular expression and the replacement text are given as arguments to the program. This is done with the 'pipe' character `|`.\n",
    "\n",
    "**OBS**: When writing the following commands into your command line, use only the actual command never the first line saying `%%bash`! This is unfortuantely a technicality needed here for presentation."
   ]
  },
  {
   "cell_type": "code",
   "execution_count": null,
   "metadata": {
    "slideshow": {
     "slide_type": "skip"
    }
   },
   "outputs": [],
   "source": [
    "%%bash\n",
    "echo 'Hello world' | rev"
   ]
  },
  {
   "cell_type": "code",
   "execution_count": null,
   "metadata": {
    "slideshow": {
     "slide_type": "skip"
    }
   },
   "outputs": [],
   "source": [
    "%%bash\n",
    "echo 'Hello world' | wc -c"
   ]
  },
  {
   "cell_type": "code",
   "execution_count": null,
   "metadata": {
    "slideshow": {
     "slide_type": "skip"
    }
   },
   "outputs": [],
   "source": [
    "%%bash\n",
    "cat his_last_bow.txt | wc -c"
   ]
  },
  {
   "cell_type": "code",
   "execution_count": null,
   "metadata": {
    "slideshow": {
     "slide_type": "skip"
    }
   },
   "outputs": [],
   "source": [
    "%%bash\n",
    "cat his_last_bow.txt | rev"
   ]
  }
 ],
 "metadata": {
  "celltoolbar": "Slideshow",
  "kernelspec": {
   "display_name": "Python 3",
   "language": "python",
   "name": "python3"
  },
  "language_info": {
   "codemirror_mode": {
    "name": "ipython",
    "version": 3
   },
   "file_extension": ".py",
   "mimetype": "text/x-python",
   "name": "python",
   "nbconvert_exporter": "python",
   "pygments_lexer": "ipython3",
   "version": "3.7.3"
  }
 },
 "nbformat": 4,
 "nbformat_minor": 2
}
