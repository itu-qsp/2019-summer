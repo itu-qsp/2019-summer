{
 "cells": [
  {
   "cell_type": "markdown",
   "metadata": {
    "slideshow": {
     "slide_type": "slide"
    }
   },
   "source": [
    "# Workshop\n",
    "\n",
    "![](https://media0.giphy.com/media/FqdGGgugkC4Xm/giphy.gif)\n",
    "\n",
    "\n",
    "## A: Up to date\n",
    "\n",
    "Go through the lecture and:\n",
    "\n",
    "1. Make sure that you understand\n",
    "  - Algorithmic complexity and Big-O notation\n",
    "  - Abstract data types\n",
    "    - Stacks and Queues\n",
    "2. Implement the remainder of your `Stack` implementation\n",
    "  - `pop`, `is_empty`, `size`\n",
    "3. Look at the slides for the `Queue` abstract data type. Create the `Queue` class in Mu, as shown in the slide, and implement the missing code for the `is_empty` and `size` methods\n",
    "\n",
    "\n",
    "## B: Add more Checks to a Function\n",
    "\n",
    "After the lecture, the function `balanced_quotation_marks` does not work properly as intended.\n",
    "\n",
    "```python\n",
    "def balanced_quotation_marks(text):\n",
    "    check_stack = Stack()\n",
    "\n",
    "    for character in text:\n",
    "        if character == '“':\n",
    "            check_stack.push(character)\n",
    "        elif character == '”':\n",
    "            check_stack.pop()\n",
    "\n",
    "    if check_stack.is_empty():\n",
    "        print('I think you quotation signs are balanced.')\n",
    "        return True\n",
    "    else:\n",
    "        print('Hov, it seems as if you forgot to unquote text.')\n",
    "        return False\n",
    "```\n",
    "\n",
    "For example, with the following call to the function `balanced_quotation_marks` makes it behave not as intended:\n",
    "\n",
    "```python\n",
    "balanced_quotation_marks('As to the latter part, I have no means of checking you,” said I, “but”')\n",
    "```\n",
    "\n",
    "  * Try to understand what is going wrong. If in doubt run the program in the debugger and _click_ through it to understand what is going on.\n",
    "  * Modify the function `balanced_quotation_marks` so that it produces a correct error message when an error occurs as above.\n",
    "  * **Hint** you may want to recover from a crashing program. If in doubt about how to do that, check session 4."
   ]
  },
  {
   "cell_type": "markdown",
   "metadata": {},
   "source": [
    "## C: Add Checks for Other Characters\n",
    "\n",
    "There are other quotes such as `‘` and `’` and additionally there are parenthesis `(` and `)` all of which should be balanced in a text. See for example the following excerpt from _The Hounds of Baskervilles_. "
   ]
  },
  {
   "cell_type": "code",
   "execution_count": 2,
   "metadata": {},
   "outputs": [
    {
     "name": "stdout",
     "output_type": "stream",
     "text": [
      "“As to the latter part, I have no means of checking you,” said I, “but\n",
      "at least it is not difficult to find out a few particulars about the\n",
      "man’s age and professional career.” From my small medical shelf I took\n",
      "down the Medical Directory and turned up the name. There were several\n",
      "Mortimers, but only one who could be our visitor. I read his record\n",
      "aloud.\n",
      "\n",
      "        “Mortimer, James, M.R.C.S., 1882, Grimpen, Dartmoor, Devon.\n",
      "        House-surgeon, from 1882 to 1884, at Charing Cross Hospital.\n",
      "        Winner of the Jackson prize for Comparative Pathology,\n",
      "        with essay entitled ‘Is Disease a Reversion?’  Corresponding\n",
      "        member of the Swedish Pathological Society.  Author of\n",
      "        ‘Some Freaks of Atavism’ (Lancet 1882).  ‘Do We Progress?’\n",
      "        (Journal of Psychology, March, 1883).  Medical Officer\n",
      "        for the parishes of Grimpen, Thorsley, and High Barrow.”\n",
      "\n",
      "“No mention of that local hunt, Watson,” said Holmes with a mischievous\n",
      "smile, “but a country doctor, as you very astutely observed. I think\n",
      "that I am fairly justified in my inferences. As to the adjectives, I\n",
      "said, if I remember right, amiable, unambitious, and absent-minded.\n",
      "It is my experience that it is only an amiable man in this world who\n",
      "receives testimonials, only an unambitious one who abandons a London\n",
      "career for the country, and only an absent-minded one who leaves his\n",
      "stick and not his visiting-card after waiting an hour in your room.”\n",
      "\n",
      "“And the dog?”\n",
      "\n"
     ]
    }
   ],
   "source": [
    "def get_text_from_file(path_to_file):\n",
    "    with open(path_to_file) as fp:\n",
    "        content_lines = fp.readlines()\n",
    "    return content_lines\n",
    "\n",
    "\n",
    "lines = get_text_from_file('the_hound_of_the_baskervilles.txt')\n",
    "text_for_analysis = ''.join(lines[146:172])\n",
    "print(text_for_analysis)"
   ]
  },
  {
   "cell_type": "markdown",
   "metadata": {},
   "source": [
    "Modify the function `balanced_quotation_marks` so that it consumes three arguments, where the first one is the `text` to check, the second is an _opening_ character, such as `“`, `‘`, or `(`, and the third is a _closing_ character, such as `”`, `’`, or `)`. \n",
    "\n",
    "```python\n",
    "def balanced_quotation_marks(text, opening='“', closing='”'):\n",
    "    # TODO: Implement me\n",
    "    pass\n",
    "```\n",
    "\n",
    "Consequently, you can check if various characters are correclty balanced.\n",
    "\n",
    "## D: Program Which Checks Various Characters\n",
    "\n",
    "Write a function `check_all`, which gets next to a text, a list of pairs of characters and sequentially checks if they are all balanced in a text. Let the body of the function `check_all` contain a `for`-loop over the `list_of_characters` to get the corresponding pairs and reuse the function `balanced_quotation_marks` within that `for`-loop. \n",
    "\n",
    "\n",
    "```python\n",
    "def check_all(text, list_of_characters):\n",
    "    # TODO: Implement me!\n",
    "    pass\n",
    "\n",
    "\n",
    "characters = [('“', '”'), ('(', ')'), ('‘', '’')]\n",
    "check_all(text_for_analysis, characters)\n",
    "```\n",
    "\n",
    "**Hints**:\n",
    "  - Reuse the function `balanced_quotation_marks(text, opening='“', closing='”')` from above.\n",
    "  - Remember how to destructure lists, tuples, etc."
   ]
  },
  {
   "cell_type": "code",
   "execution_count": null,
   "metadata": {},
   "outputs": [],
   "source": [
    "lines = get_text_from_file('the_hound_of_the_baskervilles.txt')\n",
    "text_for_analysis = ''.join(lines[146:172])\n",
    "characters = [('“', '”'), ('(', ')'), ('‘', '’')]\n",
    "\n",
    "check_all(text_for_analysis, characters)"
   ]
  },
  {
   "cell_type": "markdown",
   "metadata": {},
   "source": [
    "## E: What is this code doing...?\n",
    "\n",
    "Copy and paste the following program into a file called `mysterious.py`.\n",
    "\n",
    "After typing it in, examine it's behavior by step-wise execution in the debugger.\n",
    "  * Hint: set a breakpoint on line 2.\n",
    "  \n",
    "1. Describe what this program is actually doing.\n",
    "2. What is the running time complexity of the algorithm. Is it:\n",
    "  1. Logarithmic\n",
    "  2. Linear\n",
    "  3. Quadratic\n",
    "  4. Cubic\n",
    "\n",
    "```python\n",
    "def mysterious_function(data_list):\n",
    "    for passnum in range(len(data_list) - 1, 0, -1):\n",
    "        for idx in range(passnum):\n",
    "            if data_list[idx] > data_list[idx + 1]:\n",
    "                temp = data_list[idx]\n",
    "                data_list[idx] = data_list[idx + 1]\n",
    "                data_list[idx + 1] = temp\n",
    "\n",
    "\n",
    "if __name__ == '__main__':\n",
    "    data = [54, 26, 93, 17, 77, 31, 44, 55, 20]\n",
    "    mysterious_function(data)\n",
    "    print(data)\n",
    "```"
   ]
  }
 ],
 "metadata": {
  "hide_input": false,
  "kernelspec": {
   "display_name": "Python 3",
   "language": "python",
   "name": "python3"
  },
  "language_info": {
   "codemirror_mode": {
    "name": "ipython",
    "version": 3
   },
   "file_extension": ".py",
   "mimetype": "text/x-python",
   "name": "python",
   "nbconvert_exporter": "python",
   "pygments_lexer": "ipython3",
   "version": "3.7.3"
  }
 },
 "nbformat": 4,
 "nbformat_minor": 2
}
