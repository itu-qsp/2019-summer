{
 "cells": [
  {
   "cell_type": "markdown",
   "metadata": {
    "slideshow": {
     "slide_type": "slide"
    }
   },
   "source": [
    "# What have we learned so far?"
   ]
  },
  {
   "cell_type": "markdown",
   "metadata": {
    "slideshow": {
     "slide_type": "subslide"
    }
   },
   "source": [
    "## Control Structures\n",
    "\n",
    "  * Sequences of statements\n",
    "  ```python\n",
    "    fst_sentence = 'Call me Ishmael.'\n",
    "    fst_sentence = fst_sentence.split()\n",
    "    fst_sentence[-1] = 'Jens.'\n",
    "    print(' '.join(fst_sentence))\n",
    "  ```"
   ]
  },
  {
   "cell_type": "markdown",
   "metadata": {
    "slideshow": {
     "slide_type": "subslide"
    }
   },
   "source": [
    "  * Conditional statements \n",
    "  ```python\n",
    "    if filename == 'ropf.zip':\n",
    "        do_something()\n",
    "    else:\n",
    "        do_something_else()\n",
    "  ```"
   ]
  },
  {
   "cell_type": "markdown",
   "metadata": {
    "slideshow": {
     "slide_type": "subslide"
    }
   },
   "source": [
    "  * Grouping of repetitive tasks in loops\n",
    "  ```python\n",
    "    for element in collection:\n",
    "        do_something_with(element)\n",
    "  ```\n",
    "  ```python\n",
    "    while condition:\n",
    "        do_something()\n",
    "  ```"
   ]
  },
  {
   "cell_type": "markdown",
   "metadata": {
    "slideshow": {
     "slide_type": "fragment"
    }
   },
   "source": [
    "More on loops in a moment..."
   ]
  },
  {
   "cell_type": "markdown",
   "metadata": {
    "slideshow": {
     "slide_type": "subslide"
    }
   },
   "source": [
    "## Datastructures\n",
    "\n",
    "  * Basic Datatypes: Integer, Float, String\n",
    "  ```python\n",
    "    print(42)\n",
    "    print(42.0)\n",
    "    print('Fourtytwo!')\n",
    "  ```\n",
    "  * Lists\n",
    "  ```python\n",
    "    print([42, 42.0, 'Fourtytwo!'])\n",
    "  ```  "
   ]
  },
  {
   "cell_type": "markdown",
   "metadata": {
    "slideshow": {
     "slide_type": "subslide"
    }
   },
   "source": [
    "## More on loops\n",
    "\n",
    "Loops are a way to **repeat the same code** again and again, but for different inputs.\n",
    "\n",
    "Imagine that you run a chatroom, and you want to print how many users are online *every time* someone logs in.\n",
    "\n",
    "That message would be `'Users online: X'` where `X` is the number of users. In Python that would be\n",
    "```python\n",
    "print('Users online: ' + str(users_online))\n",
    "```\n",
    "... where the **variable** `users_online` is an integer"
   ]
  },
  {
   "cell_type": "markdown",
   "metadata": {
    "slideshow": {
     "slide_type": "subslide"
    }
   },
   "source": [
    "So in *pseudocode* we need something like:\n",
    "\n",
    "```\n",
    "set users_online to 0\n",
    "Everytime a user logs in:\n",
    "   print 'Users online X'\n",
    "   wait for another user to log in\n",
    "```"
   ]
  },
  {
   "cell_type": "markdown",
   "metadata": {
    "slideshow": {
     "slide_type": "subslide"
    }
   },
   "source": [
    "This code has a bug. Fix it and then run this through the debugger step by step:\n",
    "```python\n",
    "online_users = 0\n",
    "\n",
    "while online_users < 100:\n",
    "    message = 'Users online: ' + users_online\n",
    "    print(message)\n",
    "    online_users += 1\n",
    "```"
   ]
  },
  {
   "cell_type": "markdown",
   "metadata": {
    "slideshow": {
     "slide_type": "subslide"
    }
   },
   "source": [
    "Run this through the debugger step by step:\n",
    "\n",
    "```python\n",
    "from turtle import forward, right\n",
    "\n",
    "\n",
    "while True:\n",
    "    forward(100)\n",
    "    right(45)\n",
    "```"
   ]
  },
  {
   "cell_type": "code",
   "execution_count": 2,
   "metadata": {},
   "outputs": [
    {
     "name": "stdout",
     "output_type": "stream",
     "text": [
      "1\n",
      "2\n",
      "3\n",
      "4\n"
     ]
    }
   ],
   "source": [
    "my_list = [1, 2, 3, 4]\n",
    "for element in my_list:\n",
    "    print(element)"
   ]
  },
  {
   "cell_type": "markdown",
   "metadata": {
    "slideshow": {
     "slide_type": "subslide"
    }
   },
   "source": [
    "Run this through the debugger step by step:\n",
    "\n",
    "```python\n",
    "\n",
    "my_list = [1, 2, 3, 4]\n",
    "for i in my_list:\n",
    "    print(i)\n",
    "```"
   ]
  },
  {
   "cell_type": "markdown",
   "metadata": {
    "slideshow": {
     "slide_type": "subslide"
    }
   },
   "source": [
    "Run this through the debugger step by step:\n",
    "\n",
    "```python\n",
    "from turtle import forward, left\n",
    "\n",
    "\n",
    "turtle_moves = [100, 200, 100, -20]\n",
    "for move in turtle_moves:\n",
    "    forward(move)\n",
    "    left(90)\n",
    "```"
   ]
  },
  {
   "cell_type": "markdown",
   "metadata": {
    "slideshow": {
     "slide_type": "subslide"
    }
   },
   "source": [
    "## The infinite loop\n",
    "\n",
    "```python\n",
    "while True:\n",
    "    ...\n",
    "```"
   ]
  },
  {
   "cell_type": "markdown",
   "metadata": {
    "slideshow": {
     "slide_type": "subslide"
    }
   },
   "source": [
    "\n",
    "Seen on SWU memes\n",
    "\n",
    "![](images/loops.jpg)"
   ]
  },
  {
   "cell_type": "markdown",
   "metadata": {
    "slideshow": {
     "slide_type": "slide"
    }
   },
   "source": [
    "# General Feedback\n"
   ]
  },
  {
   "cell_type": "markdown",
   "metadata": {
    "slideshow": {
     "slide_type": "fragment"
    }
   },
   "source": [
    "## What should be the name of your hand-in in case your ITU login is `abcd`?\n",
    "\n",
    "  * `abcd@itu.dk.zip`\n",
    "  * `group_with_funny_name.zip`\n",
    "  * `Wiglaf.txt`\n",
    "  * `abcd.zip`"
   ]
  },
  {
   "cell_type": "markdown",
   "metadata": {
    "slideshow": {
     "slide_type": "subslide"
    }
   },
   "source": [
    "\n",
    "## Group Names\n",
    "\n",
    "There are humans reading your assignments. Choose your group names so that you would not have a problem saying it when having coffee and cake with your grandparents on a Sunday afternoon.\n",
    "\n"
   ]
  },
  {
   "cell_type": "markdown",
   "metadata": {
    "slideshow": {
     "slide_type": "subslide"
    }
   },
   "source": [
    "\n",
    "## Hand-in format.\n",
    "\n",
    "The ZIP file contains:\n",
    "\n",
    "```\n",
    "├── A.py\n",
    "├── B.py\n",
    "├── C.py\n",
    "└── D.py\n",
    "```\n",
    "\n",
    "And not:\n",
    "\n",
    "```\n",
    "├── A.zip\n",
    "├── B.py\n",
    "├── C.py\n",
    "└── Another.zip\n",
    "```"
   ]
  },
  {
   "cell_type": "markdown",
   "metadata": {
    "slideshow": {
     "slide_type": "subslide"
    }
   },
   "source": [
    "\n",
    "\n",
    "## I found some code online...\n",
    "\n",
    "Great! Take it, read it, understand it, modify it according to your use case and use the modified code.\n",
    "\n",
    "Do not just copy and paste code without being completely sure what it does.\n",
    "\n"
   ]
  },
  {
   "cell_type": "markdown",
   "metadata": {
    "slideshow": {
     "slide_type": "subslide"
    }
   },
   "source": [
    "\n",
    "## Pseudocode is almost code\n",
    "\n",
    "In case you are in doubt, write pseudocode instead of code. It helps you organize and express your thoughts and it might allow the TA's to give more valuable feedback as they might understand better what you are trying to do.\n",
    "\n",
    "In the same style, it is a good idea to write in comments where exactly you are lost and what you would like to do there.\n"
   ]
  }
 ],
 "metadata": {
  "celltoolbar": "Slideshow",
  "kernelspec": {
   "display_name": "Python 3",
   "language": "python",
   "name": "python3"
  },
  "language_info": {
   "codemirror_mode": {
    "name": "ipython",
    "version": 3
   },
   "file_extension": ".py",
   "mimetype": "text/x-python",
   "name": "python",
   "nbconvert_exporter": "python",
   "pygments_lexer": "ipython3",
   "version": "3.7.3"
  }
 },
 "nbformat": 4,
 "nbformat_minor": 2
}
