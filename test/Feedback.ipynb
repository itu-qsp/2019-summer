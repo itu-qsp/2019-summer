{
 "cells": [
  {
   "cell_type": "markdown",
   "metadata": {
    "slideshow": {
     "slide_type": "slide"
    }
   },
   "source": [
    "# Feedback session about the test\n"
   ]
  },
  {
   "cell_type": "markdown",
   "metadata": {
    "slideshow": {
     "slide_type": "fragment"
    }
   },
   "source": [
    "* The test happened and some of you didn't make the cut\n",
    "  * First of all: failure is a part of life\n",
    "  * Focus: what can you improve next time around?"
   ]
  },
  {
   "cell_type": "markdown",
   "metadata": {
    "slideshow": {
     "slide_type": "subslide"
    }
   },
   "source": [
    "## Comments from the correctors 1/3\n",
    "\n",
    "> In the grading process we did take into account the total length of the \n",
    "> exam questions (9 pages), adapted the passing treshold, and carefully looked \n",
    "> at all border cases and upgraded students from fail to pass when there were \n",
    "> plausible reasons to do that (eg a trivial misreading of the question may have \n",
    "> caused a wrong answer)."
   ]
  },
  {
   "cell_type": "markdown",
   "metadata": {
    "slideshow": {
     "slide_type": "fragment"
    }
   },
   "source": [
    "Read:\n",
    "* You are not failed for minor mistakes\n",
    "* The exam difficulty was taken into account"
   ]
  },
  {
   "cell_type": "markdown",
   "metadata": {
    "slideshow": {
     "slide_type": "subslide"
    }
   },
   "source": [
    "## Comments from the corrector\n",
    "\n",
    "> The re-test will be in the same style as the test. Therefore the best \n",
    "> preparation for the re-test is to solve ALL questions of the test."
   ]
  },
  {
   "cell_type": "markdown",
   "metadata": {
    "slideshow": {
     "slide_type": "fragment"
    }
   },
   "source": [
    "Read:\n",
    "* The re-test looks like what you just went through\n",
    "* Good news: practicing on this test increases your chances!"
   ]
  },
  {
   "cell_type": "markdown",
   "metadata": {
    "slideshow": {
     "slide_type": "subslide"
    }
   },
   "source": [
    "## Comments from the correctors\n",
    "\n",
    ">\n",
    "> Those who failed chiefly did so because they did not solve the \n",
    "> construction-oriented questions (3, 5, 6, 7, 8 in the test). Do train your \n",
    "> programming skills! To pass, you must be able to write Python code, that is, \n",
    "> solve some of questions 3, 5, 6, 7, 8.\n",
    ">"
   ]
  },
  {
   "cell_type": "markdown",
   "metadata": {
    "slideshow": {
     "slide_type": "fragment"
    }
   },
   "source": [
    "Read:\n",
    "* You have to solve **some** of the practical programming tasks\n",
    "* You have to practice decomposition and problem solving"
   ]
  },
  {
   "cell_type": "markdown",
   "metadata": {
    "slideshow": {
     "slide_type": "subslide"
    }
   },
   "source": [
    "## Practicing programming tasks\n",
    "\n",
    "* Programming yourselves"
   ]
  },
  {
   "cell_type": "markdown",
   "metadata": {
    "slideshow": {
     "slide_type": "fragment"
    }
   },
   "source": [
    "* [Find relevant tasks and solve them](https://github.com/itu-qsp/2019-summer/blob/master/session-10/02_Projects.ipynb)"
   ]
  },
  {
   "cell_type": "markdown",
   "metadata": {
    "slideshow": {
     "slide_type": "fragment"
    }
   },
   "source": [
    "* [Use online resources to practice small programming tasks](https://github.com/itu-qsp/2019-summer#supplementary-material)"
   ]
  },
  {
   "cell_type": "markdown",
   "metadata": {
    "slideshow": {
     "slide_type": "subslide"
    }
   },
   "source": [
    "## The remainder of today (until 16:00)\n",
    "\n",
    "* Group of 4-5\n",
    "  * It doesn't help you that I solve the problems for you\n",
    "* Ask your questions to each other **and try to solve them yourselves**\n",
    "  * If you're lost, come and ask me \n",
    "\n",
    "We'll meet again 15:50"
   ]
  }
 ],
 "metadata": {
  "celltoolbar": "Slideshow",
  "kernelspec": {
   "display_name": "Python 3",
   "language": "python",
   "name": "python3"
  },
  "language_info": {
   "codemirror_mode": {
    "name": "ipython",
    "version": 3
   },
   "file_extension": ".py",
   "mimetype": "text/x-python",
   "name": "python",
   "nbconvert_exporter": "python",
   "pygments_lexer": "ipython3",
   "version": "3.7.3"
  }
 },
 "nbformat": 4,
 "nbformat_minor": 2
}
