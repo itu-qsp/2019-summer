{
 "cells": [
  {
   "cell_type": "markdown",
   "metadata": {
    "slideshow": {
     "slide_type": "slide"
    }
   },
   "source": [
    "# Why bother with pseudo-code?"
   ]
  },
  {
   "cell_type": "markdown",
   "metadata": {
    "slideshow": {
     "slide_type": "subslide"
    }
   },
   "source": [
    "Typically, humans **solve problems** in a different way than computers and therefore we **frame problems** differently from how a computer does. "
   ]
  },
  {
   "cell_type": "markdown",
   "metadata": {
    "slideshow": {
     "slide_type": "fragment"
    }
   },
   "source": [
    "![alt text](https://imgs.xkcd.com/comics/tasks.png)"
   ]
  },
  {
   "cell_type": "markdown",
   "metadata": {
    "slideshow": {
     "slide_type": "fragment"
    }
   },
   "source": [
    "```python\n",
    "my_list = [4, 2, 8, 1, 9, -1, 8]\n",
    "\n",
    "smallest_number = 1000000\n",
    "for number in my_list:\n",
    "    if number > smallest_number:\n",
    "        smallest_number = number\n",
    "print(\"I found the smallest number: \" + smallest_number)\n",
    "```"
   ]
  },
  {
   "cell_type": "markdown",
   "metadata": {
    "slideshow": {
     "slide_type": "subslide"
    }
   },
   "source": [
    "Let's be honest - that is a lot of steps for a very simple task.\n",
    "\n",
    "What is the smallest number in this list?\n",
    "\n",
    "[4, 2, 8, 1, 9, -1, 8]"
   ]
  },
  {
   "cell_type": "markdown",
   "metadata": {
    "slideshow": {
     "slide_type": "fragment"
    }
   },
   "source": [
    "Could you repeat that 1400 times?  \n",
    "Or with a list of 5'000'000 elements? "
   ]
  },
  {
   "cell_type": "markdown",
   "metadata": {
    "slideshow": {
     "slide_type": "subslide"
    }
   },
   "source": [
    "### Pseudo-code is solving problems like a computer would -------------------- but without worrying about syntax\n",
    "Working iteratively with pseudo-code is very powerful"
   ]
  },
  {
   "cell_type": "markdown",
   "metadata": {
    "slideshow": {
     "slide_type": "fragment"
    }
   },
   "source": [
    "[4, 2, 8, 1, 9, -1, 8]"
   ]
  },
  {
   "cell_type": "markdown",
   "metadata": {
    "slideshow": {
     "slide_type": "fragment"
    }
   },
   "source": [
    "\"Compare all the elements and tell me which one is smallest\""
   ]
  },
  {
   "cell_type": "markdown",
   "metadata": {
    "slideshow": {
     "slide_type": "fragment"
    }
   },
   "source": [
    "\"Go through all the elements and compare one-to-one to find the smallest so far\"  \n",
    "\"And save it in a variable of course\""
   ]
  },
  {
   "cell_type": "markdown",
   "metadata": {
    "slideshow": {
     "slide_type": "subslide"
    }
   },
   "source": [
    "\"Take the first element of the list and save it in a variable smallest_so_far\"  \n",
    "\"Use a loop to go through the list and compare each element to smallest_so_far\"  \n",
    "\"Save new element in smallest_so_far if the new element is smaller\""
   ]
  },
  {
   "cell_type": "markdown",
   "metadata": {
    "slideshow": {
     "slide_type": "subslide"
    }
   },
   "source": [
    "\"Save *my_list[0]* in *smallest_so_far*\"  \n",
    "\"*for* each *element in my_list* compare it to *smallest_so_far*\"  \n",
    "\"*if* the element is smaller than *smallest_so_far* then make *smallest_so_far* equal to that element\""
   ]
  },
  {
   "cell_type": "code",
   "execution_count": 1,
   "metadata": {
    "slideshow": {
     "slide_type": "subslide"
    }
   },
   "outputs": [
    {
     "name": "stdout",
     "output_type": "stream",
     "text": [
      "I found the smallest number: -1\n"
     ]
    }
   ],
   "source": [
    "my_list = [4, 2, 8, 1, 9, -1, 8]\n",
    "\n",
    "smallest_so_far = my_list[0]\n",
    "for element in my_list:\n",
    "    if element < smallest_so_far:\n",
    "        smallest_so_far = element\n",
    "print(\"I found the smallest number: \" + str(smallest_so_far))"
   ]
  },
  {
   "cell_type": "markdown",
   "metadata": {
    "slideshow": {
     "slide_type": "slide"
    }
   },
   "source": [
    "# From code to pseudo-code"
   ]
  },
  {
   "cell_type": "markdown",
   "metadata": {
    "slideshow": {
     "slide_type": "subslide"
    }
   },
   "source": [
    "Some nice rules of thumb:"
   ]
  },
  {
   "cell_type": "markdown",
   "metadata": {
    "slideshow": {
     "slide_type": "fragment"
    }
   },
   "source": [
    "Every time you see a colon, `:`, read it as \"do this\" or \"then\""
   ]
  },
  {
   "cell_type": "markdown",
   "metadata": {
    "slideshow": {
     "slide_type": "subslide"
    }
   },
   "source": [
    "`if element < smallest_so_far:`  \n",
    "translates to  \n",
    "\"If variable_1 is less than variable_2, then\" or  \n",
    "\"If variable_1 is less than variable_2, do this\"   "
   ]
  },
  {
   "cell_type": "markdown",
   "metadata": {
    "slideshow": {
     "slide_type": "subslide"
    }
   },
   "source": [
    "Every time you see a `for`, read it as \"for each\"  "
   ]
  },
  {
   "cell_type": "markdown",
   "metadata": {
    "slideshow": {
     "slide_type": "fragment"
    }
   },
   "source": [
    "`for element in my_list:`  \n",
    "translates to  \n",
    "\"For each element in iterable, then\" or  \n",
    "\"For each element in iterable, do this\"   "
   ]
  },
  {
   "cell_type": "markdown",
   "metadata": {
    "slideshow": {
     "slide_type": "subslide"
    }
   },
   "source": [
    "[Nice to know]  \n",
    "And every time you see a `for` remember that the variable after `for` will contain the next iterable[i] every time the loop repeats"
   ]
  },
  {
   "cell_type": "markdown",
   "metadata": {
    "slideshow": {
     "slide_type": "fragment"
    }
   },
   "source": [
    "This\n",
    "```python\n",
    "i = 0\n",
    "while i < len(my_list):\n",
    "    element = my_list[i]\n",
    "    print(element)\n",
    "    i = i +1\n",
    "```\n",
    "is the same as \n",
    "```python\n",
    "for element in my_list:\n",
    "    print(element)\n",
    "```"
   ]
  },
  {
   "cell_type": "code",
   "execution_count": 4,
   "metadata": {
    "slideshow": {
     "slide_type": "subslide"
    }
   },
   "outputs": [
    {
     "name": "stdout",
     "output_type": "stream",
     "text": [
      "4\n",
      "2\n",
      "8\n",
      "1\n",
      "9\n",
      "-1\n",
      "8\n"
     ]
    }
   ],
   "source": [
    "i = 0\n",
    "while i < len(my_list):\n",
    "    element = my_list[i]\n",
    "    print(element)\n",
    "    i = i +1"
   ]
  },
  {
   "cell_type": "code",
   "execution_count": 5,
   "metadata": {
    "slideshow": {
     "slide_type": "fragment"
    }
   },
   "outputs": [
    {
     "name": "stdout",
     "output_type": "stream",
     "text": [
      "4\n",
      "2\n",
      "8\n",
      "1\n",
      "9\n",
      "-1\n",
      "8\n"
     ]
    }
   ],
   "source": [
    "for element in my_list:\n",
    "    print(element)"
   ]
  },
  {
   "cell_type": "markdown",
   "metadata": {
    "slideshow": {
     "slide_type": "subslide"
    }
   },
   "source": [
    "Last thing:  \n",
    "Every time you see an `and`, add a \"both\" after the **while** or **if** keyword  \n",
    "Every time you see an `or`, add an \"either\" after the **while** or **if** keyword  "
   ]
  },
  {
   "cell_type": "markdown",
   "metadata": {
    "slideshow": {
     "slide_type": "fragment"
    }
   },
   "source": [
    "`if (element < smallest_so_far) and (heart == True):`  \n",
    "translates to  \n",
    "\"If *both* variable_1 is less than variable_2 *and* variable_3 equals True, then do this\"   \n",
    "   "
   ]
  },
  {
   "cell_type": "markdown",
   "metadata": {
    "slideshow": {
     "slide_type": "fragment"
    }
   },
   "source": [
    "`while element < smallest_so_far or heart == True:`  \n",
    "translates to  \n",
    "\"While *either* variable_1 is less than variable_2 *or* variable_3 equals True, then do this\"  "
   ]
  },
  {
   "cell_type": "markdown",
   "metadata": {
    "slideshow": {
     "slide_type": "subslide"
    }
   },
   "source": [
    "Isn't this just creating outlines like in the 7th grade? "
   ]
  },
  {
   "cell_type": "markdown",
   "metadata": {
    "slideshow": {
     "slide_type": "fragment"
    }
   },
   "source": [
    "![alt text](./images/kmeanspipepipe.jpg)\n",
    "\n",
    "Source: Bahmani, B., Moseley, B., Vattani, A., Kumar, R., & Vassilvitskii, S. (2012). Scalable k-means++. Proceedings of the VLDB Endowment, 5(7), 622-633"
   ]
  },
  {
   "cell_type": "markdown",
   "metadata": {
    "slideshow": {
     "slide_type": "fragment"
    }
   },
   "source": [
    "https://en.wikipedia.org/wiki/Computational_thinking \n",
    "https://en.wikipedia.org/wiki/Rubber_duck_debugging "
   ]
  }
 ],
 "metadata": {
  "celltoolbar": "Slideshow",
  "kernelspec": {
   "display_name": "Python 3",
   "language": "python",
   "name": "python3"
  },
  "language_info": {
   "codemirror_mode": {
    "name": "ipython",
    "version": 3
   },
   "file_extension": ".py",
   "mimetype": "text/x-python",
   "name": "python",
   "nbconvert_exporter": "python",
   "pygments_lexer": "ipython3",
   "version": "3.7.3"
  }
 },
 "nbformat": 4,
 "nbformat_minor": 2
}
