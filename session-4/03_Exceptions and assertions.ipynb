{
 "cells": [
  {
   "cell_type": "markdown",
   "metadata": {
    "slideshow": {
     "slide_type": "slide"
    }
   },
   "source": [
    "# How to break your computer\n",
    "\n",
    "![](images/exception.jpeg)"
   ]
  },
  {
   "cell_type": "markdown",
   "metadata": {
    "slideshow": {
     "slide_type": "subslide"
    }
   },
   "source": [
    "<h1>Let's try to break <strike>your computer</strike> Python</h1>\n",
    "\n",
    "* In Python, you cannot mess up like above\n",
    "  * Except in exceptional cases\n",
    "* Don't be afraid to try things out"
   ]
  },
  {
   "cell_type": "markdown",
   "metadata": {
    "slideshow": {
     "slide_type": "subslide"
    }
   },
   "source": [
    "## Let's try to break Python\n",
    "\n",
    "* Write the following program into Mu\n",
    "\n",
    "```python\n",
    "print(1 / 0)\n",
    "```"
   ]
  },
  {
   "cell_type": "markdown",
   "metadata": {
    "slideshow": {
     "slide_type": "fragment"
    }
   },
   "source": [
    "* Remove the right parenthesis. What do you expect will happen?"
   ]
  },
  {
   "cell_type": "markdown",
   "metadata": {
    "slideshow": {
     "slide_type": "fragment"
    }
   },
   "source": [
    "* Now write this:\n",
    "```python\n",
    "a_list = []\n",
    "a_list[1000]\n",
    "```"
   ]
  },
  {
   "cell_type": "markdown",
   "metadata": {
    "slideshow": {
     "slide_type": "subslide"
    }
   },
   "source": [
    "## Exceptions\n",
    "\n",
    "Exceptions are system messages that break on a fundamental level. They are typically called something with `Error`:\n",
    "\n",
    "* `ArithmeticError` (division by 0)\n",
    "* `IndexError` (list lookup)\n",
    "* `MemoryError` (out of memory :-/)\n",
    "* `FileNotFoundError` (you guessed it)\n",
    "* `ValueError` (when encountering an unexpected value)\n",
    "* `SyntaxError` (a program that incorrectly written)"
   ]
  },
  {
   "cell_type": "markdown",
   "metadata": {},
   "source": [
    "They are actually divided into an [Exception hierarchy](https://docs.python.org/3.7/library/exceptions.html#exception-hierarchy)"
   ]
  },
  {
   "cell_type": "markdown",
   "metadata": {
    "slideshow": {
     "slide_type": "subslide"
    }
   },
   "source": [
    "## Safely running code\n",
    "\n",
    "In Python you can **catch** these errors:\n",
    "\n",
    "```python\n",
    "try:\n",
    "    print(1 / 0)\n",
    "except:\n",
    "    print('Uh-oh, that did not go well')\n",
    "```"
   ]
  },
  {
   "cell_type": "markdown",
   "metadata": {
    "slideshow": {
     "slide_type": "subslide"
    }
   },
   "source": [
    "## So, what's the difference?\n",
    "\n",
    "With the `try ... except` your program continues instead of breaking down.\n",
    "\n",
    "Try to write these two lines by themselves first, and then encapsulate *the first line* inside `try ... except`:\n",
    "```python\n",
    "print(1 / 0)\n",
    "print('Don\\'t worry about the aftermath')\n",
    "```\n",
    "\n",
    "What do you expect will happen? Run it in the debugger."
   ]
  },
  {
   "cell_type": "markdown",
   "metadata": {
    "slideshow": {
     "slide_type": "subslide"
    }
   },
   "source": [
    "## Breaking your own programs\n",
    "\n",
    "Exceptions typically exist because the program *encounters something exceptional*. What if you do too?\n",
    "\n",
    "Type in the following:\n",
    "```python\n",
    "character = input('Give me a character: ')\n",
    "if (len(character) == 1):\n",
    "    print('You wrote ' + character)\n",
    "else:\n",
    "    print('Bad human')\n",
    "```"
   ]
  },
  {
   "cell_type": "markdown",
   "metadata": {
    "slideshow": {
     "slide_type": "fragment"
    }
   },
   "source": [
    "What do we do in the `else` clause? We asked for a single character, but we got something different."
   ]
  },
  {
   "cell_type": "markdown",
   "metadata": {
    "slideshow": {
     "slide_type": "subslide"
    }
   },
   "source": [
    "## Raising an exception\n",
    "\n",
    "If we found something exceptional, we can tell the user by *raising* an exception.\n",
    "\n",
    "Type in the following:\n",
    "```python\n",
    "character = input('Give me a character: ')\n",
    "if (not len(character) == 1):\n",
    "    raise ValueError\n",
    "    \n",
    "print('You wrote ' + character)\n",
    "```"
   ]
  },
  {
   "cell_type": "markdown",
   "metadata": {
    "slideshow": {
     "slide_type": "fragment"
    }
   },
   "source": [
    "In the code we know that *if* the code continues below the if statement, the `character` variable only contains one character."
   ]
  },
  {
   "cell_type": "markdown",
   "metadata": {
    "slideshow": {
     "slide_type": "subslide"
    }
   },
   "source": [
    "You can also provide error messages:\n",
    "```python\n",
    "character = input('Give me a character: ')\n",
    "if (not len(character) == 1):\n",
    "    raise ValueError('I expected a character, but received ' + character)\n",
    "    \n",
    "print('You wrote ' + character)\n",
    "```"
   ]
  },
  {
   "cell_type": "markdown",
   "metadata": {
    "slideshow": {
     "slide_type": "subslide"
    }
   },
   "source": [
    "## Functions and objects\n",
    "\n",
    "* Functions are like variables, but requires parenthesis\n",
    "  * `range(0, 10)`"
   ]
  },
  {
   "cell_type": "markdown",
   "metadata": {
    "slideshow": {
     "slide_type": "fragment"
    }
   },
   "source": [
    "* Objects are like functions, but in upper case\n",
    "  * `ValueError('I expected ...')`\n",
    "\n",
    "* Functions perform some *functionality*, while objects describe some *thing*\n",
    "  * We will talk more about functions on Wednesday and objects on Friday."
   ]
  },
  {
   "cell_type": "markdown",
   "metadata": {
    "slideshow": {
     "slide_type": "subslide"
    }
   },
   "source": [
    "## Exercises\n",
    "\n",
    "* Use the cookie dough program from the second lesson:\n",
    "```python\n",
    "data = input('How much do you like cookie dough?')\n",
    "data = int(data)\n",
    "print('You ' + 'really ' * data + 'like cookie dough')\n",
    "```\n",
    "* While running it in the *debugger*, type in a random string instead of a number\n",
    "  * On which line exactly does it break?\n",
    "* Wrap the line in a `try ... except`. If the program breaks, default to the number `1`"
   ]
  }
 ],
 "metadata": {
  "celltoolbar": "Slideshow",
  "kernelspec": {
   "display_name": "Python 3",
   "language": "python",
   "name": "python3"
  },
  "language_info": {
   "codemirror_mode": {
    "name": "ipython",
    "version": 3
   },
   "file_extension": ".py",
   "mimetype": "text/x-python",
   "name": "python",
   "nbconvert_exporter": "python",
   "pygments_lexer": "ipython3",
   "version": "3.7.3"
  }
 },
 "nbformat": 4,
 "nbformat_minor": 2
}
