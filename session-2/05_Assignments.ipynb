{
 "cells": [
  {
   "cell_type": "markdown",
   "metadata": {
    "slideshow": {
     "slide_type": "slide"
    }
   },
   "source": [
    "# Working with assignments\n",
    "\n",
    "* **Not** mandatory\n",
    "  * You will not learn Python unless you work with it\n",
    "  \n",
    "* Designed to be fun\n",
    "  * If they are not, reconsider your approach\n",
    "  \n",
    "* Templates of the test in august\n",
    "  * Similar structure, same hand-in procedure"
   ]
  },
  {
   "cell_type": "markdown",
   "metadata": {
    "slideshow": {
     "slide_type": "subslide"
    }
   },
   "source": [
    "## How to approach hand-ins\n",
    "\n",
    "1. **Make sure you understand the problem**\n",
    " * If you do not, that's completely fine. Go back to the lecture to make sure you follow"
   ]
  },
  {
   "cell_type": "markdown",
   "metadata": {
    "slideshow": {
     "slide_type": "fragment"
    }
   },
   "source": [
    "2. **Then make sure you understand the problem again**\n",
    "  * You will waste *so* much time if you do not"
   ]
  },
  {
   "cell_type": "markdown",
   "metadata": {
    "slideshow": {
     "slide_type": "fragment"
    }
   },
   "source": [
    "3. Follow the instructions **closely**\n",
    "  * Do what you are *asked*, not what you *think* you are asked"
   ]
  },
  {
   "cell_type": "markdown",
   "metadata": {
    "slideshow": {
     "slide_type": "fragment"
    }
   },
   "source": [
    "4. Hand-in **anything**\n",
    "  * Do not not hand in. You'll learn from the feedback"
   ]
  },
  {
   "cell_type": "markdown",
   "metadata": {
    "slideshow": {
     "slide_type": "subslide"
    }
   },
   "source": [
    "## Work in groups\n",
    "\n",
    "* Find 2-3 people to work together with\n",
    "  * Exploit your new friends to discuss and reflect"
   ]
  },
  {
   "cell_type": "markdown",
   "metadata": {
    "slideshow": {
     "slide_type": "fragment"
    }
   },
   "source": [
    "\n",
    "* Hand in *one* assignment\n",
    "  * Our resources are limited, we don't want to correct the same thing 4 times"
   ]
  },
  {
   "cell_type": "markdown",
   "metadata": {
    "slideshow": {
     "slide_type": "subslide"
    }
   },
   "source": [
    "## How to hand-in\n",
    "\n",
    "1. Solve all the problems in **individual files** (`.py` or `.txt` if text)\n",
    "  * For instance `A.py` or `A.txt` if the assignment is textual\n",
    "2. Compress the files into a single `.zip` file\n",
    "  * The `.zip` file should be named after your ITU credentials, e. g. `jegp.zip`\n",
    "3. Upload file to LearnIT\n",
    "  * The hand in will become visible on the front page later today"
   ]
  },
  {
   "cell_type": "markdown",
   "metadata": {},
   "source": [
    "## Making a `.zip` file\n",
    "\n",
    "`.zip` files are actually folders, that contain compressed files.\n",
    "\n",
    "By making a `.zip` file you 'pack' your files into a single file, that contains your files. Someone else can then unpack them again, to retrieve the original files.\n",
    "\n",
    "To make a .zip file select your files and choose \"Compress\" / \"Komprimér\" in the context menu. \n",
    "* On Windows right-click the selection to get the context menu (`send -> compressed file`)\n",
    "* On Mac either click with two fingers on the touchpad or hold down the ctlr-key while clicking."
   ]
  }
 ],
 "metadata": {
  "celltoolbar": "Slideshow",
  "kernelspec": {
   "display_name": "Python 3",
   "language": "python",
   "name": "python3"
  },
  "language_info": {
   "codemirror_mode": {
    "name": "ipython",
    "version": 3
   },
   "file_extension": ".py",
   "mimetype": "text/x-python",
   "name": "python",
   "nbconvert_exporter": "python",
   "pygments_lexer": "ipython3",
   "version": "3.7.3"
  }
 },
 "nbformat": 4,
 "nbformat_minor": 2
}
