{
 "cells": [
  {
   "cell_type": "markdown",
   "metadata": {},
   "source": [
    "# Assignment 5: Using Python building blocks\n",
    "\n",
    "In this assignment you will work with lists, dictionaries, loops, and functions."
   ]
  },
  {
   "cell_type": "markdown",
   "metadata": {},
   "source": [
    "## Exercise A: Understanding functions\n",
    "\n",
    "1. Read the code below. What is it doing? And what will it print when it's run?\n",
    "2. Use your debugger to step through the code line by line. How many times is the second line (`augmented_string = input_string + \" really\"`) run?\n",
    "3. What is the value of `second_variable`?\n",
    "\n",
    "Hand in a text file (`A.txt`) with your answers."
   ]
  },
  {
   "cell_type": "code",
   "execution_count": null,
   "metadata": {},
   "outputs": [],
   "source": [
    "def augment(input_string):\n",
    "    augmented_string = input_string + \" really\"\n",
    "    return augmented_string\n",
    "\n",
    "\n",
    "initial_variable = \"I\"\n",
    "second_variable = augment(initial_variable)\n",
    "third_variable = augment(second_variable)\n",
    "print(third_variable)\n",
    "fourth_variable = augment(second_variable)\n",
    "fifth_variable = fourth_variable + \" like icecream\"\n",
    "print(fifth_variable)"
   ]
  },
  {
   "cell_type": "markdown",
   "metadata": {},
   "source": [
    "## Exercise B: Using functions\n",
    "\n",
    "Write a function that receives a number as its input, and returns that number incremented by one.  \n",
    "\n",
    "Test the function by printing some of it's results for various inputs.\n",
    "\n",
    "Call your Python file for hand-in `B.py`."
   ]
  },
  {
   "cell_type": "markdown",
   "metadata": {},
   "source": [
    "## Exercise C: Counting words (1/4)\n",
    "\n",
    "Imagine you were to write a function called `count_word_in_text` that counts the occurrence of a single word from some text. Write down a few bullet points about how you would break this down into smaller problems. Think about this: \n",
    "\n",
    "  * What is the input? \n",
    "  * What is the expected output? \n",
    "  * What things might you need to save in variables as the program runs?\n",
    "\n",
    "Call your text file for hand-in `C.txt`.\n"
   ]
  },
  {
   "cell_type": "markdown",
   "metadata": {},
   "source": [
    "## Exercise D: Counting words (2/4)\n",
    "\n",
    "Now, we can move on to writing the actual function. Your function should take one input argument (the word to search for) and return the number of times that the word appears in the variable `text` (see below). Here are some examples of input and expected output:\n",
    "\n",
    "```\n",
    "'woman' -> 2 (or 3 if you count the string 'woman.')\n",
    "'drawing' -> 1\n",
    "'was' -> 4 (or 5 if you count the string 'was,')\n",
    "```\n",
    "\n",
    "\n",
    "    \n",
    "  - _Hint_: You can split a piece of text into a list where each element is a word like so:\n",
    "    \n",
    "    ```python\n",
    "    print(text.split()) # ['To', 'Sherlock', 'Holmes', ...]\n",
    "    ```\n"
   ]
  },
  {
   "cell_type": "markdown",
   "metadata": {},
   "source": [
    "A definition for your function could look like this:\n",
    "\n",
    "```python\n",
    "def count_word_in_text(word):\n",
    "    # Implement me! Write your code below\n",
    "    raise NotImplementedError('Replace this line with your code!')\n",
    "```"
   ]
  },
  {
   "cell_type": "code",
   "execution_count": null,
   "metadata": {},
   "outputs": [],
   "source": [
    "text = '''\n",
    "To Sherlock Holmes she is always the woman. I have seldom heard him\n",
    "mention her under any other name. In his eyes she eclipses and\n",
    "predominates the whole of her sex. It was not that he felt any\n",
    "emotion akin to love for Irene Adler. All emotions, and that one\n",
    "particularly, were abhorrent to his cold, precise but admirably\n",
    "balanced mind. He was, I take it, the most perfect reasoning and\n",
    "observing machine that the world has seen, but as a lover he would\n",
    "have placed himself in a false position. He never spoke of the softer\n",
    "passions, save with a gibe and a sneer. They were admirable things\n",
    "for the observer--excellent for drawing the veil from men's motives\n",
    "and actions. But for the trained reasoner to admit such intrusions\n",
    "into his own delicate and finely adjusted temperament was to\n",
    "introduce a distracting factor which might throw a doubt upon all his\n",
    "mental results. Grit in a sensitive instrument, or a crack in one of\n",
    "his own high-power lenses, would not be more disturbing than a strong\n",
    "emotion in a nature such as his. And yet there was but one woman to\n",
    "him, and that woman was the late Irene Adler, of dubious and\n",
    "questionable memory.\n",
    "'''"
   ]
  },
  {
   "cell_type": "markdown",
   "metadata": {},
   "source": [
    "Call your Python file for hand-in `D.py`."
   ]
  },
  {
   "cell_type": "markdown",
   "metadata": {},
   "source": [
    "## Exercise E: Counting words (3/4)\n",
    "\n",
    "Write a second function, that iterates over all the words in the `text` variable and adds them as a key-value pair of the word and the number 0 to a dictionary. The result should be a dictionary where all the keys are the unique words in the text, and all the values are numbers.\n",
    "  - _Hint_: You can create a dictionary like so:\n",
    "    \n",
    "    ```python\n",
    "    my_dictionary = {}\n",
    "    ```\n",
    "    \n",
    "  - _Hint_: You will have to create a value in your dictionary *if it does not already exist*. Two ways to do this is by iterating through the text twice, or use the `setdefault` method (google knows what this means). If you have a better idea, feel free to try it out!\n",
    "  \n",
    "Call your Python file for hand-in `E.py`."
   ]
  },
  {
   "cell_type": "markdown",
   "metadata": {},
   "source": [
    "\n",
    "## Exercise F: Counting words (4/4)\n",
    "Write a third function that counts the occurrence of all the words in the text. The output should be a dictionary where the keys are all the words in the text, and the values are a number, indicating how many times that word occurred in the text.\n",
    "  - _Hint_: Inspect your dictionary from before. What are the keys? Can you exploit that somehow?\n",
    "  - _Hint_: You can iterate over a dictionary like so (print() statements simply to show what .items() does):\n",
    "    \n",
    "    ```python\n",
    "    my_dict = {'one_key': 2, 'some_key': 3, 'a_key': 5, 'still_key': 7}\n",
    "    for key, value in my_dict.items():\n",
    "        print(key)\n",
    "        print(value)\n",
    "        print()\n",
    "    ```\n",
    "\n",
    "Call your Python file for hand-in `F.py`."
   ]
  },
  {
   "cell_type": "markdown",
   "metadata": {},
   "source": [
    "## Exercise G: Printing hearts\n",
    "\n",
    "This is the practice project \"Character Picture Grid\" from chapter four of _\"Atomate the Boring Stuff with Python\"_, see bottom of http://automatetheboringstuff.com/chapter4/\n",
    "\n",
    "Say you have a list of lists where each value in the inner lists is a one-character string, like this:"
   ]
  },
  {
   "cell_type": "code",
   "execution_count": null,
   "metadata": {},
   "outputs": [],
   "source": [
    "grid = [['.', '.', '.', '.', '.', '.'],\n",
    "        ['.', 'O', 'O', '.', '.', '.'],\n",
    "        ['O', 'O', 'O', 'O', '.', '.'],\n",
    "        ['O', 'O', 'O', 'O', 'O', '.'],\n",
    "        ['.', 'O', 'O', 'O', 'O', 'O'],\n",
    "        ['O', 'O', 'O', 'O', 'O', '.'],\n",
    "        ['O', 'O', 'O', 'O', '.', '.'],\n",
    "        ['.', 'O', 'O', '.', '.', '.'],\n",
    "        ['.', '.', '.', '.', '.', '.']]"
   ]
  },
  {
   "cell_type": "markdown",
   "metadata": {},
   "source": [
    "You can think of `grid[x][y]` as being the character at the x- and y-coordinates of a \"picture\" drawn with text characters. The (0, 0) origin will be in the upper-left corner, the x-coordinates increase going right, and the y-coordinates increase going down.\n",
    "\n",
    "Use the previous grid value, and write a function that uses it to print the image like so:\n",
    "\n",
    "```\n",
    "..OO.OO..\n",
    ".OOOOOOO.\n",
    ".OOOOOOO.\n",
    "..OOOOO..\n",
    "...OOO...\n",
    "....O....\n",
    "```\n",
    "\n",
    "_Hint_: You will need to use a loop inside another loop in order to print `grid[0][0]`, then `grid[1][0]`, then `grid[2][0]`, and so on, up to `grid[8][0]`. This will finish the first row, so then print a newline. Then your program should print `grid[0][1]`, then `grid[1][1]`, then `grid[2][1]`, and so on. The last thing your program will print is `grid[8][5]`. \n",
    "\n",
    "Also, remember to pass the end keyword argument to `print()` if you do not want a newline printed automatically after each `print()` call.\n",
    "\n",
    "Call your Python file for hand-in `G.py`."
   ]
  }
 ],
 "metadata": {
  "kernelspec": {
   "display_name": "Python 3",
   "language": "python",
   "name": "python3"
  },
  "language_info": {
   "codemirror_mode": {
    "name": "ipython",
    "version": 3
   },
   "file_extension": ".py",
   "mimetype": "text/x-python",
   "name": "python",
   "nbconvert_exporter": "python",
   "pygments_lexer": "ipython3",
   "version": "3.7.3"
  }
 },
 "nbformat": 4,
 "nbformat_minor": 2
}
