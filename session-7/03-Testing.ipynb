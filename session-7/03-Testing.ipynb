{
 "cells": [
  {
   "cell_type": "markdown",
   "metadata": {
    "slideshow": {
     "slide_type": "slide"
    }
   },
   "source": [
    "# Nice to have knowledge\n",
    "\n",
    "with regards to the test but likely important for your later professional lives.\n",
    "\n",
    "![](https://encrypted-tbn0.gstatic.com/images?q=tbn:ANd9GcRT1XnY1fYUzmiPSp5uImqYwlSC0Q9f2wC-JsqY1_cNkJ3qBI5onA)"
   ]
  },
  {
   "cell_type": "markdown",
   "metadata": {
    "slideshow": {
     "slide_type": "slide"
    }
   },
   "source": [
    "# What is a program?\n",
    "\n",
    "```\n",
    "Input     ---->     Processing     ---->     Output\n",
    "```"
   ]
  },
  {
   "cell_type": "markdown",
   "metadata": {
    "slideshow": {
     "slide_type": "subslide"
    }
   },
   "source": [
    "## But there are various forms of output... "
   ]
  },
  {
   "cell_type": "markdown",
   "metadata": {
    "slideshow": {
     "slide_type": "fragment"
    }
   },
   "source": [
    "```      \n",
    "Input     ---->     Processing     ---->     Output\n",
    "                         |\n",
    "                         +------------->     Exception\n",
    "```"
   ]
  },
  {
   "cell_type": "code",
   "execution_count": 1,
   "metadata": {
    "slideshow": {
     "slide_type": "subslide"
    }
   },
   "outputs": [
    {
     "ename": "TypeError",
     "evalue": "unsupported operand type(s) for +: 'int' and 'str'",
     "output_type": "error",
     "traceback": [
      "\u001b[0;31m---------------------------------------------------------------------------\u001b[0m",
      "\u001b[0;31mTypeError\u001b[0m                                 Traceback (most recent call last)",
      "\u001b[0;32m<ipython-input-1-bb0036e67db9>\u001b[0m in \u001b[0;36m<module>\u001b[0;34m\u001b[0m\n\u001b[0;32m----> 1\u001b[0;31m \u001b[0;36m3\u001b[0m \u001b[0;34m+\u001b[0m \u001b[0;34m'Hej, you :)'\u001b[0m\u001b[0;34m\u001b[0m\u001b[0;34m\u001b[0m\u001b[0m\n\u001b[0m",
      "\u001b[0;31mTypeError\u001b[0m: unsupported operand type(s) for +: 'int' and 'str'"
     ]
    }
   ],
   "source": [
    "3 + 'Hej, you :)'"
   ]
  },
  {
   "cell_type": "markdown",
   "metadata": {
    "slideshow": {
     "slide_type": "subslide"
    }
   },
   "source": [
    "## Exception (nice-to-have)\n",
    "\n",
    "* An unexpected behaviour that terminates the program\n",
    "  - Unless handled"
   ]
  },
  {
   "cell_type": "code",
   "execution_count": 2,
   "metadata": {
    "slideshow": {
     "slide_type": "subslide"
    }
   },
   "outputs": [
    {
     "name": "stdout",
     "output_type": "stream",
     "text": [
      "You cannot add strings to integers, what should that be?\n"
     ]
    }
   ],
   "source": [
    "try:\n",
    "    3 + 'Hej, you :)'\n",
    "except:\n",
    "    print('You cannot add strings to integers, what should that be?')"
   ]
  },
  {
   "cell_type": "markdown",
   "metadata": {
    "slideshow": {
     "slide_type": "slide"
    }
   },
   "source": [
    "## Recipe for writing code: waterfall model\n",
    "\n",
    "1. Figure out what you want (requirements)"
   ]
  },
  {
   "cell_type": "markdown",
   "metadata": {
    "slideshow": {
     "slide_type": "fragment"
    }
   },
   "source": [
    "2. Figure out what you **really** want (pseudo-code)"
   ]
  },
  {
   "cell_type": "markdown",
   "metadata": {
    "slideshow": {
     "slide_type": "fragment"
    }
   },
   "source": [
    "3. Write a program that fulfills the requirements"
   ]
  },
  {
   "cell_type": "markdown",
   "metadata": {
    "slideshow": {
     "slide_type": "fragment"
    }
   },
   "source": [
    "4. Test if your code fulfills the requirements"
   ]
  },
  {
   "cell_type": "markdown",
   "metadata": {
    "slideshow": {
     "slide_type": "subslide"
    }
   },
   "source": [
    "## Agile development\n",
    "\n",
    "* Agile manifesto: http://agilemanifesto.org/\n",
    "\n",
    "  > Individuals and interactions over processes and tools <br>\n",
    "  > Working software over comprehensive documentation <br>\n",
    "  > Customer collaboration over contract negotiation <br>\n",
    "  > Responding to change over following a plan"
   ]
  },
  {
   "cell_type": "markdown",
   "metadata": {
    "slideshow": {
     "slide_type": "subslide"
    }
   },
   "source": [
    "## Development driven by tests\n",
    "\n",
    "* You know now how hard it is to write code\n",
    "* How do you make sure that your code is doing *what you think* your code is doing?"
   ]
  },
  {
   "cell_type": "markdown",
   "metadata": {
    "slideshow": {
     "slide_type": "subslide"
    }
   },
   "source": [
    "# Testing\n",
    "\n",
    "* A way to remove errors or at least make them less probable\n",
    "* Tests _assert_ that your code works *like you think* it works\n",
    "* When you add new code, old tests make sure that nothing breaks (regression)"
   ]
  },
  {
   "cell_type": "markdown",
   "metadata": {
    "slideshow": {
     "slide_type": "subslide"
    }
   },
   "source": [
    "## Your turn!\n",
    "\n",
    "* Write a function `german_polite_form` that takes a name and prepends `'Sehr geehrte Frau '` to that name before returning it."
   ]
  },
  {
   "cell_type": "code",
   "execution_count": null,
   "metadata": {
    "slideshow": {
     "slide_type": "fragment"
    }
   },
   "outputs": [],
   "source": [
    "def german_polite_form(name):\n",
    "    return 'Sehr geehrte Frau ' + name\n",
    "\n",
    "\n",
    "print(german_polite_form('Ada Lovelace'))"
   ]
  },
  {
   "cell_type": "markdown",
   "metadata": {
    "slideshow": {
     "slide_type": "fragment"
    }
   },
   "source": [
    "  * Run the function with the argument `'Ada Lovelace'`\n",
    "  * Run the function with the argument `'Hansi Hinterseer'`\n",
    "  * Run the function with the argument `3` \n",
    "\n",
    "What happens for each of the input values?"
   ]
  },
  {
   "cell_type": "markdown",
   "metadata": {
    "slideshow": {
     "slide_type": "subslide"
    }
   },
   "source": [
    "# Testing flow chart\n",
    "\n",
    "```\n",
    "What is the output?     ---->     Exactly what I wanted     ---->     Good!\n",
    "```"
   ]
  },
  {
   "cell_type": "markdown",
   "metadata": {
    "slideshow": {
     "slide_type": "fragment"
    }
   },
   "source": [
    "```\n",
    "      |\n",
    "      +--------------------->     Unexpected output         ---->   Fix it!\n",
    "```"
   ]
  },
  {
   "cell_type": "markdown",
   "metadata": {
    "slideshow": {
     "slide_type": "fragment"
    }
   },
   "source": [
    "```\n",
    "      |\n",
    "      +--------------------->     Code exception (assumption breaking)\n",
    "```"
   ]
  },
  {
   "cell_type": "markdown",
   "metadata": {
    "slideshow": {
     "slide_type": "fragment"
    }
   },
   "source": [
    "```\n",
    "                                     |\n",
    "                                     +---->   Assumption is sound     ---->     Blame user\n",
    "```"
   ]
  },
  {
   "cell_type": "markdown",
   "metadata": {
    "slideshow": {
     "slide_type": "fragment"
    }
   },
   "source": [
    "```\n",
    "                                     |\n",
    "                                     +---->   Assumption is bad       ---->     Fix it!\n",
    "```"
   ]
  },
  {
   "cell_type": "markdown",
   "metadata": {
    "slideshow": {
     "slide_type": "subslide"
    }
   },
   "source": [
    "## Unit Tests\n",
    "\n",
    "_Unit tests_ are small programs that test for correctness of specific aspects of the smallest units of your program, which are either functions or methods."
   ]
  },
  {
   "cell_type": "code",
   "execution_count": 1,
   "metadata": {
    "slideshow": {
     "slide_type": "subslide"
    }
   },
   "outputs": [],
   "source": [
    "import random\n",
    "import us_names\n",
    "\n",
    "\n",
    "def generate_names(gender, number):\n",
    "    \"\"\"Generates a list of names, which are randomly created out\n",
    "    of names from the US census 1990.\n",
    "    \n",
    "    :param gender: str\n",
    "        The gender of the name. Can be 'female' or 'male'\n",
    "    :param number: int\n",
    "        Amount of names in the returned list\n",
    "    \n",
    "    :return: list\n",
    "        A list of strings with either female or male US names.\n",
    "    \"\"\"   \n",
    "    all_names = []\n",
    "    if gender == 'female':\n",
    "        names = us_names.FEMALE_NAMES\n",
    "    elif gender == 'male':\n",
    "        names = us_names.MALE_NAMES\n",
    "    else:\n",
    "        print(\"Error: Gender should be either 'female' or 'male'\")\n",
    "    for _ in range(number):\n",
    "        name = random.choice(names)\n",
    "        surname = random.choice(us_names.SURNAMES)\n",
    "        fullname = name + ' ' + surname\n",
    "        all_names.append(fullname)\n",
    "    return all_names"
   ]
  },
  {
   "cell_type": "markdown",
   "metadata": {
    "slideshow": {
     "slide_type": "subslide"
    }
   },
   "source": [
    "#### How to  test this program?\n",
    "\n",
    "Probably something like this:"
   ]
  },
  {
   "cell_type": "code",
   "execution_count": 4,
   "metadata": {
    "slideshow": {
     "slide_type": "fragment"
    }
   },
   "outputs": [
    {
     "name": "stdout",
     "output_type": "stream",
     "text": [
      "['Shiela Bodwell', 'Marianna Cordoza', 'Kristyn Hjermstad', 'Narcisa Mendoza', 'Sandra Roehling', 'Agueda Manino', 'Marietta Claes', 'Shanda Venere', 'Amber Markette', 'Bobbi Maxson']\n",
      "['Milford Heckathorne', 'Walter Hascall', 'Rodolfo Desler', 'Abram Hackenbery', 'Gabriel Vandersloot']\n"
     ]
    }
   ],
   "source": [
    "print(generate_names('female', 10))\n",
    "print(generate_names('male', 5))"
   ]
  },
  {
   "cell_type": "markdown",
   "metadata": {
    "slideshow": {
     "slide_type": "fragment"
    }
   },
   "source": [
    "But did you think about weird input that some other programmer might use?"
   ]
  },
  {
   "cell_type": "code",
   "execution_count": 7,
   "metadata": {
    "slideshow": {
     "slide_type": "fragment"
    }
   },
   "outputs": [
    {
     "name": "stdout",
     "output_type": "stream",
     "text": [
      "Error: Gender should be either 'female' or 'male'\n"
     ]
    },
    {
     "ename": "UnboundLocalError",
     "evalue": "local variable 'names' referenced before assignment",
     "output_type": "error",
     "traceback": [
      "\u001b[0;31m---------------------------------------------------------------------------\u001b[0m",
      "\u001b[0;31mUnboundLocalError\u001b[0m                         Traceback (most recent call last)",
      "\u001b[0;32m<ipython-input-7-da6d9d62b72b>\u001b[0m in \u001b[0;36m<module>\u001b[0;34m\u001b[0m\n\u001b[0;32m----> 1\u001b[0;31m \u001b[0mgenerate_names\u001b[0m\u001b[0;34m(\u001b[0m\u001b[0;34m'schnippschnapp'\u001b[0m\u001b[0;34m,\u001b[0m \u001b[0;36m8\u001b[0m\u001b[0;34m)\u001b[0m\u001b[0;34m\u001b[0m\u001b[0;34m\u001b[0m\u001b[0m\n\u001b[0m\u001b[1;32m      2\u001b[0m \u001b[0mgenerate_names\u001b[0m\u001b[0;34m(\u001b[0m\u001b[0;34m-\u001b[0m\u001b[0;36m3\u001b[0m\u001b[0;34m,\u001b[0m \u001b[0;36m8\u001b[0m\u001b[0;34m)\u001b[0m\u001b[0;34m\u001b[0m\u001b[0;34m\u001b[0m\u001b[0m\n\u001b[1;32m      3\u001b[0m \u001b[0mgenerate_names\u001b[0m\u001b[0;34m(\u001b[0m\u001b[0;34m'male'\u001b[0m\u001b[0;34m,\u001b[0m \u001b[0;36m123456789123456789123456789123456789123456789123456789123456789123456789123456789\u001b[0m\u001b[0;34m)\u001b[0m\u001b[0;34m\u001b[0m\u001b[0;34m\u001b[0m\u001b[0m\n",
      "\u001b[0;32m<ipython-input-1-42a114a18956>\u001b[0m in \u001b[0;36mgenerate_names\u001b[0;34m(gender, number)\u001b[0m\n\u001b[1;32m     23\u001b[0m         \u001b[0mprint\u001b[0m\u001b[0;34m(\u001b[0m\u001b[0;34m\"Error: Gender should be either 'female' or 'male'\"\u001b[0m\u001b[0;34m)\u001b[0m\u001b[0;34m\u001b[0m\u001b[0;34m\u001b[0m\u001b[0m\n\u001b[1;32m     24\u001b[0m     \u001b[0;32mfor\u001b[0m \u001b[0m_\u001b[0m \u001b[0;32min\u001b[0m \u001b[0mrange\u001b[0m\u001b[0;34m(\u001b[0m\u001b[0mnumber\u001b[0m\u001b[0;34m)\u001b[0m\u001b[0;34m:\u001b[0m\u001b[0;34m\u001b[0m\u001b[0;34m\u001b[0m\u001b[0m\n\u001b[0;32m---> 25\u001b[0;31m         \u001b[0mname\u001b[0m \u001b[0;34m=\u001b[0m \u001b[0mrandom\u001b[0m\u001b[0;34m.\u001b[0m\u001b[0mchoice\u001b[0m\u001b[0;34m(\u001b[0m\u001b[0mnames\u001b[0m\u001b[0;34m)\u001b[0m\u001b[0;34m\u001b[0m\u001b[0;34m\u001b[0m\u001b[0m\n\u001b[0m\u001b[1;32m     26\u001b[0m         \u001b[0msurname\u001b[0m \u001b[0;34m=\u001b[0m \u001b[0mrandom\u001b[0m\u001b[0;34m.\u001b[0m\u001b[0mchoice\u001b[0m\u001b[0;34m(\u001b[0m\u001b[0mus_names\u001b[0m\u001b[0;34m.\u001b[0m\u001b[0mSURNAMES\u001b[0m\u001b[0;34m)\u001b[0m\u001b[0;34m\u001b[0m\u001b[0;34m\u001b[0m\u001b[0m\n\u001b[1;32m     27\u001b[0m         \u001b[0mfullname\u001b[0m \u001b[0;34m=\u001b[0m \u001b[0mname\u001b[0m \u001b[0;34m+\u001b[0m \u001b[0;34m' '\u001b[0m \u001b[0;34m+\u001b[0m \u001b[0msurname\u001b[0m\u001b[0;34m\u001b[0m\u001b[0;34m\u001b[0m\u001b[0m\n",
      "\u001b[0;31mUnboundLocalError\u001b[0m: local variable 'names' referenced before assignment"
     ]
    }
   ],
   "source": [
    "generate_names('schnippschnapp', 8)\n",
    "generate_names(-3, 8)\n",
    "generate_names('male', 123456789123456789123456789123456789123456789123456789123456789123456789123456789)"
   ]
  },
  {
   "cell_type": "markdown",
   "metadata": {
    "slideshow": {
     "slide_type": "subslide"
    }
   },
   "source": [
    "This is what test cases with many unit tests are for.\n",
    "\n",
    "You just specify in another file, which you call `test_<program_to_test_name>.py` and in it you specifiy your unit tests."
   ]
  },
  {
   "cell_type": "code",
   "execution_count": 16,
   "metadata": {
    "slideshow": {
     "slide_type": "fragment"
    }
   },
   "outputs": [],
   "source": [
    "from generate_names import generate_names\n",
    "\n",
    "\n",
    "def test_generate_names():\n",
    "    names = generate_names('schnippschnapp', 8)\n",
    "    assert len(names) == 0\n"
   ]
  },
  {
   "cell_type": "code",
   "execution_count": 17,
   "metadata": {
    "slideshow": {
     "slide_type": "subslide"
    }
   },
   "outputs": [],
   "source": [
    "assert True"
   ]
  },
  {
   "cell_type": "code",
   "execution_count": 8,
   "metadata": {
    "slideshow": {
     "slide_type": "subslide"
    }
   },
   "outputs": [
    {
     "ename": "AssertionError",
     "evalue": "",
     "output_type": "error",
     "traceback": [
      "\u001b[0;31m---------------------------------------------------------------------------\u001b[0m",
      "\u001b[0;31mAssertionError\u001b[0m                            Traceback (most recent call last)",
      "\u001b[0;32m<ipython-input-8-a871fdc9ebee>\u001b[0m in \u001b[0;36m<module>\u001b[0;34m\u001b[0m\n\u001b[0;32m----> 1\u001b[0;31m \u001b[0;32massert\u001b[0m \u001b[0;32mFalse\u001b[0m\u001b[0;34m\u001b[0m\u001b[0;34m\u001b[0m\u001b[0m\n\u001b[0m",
      "\u001b[0;31mAssertionError\u001b[0m: "
     ]
    }
   ],
   "source": [
    "assert False"
   ]
  },
  {
   "cell_type": "markdown",
   "metadata": {
    "slideshow": {
     "slide_type": "subslide"
    }
   },
   "source": [
    "### `assert`?\n",
    "\n",
    "In essence the `assert expression` statement does the following:\n",
    "\n",
    "```python\n",
    "if not expression: raise AssertionError\n",
    "```\n",
    "\n",
    "https://docs.python.org/3/reference/simple_stmts.html#the-assert-statement"
   ]
  },
  {
   "cell_type": "markdown",
   "metadata": {
    "slideshow": {
     "slide_type": "subslide"
    }
   },
   "source": [
    "Executing each unit test manually is tedious. Consequenlty, we use a testing framework `py.test`, which automates the process of running a set of unit tests.\n",
    "\n",
    "You can run your tests from the command-line by pointing `pytest` to the file containing your unit tests.\n",
    "\n",
    "~~~bash\n",
    "$ pytest test_generate_names.py\n",
    "~~~\n",
    "\n",
    "It will collect all functions that start with a `test_`, execute them sequentially, and report if the unit test fails or passes."
   ]
  },
  {
   "cell_type": "markdown",
   "metadata": {
    "slideshow": {
     "slide_type": "subslide"
    }
   },
   "source": [
    "~~~bash\n",
    "$ pytest test_generate_names.py\n",
    "======================================== test session starts ========================================\n",
    "platform darwin -- Python 3.7.1, pytest-4.0.2, py-1.7.0, pluggy-0.8.0\n",
    "rootdir: /Users/ropf/Documents/Lectures/qualification-seminar-2019/session-7, inifile:\n",
    "plugins: remotedata-0.3.1, openfiles-0.3.1, doctestplus-0.2.0, arraydiff-0.3\n",
    "collected 4 items\n",
    "\n",
    "test_generate_names.py ..FF                                                                   [100%]\n",
    "\n",
    "============================================= FAILURES ==============================================\n",
    "...\n",
    "~~~"
   ]
  },
  {
   "cell_type": "markdown",
   "metadata": {
    "slideshow": {
     "slide_type": "fragment"
    }
   },
   "source": [
    "## Test Case\n",
    "\n",
    "A _test case_ is a collection of unit tests that together prove that a function behaves as it's supposed to, within the full range of situations you expect it to handle."
   ]
  },
  {
   "cell_type": "markdown",
   "metadata": {
    "slideshow": {
     "slide_type": "fragment"
    }
   },
   "source": [
    "A good test case considers all the possible kinds of input a function could receive and includes tests to represent each of these situations."
   ]
  },
  {
   "cell_type": "markdown",
   "metadata": {
    "slideshow": {
     "slide_type": "subslide"
    }
   },
   "source": [
    "## Test-driven Development\n",
    "\n",
    "In Test-driven Development (TDD) you start by writing your test before writing your actual program.\n",
    "\n",
    "The idea is, that you -or one of your friends/colleagues- specifies the input a function/method requires and the output it is supposed to create.\n",
    "\n",
    "Then you implement the functionality until all given unit tests pass. That should mean that your code does at least what it is asserted to do."
   ]
  },
  {
   "cell_type": "markdown",
   "metadata": {
    "slideshow": {
     "slide_type": "subslide"
    }
   },
   "source": [
    "# Unit Testing Exercise\n",
    "\n",
    "* Take your previous function `german_polite_form` and save it in the file `german.py`\n",
    "* Create the file `test_german.py`\n",
    "* Write one test that verifies that `Conchita Wurst` gets addressed correctly\n",
    "  - You only need to import your `german_polite_form` file and create a function for the test starting with `test_`\n",
    "  - Use `assert` to test your assumption\n",
    "* Write one test that verifies that using the number 3 does *not* work\n",
    "  - Use the `try ... except` construct"
   ]
  }
 ],
 "metadata": {
  "celltoolbar": "Slideshow",
  "kernelspec": {
   "display_name": "Python 3",
   "language": "python",
   "name": "python3"
  },
  "language_info": {
   "codemirror_mode": {
    "name": "ipython",
    "version": 3
   },
   "file_extension": ".py",
   "mimetype": "text/x-python",
   "name": "python",
   "nbconvert_exporter": "python",
   "pygments_lexer": "ipython3",
   "version": "3.7.3"
  }
 },
 "nbformat": 4,
 "nbformat_minor": 2
}
