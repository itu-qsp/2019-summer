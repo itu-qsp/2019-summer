{
 "cells": [
  {
   "cell_type": "markdown",
   "metadata": {
    "slideshow": {
     "slide_type": "slide"
    }
   },
   "source": [
    "## What does this function do?\n",
    "\n",
    "```python\n",
    "def o(f):\n",
    "    return f%2==0 if f > 0 else False\n",
    "```"
   ]
  },
  {
   "cell_type": "markdown",
   "metadata": {
    "slideshow": {
     "slide_type": "slide"
    }
   },
   "source": [
    "# Documentation and technical debt\n",
    "\n",
    "Code gets old. Even for the author. Yes, that's you.\n",
    "\n",
    "* Problem:\n",
    "  - You're a business that needs to develop software *fast*\n",
    "  - You have a single Python `.py` file with 2000 lines of code that looks like the above"
   ]
  },
  {
   "cell_type": "markdown",
   "metadata": {
    "slideshow": {
     "slide_type": "subslide"
    }
   },
   "source": [
    "![](images/debt.jpeg)"
   ]
  },
  {
   "cell_type": "markdown",
   "metadata": {
    "slideshow": {
     "slide_type": "fragment"
    }
   },
   "source": [
    "* Solution:\n",
    "  - You either close the business, or you make it cheaper to develop new code"
   ]
  },
  {
   "cell_type": "markdown",
   "metadata": {
    "slideshow": {
     "slide_type": "subslide"
    }
   },
   "source": [
    "## Solution part 1/3: Naming conventions\n",
    "\n",
    "* Give things reasonable names\n",
    "* Write clear code, even if it takes up more space"
   ]
  },
  {
   "cell_type": "markdown",
   "metadata": {
    "slideshow": {
     "slide_type": "subslide"
    }
   },
   "source": [
    "## What can be improved?\n",
    "\n",
    "Type this into Mu and press the `Check` button:\n",
    "```python\n",
    "def o(f):\n",
    "    return f%2==0 if f>0 else False\n",
    "```"
   ]
  },
  {
   "cell_type": "code",
   "execution_count": null,
   "metadata": {
    "slideshow": {
     "slide_type": "fragment"
    }
   },
   "outputs": [],
   "source": [
    "def is_even(f):\n",
    "    return f % 2 == 0 if f > 0 else False"
   ]
  },
  {
   "cell_type": "code",
   "execution_count": 1,
   "metadata": {
    "slideshow": {
     "slide_type": "fragment"
    }
   },
   "outputs": [],
   "source": [
    "def is_even(number):\n",
    "    if number > 0:\n",
    "        number_is_even = number % 2 == 0\n",
    "        return number_is_even\n",
    "    else:\n",
    "        return False"
   ]
  },
  {
   "cell_type": "markdown",
   "metadata": {
    "slideshow": {
     "slide_type": "subslide"
    }
   },
   "source": [
    "## Solution 2/3: Write documentation (meta-data)\n",
    "\n",
    "* Documentation helps to understand what the code does *without reading the code*\n",
    "* Similar topic: pseudo-code"
   ]
  },
  {
   "cell_type": "markdown",
   "metadata": {
    "slideshow": {
     "slide_type": "subslide"
    }
   },
   "source": [
    "## Looking up documentation 1/2: Python documentation\n",
    "\n",
    "Search for: Python documentation\n",
    "\n",
    "Or go to https://docs.python.org/3/"
   ]
  },
  {
   "cell_type": "markdown",
   "metadata": {
    "slideshow": {
     "slide_type": "subslide"
    }
   },
   "source": [
    "## Looking up documenation 2/2: `help`\n",
    "\n",
    "```python\n",
    "print(help(str.find))\n",
    "```"
   ]
  },
  {
   "cell_type": "code",
   "execution_count": null,
   "metadata": {
    "slideshow": {
     "slide_type": "subslide"
    }
   },
   "outputs": [],
   "source": [
    "print(help(is_even))"
   ]
  },
  {
   "cell_type": "markdown",
   "metadata": {
    "slideshow": {
     "slide_type": "subslide"
    }
   },
   "source": [
    "## Writing documentation\n",
    "\n",
    "* What is the purpose?\n",
    "* What is the input?\n",
    "* What is the output?"
   ]
  },
  {
   "cell_type": "markdown",
   "metadata": {
    "slideshow": {
     "slide_type": "subslide"
    }
   },
   "source": [
    "### Documenting the purpose"
   ]
  },
  {
   "cell_type": "code",
   "execution_count": 2,
   "metadata": {},
   "outputs": [],
   "source": [
    "def is_even(number):\n",
    "    \"\"\"Examines whether a positive number is even.\n",
    "    Returns `False` if zero or negative\n",
    "    \"\"\"\n",
    "    if number > 0:\n",
    "        number_is_even = number % 2 == 0\n",
    "        return number_is_even\n",
    "    else:\n",
    "        return False"
   ]
  },
  {
   "cell_type": "markdown",
   "metadata": {
    "slideshow": {
     "slide_type": "subslide"
    }
   },
   "source": [
    "### Documenting input:"
   ]
  },
  {
   "cell_type": "code",
   "execution_count": null,
   "metadata": {},
   "outputs": [],
   "source": [
    "def is_even(number):\n",
    "    \"\"\"Examines whether a positive number is even.\n",
    "    Returns `False` if zero or negative    \n",
    "    \n",
    "    Parameters \n",
    "    ----------\n",
    "    number : int\n",
    "        The number to examine\n",
    "    \"\"\"\n",
    "    if number > 0:\n",
    "        number_is_even = number % 2 == 0\n",
    "        return number_is_even\n",
    "    else:\n",
    "        return False"
   ]
  },
  {
   "cell_type": "markdown",
   "metadata": {
    "slideshow": {
     "slide_type": "subslide"
    }
   },
   "source": [
    "### Documenting output:"
   ]
  },
  {
   "cell_type": "code",
   "execution_count": null,
   "metadata": {
    "slideshow": {
     "slide_type": "-"
    }
   },
   "outputs": [],
   "source": [
    "def is_even(number):\n",
    "    \"\"\"Examines whether a positive number is even.\n",
    "    \n",
    "    Parameters \n",
    "    ----------\n",
    "    number : int\n",
    "        The number to examine\n",
    "        \n",
    "    Returns\n",
    "    -------\n",
    "    bool\n",
    "        True if the number is even and above 0, \n",
    "        False otherwise\n",
    "    \"\"\"\n",
    "    if number > 0:\n",
    "        number_is_even = number % 2 == 0\n",
    "        return number_is_even\n",
    "    else:\n",
    "        return False"
   ]
  },
  {
   "cell_type": "markdown",
   "metadata": {},
   "source": [
    "### Documenting examples:"
   ]
  },
  {
   "cell_type": "code",
   "execution_count": 3,
   "metadata": {},
   "outputs": [],
   "source": [
    "\n",
    "def is_even(number):\n",
    "    \"\"\"Examines whether a positive number is even. False if negative\n",
    "    \n",
    "    Parameters \n",
    "    ----------\n",
    "    number : int\n",
    "        The number to examine\n",
    "        \n",
    "    Returns\n",
    "    -------\n",
    "    bool\n",
    "        True if the number is even and above 0, False otherwise\n",
    "        \n",
    "    Examples\n",
    "    --------\n",
    "        Examples should be written in doctest format, and should illustrate how\n",
    "        to use the function.\n",
    "\n",
    "        >>> is_even(4)\n",
    "        True\n",
    "        \n",
    "        >>> is_even(5)\n",
    "        False\n",
    "    \"\"\"\n",
    "    if number > 0:\n",
    "        number_is_even = number % 2 == 0\n",
    "        return number_is_even\n",
    "    else:\n",
    "        return False"
   ]
  },
  {
   "cell_type": "code",
   "execution_count": null,
   "metadata": {
    "slideshow": {
     "slide_type": "subslide"
    }
   },
   "outputs": [],
   "source": [
    "print(help(is_even))"
   ]
  },
  {
   "cell_type": "code",
   "execution_count": null,
   "metadata": {
    "slideshow": {
     "slide_type": "subslide"
    }
   },
   "outputs": [],
   "source": [
    "print(is_even.__doc__)"
   ]
  },
  {
   "cell_type": "markdown",
   "metadata": {
    "slideshow": {
     "slide_type": "subslide"
    }
   },
   "source": [
    "## Another example:\n",
    "\n",
    "```python\n",
    "def random_number_generator(arg1, arg2):\n",
    "    \"\"\"\n",
    "    Summary line.\n",
    "\n",
    "    Extended description of function.\n",
    "\n",
    "    Parameters\n",
    "    ----------\n",
    "    arg1 : int\n",
    "        Description of arg1\n",
    "    arg2 : str\n",
    "        Description of arg2\n",
    "\n",
    "    Returns\n",
    "    -------\n",
    "    int\n",
    "        Description of return value\n",
    "    \"\"\"\n",
    "    return 42\n",
    "```"
   ]
  },
  {
   "cell_type": "markdown",
   "metadata": {
    "slideshow": {
     "slide_type": "subslide"
    }
   },
   "source": [
    "## Your turn:\n",
    "\n",
    "Clean up and document this function:\n",
    "\n",
    "```python\n",
    "def p(b, z):\n",
    "    return b ** z\n",
    "```"
   ]
  },
  {
   "cell_type": "markdown",
   "metadata": {
    "slideshow": {
     "slide_type": "subslide"
    }
   },
   "source": [
    "## Summary\n",
    "\n",
    "* Naming conventions\n",
    "  - Call things what they are\n",
    "* Documentation\n",
    "  - Meta information on functions, modules, methods, and classes"
   ]
  }
 ],
 "metadata": {
  "celltoolbar": "Slideshow",
  "kernelspec": {
   "display_name": "Python 3",
   "language": "python",
   "name": "python3"
  },
  "language_info": {
   "codemirror_mode": {
    "name": "ipython",
    "version": 3
   },
   "file_extension": ".py",
   "mimetype": "text/x-python",
   "name": "python",
   "nbconvert_exporter": "python",
   "pygments_lexer": "ipython3",
   "version": "3.7.3"
  }
 },
 "nbformat": 4,
 "nbformat_minor": 2
}
