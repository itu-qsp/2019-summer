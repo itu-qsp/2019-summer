{
 "cells": [
  {
   "cell_type": "markdown",
   "metadata": {},
   "source": [
    "## Workshop: Working with text\n",
    "\n",
    "![](https://media2.giphy.com/media/v7kRrukQCKCFa/giphy.gif?cid=790b76115d229bc76d546139734965df&rid=giphy.gif)\n",
    "\n",
    "Text is an integral part of using Python, and you'll get a chance to work more with it here.\n",
    "\n",
    "Remember that `str` (strings) are actually just a sequence of characters (similar to lists), and that they have a number of functions that you can access and use like so: \n",
    "* `'text'.capitalize()`\n",
    "* `'text'.endswith('t')`"
   ]
  },
  {
   "cell_type": "markdown",
   "metadata": {},
   "source": [
    "1. Go through the slides and make sure you understand\n",
    "  * How to run Python files through the command line\n",
    "  * Exceptions\n",
    "  * Pseudo code\n",
    "  * What lists are\n",
    "2. What is the output of the following and why?\n",
    "  * `'this is text'.replace('text', 'a gif')`\n",
    "  * `' - '.join(['this', 'is', 'a', 'list'])`\n",
    "  * `'this is text'.split(' ')`\n",
    "  * `'Where is Waldo?'.find('Waldo')`\n",
    "  * `'Waldo is not here'.find('waldo')`\n",
    "3. Raise an `NotImplementedError` with the message `'No one implemented this code!'`\n",
    "4. When running a Python script from the command line, what do you get when you print the following?\n",
    "  * `__file__`\n",
    "5. Write a small command-line program that can create lines of Scatman songs. For example, the following call\n",
    "    ```bash\n",
    "python scatman.py ba-da 2 ba-be 1 bop 2 bodda 1 bope 1\n",
    "```\n",
    "    Shall produce the 13th line of the song: `ba-daba-da ba-be bopbop bodda bope`\n",
    "\n",
    "    The arguments for your program shall be an even length list of string integer pairs, where the string denotes the _scatter_ and the integer denotes how often it appears in that line.\n",
    "\n",
    "    See the Scatman lyrics for more possible lines to produce: https://www.azlyrics.com/lyrics/scatmanjohn/scatmanskibabopbadopbop.html and the song: https://www.youtube.com/watch?v=Hy8kmNEo1i8"
   ]
  },
  {
   "cell_type": "markdown",
   "metadata": {},
   "source": [
    "Notice that you are starting to have some useful tools in your Python toolbox. Now you can work with text, and describe more complicated programs. And you only just learned Python last week!\n",
    "\n",
    "Move on with the assignment for today, where you'll work with loops, turtles and command line programs. Hopefully you'll find it fun and useful!"
   ]
  }
 ],
 "metadata": {
  "kernelspec": {
   "display_name": "Python 3",
   "language": "python",
   "name": "python3"
  },
  "language_info": {
   "codemirror_mode": {
    "name": "ipython",
    "version": 3
   },
   "file_extension": ".py",
   "mimetype": "text/x-python",
   "name": "python",
   "nbconvert_exporter": "python",
   "pygments_lexer": "ipython3",
   "version": "3.7.3"
  }
 },
 "nbformat": 4,
 "nbformat_minor": 2
}
