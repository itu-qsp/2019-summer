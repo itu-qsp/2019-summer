{
 "cells": [
  {
   "cell_type": "markdown",
   "metadata": {
    "slideshow": {
     "slide_type": "slide"
    }
   },
   "source": [
    "# Evaluation\n",
    "\n",
    "We are very curious to hear your feedback on the seminar, so we have arranged a Delphi evaluation.\n",
    "\n",
    "Three phases:\n",
    "\n",
    "  1. You receive a blank sheet of paper.\n",
    "    - Draw a horizontal line in the middle of it\n",
    "  2. Write up to three positive things in the upper half and up to three negative things in the lower half.\n",
    "    - All the feedback you provide is anonymous.\n",
    "  3. Vote on what you agree on what others say.\n",
    "    * The papers circulate **clockwise** to your neighbour, connecting two rows\n",
    "    * Vote on each topic you agree with by placing **one** line \n",
    "    * Once you receive your own paper again, we are done.\n",
    "\n",
    "-------\n",
    "\n",
    "Now, we (TAs, Jens, and Helge) will collect all the papers and we will:\n",
    "\n",
    "  1. Collect the top-voted topics/issues\n",
    "  2. We come back and discuss the concerns together\n",
    "\n",
    "<img src=\"images/counting.png\" style=\"width:300px; float:right;\"/>\n",
    "\n",
    "Finally, we will summarise it all in a report."
   ]
  }
 ],
 "metadata": {
  "celltoolbar": "Slideshow",
  "kernelspec": {
   "display_name": "Python 3",
   "language": "python",
   "name": "python3"
  },
  "language_info": {
   "codemirror_mode": {
    "name": "ipython",
    "version": 3
   },
   "file_extension": ".py",
   "mimetype": "text/x-python",
   "name": "python",
   "nbconvert_exporter": "python",
   "pygments_lexer": "ipython3",
   "version": "3.7.3"
  }
 },
 "nbformat": 4,
 "nbformat_minor": 2
}
