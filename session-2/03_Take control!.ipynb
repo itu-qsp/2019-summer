{
 "cells": [
  {
   "cell_type": "markdown",
   "metadata": {
    "slideshow": {
     "slide_type": "slide"
    }
   },
   "source": [
    "# The journey so far\n",
    "\n",
    "* What is a computer?\n",
    "* Data input\n",
    "* Data output\n",
    "* Data processing with operators\n",
    "* Data types\n",
    "* Basic Python syntax"
   ]
  },
  {
   "cell_type": "markdown",
   "metadata": {
    "slideshow": {
     "slide_type": "slide"
    }
   },
   "source": [
    "# Take control!\n",
    "\n",
    "Computers are, in fact, incredibly stupid. They are completely incapable of taking any kind of decisions. Luckily, you are here to guide it.\n",
    "\n",
    "In this notebook you'll learn a bit more about what a computer actually is and how we can use it to our advantage. Finally you'll extend your cookie dough program to become a little smarter..."
   ]
  },
  {
   "cell_type": "markdown",
   "metadata": {
    "slideshow": {
     "slide_type": "subslide"
    }
   },
   "source": [
    "## Machines!\n",
    "\n",
    "<img style=\"float:right\" src=\"https://upload.wikimedia.org/wikipedia/en/9/94/T-800_%28Model_101%29.png\"/>\n",
    "\n",
    "Machines can't really take any kinds of decision by themselves. The idea of computers as evil machines, is far from reality.\n",
    "\n",
    "A better picture of a computer is like a maze. When we tell it to, it will start to execute a program (the maze) and then it starts taking a number of decisions. Some of the decisions work out well, and some of them don't.\n",
    "\n",
    "<img style=\"float:left\" src=\"https://upload.wikimedia.org/wikipedia/commons/8/88/Maze_simple.svg\"/>"
   ]
  },
  {
   "cell_type": "markdown",
   "metadata": {
    "slideshow": {
     "slide_type": "subslide"
    }
   },
   "source": [
    "## On or off\n",
    "\n",
    "You might have heard that computers are based on the binary number system. They can only cope with two extremes: on or off. In the analogy of our maze: left or right. \n",
    "\n",
    "That switch is called a 'bit'. It is the most fundamental building block of a computer."
   ]
  },
  {
   "cell_type": "markdown",
   "metadata": {
    "slideshow": {
     "slide_type": "subslide"
    }
   },
   "source": [
    "So far you have met `int` and `str` types. Now meet your third data type: the **boolean**. Booleans can only be on or off, nothing else. In Python on is called `True` and off is called `False`. \n",
    "\n",
    "**Booleans** can help us with many things. They can answer questions like: \"*is this true*\"? Or \"*is this false*\"? \n",
    "\n",
    "A typical question to ask is whether a number is *bigger* or smaller than another number."
   ]
  },
  {
   "cell_type": "markdown",
   "metadata": {
    "slideshow": {
     "slide_type": "fragment"
    }
   },
   "source": [
    "In Python we can write this with `>`. So to test whether 7 is bigger than 6, write `7 > 6` below:"
   ]
  },
  {
   "cell_type": "code",
   "execution_count": 2,
   "metadata": {
    "slideshow": {
     "slide_type": "fragment"
    }
   },
   "outputs": [
    {
     "data": {
      "text/plain": [
       "False"
      ]
     },
     "execution_count": 2,
     "metadata": {},
     "output_type": "execute_result"
    }
   ],
   "source": [
    "7 > 6 "
   ]
  },
  {
   "cell_type": "markdown",
   "metadata": {
    "slideshow": {
     "slide_type": "subslide"
    }
   },
   "source": [
    "That was `True`! Of course. Which of these things are `True`, and which of them are `False`?"
   ]
  },
  {
   "cell_type": "code",
   "execution_count": null,
   "metadata": {
    "slideshow": {
     "slide_type": "fragment"
    }
   },
   "outputs": [],
   "source": [
    "7 > 8"
   ]
  },
  {
   "cell_type": "code",
   "execution_count": null,
   "metadata": {
    "slideshow": {
     "slide_type": "fragment"
    }
   },
   "outputs": [],
   "source": [
    "2 < 3"
   ]
  },
  {
   "cell_type": "code",
   "execution_count": 3,
   "metadata": {
    "slideshow": {
     "slide_type": "fragment"
    }
   },
   "outputs": [
    {
     "data": {
      "text/plain": [
       "False"
      ]
     },
     "execution_count": 3,
     "metadata": {},
     "output_type": "execute_result"
    }
   ],
   "source": [
    "-1 > 100"
   ]
  },
  {
   "cell_type": "markdown",
   "metadata": {
    "slideshow": {
     "slide_type": "subslide"
    }
   },
   "source": [
    "## Decisions, decisions\n",
    "\n",
    "Booleans can help us to take decisions, because we can learn whether they are `True` or `False`. Think about the maze: a good binary question to ask would be \"is this a dead end\"?\n",
    "\n",
    "A computer will blindly follow your instructions. At all times. And you have one tool to help it decide: **boolean**s. "
   ]
  },
  {
   "cell_type": "markdown",
   "metadata": {
    "slideshow": {
     "slide_type": "subslide"
    }
   },
   "source": [
    "Python has been clever and mimiced the english language. You can write such a decision like so:\n",
    "```python\n",
    "if is_dead_end:\n",
    "    'Go right'\n",
    "else:\n",
    "    'Go left'\n",
    "```"
   ]
  },
  {
   "cell_type": "markdown",
   "metadata": {
    "slideshow": {
     "slide_type": "fragment"
    }
   },
   "source": [
    "Notice that we introduced the variable `is_dead_end`. In the following code the variable is replaced with an actual boolean value. Can you see why that code doesn't make sense?"
   ]
  },
  {
   "cell_type": "code",
   "execution_count": 15,
   "metadata": {
    "slideshow": {
     "slide_type": "fragment"
    }
   },
   "outputs": [
    {
     "name": "stdout",
     "output_type": "stream",
     "text": [
      "False\n",
      "Go right\n"
     ]
    }
   ],
   "source": [
    "print(6==5)\n",
    "if True:\n",
    "    print('Go right')\n",
    "else:\n",
    "    print('Go left')"
   ]
  },
  {
   "cell_type": "markdown",
   "metadata": {
    "slideshow": {
     "slide_type": "fragment"
    }
   },
   "source": [
    "Write this into Mu and see what happens."
   ]
  },
  {
   "cell_type": "markdown",
   "metadata": {
    "slideshow": {
     "slide_type": "subslide"
    }
   },
   "source": [
    "Congratulations! You just built a brain-damaged robot: it will never ever ever turn left. Why? Because `True` is always `True`. It will never get to the `else` clause and go left. The magic in the decisions arrive from the fact that we **don't** know whether our condition is `True` or `False`. That's why we need a variable. \n",
    "\n",
    "Can you make the code above print `Go left` by only changing the first line?"
   ]
  },
  {
   "cell_type": "markdown",
   "metadata": {
    "slideshow": {
     "slide_type": "slide"
    }
   },
   "source": [
    "# Invisible strings\n",
    "\n",
    "Notice that the `print` statements inside the `if` statement is indented: it is not on the same vertical line as the `if` and `else` words. Because the `print`s in a sense are following the outer expressions (`if` and `else`), they are said to be **nested**. Python is really strict about this. Let's see what happens if we forget it:"
   ]
  },
  {
   "cell_type": "code",
   "execution_count": 10,
   "metadata": {
    "slideshow": {
     "slide_type": "fragment"
    }
   },
   "outputs": [
    {
     "ename": "IndentationError",
     "evalue": "expected an indented block (<ipython-input-10-6c3dd4a5e8d1>, line 3)",
     "output_type": "error",
     "traceback": [
      "\u001b[0;36m  File \u001b[0;32m\"<ipython-input-10-6c3dd4a5e8d1>\"\u001b[0;36m, line \u001b[0;32m3\u001b[0m\n\u001b[0;31m    print('Moment of Truth!')\u001b[0m\n\u001b[0m        ^\u001b[0m\n\u001b[0;31mIndentationError\u001b[0m\u001b[0;31m:\u001b[0m expected an indented block\n"
     ]
    }
   ],
   "source": [
    "moment_of_truth = False\n",
    "if moment_of_truth:\n",
    "    print('Moment of Truth!')"
   ]
  },
  {
   "cell_type": "markdown",
   "metadata": {
    "slideshow": {
     "slide_type": "subslide"
    }
   },
   "source": [
    "Crash! This is totally on purpose. Why? Because it is much more readable. Consider these two options:"
   ]
  },
  {
   "cell_type": "code",
   "execution_count": 11,
   "metadata": {
    "slideshow": {
     "slide_type": "fragment"
    }
   },
   "outputs": [
    {
     "ename": "IndentationError",
     "evalue": "expected an indented block (<ipython-input-11-5c2724bb54b4>, line 2)",
     "output_type": "error",
     "traceback": [
      "\u001b[0;36m  File \u001b[0;32m\"<ipython-input-11-5c2724bb54b4>\"\u001b[0;36m, line \u001b[0;32m2\u001b[0m\n\u001b[0;31m    print('Moment of Truth!')\u001b[0m\n\u001b[0m        ^\u001b[0m\n\u001b[0;31mIndentationError\u001b[0m\u001b[0;31m:\u001b[0m expected an indented block\n"
     ]
    }
   ],
   "source": [
    "if moment_of_truth:\n",
    "print('Moment of Truth!')\n",
    "else:\n",
    "print('Let it Shine')"
   ]
  },
  {
   "cell_type": "code",
   "execution_count": 12,
   "metadata": {
    "slideshow": {
     "slide_type": "fragment"
    }
   },
   "outputs": [
    {
     "name": "stdout",
     "output_type": "stream",
     "text": [
      "Let it Shine\n"
     ]
    }
   ],
   "source": [
    "if moment_of_truth:\n",
    "    print('Moment of Truth!')\n",
    "else:\n",
    "    print('Let it Shine')"
   ]
  },
  {
   "cell_type": "markdown",
   "metadata": {
    "slideshow": {
     "slide_type": "subslide"
    }
   },
   "source": [
    "I hope you'll agree that indentation is a good thing. The second option is much clearer.\n",
    "\n",
    "What actually happens behind the scene is that Python *insists* that you prepend your `print` statement with 4 spaces. In a Python string, that would look like this:"
   ]
  },
  {
   "cell_type": "code",
   "execution_count": null,
   "metadata": {
    "slideshow": {
     "slide_type": "fragment"
    }
   },
   "outputs": [],
   "source": [
    "'   '"
   ]
  },
  {
   "cell_type": "markdown",
   "metadata": {
    "slideshow": {
     "slide_type": "fragment"
    }
   },
   "source": [
    "And space (`' '`) is actually a character just like `'a'` is a character. \n",
    "\n",
    "You can make a string entirely of spaces, just like you can make a string of `'a'`s. So we can work with it like we did before. \n",
    "\n",
    "Before you execute the code below, try to explain it to your neighbour and fully understand what you expect it to do:"
   ]
  },
  {
   "cell_type": "code",
   "execution_count": 13,
   "metadata": {
    "slideshow": {
     "slide_type": "subslide"
    }
   },
   "outputs": [
    {
     "name": "stdout",
     "output_type": "stream",
     "text": [
      "Space between us: 10\n",
      "We are            apart\n"
     ]
    }
   ],
   "source": [
    "space = input('Space between us: ')\n",
    "spaces = ' ' * int(space)\n",
    "print('We are ' + spaces + ' apart')"
   ]
  },
  {
   "cell_type": "markdown",
   "metadata": {
    "slideshow": {
     "slide_type": "subslide"
    }
   },
   "source": [
    "## Magic (and invisible) strings\n",
    "\n",
    "Spaces are not the only invisible character. Can you guess what this character does?"
   ]
  },
  {
   "cell_type": "code",
   "execution_count": 18,
   "metadata": {
    "slideshow": {
     "slide_type": "fragment"
    }
   },
   "outputs": [
    {
     "name": "stdout",
     "output_type": "stream",
     "text": [
      "Python, \n",
      "give me a break! \n",
      "more\n"
     ]
    }
   ],
   "source": [
    "print('Python, \\ngive me a break! \\nmore')"
   ]
  },
  {
   "cell_type": "markdown",
   "metadata": {
    "slideshow": {
     "slide_type": "fragment"
    }
   },
   "source": [
    "The `'\\n'` stands for \"new line\". It simply inserts a new line. Try to modify the program below to use `'\\n'` instead of a space `' '`."
   ]
  },
  {
   "cell_type": "code",
   "execution_count": null,
   "metadata": {},
   "outputs": [],
   "source": [
    "space = input('Space between us: ')\n",
    "print('We are ' + ' ' * int(space) + ' apart')"
   ]
  },
  {
   "cell_type": "markdown",
   "metadata": {
    "slideshow": {
     "slide_type": "subslide"
    }
   },
   "source": [
    "## Machines!\n",
    "\n",
    "<img style=\"float:right\" src=\"https://upload.wikimedia.org/wikipedia/en/9/94/T-800_%28Model_101%29.png\"/>\n",
    "\n",
    "Machines can't really take any kinds of decision by themselves. The idea of computers as evil machines, is far from reality.\n",
    "\n",
    "A better picture of a computer is like a maze. When we tell it to, it will start to execute a program (the maze) and then it starts taking a number of decisions. Some of the decisions work out well, and some of them don't.\n",
    "\n",
    "<img style=\"float:left\" src=\"https://upload.wikimedia.org/wikipedia/commons/8/88/Maze_simple.svg\"/>"
   ]
  },
  {
   "cell_type": "code",
   "execution_count": null,
   "metadata": {},
   "outputs": [],
   "source": []
  },
  {
   "cell_type": "markdown",
   "metadata": {
    "slideshow": {
     "slide_type": "slide"
    }
   },
   "source": [
    "## String Equality\n",
    "\n",
    "So far we have seen how to test for boolean conditions with numbers. For instance: is 7 `>` 6? We can also do this with text strings.\n",
    "\n",
    "For example, you can ask whether strings are the same. Python writes that with two equal symbols: `==`. Try to run the following code:"
   ]
  },
  {
   "cell_type": "code",
   "execution_count": 19,
   "metadata": {
    "slideshow": {
     "slide_type": "fragment"
    }
   },
   "outputs": [
    {
     "data": {
      "text/plain": [
       "True"
      ]
     },
     "execution_count": 19,
     "metadata": {},
     "output_type": "execute_result"
    }
   ],
   "source": [
    "'a' == 'a'"
   ]
  },
  {
   "cell_type": "code",
   "execution_count": 20,
   "metadata": {
    "slideshow": {
     "slide_type": "fragment"
    }
   },
   "outputs": [
    {
     "data": {
      "text/plain": [
       "False"
      ]
     },
     "execution_count": 20,
     "metadata": {},
     "output_type": "execute_result"
    }
   ],
   "source": [
    "'a' == 'b'"
   ]
  },
  {
   "cell_type": "code",
   "execution_count": 21,
   "metadata": {
    "slideshow": {
     "slide_type": "fragment"
    }
   },
   "outputs": [
    {
     "data": {
      "text/plain": [
       "False"
      ]
     },
     "execution_count": 21,
     "metadata": {},
     "output_type": "execute_result"
    }
   ],
   "source": [
    "'hullu bullu, lotte hvor er du henne?' == 'hullu bullu lotte hvor er du henne?'"
   ]
  },
  {
   "cell_type": "markdown",
   "metadata": {
    "slideshow": {
     "slide_type": "subslide"
    }
   },
   "source": [
    "Which one of these statements are `True`? Try to guess the solution before you execute the code."
   ]
  },
  {
   "cell_type": "code",
   "execution_count": 22,
   "metadata": {
    "slideshow": {
     "slide_type": "fragment"
    }
   },
   "outputs": [
    {
     "data": {
      "text/plain": [
       "False"
      ]
     },
     "execution_count": 22,
     "metadata": {},
     "output_type": "execute_result"
    }
   ],
   "source": [
    "'FCK' == 'fck'"
   ]
  },
  {
   "cell_type": "code",
   "execution_count": 23,
   "metadata": {
    "slideshow": {
     "slide_type": "fragment"
    }
   },
   "outputs": [
    {
     "data": {
      "text/plain": [
       "False"
      ]
     },
     "execution_count": 23,
     "metadata": {},
     "output_type": "execute_result"
    }
   ],
   "source": [
    "'Faxe Kondi' == 'Apple Juice'"
   ]
  },
  {
   "cell_type": "markdown",
   "metadata": {
    "slideshow": {
     "slide_type": "subslide"
    }
   },
   "source": [
    "In the same way numbers are ordered, so 7 really **is** bigger than 6, strings are ordered lexicographically. That is perhaps not of too much practical relevance for now, but it allows for simple and funny insights: "
   ]
  },
  {
   "cell_type": "code",
   "execution_count": 24,
   "metadata": {
    "slideshow": {
     "slide_type": "fragment"
    }
   },
   "outputs": [
    {
     "data": {
      "text/plain": [
       "True"
      ]
     },
     "execution_count": 24,
     "metadata": {},
     "output_type": "execute_result"
    }
   ],
   "source": [
    "'Faxe Kondi' > 'Apple Juice'"
   ]
  },
  {
   "cell_type": "markdown",
   "metadata": {
    "slideshow": {
     "slide_type": "subslide"
    }
   },
   "source": [
    "## You don't love cookie dough enough!\n",
    "\n",
    "Your previous cookie dough program probably looked something like this:\n",
    "```python\n",
    "data = input('How much do you like cookie dough?')\n",
    "data = int(data)\n",
    "print('You ' + 'really ' * data + 'like cookie dough')\n",
    "```\n",
    "But, what happens if you give the program a number that is 0 or less? Try it out for yourself."
   ]
  },
  {
   "cell_type": "markdown",
   "metadata": {
    "slideshow": {
     "slide_type": "fragment"
    }
   },
   "source": [
    "In that program it's possible to output `'You like cookie dough'` if `0` is given as input (`0 * 'really' == ''). I think you'll agree that we need at least one 'really'` in there.\n",
    "\n",
    "Let's fix this. Your job is to tell off people that are putting in numbers that are less than 1. If they do so, you should print out the string `'You don't like cookie dough enough!'`. If the number is above 0, you should print out the same statement as before.\n",
    "\n",
    "Hint: Use the `if` notation from above."
   ]
  },
  {
   "cell_type": "code",
   "execution_count": null,
   "metadata": {},
   "outputs": [],
   "source": []
  }
 ],
 "metadata": {
  "celltoolbar": "Slideshow",
  "kernelspec": {
   "display_name": "Python 3",
   "language": "python",
   "name": "python3"
  },
  "language_info": {
   "codemirror_mode": {
    "name": "ipython",
    "version": 3
   },
   "file_extension": ".py",
   "mimetype": "text/x-python",
   "name": "python",
   "nbconvert_exporter": "python",
   "pygments_lexer": "ipython3",
   "version": "3.7.3"
  }
 },
 "nbformat": 4,
 "nbformat_minor": 2
}
