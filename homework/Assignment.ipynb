{
 "cells": [
  {
   "cell_type": "markdown",
   "metadata": {},
   "source": [
    "# Assignment 3 - Working with text\n",
    "\n",
    "In this assignment you will familiarize yourself more with text in Python. Text is incredibly important because it is so ubiquitous. And it is nice because it requires a lot less math than coding graphics. Try to solve as much as you can, but do hand in. That is, hand in regardless of how much you have done. Do not forget to review the feedback you get!"
   ]
  },
  {
   "cell_type": "markdown",
   "metadata": {},
   "source": [
    "## Exercise A: What are these programs doing?\n",
    "\n",
    "For this exercise you do not have to type in the code or run it. You can of course, but try **not** to. \n",
    "\n",
    "The goal is for you to explain what the individual pieces of code below will print. Imagine someone runs the code; what do you think will be the output? Write one answer per program. Save your answers in `A.txt`."
   ]
  },
  {
   "cell_type": "code",
   "execution_count": null,
   "metadata": {},
   "outputs": [],
   "source": [
    "alphabet = 'abcdefghijklmnopqrstuvxyzæøå'\n",
    "print(alphabet[7] + alphabet[20] + alphabet[11] + alphabet[11] + alphabet[20])"
   ]
  },
  {
   "cell_type": "code",
   "execution_count": null,
   "metadata": {},
   "outputs": [],
   "source": [
    "c = 10\n",
    "while c > 1:\n",
    "    print(c)\n",
    "    c -= 10"
   ]
  },
  {
   "cell_type": "code",
   "execution_count": null,
   "metadata": {},
   "outputs": [],
   "source": [
    "my_list = [1, 2, 3, 4]\n",
    "for number in my_list:\n",
    "    print(number)"
   ]
  },
  {
   "cell_type": "markdown",
   "metadata": {},
   "source": [
    "## Exercise B: Good coding practices\n",
    "\n",
    "In the session we had an exercise on drawing using a while loop. Can you change the below code to:\n",
    "\n",
    "  * use better naming practices and\n",
    "  * use an augmented assignment operator like +=?\n",
    "\n",
    "Save your answer in `B.py`.\n",
    "\n",
    "```python\n",
    "from turtle import forward, left\n",
    "\n",
    "\n",
    "a = 170\n",
    "f = 200\n",
    "c = 36\n",
    "while c > 0:\n",
    "    forward(f)\n",
    "    left(a)\n",
    "    c = c - 1\n",
    "```"
   ]
  },
  {
   "cell_type": "markdown",
   "metadata": {},
   "source": [
    "## Exercise C: Working with lists\n",
    "\n",
    "Say you have the following list stored in the variable `my_list`:\n",
    "\n",
    "```python\n",
    "my_list = [4, 2, 8, 1, 9, -1, 8]\n",
    "```\n",
    "\n",
    "The program below is supposed to find the smallest number in the list, but it is not working as expected. \n",
    "\n",
    "Your task is to:\n",
    "\n",
    "  * Enter the program in Mu, set a breakpoint, run the debugger, write down in text what is happening.\n",
    "  * Fix the program so it actually finds the smallest number\n",
    "\n",
    "Save your answer in `C.py`\n",
    "\n",
    "```python\n",
    "my_list = [4, 2, 8, 1, 9, -1, 8]\n",
    "\n",
    "smallest_number = 1000000\n",
    "for number in my_list:\n",
    "    if number > smallest_number:\n",
    "        smallest_number = number\n",
    "print('I found the smallest number: ' + smallest_number)\n",
    "```"
   ]
  },
  {
   "cell_type": "markdown",
   "metadata": {},
   "source": [
    "## Exercise D: Generating names\n",
    "\n",
    "For this exercise you will need to download the file `us_names.py` and put it into the same directory that you are currently working in (it is likely the directory `mu_code` in your home directory). The file needs to be stored there as you need to import and use it as in the following:"
   ]
  },
  {
   "cell_type": "code",
   "execution_count": null,
   "metadata": {},
   "outputs": [],
   "source": [
    "from us_names import SURNAMES, FEMALE_NAMES, MALE_NAMES"
   ]
  },
  {
   "cell_type": "markdown",
   "metadata": {},
   "source": [
    "Translated from Python to English, that simply means \"load the Python file `us_names.py` and make the three variables from within that file: `SURNAMES`, `FEMALE_NAMES` and `MALE_NAMES` accessible to my program\". You can now use those variables directly in your code. Try to do that now.\n",
    "\n",
    "The actual exercise is:\n",
    "\n",
    "  * Write a program that creates four valid US American names and prints them. \n",
    "    - Of these four names are two female and two male names. \n",
    "    - A valid name has the form `<name> <surname>` (with a space between the name and surname), such as, _Shayla Maeda_ or _Hipolito Crytser_.\n",
    "    \n",
    "Save your answer in `D.py`.\n",
    "\n",
    "**Hints**: \n",
    "\n",
    "  - The names are sorted so that the most common names are first and the rarest names are in the end.\n",
    "  - To create a name you need to lookup the name (gendered name + surname) in your variables\n",
    "  - Does it make sense to use loops in your program?\n"
   ]
  },
  {
   "cell_type": "markdown",
   "metadata": {},
   "source": [
    "## Exercise E: Randomly generated names\n",
    "\n",
    "* The code below prints out a random number between 0 and 10. Can you use that to randomize your 4 names? That is, you are right now using fixed indexes to lookup the names in the variables, so they will always stay the same. Can you exploit the code below to create names that changes every time you execute the code?\n",
    "  * Hint: You can find the length of a list, such as `SURNAMES` using the `len` function: \n",
    "```python\n",
    "len(SURNAMES)\n",
    "```\n",
    "\n",
    "Save your answer in `E.py`"
   ]
  },
  {
   "cell_type": "code",
   "execution_count": null,
   "metadata": {},
   "outputs": [],
   "source": [
    "from random import randint\n",
    "\n",
    "\n",
    "a_random_number = randint(0, 10)\n",
    "print(a_random_number)"
   ]
  }
 ],
 "metadata": {
  "kernelspec": {
   "display_name": "Python 3",
   "language": "python",
   "name": "python3"
  },
  "language_info": {
   "codemirror_mode": {
    "name": "ipython",
    "version": 3
   },
   "file_extension": ".py",
   "mimetype": "text/x-python",
   "name": "python",
   "nbconvert_exporter": "python",
   "pygments_lexer": "ipython3",
   "version": "3.7.3"
  }
 },
 "nbformat": 4,
 "nbformat_minor": 2
}
