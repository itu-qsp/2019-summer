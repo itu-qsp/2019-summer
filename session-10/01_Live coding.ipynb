{
 "cells": [
  {
   "cell_type": "markdown",
   "metadata": {
    "slideshow": {
     "slide_type": "slide"
    }
   },
   "source": [
    "## Coding together\n",
    "\n",
    "* Let's try to solve some tasks together\n",
    "* Perhaps this helps you to understand how we would decode the assignments"
   ]
  },
  {
   "cell_type": "markdown",
   "metadata": {
    "slideshow": {
     "slide_type": "subslide"
    }
   },
   "source": [
    "## Assignments to live code:\n",
    "\n",
    "* Assignment 5: Functions, counting words and printing hearts\n",
    "* Assignment 6: Files and geometric turtle classes\n",
    "* Assignment 7: Excel and tests\n",
    "* Assignment 8: Searcing and running time analyses"
   ]
  }
 ],
 "metadata": {
  "celltoolbar": "Slideshow",
  "hide_input": false,
  "kernelspec": {
   "display_name": "Python 3",
   "language": "python",
   "name": "python3"
  },
  "language_info": {
   "codemirror_mode": {
    "name": "ipython",
    "version": 3
   },
   "file_extension": ".py",
   "mimetype": "text/x-python",
   "name": "python",
   "nbconvert_exporter": "python",
   "pygments_lexer": "ipython3",
   "version": "3.7.3"
  }
 },
 "nbformat": 4,
 "nbformat_minor": 2
}
