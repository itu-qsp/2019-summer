{
 "cells": [
  {
   "cell_type": "markdown",
   "metadata": {
    "slideshow": {
     "slide_type": "slide"
    }
   },
   "source": [
    "# The seminar so far\n",
    "\n",
    "| Date     | Topic | Contents |\n",
    "|---------|:----- |--------| \n",
    "| 1/7/2019 | 1: Meet your (other) computer! | Terminals, files and folders\n",
    "| 3/7/2019 | 2: Learning Python | Python data types and logic\n",
    "| 5/7/2019 | 3: Using Python | Lists and loops\n",
    "| 8/7/2019 | 4: Solving actual problems | More lists, exceptions and pseudo code\n",
    "| 10/7/2019 | 5: Python building blocks | Functions, modules, sets and dictionaries\n",
    "| 13/7/2019 | 6: Working with files and objects | Reading and writing to files, OOP\n",
    "| 15/7/2019 | 7: Working with data | Documentation, testing and excel data"
   ]
  },
  {
   "cell_type": "markdown",
   "metadata": {
    "slideshow": {
     "slide_type": "subslide"
    }
   },
   "source": [
    "<img src=\"images/donning-kruger.png\"/>"
   ]
  },
  {
   "cell_type": "markdown",
   "metadata": {
    "slideshow": {
     "slide_type": "subslide"
    }
   },
   "source": [
    "## Documentation\n",
    "\n",
    "Ways to document your code, by writing human readable text that describes:\n",
    "1. the *purpose* of your variable, function, class or method\n",
    "2. the input parameters of your function, constructor or method\n",
    "3. the output result of your function or method"
   ]
  },
  {
   "cell_type": "markdown",
   "metadata": {
    "slideshow": {
     "slide_type": "subslide"
    }
   },
   "source": [
    "## Testing\n",
    "\n",
    "Programs that test that your program works."
   ]
  },
  {
   "cell_type": "markdown",
   "metadata": {
    "slideshow": {
     "slide_type": "fragment"
    }
   },
   "source": [
    "![](images/recursion.gif)"
   ]
  },
  {
   "cell_type": "markdown",
   "metadata": {
    "slideshow": {
     "slide_type": "subslide"
    }
   },
   "source": [
    "## Using programs from programs\n",
    "\n",
    "Programs are not just programs. Programs exist to be used!\n",
    "\n",
    "* CLI programs\n",
    "* Testing\n",
    "\n",
    "Example: Turtle game with program installer"
   ]
  },
  {
   "cell_type": "markdown",
   "metadata": {
    "slideshow": {
     "slide_type": "subslide"
    }
   },
   "source": [
    "## Object orientation with Excel\n",
    "\n",
    "* Object-oriented programming (OOP)\n",
    "  * Class vs. object\n",
    "  * Properties and methods\n",
    "* Heavily used in the real world\n",
    "  * Excel (with `openpyxl`)\n",
    "  * Loads of other libraries"
   ]
  },
  {
   "cell_type": "markdown",
   "metadata": {
    "slideshow": {
     "slide_type": "subslide"
    }
   },
   "source": [
    "## Learning outcomes\n",
    "\n",
    "The expected outcomes for the seminar that you will be tested for.\n",
    "\n",
    "  > The student is able to\n",
    "  > - Analyse a given, simple computation task such as manipulation of a text-based database or external hardware device to the extent of designing a programmatic solution and implementing it in a modern, text-based, domain-neutral programming language\n",
    "  > - Test the correctness of a piece of code\n",
    "  > - Write program documentation\n",
    "  > - Express functionality in terms of abstract data type or application programming interface\n",
    "  > - Use text-based tools of program development, including an editor, command-line tools, and a version control system\n"
   ]
  },
  {
   "cell_type": "markdown",
   "metadata": {
    "slideshow": {
     "slide_type": "fragment"
    }
   },
   "source": [
    "  > - Reason about the computation complexity of an algorithm"
   ]
  },
  {
   "cell_type": "markdown",
   "metadata": {
    "slideshow": {
     "slide_type": "slide"
    }
   },
   "source": [
    "# IMPORTANT!!!\n",
    "\n",
    "Bring a _billede ID_, kørekort, your ITU card, etc. to the test!\n",
    "\n",
    "Otherwise you cannot enter the room and participate in it..."
   ]
  },
  {
   "cell_type": "markdown",
   "metadata": {
    "slideshow": {
     "slide_type": "subslide"
    }
   },
   "source": [
    "### Handling exceptions and getting the exception object"
   ]
  },
  {
   "cell_type": "code",
   "execution_count": 1,
   "metadata": {},
   "outputs": [
    {
     "ename": "TypeError",
     "evalue": "can only concatenate str (not \"int\") to str",
     "output_type": "error",
     "traceback": [
      "\u001b[0;31m---------------------------------------------------------------------------\u001b[0m",
      "\u001b[0;31mTypeError\u001b[0m                                 Traceback (most recent call last)",
      "\u001b[0;32m<ipython-input-1-7cc6f142a1f5>\u001b[0m in \u001b[0;36m<module>\u001b[0;34m\u001b[0m\n\u001b[0;32m----> 1\u001b[0;31m \u001b[0mprint\u001b[0m\u001b[0;34m(\u001b[0m\u001b[0;34m'Hej '\u001b[0m \u001b[0;34m+\u001b[0m \u001b[0;36m3\u001b[0m\u001b[0;34m)\u001b[0m\u001b[0;34m\u001b[0m\u001b[0;34m\u001b[0m\u001b[0m\n\u001b[0m\u001b[1;32m      2\u001b[0m \u001b[0;34m\u001b[0m\u001b[0m\n",
      "\u001b[0;31mTypeError\u001b[0m: can only concatenate str (not \"int\") to str"
     ]
    }
   ],
   "source": [
    "print('Hej ' + 3) "
   ]
  },
  {
   "cell_type": "code",
   "execution_count": 2,
   "metadata": {
    "slideshow": {
     "slide_type": "subslide"
    }
   },
   "outputs": [
    {
     "name": "stdout",
     "output_type": "stream",
     "text": [
      "Don't you remember that you cannot add integers and strings?\n"
     ]
    }
   ],
   "source": [
    "try:\n",
    "    print('Hej ' + 3)\n",
    "except:\n",
    "    print(\"Don't you remember that you cannot add integers and strings?\")"
   ]
  },
  {
   "cell_type": "code",
   "execution_count": 8,
   "metadata": {},
   "outputs": [
    {
     "name": "stdout",
     "output_type": "stream",
     "text": [
      "can only concatenate str (not \"int\") to str\n",
      "<class 'TypeError'>\n"
     ]
    }
   ],
   "source": [
    "try:\n",
    "    print('Hej ' + 3)\n",
    "except Exception as e:\n",
    "    print(e)\n",
    "    print(type(e))"
   ]
  },
  {
   "cell_type": "markdown",
   "metadata": {
    "slideshow": {
     "slide_type": "subslide"
    }
   },
   "source": [
    "### Reading a file and skipping some lines with the `next` function\n",
    "\n",
    "This is new, we did not cover that yet!"
   ]
  },
  {
   "cell_type": "code",
   "execution_count": null,
   "metadata": {},
   "outputs": [],
   "source": [
    "filename = 'bones_in_london.txt'\n",
    "with open(filename) as fp:\n",
    "    for line in fp:\n",
    "        print(line.strip())"
   ]
  },
  {
   "cell_type": "markdown",
   "metadata": {
    "slideshow": {
     "slide_type": "subslide"
    }
   },
   "source": [
    "The first 18 lines of that file do not seem to be part of the actual book but more a header, i.e., meta-information that you might want to skip when reading the file."
   ]
  },
  {
   "cell_type": "code",
   "execution_count": null,
   "metadata": {},
   "outputs": [],
   "source": [
    "filename = 'bones_in_london.txt'\n",
    "with open(filename) as fp:\n",
    "    next(fp)\n",
    "    for line in fp:\n",
    "        print(line.strip())"
   ]
  },
  {
   "cell_type": "code",
   "execution_count": null,
   "metadata": {
    "slideshow": {
     "slide_type": "subslide"
    }
   },
   "outputs": [],
   "source": [
    "filename = 'bones_in_london.txt'\n",
    "with open(filename) as fp:\n",
    "    for _ in range(18):\n",
    "        next(fp)\n",
    "    for line in fp:\n",
    "        print(line.strip())"
   ]
  },
  {
   "cell_type": "markdown",
   "metadata": {
    "slideshow": {
     "slide_type": "subslide"
    }
   },
   "source": [
    "### What was this `sys.argv` again?\n",
    "\n",
    "  > The command line arguments will be stored in the variable `sys.argv`. [...] The first item in the `sys.argv` list should always be a string containing the program's filename [...], and the second item should\n",
    "be the first command line argument.\n",
    "  >\n",
    "  >  Al Sweigart, _\"Automate the Boring Stuff with Python\"_\n",
    "  \n",
    "If still in doubt, check p.136 in chapter 6 in _\"Automate the Boring Stuff with Python\"_"
   ]
  },
  {
   "cell_type": "markdown",
   "metadata": {
    "slideshow": {
     "slide_type": "fragment"
    }
   },
   "source": [
    "In essence it is a _variable_ in the `sys` module containing a _list_ of strings, the arguments given to this Python program."
   ]
  },
  {
   "cell_type": "markdown",
   "metadata": {
    "slideshow": {
     "slide_type": "subslide"
    }
   },
   "source": [
    "### The `sorted` function, what does it do?\n",
    "\n",
    "Did you read its documentation?"
   ]
  },
  {
   "cell_type": "code",
   "execution_count": 9,
   "metadata": {},
   "outputs": [
    {
     "name": "stdout",
     "output_type": "stream",
     "text": [
      "Help on built-in function sorted in module builtins:\n",
      "\n",
      "sorted(iterable, /, *, key=None, reverse=False)\n",
      "    Return a new list containing all items from the iterable in ascending order.\n",
      "    \n",
      "    A custom key function can be supplied to customize the sort order, and the\n",
      "    reverse flag can be set to request the result in descending order.\n",
      "\n",
      "None\n"
     ]
    }
   ],
   "source": [
    "print(help(sorted))"
   ]
  },
  {
   "cell_type": "markdown",
   "metadata": {
    "slideshow": {
     "slide_type": "subslide"
    }
   },
   "source": [
    "But how does the computer actually sort???\n",
    "\n",
    "More on sorting in some minutes :)"
   ]
  }
 ],
 "metadata": {
  "celltoolbar": "Slideshow",
  "kernelspec": {
   "display_name": "Python 3",
   "language": "python",
   "name": "python3"
  },
  "language_info": {
   "codemirror_mode": {
    "name": "ipython",
    "version": 3
   },
   "file_extension": ".py",
   "mimetype": "text/x-python",
   "name": "python",
   "nbconvert_exporter": "python",
   "pygments_lexer": "ipython3",
   "version": "3.7.3"
  }
 },
 "nbformat": 4,
 "nbformat_minor": 2
}
