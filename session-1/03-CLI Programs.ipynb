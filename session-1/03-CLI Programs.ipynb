{
 "cells": [
  {
   "cell_type": "markdown",
   "metadata": {
    "slideshow": {
     "slide_type": "slide"
    }
   },
   "source": [
    "# No Programming Today!\n",
    "\n",
    "![](https://media2.giphy.com/media/OPU6wzx8JrHna/200.gif?cid=790b76115d0395eb474d566955941fa8&rid=200.gif)"
   ]
  },
  {
   "cell_type": "markdown",
   "metadata": {
    "slideshow": {
     "slide_type": "fragment"
    }
   },
   "source": [
    "Today's session is not about programming Python! We will switch to this topic on Wednesday.\n",
    "\n",
    "Instead, this session is about how to interact with your computer so that you can effectively program it with Python. Today, we are having a session on what is called _computer literacy_"
   ]
  },
  {
   "cell_type": "markdown",
   "metadata": {
    "slideshow": {
     "slide_type": "fragment"
    }
   },
   "source": [
    "  > computer-literate | kəmˌpjuːtəˈlɪt(ə)rət |\n",
    "  >\n",
    "  > (of a person) having sufficient knowledge and skill to be able to use computers; familiar with the operation of computers\n",
    " >\n",
    " > [Oxford Dictionary of English](https://en.oxforddictionaries.com/definition/computer-literate)"
   ]
  },
  {
   "cell_type": "markdown",
   "metadata": {
    "slideshow": {
     "slide_type": "slide"
    }
   },
   "source": [
    "# What is a computer?"
   ]
  },
  {
   "cell_type": "markdown",
   "metadata": {
    "slideshow": {
     "slide_type": "fragment"
    }
   },
   "source": [
    "\n",
    "  > An electronic device for storing and processing data, typically in binary form, according to instructions given to it in a variable program.\n",
    "  >\n",
    "  > [Oxford Dictionary of English](https://en.oxforddictionaries.com/definition/computer)"
   ]
  },
  {
   "cell_type": "markdown",
   "metadata": {
    "slideshow": {
     "slide_type": "fragment"
    }
   },
   "source": [
    "\n",
    "  > A computer is a universal machine in that it is capable of doing whatever man is capable of instructing it to do.\n",
    "  >\n",
    "  > [Internet Archive](https://archive.org/details/ComputerAndTheMindOfManP3TheUniversalMachine)"
   ]
  },
  {
   "cell_type": "markdown",
   "metadata": {
    "slideshow": {
     "slide_type": "fragment"
    }
   },
   "source": [
    "\n",
    "  > A computer is a device that can perform actions on input (which is also called data). The actions are specified by a program, which is a sequence of instructions.\n",
    "  >\n",
    "  > [Interactive Python](http://interactivepython.org/runestone/static/StudentCSP/CSPTuring/whatIsComputer.html)"
   ]
  },
  {
   "cell_type": "markdown",
   "metadata": {
    "slideshow": {
     "slide_type": "slide"
    }
   },
   "source": [
    "# What is a computer working on?\n",
    "\n",
    "\n",
    "  > [...] human action typically involves the making and manipulation of artifacts [...]\n",
    "  >\n",
    "  > https://plato.stanford.edu/entries/artifact/\n",
    "\n",
    "Usually, these _artifacts_ are the data that we store and process"
   ]
  },
  {
   "cell_type": "markdown",
   "metadata": {
    "lines_to_next_cell": 2,
    "slideshow": {
     "slide_type": "fragment"
    }
   },
   "source": [
    "\n",
    "Nice! On computers what are:\n",
    "\n",
    "  * the _actions_ and\n",
    "  * what are the _artifacts_?"
   ]
  },
  {
   "cell_type": "markdown",
   "metadata": {
    "slideshow": {
     "slide_type": "fragment"
    }
   },
   "source": [
    "\n",
    "Through the eyes of your operating system:\n",
    "  * the _actions_ are _programs_ and\n",
    "  * and the _artifacts_ are _files_, _directories_, _paths_"
   ]
  },
  {
   "cell_type": "markdown",
   "metadata": {
    "lines_to_next_cell": 2,
    "slideshow": {
     "slide_type": "subslide"
    }
   },
   "source": [
    "Today, we will focus on\n",
    "\n",
    " * how to execute _programs_\n",
    " * understand and handle _files_\n",
    " * understand and navigate _directories_ and _paths_"
   ]
  },
  {
   "cell_type": "markdown",
   "metadata": {
    "slideshow": {
     "slide_type": "subslide"
    }
   },
   "source": [
    "# The Command Line?\n",
    "\n",
    "You can start the command line as in the following:\n",
    "\n",
    "  * On Windows: click the spotlight icon to the bottom left, type `cmd.exe`, and hit return\n",
    "  * On MacOS: press `cmd⌘+space` type in `terminal` and press return\n",
    "  * On Linux: press `ctrl+alt+t` or click on the `terminal` icon in your graphical user interface (GUI)\n",
    "\n",
    "The command-line (or terminal) is a textual user interface to your computer's operating system. That is, you can issues commands that the computer executes accordingly."
   ]
  },
  {
   "cell_type": "markdown",
   "metadata": {
    "slideshow": {
     "slide_type": "subslide"
    }
   },
   "source": [
    "## Running Programs from the Command-line\n",
    "\n",
    "Try out these commands in your command line. After you wrote them, press the `Return` key to execute them:\n",
    "\n",
    "### MacOS/Linux\n",
    "  \n",
    "  * `date`\n",
    "  * `clear`\n",
    "  * `echo \"Hello World\"`\n",
    "  * MacOS: `hej_macos`\n",
    "  * Linux: `hej_linux`\n",
    "  \n",
    "  \n",
    "### Windows\n",
    "\n",
    "  * `date /t`\n",
    "  * `cls`\n",
    "  * `echo \"Hello World\"`\n",
    "  * `hej_win.exe`"
   ]
  },
  {
   "cell_type": "markdown",
   "metadata": {
    "slideshow": {
     "slide_type": "subslide"
    }
   },
   "source": [
    "Usually, you would run/start/execute a program by clicking its icon in the graphical user interface (GUI).\n",
    "\n",
    "Try to do that with the respective `hej_win.exe`, `hej_macos`, or `hej_linux` program.\n",
    "\n",
    "What happens?"
   ]
  },
  {
   "cell_type": "markdown",
   "metadata": {
    "slideshow": {
     "slide_type": "fragment"
    }
   },
   "source": [
    "In the command-line you run/start/execute programs by issuing the corresponding program name. As you did earlier."
   ]
  },
  {
   "cell_type": "markdown",
   "metadata": {
    "slideshow": {
     "slide_type": "fragment"
    }
   },
   "source": [
    "This is how we are going to use our computers for the rest of this seminar."
   ]
  },
  {
   "cell_type": "markdown",
   "metadata": {
    "slideshow": {
     "slide_type": "subslide"
    }
   },
   "source": [
    "# What are Programs?"
   ]
  },
  {
   "cell_type": "markdown",
   "metadata": {
    "slideshow": {
     "slide_type": "fragment"
    }
   },
   "source": [
    "  > A computer program is a collection of instructions that performs a specific task when executed by a computer.\n",
    "  >\n",
    "  > https://en.wikipedia.org/wiki/Computer_program\n",
    "\n",
    "\n",
    "  > computer program - [...] a sequence of instructions that a computer can interpret and execute\n",
    "  >\n",
    "  > https://www.thefreedictionary.com/computer+program\n",
    "\n",
    "\n",
    "This is what we are going to write in Python from Wednesday on. Today, we just focus on running other people's programs."
   ]
  },
  {
   "cell_type": "markdown",
   "metadata": {
    "slideshow": {
     "slide_type": "fragment"
    }
   },
   "source": [
    "For example, the commands `date`, `echo`, as well as the earlier used `hej_win.exe`, `hej_macos`, and `hej_linux` are all small programs."
   ]
  },
  {
   "cell_type": "markdown",
   "metadata": {
    "slideshow": {
     "slide_type": "subslide"
    }
   },
   "source": [
    "## Passing Arguments to a Program on the Command-line\n",
    "\n",
    "When you call programs from the CLI, most often you can pass arguments to it. Try that for example with the respective `hej_*` program from the earlier exercise:\n",
    "\n",
    "#### Windows\n",
    "\n",
    "```bash\n",
    "hej_win.exe Ghost\n",
    "```\n",
    "\n",
    "#### MacOS\n",
    "\n",
    "```bash\n",
    "./hej_macos Monster\n",
    "```\n",
    "\n",
    "#### Linux\n",
    "\n",
    "```bash\n",
    "./hej_linux Kermit\n",
    "```"
   ]
  },
  {
   "cell_type": "markdown",
   "metadata": {
    "slideshow": {
     "slide_type": "fragment"
    }
   },
   "source": [
    "Arguments are meant to parametrize a program. For example, to make it work on a particular datum (as in the the name given above), a particular file, directory, etc."
   ]
  },
  {
   "cell_type": "markdown",
   "metadata": {
    "slideshow": {
     "slide_type": "subslide"
    }
   },
   "source": [
    "## CLI Usability\n",
    "\n",
    "### Code completion with TAB (⇥)\n",
    "\n",
    "You can start typing and complete your command by hitting the tabulator key (⇥). In case there are many commands matching the start string, they will be displayed.\n",
    "\n",
    "### Browse through history with Curser Up/Down (↑/↓)\n",
    "\n",
    "You can save even more typing by going back in time and choose and edit commands that you entered earlier."
   ]
  },
  {
   "cell_type": "markdown",
   "metadata": {
    "slideshow": {
     "slide_type": "slide"
    }
   },
   "source": [
    "# What are Files?\n"
   ]
  },
  {
   "cell_type": "markdown",
   "metadata": {
    "slideshow": {
     "slide_type": "fragment"
    }
   },
   "source": [
    "\n",
    "Files are information containers.\n",
    "\n",
    "> A computer file is a computer resource for recording data [...] in a computer storage device.\n",
    ">\n",
    "> https://en.wikipedia.org/wiki/Computer_file"
   ]
  },
  {
   "cell_type": "markdown",
   "metadata": {
    "slideshow": {
     "slide_type": "fragment"
    }
   },
   "source": [
    "Interestingly, programs are also files. They are _executable_ files."
   ]
  },
  {
   "cell_type": "markdown",
   "metadata": {
    "slideshow": {
     "slide_type": "fragment"
    }
   },
   "source": [
    "Your MP3 files or photos are not programs as they cannot be executed, instead, they are data for special programs -your music player or photo viewer- that know how to present them."
   ]
  },
  {
   "cell_type": "markdown",
   "metadata": {
    "slideshow": {
     "slide_type": "slide"
    }
   },
   "source": [
    "# What are Directories?\n",
    "\n",
    "  > Most computers organize files into hierarchies using directories\n",
    "  >\n",
    "  > https://en.wikipedia.org/wiki/Computer_file\n",
    "\n",
    "**OBS**: we -and many people- use the terms _directory_ and _folder_ synonymiously.\n",
    "\n",
    "  > Each folder can contain an arbitrary number of files, and it can also contain other folders. These other folders are referred to as subfolders. Subfolders can contain still more files and folders and so on, thus building a tree-like structure\n",
    "  >\n",
    "  > https://en.wikipedia.org/wiki/Computer_file"
   ]
  },
  {
   "cell_type": "markdown",
   "metadata": {
    "slideshow": {
     "slide_type": "subslide"
    }
   },
   "source": [
    "## Directories and Files in Windows\n",
    "\n",
    "In Windows you can view files and directories through the _File Explorer_ program.\n",
    "\n",
    "![Internet explorer](./images/explorer.png)"
   ]
  },
  {
   "cell_type": "markdown",
   "metadata": {
    "slideshow": {
     "slide_type": "subslide"
    }
   },
   "source": [
    "## Directories and Files in MacOS\n",
    "\n",
    "In MacOS you use _Finder_ to browse your files and folders.\n",
    "\n",
    "![Finder](./images/finder.png)"
   ]
  },
  {
   "cell_type": "markdown",
   "metadata": {
    "slideshow": {
     "slide_type": "subslide"
    }
   },
   "source": [
    "## Directories and Files Conceptually\n",
    "\n",
    "Your computer organizes data in files and directories.\n",
    "\n",
    "Directories can contain other directories and other files.\n",
    "\n",
    "For example, the following is a directory tree, where the `data` directory contains the two files `1861_OriginNY_F382.pdf` and `readme.txt` and three more sub-directories, `books`, `images`, `misc`.\n"
   ]
  },
  {
   "cell_type": "markdown",
   "metadata": {
    "slideshow": {
     "slide_type": "fragment"
    }
   },
   "source": [
    "This is the same tree structure shown in the command line:\n",
    "```\n",
    "data/\n",
    "├── 1861_OriginNY_F382.pdf\n",
    "├── books\n",
    "│   ├── a_study_in_scarlet.txt\n",
    "│   ├── his_last_bow.txt\n",
    "│   └── moby_dick.txt\n",
    "├── images\n",
    "│   ├── adult-attractive-beautiful-871495.png\n",
    "│   ├── architecture-building-clouds-374624-2.png\n",
    "│   ├── beautiful-brunette-cute-774909.png\n",
    "│   ├── beaver\n",
    "│   │   ├── image_0001.jpg\n",
    "│   │   ├── image_0002.jpg\n",
    "│   │   ├── image_0003.jpg\n",
    "│   │   ├── image_0004.jpg\n",
    "│   │   └──image_0005.jpg\n",
    "│   ├── dew-drop-droplet-544980.png\n",
    "│   └── snoopy\n",
    "│       ├── image_0001.jpg\n",
    "│       ├── image_0002.jpg\n",
    "│       └── image_0003.jpg\n",
    "├── misc\n",
    "│   ├── 43-h.htm\n",
    "│   ├── pg43-images.epub\n",
    "│   └── the_adventures_of_sherlock_holmes.txt\n",
    "└── readme.txt\n",
    "```"
   ]
  },
  {
   "cell_type": "markdown",
   "metadata": {
    "slideshow": {
     "slide_type": "subslide"
    }
   },
   "source": [
    "### Basic Operations on Files and Directories\n",
    "\n",
    "In general, there are the following operations on files and directories:\n",
    "\n",
    "  * **Create**\n",
    "  * **Move**/**Rename**\n",
    "  * **Delete**\n",
    "\n",
    "For files you can additionally:\n",
    "\n",
    "  * **Read** from,\n",
    "  * **Write** to,\n",
    "  * **Append** to files.\n",
    "\n",
    "For directories you can additionally **list** their contents.\n",
    "\n",
    "All these operations are performed by programs."
   ]
  },
  {
   "cell_type": "markdown",
   "metadata": {
    "slideshow": {
     "slide_type": "slide"
    }
   },
   "source": [
    "## Working with Directories"
   ]
  },
  {
   "cell_type": "markdown",
   "metadata": {
    "slideshow": {
     "slide_type": "fragment"
    }
   },
   "source": [
    "### In which directory am I currently?\n",
    "\n",
    "The command `pwd`, prints the working directory, i.e., the one in which you _are_ currently.\n",
    "\n",
    "**Let's work together!**\n",
    "\n",
    "#### Windows\n",
    "\n",
    "```\n",
    "C:\\> cd\n",
    "```\n",
    "\n",
    "\n",
    "#### MacOS/Linux\n",
    "\n",
    "```bash\n",
    "$ pwd\n",
    "```"
   ]
  },
  {
   "cell_type": "markdown",
   "metadata": {
    "slideshow": {
     "slide_type": "subslide"
    }
   },
   "source": [
    "Usually, when starting the CLI/terminal, the current directory is your _home_ directory.\n",
    "\n",
    "On **Windows** it is something similar to:\n",
    "\n",
    "```\n",
    "C:\\Users\\<your_user_name>\n",
    "```\n",
    "\n",
    "On **MacOS** it is:\n",
    "\n",
    "```bash\n",
    "/Users/<your_user_name>\n",
    "```\n",
    "\n",
    "and on **Linux** it should be something like:\n",
    "\n",
    "```bash\n",
    "/home/<your_user_name>\n",
    "```"
   ]
  },
  {
   "cell_type": "markdown",
   "metadata": {
    "slideshow": {
     "slide_type": "subslide"
    }
   },
   "source": [
    "### Listing the Contents of a Directory\n",
    "\n",
    "The `ls`/`dir` command lists the contents of a directory. In its plain form it lists the contents of the current directory\n",
    "\n",
    "\n",
    "#### Windows\n",
    "\n",
    "```\n",
    "C:\\> dir\n",
    "```\n",
    "\n",
    "\n",
    "#### MacOS/Linux\n",
    "\n",
    "```bash\n",
    "$ ls\n",
    "```"
   ]
  },
  {
   "cell_type": "markdown",
   "metadata": {
    "slideshow": {
     "slide_type": "subslide"
    }
   },
   "source": [
    "If you append a path to the `ls`/`dir` command it lists the contents of the specified directory\n",
    "\n",
    "#### Windows\n",
    "\n",
    "```\n",
    "C:\\> dir AppData\\Local\\Temp\n",
    "```\n",
    "\n",
    "\n",
    "#### MacOS/Linux\n",
    "\n",
    "```bash\n",
    "$ ls /tmp\n",
    "```\n",
    "\n",
    "Here `AppData\\Local\\Temp` and `/tmp` respectively is the first argument to the `dir`/`ls` program."
   ]
  },
  {
   "cell_type": "markdown",
   "metadata": {
    "slideshow": {
     "slide_type": "subslide"
    }
   },
   "source": [
    "### Creating a Directory\n",
    "\n",
    "Let's create some example directories and files in our home directory.\n",
    "\n",
    "#### Windows/MacOS/Linux\n",
    "\n",
    "```bash\n",
    "$ mkdir summer19\n",
    "```\n",
    "\n",
    "Creates the directory `summer19`. You can double check that by running `dir`/`ls`, which should list it now.\n",
    "\n",
    "Here again, `summer19` is the first argument to the `mkdir` program."
   ]
  },
  {
   "cell_type": "markdown",
   "metadata": {
    "slideshow": {
     "slide_type": "fragment"
    }
   },
   "source": [
    "Now, create two more directories:\n",
    "\n",
    "#### Windows\n",
    "\n",
    "```\n",
    "$ mkdir summer19\\lecture_notes\n",
    "$ mkdir summer19\\my_programs\n",
    "```\n",
    "\n",
    "#### MacOS/Linux\n",
    "\n",
    "```bash\n",
    "$ mkdir summer19/lecture_notes\n",
    "$ mkdir summer19/my_programs\n",
    "```\n",
    "\n",
    "And check with `dir`/`ls` that they were really created."
   ]
  },
  {
   "cell_type": "markdown",
   "metadata": {
    "slideshow": {
     "slide_type": "subslide"
    }
   },
   "source": [
    "### Changing the Current Directory\n",
    "\n",
    "You can change to another directory with the `cd` command.\n",
    "\n",
    "#### Windows\n",
    "\n",
    "```\n",
    "$ cd summer19\\my_programs\n",
    "```\n",
    "\n",
    "#### MacOS/Linux\n",
    "\n",
    "```bash\n",
    "$ cd summer19/my_programs\n",
    "```\n",
    "\n",
    "Now, you are in the directory `my_programs` in the directory `summer19`.\n",
    "How can you check that again?"
   ]
  },
  {
   "cell_type": "markdown",
   "metadata": {
    "slideshow": {
     "slide_type": "fragment"
    }
   },
   "source": [
    "You can go one directory _up_ with the `../` notation.\n",
    "\n",
    "That is, run\n",
    "\n",
    "```bash\n",
    "$ cd ../lecture_notes\n",
    "```\n",
    "\n",
    "In which directory are you now? Check with `cd` (Windows)/`pwd` (MacOS/Linux)."
   ]
  },
  {
   "cell_type": "markdown",
   "metadata": {
    "slideshow": {
     "slide_type": "slide"
    }
   },
   "source": [
    "# What are Paths?"
   ]
  },
  {
   "cell_type": "markdown",
   "metadata": {
    "slideshow": {
     "slide_type": "fragment"
    }
   },
   "source": [
    "Paths describe locations in directory trees."
   ]
  },
  {
   "cell_type": "markdown",
   "metadata": {
    "slideshow": {
     "slide_type": "fragment"
    }
   },
   "source": [
    "```\n",
    "summer19/\n",
    "├── lecture_notes\n",
    "└── my_programs\n",
    "```"
   ]
  },
  {
   "cell_type": "markdown",
   "metadata": {
    "slideshow": {
     "slide_type": "subslide"
    }
   },
   "source": [
    "## Forms of Paths: a) Absolute Paths\n",
    "\n",
    "##### Windows\n",
    "\n",
    "Absolute paths start with a device name, such as `C:\\`, `D:\\`, ...\n",
    "\n",
    "For example, `C:\\Users\\rhp\\AppData\\Local\\Temp`, `C:\\Users\\rhp` are absolute paths.\n",
    "\n",
    "##### MacOS/Linux\n",
    "\n",
    "Absolute paths start with a leading slash `/`.\n",
    "\n",
    "For example, `/tmp`, `/home/ropf/`, `/Users/rhp` are absolute paths."
   ]
  },
  {
   "cell_type": "markdown",
   "metadata": {
    "slideshow": {
     "slide_type": "subslide"
    }
   },
   "source": [
    "#### Paths navigate along directory trees\n",
    "\n",
    "In the Windows world it looks like this:\n",
    "![](images/trees_low.jpg)\n",
    "That is, you have multiple roots. One for each device connected to your computer, i.e., your hard disk is usually drive `C:\\`, back in the days floppy disk drives were `A:\\` and `B:\\`\n",
    "\n"
   ]
  },
  {
   "cell_type": "markdown",
   "metadata": {
    "slideshow": {
     "slide_type": "subslide"
    }
   },
   "source": [
    "#### Paths navigate along directory trees\n",
    "\n",
    "In the Linux/Unix world it looks like this:\n",
    "![](images/tree_low.jpg)\n",
    "That is, you have a single root `/` and everything else is organized below that.\n"
   ]
  },
  {
   "cell_type": "markdown",
   "metadata": {
    "slideshow": {
     "slide_type": "subslide"
    }
   },
   "source": [
    "## Forms of Paths: b) Relative Paths\n",
    "\n",
    "Relative paths start with a directory name or a dot `.`.\n",
    "\n",
    "\n",
    "##### Windows\n",
    "\n",
    "For example, `summer19\\` or `summer19\\lecture_notes\\session1.txt` are relative paths.\n",
    "\n",
    "Note, the `.` is a shorthand for the current directory.\n",
    "\n",
    "That is, `summer19\\lecture_notes\\session1.txt` and `.\\summer19\\lecture_notes\\session1.txt` are equivalent.\n",
    "\n",
    "\n",
    "\n",
    "##### MacOS/Linux\n",
    "\n",
    "For example, `summer19/` or `summer19/lecture_notes/session1.txt` are relative paths.\n",
    "\n",
    "Note, the `.` is a shorthand for the current directory.\n",
    "\n",
    "That is, `summer19/lecture_notes/session1.txt` and `./summer19/lecture_notes/session1.txt` are equivalent.\n"
   ]
  },
  {
   "cell_type": "markdown",
   "metadata": {
    "slideshow": {
     "slide_type": "subslide"
    }
   },
   "source": [
    "## Path Separators \n",
    "\n",
    "As you can see Windows and MacOS/Linux paths use a different character for separation. On Windows it is the backslash `\\` and on MacOS/Linux it is the slash `/`. We will come back to that in later sessions.\n",
    "\n",
    "\n",
    "#### Windows Paths\n",
    "\n",
    "  * `C:\\Users\\rhp\\AppData\\Local\\Temp`\n",
    "  * `C:\\Users\\rhp`\n",
    "  * `summer19\\`\n",
    "  * `summer19\\lecture_notes\\session1.txt`\n",
    "\n",
    "##### MacOS/Linux Paths\n",
    "\n",
    "  * `/tmp`\n",
    "  * `/home/ropf/`\n",
    "  * `/Users/rhp`\n",
    "  * `summer19/`\n",
    "  * `summer19/lecture_notes/session1.txt`"
   ]
  },
  {
   "cell_type": "markdown",
   "metadata": {
    "slideshow": {
     "slide_type": "subslide"
    }
   },
   "source": [
    "## Modifying the Behavior of Programs \n",
    "\n",
    "\n",
    "You cannot only parametrize programs with data. You can also modify the behavior of programs on the CLI by passing flags/switches.\n",
    "\n",
    "For example, you need a bit more of information on the directories and files you list:\n",
    "\n",
    "\n",
    "\n",
    "#### MacOS/Linux\n",
    "\n",
    "```bash\n",
    "$ ls\n",
    "1861_OriginNY_F382.pdf\tbooks\t\t\timages\t\t\tmisc\t\t\treadme.txt\n",
    "```"
   ]
  },
  {
   "cell_type": "markdown",
   "metadata": {
    "slideshow": {
     "slide_type": "fragment"
    }
   },
   "source": [
    "```bash\n",
    "$ ls -lh\n",
    "total 26672\n",
    "-rw-r--r--  1 me  staff    13M May 22  2015 1861_OriginNY_F382.pdf\n",
    "drwxr-xr-x  5 me  staff   160B Jun 13 15:17 books\n",
    "drwxr-xr-x  9 me  staff   288B Jun 13 15:16 images\n",
    "drwxr-xr-x  5 me  staff   160B Jun 13 15:23 misc\n",
    "-rw-r--r--  1 me  staff   513B Jun 13 15:25 readme.txt\n",
    "```"
   ]
  },
  {
   "cell_type": "markdown",
   "metadata": {
    "slideshow": {
     "slide_type": "fragment"
    }
   },
   "source": [
    "#### Windows\n",
    "\n",
    "Switches in Windows have another syntax. For example, to list contents of a directory sorted by size:\n",
    "\n",
    "```\n",
    "C:\\ dir /os\n",
    "```"
   ]
  },
  {
   "cell_type": "markdown",
   "metadata": {
    "slideshow": {
     "slide_type": "subslide"
    }
   },
   "source": [
    "## Flags?? Arguments??\n",
    "\n",
    "Most CLI programs can consume many switches and arguments. If you do not know how to use a program ask for `help` on Windows or read the `man`ual on MacOS/Linux.\n",
    "\n",
    "#### Windows\n",
    "\n",
    "```\n",
    "C:\\>help dir\n",
    "Displays a list of files and subdirectories in a directory.\n",
    "\n",
    "DIR [drive:][path][filename] [/A[[:]attributes]] [/B] [/C] [/D] [/L] [/N]\n",
    "  [/O[[:]sortorder]] [/P] [/Q] [/R] [/S] [/T[[:]timefield]] [/W] [/X] [/4]\n",
    "\n",
    "  [drive:][path][filename]\n",
    "              Specifies drive, directory, and/or files to list.\n",
    "```\n",
    "\n",
    "\n",
    "#### MacOS/Linux\n",
    "\n",
    "```bash\n",
    "$ man ls\n",
    "LS(1)                     BSD General Commands Manual                    LS(1)\n",
    "\n",
    "NAME\n",
    "     ls -- list directory contents\n",
    "\n",
    "SYNOPSIS\n",
    "     ls [-ABCFGHLOPRSTUW@abcdefghiklmnopqrstuwx1] [file ...]\n",
    "```"
   ]
  },
  {
   "cell_type": "markdown",
   "metadata": {
    "slideshow": {
     "slide_type": "slide"
    }
   },
   "source": [
    "## More Commands\n",
    "\n",
    "<img src=\"./images/command.gif\" style=\"width: 20%; float: right\" />\n",
    "\n",
    "We will:\n",
    "\n",
    "  * copy,\n",
    "  * move, \n",
    "  * rename, and \n",
    "  * delete\n",
    "\n",
    "files and directories."
   ]
  },
  {
   "cell_type": "markdown",
   "metadata": {
    "slideshow": {
     "slide_type": "fragment"
    }
   },
   "source": [
    "To work on the same directories and files \n",
    "\n",
    "  * Download and uncompress the ZIP file `filesystem_exercise.zip` from https://github.com/itu-qsp/2019-summer/raw/master/session-1/filesystem_exercise.zip (shortlink: https://tinyurl.com/yygbqln7)\n",
    "  * Navigate to the directory to where you uncompressed the file\n",
    "  \n",
    "    ```\n",
    "    cd <path_to_uncompressed>/data\n",
    "    ```\n",
    "    "
   ]
  },
  {
   "cell_type": "markdown",
   "metadata": {
    "slideshow": {
     "slide_type": "subslide"
    }
   },
   "source": [
    "### Copying Files\n",
    "\n",
    "The `copy`/`cp` command can copy files and directories. It usually requires two arguments, saying _which_ file (first argument) to copy to _where_ (second argument).\n",
    "\n",
    "If you specify a directory as the second argument, then the file, which is specified by the first argument, is copied to the target directory with the original name.\n",
    "\n",
    "In case you provide a file name as the second argument, then the file is copied and renamed directly.\n",
    "\n",
    "#### Windows\n",
    "\n",
    "```books\n",
    "C:\\> copy misc\\the_adventures_of_sherlock_holmes.txt books\\\n",
    "C:\\> copy misc\\the_adventures_of_sherlock_holmes.txt books\\sherlock.txt\n",
    "```\n",
    "\n",
    "#### MacOS/Linux\n",
    "\n",
    "```bash\n",
    "$ cp misc/the_adventures_of_sherlock_holmes.txt books/\n",
    "$ cp misc/the_adventures_of_sherlock_holmes.txt books/sherlock.txt\n",
    "```"
   ]
  },
  {
   "cell_type": "markdown",
   "metadata": {
    "slideshow": {
     "slide_type": "subslide"
    }
   },
   "source": [
    "### Copying Directories\n",
    "\n",
    "Directories are a little different because you can risk not just copying one thing. So we have to modify the behavior of copy to just take and copy everything.\n",
    "\n",
    "#### Windows\n",
    "\n",
    "```\n",
    "C:\\> xcopy images\\snoopy images\\snoopy_images\\\n",
    "```\n",
    "\n",
    "#### MacOS/Linux\n",
    "\n",
    "We can do that with the flag `-r`:\n",
    "\n",
    "```bash\n",
    "$ cp -r images/snoopy images/snoopy_images\n",
    "```"
   ]
  },
  {
   "cell_type": "markdown",
   "metadata": {
    "slideshow": {
     "slide_type": "subslide"
    }
   },
   "source": [
    "### Moving/Renaming Files\n",
    "\n",
    "The `mv` command is similar to the `cp` command. However, the specified file is moved, i.e., no copy is created.\n",
    "\n",
    "```bash\n",
    "$ mv 1861_OriginNY_F382.pdf books/\n",
    "```\n",
    "\n",
    "To rename a file you use the mv command too. Just move your file to a file with a new name.\n",
    "\n",
    "```bash\n",
    "$ mv books/1861_OriginNY_F382.pdf books/the_origin_of_species.pdf\n",
    "```"
   ]
  },
  {
   "cell_type": "markdown",
   "metadata": {
    "slideshow": {
     "slide_type": "subslide"
    }
   },
   "source": [
    "### Moving/Renaming a Directory\n",
    "\n",
    "You might want to rename a directory, e.g., after creating them with a wrong spelling\n",
    "\n",
    "```bash\n",
    "$ mkdir wrtings\n",
    "$ mv wrtings writing\n",
    "```\n",
    "\n",
    "Check that you now have a directory `writing` in your working directory."
   ]
  },
  {
   "cell_type": "markdown",
   "metadata": {
    "slideshow": {
     "slide_type": "subslide"
    }
   },
   "source": [
    "### Deleting a Directory\n",
    "\n",
    "**OBS**: Do this carefully! What is deleted is deleted and usually cannot be restored!\n",
    "\n",
    "#### Windows\n",
    "\n",
    "```\n",
    "C:\\> rmdir writing\n",
    "```\n",
    "\n",
    "\n",
    "#### MacOS/Linux\n",
    "\n",
    "```bash\n",
    "$ rm -r writing\n",
    "```\n",
    "\n",
    "What is the argument here and what is a switch? What are the two saying?"
   ]
  },
  {
   "cell_type": "markdown",
   "metadata": {
    "slideshow": {
     "slide_type": "subslide"
    }
   },
   "source": [
    "### Deleting Files\n",
    "\n",
    "Similarly to deleting directories, you can delete files with the help of the `rm` command.\n",
    "\n",
    "```bash\n",
    "$ rm images/snoopy/image_0035.jpg\n",
    "```"
   ]
  },
  {
   "cell_type": "markdown",
   "metadata": {
    "slideshow": {
     "slide_type": "subslide"
    }
   },
   "source": [
    "### Wildcards\n",
    "\n",
    "List all the files in `images/snoopy` that start with `image_003`"
   ]
  },
  {
   "cell_type": "markdown",
   "metadata": {
    "slideshow": {
     "slide_type": "fragment"
    }
   },
   "source": [
    "Wildcards to the rescue. Wildcards are special _joker_ characters. For example an asterisk `*` just means that there are zero or more arbitrary characters from this position on.\n",
    "\n",
    "#### Windows\n",
    "\n",
    "```\n",
    "C:\\> cd Downloads\\filesystem_exercise\\data\\images\\snoopy\n",
    "C:\\Users\\vagrant\\Downloads\\filesystem_exercise\\data\\images\\snoopy> dir image_003*.jpg \n",
    "``` \n",
    "\n",
    "#### MacOS/Linux\n",
    "\n",
    "```bash\n",
    "$ cd ~/Downloads/data/snoopy\n",
    "$ ls image_003*\n",
    "```"
   ]
  },
  {
   "cell_type": "markdown",
   "metadata": {
    "slideshow": {
     "slide_type": "slide"
    }
   },
   "source": [
    "# Reflection\n",
    "\n",
    "How fast and conveniently could you select and copy files matching `images/snoopy/image_001*` in your GUI?\n",
    "\n",
    "That is the reason, why all graphical user interfaces since their inception until today come with a CLI."
   ]
  },
  {
   "cell_type": "markdown",
   "metadata": {
    "slideshow": {
     "slide_type": "subslide"
    }
   },
   "source": [
    "## Text is an efficient tool for communication\n",
    "\n",
    "\n",
    "* Text is a **stable communication technology**\n",
    "* Text is an **efficient communication technology**\n",
    "\n",
    "* Pictures are good, but try to translate this into a picture: \"Human rights are moral principles\"\n",
    "* You are pretty much going to be working with only communication technology, so knowing text is smart\n",
    "\n",
    "<img src=\"https://upload.wikimedia.org/wikipedia/commons/thumb/2/23/Rosetta_Stone.JPG/800px-Rosetta_Stone.JPG\" style=\"width: 25%; float: right;\"/>"
   ]
  },
  {
   "cell_type": "markdown",
   "metadata": {
    "slideshow": {
     "slide_type": "slide"
    }
   },
   "source": [
    "## All computers can be controlled via a terminal\n",
    "\n",
    "All computers came from a text-based interface. Even Apple. And **all** computers still allow text-based commands.\n",
    "\n",
    "![](images/aux.png)\n",
    "This is from Apple's A/UX interface from 1988."
   ]
  },
  {
   "cell_type": "markdown",
   "metadata": {
    "slideshow": {
     "slide_type": "subslide"
    }
   },
   "source": [
    "![](http://www.nonsolo8bit.it/wp-content/uploads/2017/09/amiga-workbench-1.3-windows-700x399.jpg)\n",
    "Amiga OS 1.3 from 1988"
   ]
  },
  {
   "cell_type": "markdown",
   "metadata": {
    "slideshow": {
     "slide_type": "skip"
    }
   },
   "source": [
    "--------------------------"
   ]
  },
  {
   "cell_type": "markdown",
   "metadata": {
    "slideshow": {
     "slide_type": "subslide"
    }
   },
   "source": [
    "## Command-line Primers\n",
    "\n",
    "Find more examples in the following resources:\n",
    "\n",
    "#### Windows\n",
    "  \n",
    "  * https://www.bleepingcomputer.com/tutorials/windows-command-prompt-introduction/\n",
    "  * http://abacus.gene.ucl.ac.uk/software/CommandLine.Windows.pdf\n",
    "\n",
    "\n",
    "#### MacOS/Linux\n",
    "\n",
    "  * https://www.codecademy.com/learn/learn-the-command-line\n",
    "  * http://lifehacker.com/5633909/who-needs-a-mouse-learn-to-use-the-command-line-for-almost-anything\n",
    "  * http://www.makeuseof.com/tag/a-quick-guide-to-get-started-with-the-linux-command-line/\n",
    "  * http://mvhs-fuhsd.org/java/Units/Unit01/LinuxCommandLinePrimer.pdf\n"
   ]
  }
 ],
 "metadata": {
  "celltoolbar": "Slideshow",
  "kernelspec": {
   "display_name": "Python 3",
   "language": "python",
   "name": "python3"
  },
  "language_info": {
   "codemirror_mode": {
    "name": "ipython",
    "version": 3
   },
   "file_extension": ".py",
   "mimetype": "text/x-python",
   "name": "python",
   "nbconvert_exporter": "python",
   "pygments_lexer": "ipython3",
   "version": "3.7.1"
  }
 },
 "nbformat": 4,
 "nbformat_minor": 2
}
