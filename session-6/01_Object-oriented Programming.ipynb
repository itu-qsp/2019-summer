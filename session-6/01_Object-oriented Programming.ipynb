{
 "cells": [
  {
   "cell_type": "markdown",
   "metadata": {
    "slideshow": {
     "slide_type": "slide"
    }
   },
   "source": [
    "## On turtles and properties\n",
    "\n",
    "![](images/turtle.gif)"
   ]
  },
  {
   "cell_type": "markdown",
   "metadata": {
    "slideshow": {
     "slide_type": "subslide"
    }
   },
   "source": [
    "## The white Helge turtle\n",
    "\n",
    "> **Jens**: Helge, please take this white piece of chalk\n",
    ">\n",
    "> *Helge takes the chalk from Jens*\n",
    ">\n",
    "> **Jens**: Helge, please move to the left blackboard\n",
    ">\n",
    "> *Helge moves to the left-most blackboard*\n",
    ">\n",
    "> **Jens**: Helge, draw a circle with the chalk on the blackboard\n",
    "> \n",
    "> *Helge draws a circle with the chalk*"
   ]
  },
  {
   "cell_type": "markdown",
   "metadata": {
    "slideshow": {
     "slide_type": "subslide"
    }
   },
   "source": [
    "## The yellow Helge turtle\n",
    "\n",
    "> **Jens**: Helge, please take this yellow piece of chalk\n",
    ">\n",
    "> *Helge takes the chalk from Jens*\n",
    ">\n",
    "> **Jens**: Helge, please move to the center blackboard\n",
    ">\n",
    "> *Helge moves to the middle blackboard*\n",
    ">\n",
    "> **Jens**: Helge, draw a circle with the chalk on the blackboard\n",
    "> \n",
    "> *Helge draws a circle with the chalk*"
   ]
  },
  {
   "cell_type": "markdown",
   "metadata": {
    "slideshow": {
     "slide_type": "subslide"
    }
   },
   "source": [
    "## The blue Helge turtle\n",
    "\n",
    "> **Jens**: Helge, please take this blue piece of chalk\n",
    ">\n",
    "> *Helge takes the chalk from Jens*\n",
    ">\n",
    "> **Jens**: Helge, please move to the right blackboard\n",
    ">\n",
    "> *Helge moves to the right-most blackboard*\n",
    ">\n",
    "> **Jens**: Helge, draw a circle with the chalk on the blackboard\n",
    "> \n",
    "> *Helge draws a circle with the chalk*"
   ]
  },
  {
   "cell_type": "markdown",
   "metadata": {
    "slideshow": {
     "slide_type": "subslide"
    }
   },
   "source": [
    "## Reflection\n",
    "\n",
    "Take a minute to reflect what happened:\n",
    "* What changed in the three scenarios?\n",
    "* What was the functionality that Helge performed?"
   ]
  },
  {
   "cell_type": "markdown",
   "metadata": {
    "slideshow": {
     "slide_type": "subslide"
    }
   },
   "source": [
    "## Translation to pseudo code\n",
    "\n",
    "```\n",
    "1. Give the turtle a color\n",
    "2. Ask the turtle to move to a certain position\n",
    "3. Ask the turtle to draw a circle\n",
    "```"
   ]
  },
  {
   "cell_type": "markdown",
   "metadata": {},
   "source": [
    "But, wait. How do we *\"give something a color\"*?!"
   ]
  },
  {
   "cell_type": "markdown",
   "metadata": {
    "slideshow": {
     "slide_type": "subslide"
    }
   },
   "source": [
    "## Introducing objects\n",
    "\n",
    "An object is a **thing** that has **properties** and that can **do** things \n",
    "\n",
    "* Example property: Color, starting position\n",
    "* Example functionality: Draw circle"
   ]
  },
  {
   "cell_type": "markdown",
   "metadata": {
    "slideshow": {
     "slide_type": "subslide"
    }
   },
   "source": [
    "## Turtle objects\n",
    "\n",
    "Turtles are actually objects we can work with. The code below creates a new `Turtle` object, and **stores** it in the `blue_turtle` variable:\n",
    "\n",
    "```python\n",
    "from turtle import Turtle\n",
    "\n",
    "blue_turtle = Turtle()\n",
    "```"
   ]
  },
  {
   "cell_type": "markdown",
   "metadata": {
    "slideshow": {
     "slide_type": "fragment"
    }
   },
   "source": [
    "We can now ask that turtle to draw a circle (functionality):\n",
    "\n",
    "```python\n",
    "blue_turtle.circle(100)\n",
    "```"
   ]
  },
  {
   "cell_type": "markdown",
   "metadata": {
    "slideshow": {
     "slide_type": "fragment"
    }
   },
   "source": [
    "We can also ask it to change color:\n",
    "```python\n",
    "blue_turtle.color('blue')\n",
    "```"
   ]
  },
  {
   "cell_type": "markdown",
   "metadata": {
    "slideshow": {
     "slide_type": "subslide"
    }
   },
   "source": [
    "So, what happens if we ask it to draw a circle after changing the color?\n",
    "\n",
    "```python\n",
    "blue_turtle.circle(100)\n",
    "```"
   ]
  },
  {
   "cell_type": "markdown",
   "metadata": {
    "slideshow": {
     "slide_type": "fragment"
    }
   },
   "source": [
    "Note that the order is important! The colour change happens in between drawing circles. Your program will:\n",
    "\n",
    "1. Draw a *black* circle\n",
    "2. Draw a *blue* circle"
   ]
  },
  {
   "cell_type": "markdown",
   "metadata": {
    "slideshow": {
     "slide_type": "subslide"
    }
   },
   "source": [
    "You can do all sorts of things with the turtle. Try to set the shape of the turtle like so:\n",
    "```python\n",
    "blue_turtle.shape('turtle')\n",
    "```"
   ]
  },
  {
   "cell_type": "markdown",
   "metadata": {
    "slideshow": {
     "slide_type": "slide"
    }
   },
   "source": [
    "# On cats and properties\n",
    "\n",
    "![](images/cat.gif)"
   ]
  },
  {
   "cell_type": "markdown",
   "metadata": {
    "slideshow": {
     "slide_type": "subslide"
    }
   },
   "source": [
    "Let's say we have a cat. And that it is called Bob. Already here we distinguish between \n",
    "* The type of animal called \"cat\"\n",
    "* Bob, a specific cat"
   ]
  },
  {
   "cell_type": "markdown",
   "metadata": {
    "slideshow": {
     "slide_type": "subslide"
    }
   },
   "source": [
    "In Python this is known as:\n",
    "* The **class** (the type of animal called \"cat\")\n",
    "* The **object** (Bob, the specific cat)"
   ]
  },
  {
   "cell_type": "markdown",
   "metadata": {
    "slideshow": {
     "slide_type": "subslide"
    }
   },
   "source": [
    "## Classes and objects\n",
    "\n",
    "Other analogies for classes and objects are:\n",
    "\n",
    "| Class | Objects |\n",
    "| ----- | ------ |\n",
    "| Car   | Ford, Saab, BMW |\n",
    "| Person | Helge, Jana, Viktor, Morten, Anna |\n",
    "| Phone | Nokia 3210, iPhone 10, Huawei Honor 6X |\n",
    "\n",
    "Notice that all of them have **properties** and **functionality**."
   ]
  },
  {
   "cell_type": "markdown",
   "metadata": {
    "slideshow": {
     "slide_type": "subslide"
    }
   },
   "source": [
    "## Back to Bob\n",
    "\n",
    "Let's say that Cats have the property `color`. And that all cats are now `grey`.\n",
    "\n",
    "To express this in Python we have to create the *general class* called **Cat**. And that *class* contains a **property** called `color` that is assigned to the string value `grey`."
   ]
  },
  {
   "cell_type": "code",
   "execution_count": null,
   "metadata": {
    "slideshow": {
     "slide_type": "subslide"
    }
   },
   "outputs": [],
   "source": [
    "class Cat:\n",
    "    color = 'grey'"
   ]
  },
  {
   "cell_type": "markdown",
   "metadata": {
    "slideshow": {
     "slide_type": "fragment"
    }
   },
   "source": [
    "We can now go from the *general class* to a concrete cat. That means we're creating a new object. To re-use it later we store it in a variable:"
   ]
  },
  {
   "cell_type": "code",
   "execution_count": null,
   "metadata": {},
   "outputs": [],
   "source": [
    "a_cat = Cat()"
   ]
  },
  {
   "cell_type": "markdown",
   "metadata": {
    "slideshow": {
     "slide_type": "fragment"
    }
   },
   "source": [
    "Since all cats have the property `color`, we can now print the `color` of the specific cat stored in `a_cat`:"
   ]
  },
  {
   "cell_type": "code",
   "execution_count": null,
   "metadata": {},
   "outputs": [],
   "source": [
    "print(a_cat.color)"
   ]
  },
  {
   "cell_type": "markdown",
   "metadata": {
    "slideshow": {
     "slide_type": "subslide"
    }
   },
   "source": [
    "## Adding names to our cats\n",
    "\n",
    "Let's add names to our cats. We can do it by changing the `Cat` class like so:"
   ]
  },
  {
   "cell_type": "code",
   "execution_count": null,
   "metadata": {},
   "outputs": [],
   "source": [
    "class Cat:\n",
    "    color = 'grey'\n",
    "    name = 'Bob'"
   ]
  },
  {
   "cell_type": "code",
   "execution_count": null,
   "metadata": {},
   "outputs": [],
   "source": [
    "bob_the_cat = Cat()\n",
    "print(bob_the_cat.name)"
   ]
  },
  {
   "cell_type": "markdown",
   "metadata": {
    "slideshow": {
     "slide_type": "subslide"
    }
   },
   "source": [
    "But wait a minute. Now all our cats are grey and are called bob! What if we have a cat called `Omen`? Can we change the class definition?"
   ]
  },
  {
   "cell_type": "code",
   "execution_count": null,
   "metadata": {},
   "outputs": [],
   "source": [
    "class Cat:\n",
    "    color = 'grey'\n",
    "    name = 'Omen'"
   ]
  },
  {
   "cell_type": "code",
   "execution_count": null,
   "metadata": {},
   "outputs": [],
   "source": [
    "omen_the_cat = Cat()\n",
    "print(omen_the_cat.name)"
   ]
  },
  {
   "cell_type": "code",
   "execution_count": null,
   "metadata": {
    "slideshow": {
     "slide_type": "fragment"
    }
   },
   "outputs": [],
   "source": [
    "bob_the_cat = Cat()\n",
    "print(bob_the_cat.name)"
   ]
  },
  {
   "cell_type": "markdown",
   "metadata": {
    "slideshow": {
     "slide_type": "subslide"
    }
   },
   "source": [
    "## Adding parameters to classes\n",
    "\n",
    "What we need are parameters. We need to create the `Cat` objects with **specific** names and colours. We can do that when we **construct** the class.\n",
    "\n",
    "Type the following into Mu and explain the output to your neighbour:"
   ]
  },
  {
   "cell_type": "code",
   "execution_count": null,
   "metadata": {},
   "outputs": [],
   "source": [
    "class Cat:\n",
    "    def __init__(self, color, name):\n",
    "        self.color = color\n",
    "        self.name = name\n",
    "        \n",
    "bob_the_cat = Cat('grey', 'Bob')\n",
    "omen_the_cat = Cat('black', 'Omen')\n",
    "\n",
    "print(bob_the_cat.color)\n",
    "print(bob_the_cat.name)\n",
    "print(omen_the_cat.color)\n",
    "print(omen_the_cat.name)"
   ]
  },
  {
   "cell_type": "markdown",
   "metadata": {
    "slideshow": {
     "slide_type": "subslide"
    }
   },
   "source": [
    "## Constructing objects\n",
    "\n",
    "When we create an **object** from a **class** we say that we **instantiate** or **construct** the object. \n",
    "\n",
    "When that happens the **__init__** function is called. And in there we can assign specific properties to our object.  Like putting `'Bob'` into `self.name`."
   ]
  },
  {
   "cell_type": "markdown",
   "metadata": {
    "slideshow": {
     "slide_type": "fragment"
    }
   },
   "source": [
    "Discuss with your neighbour: \n",
    "\n",
    "* What is the difference between the `self` variable and the two cat objects `bob_the_cat` and `omen_the_cat`?\n",
    "\n",
    "* Can you change the color of `bob_the_cat`?"
   ]
  },
  {
   "cell_type": "markdown",
   "metadata": {
    "slideshow": {
     "slide_type": "subslide"
    }
   },
   "source": [
    "## The `self` object\n",
    "\n",
    "The `self` object **is the object that you are currently constructing**. This makes sense because we need all cats to be different. Omen and Bob are two different cats, so we have to put that information somewhere that does **not** impact all other cats."
   ]
  },
  {
   "cell_type": "markdown",
   "metadata": {
    "slideshow": {
     "slide_type": "subslide"
    }
   },
   "source": [
    "# On cats and functionality\n",
    "\n",
    "\n",
    "![](images/cat.gif)"
   ]
  },
  {
   "cell_type": "markdown",
   "metadata": {
    "slideshow": {
     "slide_type": "subslide"
    }
   },
   "source": [
    "That was classes, objects and properties. Now we can talk about functionality. Let's say that all cats can `make_soud`. That is a **function** every cat can do. So it can be described in the general class of `Cat`:"
   ]
  },
  {
   "cell_type": "code",
   "execution_count": null,
   "metadata": {},
   "outputs": [],
   "source": [
    "class Cat:\n",
    "    def __init__(self, color, name):\n",
    "        self.color = color\n",
    "        self.name = name\n",
    "        \n",
    "    def make_sound(self):\n",
    "        return 'Miaaouuuu'"
   ]
  },
  {
   "cell_type": "code",
   "execution_count": null,
   "metadata": {
    "slideshow": {
     "slide_type": "fragment"
    }
   },
   "outputs": [],
   "source": [
    "bob_the_cat = Cat('grey', 'Bob')\n",
    "bob_the_cat.make_sound()"
   ]
  },
  {
   "cell_type": "markdown",
   "metadata": {},
   "source": [
    "Cool, that worked! Notice that we still need the `self` argument. We need it because the *functionality* of the cat *may* depend on the `Cat`'s properties like `color` or `name`.\n",
    "\n",
    "Here is an example:"
   ]
  },
  {
   "cell_type": "code",
   "execution_count": null,
   "metadata": {
    "slideshow": {
     "slide_type": "subslide"
    }
   },
   "outputs": [],
   "source": [
    "class Cat:\n",
    "    def __init__(self, color, name):\n",
    "        self.color = color\n",
    "        self.name = name\n",
    "        \n",
    "    def make_sound(self):\n",
    "        return 'The ' + self.color + ' cat miaous'"
   ]
  },
  {
   "cell_type": "code",
   "execution_count": null,
   "metadata": {
    "slideshow": {
     "slide_type": "fragment"
    }
   },
   "outputs": [],
   "source": [
    "bob_the_cat = Cat('grey', 'Bob')\n",
    "print(bob_the_cat.make_sound())\n",
    "omen_the_cat = Cat('black', 'Omen')\n",
    "print(omen_the_cat.make_sound())"
   ]
  },
  {
   "cell_type": "markdown",
   "metadata": {
    "slideshow": {
     "slide_type": "subslide"
    }
   },
   "source": [
    "## Functionality == method\n",
    "\n",
    "This is really cool because we didn't even need to tell the `make_sound` function that the cat is `grey` or `black`. It knew that already because the object already had the properties.\n",
    "\n",
    "Because this is not a normal stand-alone function, we call functions inside a `Class` a **method**."
   ]
  },
  {
   "cell_type": "markdown",
   "metadata": {
    "slideshow": {
     "slide_type": "subslide"
    }
   },
   "source": [
    "You now learned:\n",
    "\n",
    "* Class \n",
    "  * An abstract idea about, for instance, a `Cat` or a `Person`\n",
    "* Object\n",
    "  * A concrete implementation of a `class` like `Bob` or `Helge`\n",
    "* Properties \n",
    "  * Attributes of a certain object, like colour)\n",
    "* Methods \n",
    "  * Functionality that an object can perform, like `make_sound` or \"draw a circle\" (turtle)"
   ]
  },
  {
   "cell_type": "markdown",
   "metadata": {
    "slideshow": {
     "slide_type": "subslide"
    }
   },
   "source": [
    "## Exercise\n",
    "\n",
    "* Add a method to your `Cat` class called `purr` that writes `'<name> the cat purrs'` where `<name>` is replaced by the name of the cat\n",
    "* Create a third cat called `'Pinky'`. Give it an appropriate color.\n",
    "* Talk to your neighbour: what happens when you ask `Pinky` to `make_sound` and `purr`? Why?"
   ]
  },
  {
   "cell_type": "markdown",
   "metadata": {
    "collapsed": true,
    "slideshow": {
     "slide_type": "slide"
    }
   },
   "source": [
    "# Object-oriented Programming\n",
    "\n",
    "Object-oriented programming is one of the most common ways to write and structure software. In object-oriented programming you write classes that represent real-world things and situations, and you create objects based on these classes. \n",
    "\n",
    "When you write a class, you define the general behavior that a whole category of objects can have. \n",
    "\n",
    "When you create individual objects from the class, each object is automatically equipped with the general behavior; you can then give each object whatever unique traits you desire. \n",
    "\n",
    "Making an object from a class is called *instantiation*, and you work with instances of a class. "
   ]
  },
  {
   "cell_type": "markdown",
   "metadata": {
    "slideshow": {
     "slide_type": "subslide"
    }
   },
   "source": [
    "## On foxes and sounds\n",
    "\n",
    "![](images/fox.gif)\n",
    "\n",
    "We just agreed that the cat could make a sound. And when it did, it would miau.\n",
    "\n",
    "But a fox can make a sound as well! According to Norwegians it goes something like 'RIKA DING-DING-DING'."
   ]
  },
  {
   "cell_type": "code",
   "execution_count": null,
   "metadata": {
    "slideshow": {
     "slide_type": "subslide"
    }
   },
   "outputs": [],
   "source": [
    "class Fox:\n",
    "    def make_sound(self):\n",
    "        return 'RIKA DING-DING-DING'"
   ]
  },
  {
   "cell_type": "code",
   "execution_count": null,
   "metadata": {
    "slideshow": {
     "slide_type": "fragment"
    }
   },
   "outputs": [],
   "source": [
    "a_fox = Fox()\n",
    "print(a_fox.make_sound())"
   ]
  },
  {
   "cell_type": "markdown",
   "metadata": {
    "slideshow": {
     "slide_type": "fragment"
    }
   },
   "source": [
    "These foxes are much simpler than our cats, because they have no properties. They simply make their weird sound."
   ]
  },
  {
   "cell_type": "markdown",
   "metadata": {
    "slideshow": {
     "slide_type": "fragment"
    }
   },
   "source": [
    "But notice that the *name* of the method is the same: `make_sound`. And when you think about it, doesn't all animals make a sound?"
   ]
  },
  {
   "cell_type": "markdown",
   "metadata": {
    "slideshow": {
     "slide_type": "subslide"
    }
   },
   "source": [
    "## On animals and sounds\n",
    "\n",
    "We know that all animals can make a sound. So if you want to be an animal, you __need__ a sound (also the fox!).\n",
    "\n",
    "That means we have a general property for all animals: `make_sound`. In a way this is also a contract. You **promise** to have a sound when you are an animal.\n",
    "\n",
    "But the exact sound depends on the animal.\n",
    "\n",
    "```\n",
    "Animal:                         Cow is-an Animal:             Cat is-an Animal:\n",
    "\n",
    "   make_sound: <REQUIRED>           make_sound: Moooo            make_sound: Miau\n",
    "```"
   ]
  },
  {
   "cell_type": "code",
   "execution_count": null,
   "metadata": {
    "slideshow": {
     "slide_type": "subslide"
    }
   },
   "outputs": [],
   "source": [
    "class Cat:\n",
    "    def __init__(self, color, name):\n",
    "        self.color = color\n",
    "        self.name = name\n",
    "        \n",
    "    def make_sound(self):\n",
    "        return 'The ' + self.color + ' cat miaous'\n",
    "    \n",
    "class Fox:\n",
    "    def make_sound(self):\n",
    "        return 'RIKA DING-DING-DING'"
   ]
  },
  {
   "cell_type": "code",
   "execution_count": null,
   "metadata": {
    "slideshow": {
     "slide_type": "fragment"
    }
   },
   "outputs": [],
   "source": [
    "class Cow:\n",
    "    def make_sound(self):\n",
    "        return \"Moooo\"\n",
    "        \n",
    "print(Cow().sound())"
   ]
  },
  {
   "cell_type": "markdown",
   "metadata": {},
   "source": [
    "In Python we can express the fact that both `Cow`, `Fox` and `Cat` all are `Animal`s. Meaning, that they have the same behaviour as all animals. In our case this means that they can `make_sound`.\n",
    "\n",
    "This is handy because everyone claiming to be an animal **promises** to behave like the animal. \n",
    "\n",
    "Translated to Python this means that animals **promise** to have the same **properties** and **methods**."
   ]
  },
  {
   "cell_type": "code",
   "execution_count": null,
   "metadata": {
    "slideshow": {
     "slide_type": "subslide"
    }
   },
   "outputs": [],
   "source": [
    "class Animal:\n",
    "    def make_sound(self):\n",
    "        return \"The animal makes a sound\"\n",
    "        \n",
    "Animal().make_sound()"
   ]
  },
  {
   "cell_type": "markdown",
   "metadata": {
    "slideshow": {
     "slide_type": "fragment"
    }
   },
   "source": [
    "We can now update our cat to become an `Animal`. That will **automatically inherit** the `make_sound` function:"
   ]
  },
  {
   "cell_type": "code",
   "execution_count": 42,
   "metadata": {},
   "outputs": [],
   "source": [
    "class Cat(Animal):\n",
    "    def __init__(self, color, name):\n",
    "        self.color = color\n",
    "        self.name = name"
   ]
  },
  {
   "cell_type": "code",
   "execution_count": null,
   "metadata": {
    "slideshow": {
     "slide_type": "fragment"
    }
   },
   "outputs": [],
   "source": [
    "bob_the_cat = Cat('grey', 'Bob')\n",
    "bob_the_cat.make_sound()"
   ]
  },
  {
   "cell_type": "markdown",
   "metadata": {
    "slideshow": {
     "slide_type": "subslide"
    }
   },
   "source": [
    "We can also **override** the method from `Animal`:"
   ]
  },
  {
   "cell_type": "code",
   "execution_count": null,
   "metadata": {},
   "outputs": [],
   "source": [
    "class Cat:\n",
    "    def __init__(self, color, name):\n",
    "        self.color = color\n",
    "        self.name = name\n",
    "        \n",
    "    def make_sound(self):b\n",
    "        return 'The ' + self.color + ' cat miaous'"
   ]
  },
  {
   "cell_type": "code",
   "execution_count": null,
   "metadata": {},
   "outputs": [],
   "source": [
    "bob_the_cat = Cat('grey', 'Bob')\n",
    "bob_the_cat.make_sound()"
   ]
  },
  {
   "cell_type": "markdown",
   "metadata": {
    "slideshow": {
     "slide_type": "subslide"
    }
   },
   "source": [
    "## Exercise\n",
    "\n",
    "* Write the `Animal` class into Mu\n",
    "```python\n",
    "class Animal:\n",
    "      def make_sound(self):\n",
    "          return \"The animal makes a sound\"\n",
    "```\n",
    "* Let the `Fox` `Class` be an `Animal`, but without any properties or methods like so:\n",
    "```python\n",
    "class Fox(Animal):\n",
    "      pass\n",
    "```\n",
    "* Talk to your neighbour: what happens when you create a new `Fox` object and asks it to make a sound?\n",
    "* Make the `Fox` say `'TCHJING-A-DING-DING'` by overwriting the `make_sound` method from `Animal`"
   ]
  },
  {
   "cell_type": "markdown",
   "metadata": {
    "slideshow": {
     "slide_type": "subslide"
    }
   },
   "source": [
    "## Inheritance\n",
    "\n",
    "Now, we have what we call class **inheritance**. The `Fox` and `Cat` classes **inherit** the properties and methods from `Animal`. \n",
    "\n",
    "In this scenario `Animal` is a **superclass** and `Fox` and `Cat` are **subclasses**:\n",
    "\n",
    "```\n",
    "                 Animal\n",
    "                   △\n",
    "                   |\n",
    "          +--------+--------+\n",
    "          |        |        |\n",
    "         Cat      Fox      Cow\n",
    "                 \n",
    "```"
   ]
  },
  {
   "cell_type": "markdown",
   "metadata": {
    "slideshow": {
     "slide_type": "subslide"
    }
   },
   "source": [
    "## Checking *instance of* \n",
    "\n",
    "Sometimes, during development, you would like to know of which class a certain variable is instance of. You can do so with the built-in method `isinstance()` as illustrated in the following. "
   ]
  },
  {
   "cell_type": "code",
   "execution_count": null,
   "metadata": {
    "slideshow": {
     "slide_type": "-"
    }
   },
   "outputs": [],
   "source": [
    "isinstance(bob_the_cat, Cat)"
   ]
  },
  {
   "cell_type": "code",
   "execution_count": null,
   "metadata": {
    "slideshow": {
     "slide_type": "fragment"
    }
   },
   "outputs": [],
   "source": [
    "isinstance(bob_the_cat, Animal)"
   ]
  },
  {
   "cell_type": "markdown",
   "metadata": {
    "slideshow": {
     "slide_type": "subslide"
    }
   },
   "source": [
    "### Modifying an Attribute’s Value Through a Method\n",
    "\n",
    "It can be helpful to have methods that update certain attributes for you. Instead of accessing the attribute directly, you pass the new value to a method that handles the updating internally."
   ]
  },
  {
   "cell_type": "code",
   "execution_count": null,
   "metadata": {
    "slideshow": {
     "slide_type": "fragment"
    }
   },
   "outputs": [],
   "source": [
    "class Cat()\n",
    "    def __init__(self):\n",
    "        self.colour = 'grey'\n",
    "        \n",
    "    def set_colour(self, colour):\n",
    "        self.colour = colour \n",
    "        \n",
    "boris_the_cat = Cat()\n",
    "boris_the_cat.set_colour('black')"
   ]
  },
  {
   "cell_type": "markdown",
   "metadata": {
    "slideshow": {
     "slide_type": "slide"
    }
   },
   "source": [
    "## Another class example: books\n",
    "\n",
    "You can model almost anything using classes. Let’s start by writing a simple class, `Book`, that represents a book and its contents—not one book in particular, but any book. "
   ]
  },
  {
   "cell_type": "code",
   "execution_count": null,
   "metadata": {
    "slideshow": {
     "slide_type": "fragment"
    }
   },
   "outputs": [],
   "source": [
    "class Book():\n",
    "    ..."
   ]
  },
  {
   "cell_type": "markdown",
   "metadata": {
    "slideshow": {
     "slide_type": "subslide"
    }
   },
   "source": [
    "What do we know about most books? Well, they likely all have a *title* an *author*, and contain some *chapters*. We also know that you can *read* books and *open* them to inspect them further. \n",
    "\n",
    "Those two pieces of information (title and author) and those two behaviors (read and open) will be constituents of our Book class because they are common to most books. After our class is written, we will use it to create individual instances, each of which represents one specific book."
   ]
  },
  {
   "cell_type": "markdown",
   "metadata": {
    "slideshow": {
     "slide_type": "subslide"
    }
   },
   "source": [
    "### Creating the Book Class\n",
    "\n",
    "Each instance created from the Book class will store a `title` an `author`, and its `chapters`.\n",
    "\n",
    "```python\n",
    "class Book():\n",
    "    \n",
    "    def __init__(self, title, author, chapters=[]):\n",
    "        \"\"\"Initialize title, the author, and the chapters.\"\"\"\n",
    "        self.title = title \n",
    "        self.author = author\n",
    "        self.chapters = chapters    \n",
    "```\n",
    "\n",
    "#### The __init__() Method\n",
    "\n",
    "A function that’s part of a class is a *method*. Everything you learned about functions applies to methods as well; the only practical difference for now is the way we will call methods. \n",
    "\n",
    "The `__init__()` method is a special method Python runs automatically whenever we create a new instance based on the `Book` class. This method has two leading underscores and two trailing underscores, a convention that helps prevent Python’s default method names from conflicting with your method names."
   ]
  },
  {
   "cell_type": "markdown",
   "metadata": {
    "slideshow": {
     "slide_type": "subslide"
    }
   },
   "source": [
    "```python\n",
    "class Book():\n",
    "    \n",
    "    def __init__(self, title, author, chapters=[]):\n",
    "        \"\"\"Initialize title, the author, and the chapters.\"\"\"\n",
    "        self.title = title \n",
    "        self.author = author\n",
    "        self.chapters = chapters    \n",
    "```\n",
    "We define the `__init__()` method to have four parameters: `self`, `title`, `author`, and `chapters=`. The `self` parameter is **required** in the method definition, and it must come **first** before the other parameters. It must be included in the definition because when Python calls this `__init__()` method later (to create an instance of `Book`), the method call will automatically pass the `self` argument. \n",
    "\n",
    "Every method call associated with a class automatically passes `self`, which is a reference to the instance itself; it gives the individual instance access to the attributes and methods in the class. When we make an instance of `Book`, Python will call the `__init__()` method from the `Book` class. We will pass `Book()` a `title`, an `author`, and `chapters=` as arguments; `self` is passed automatically, so we do not need to pass it. Whenever we want to make an instance from the`Book` class, we will provide values for only the last three parameters.\n",
    "\n",
    "The three variables defined each have the prefix `self`. Any variable prefixed with `self` is available to every method in the class, and we will also be able to access these variables through any instance created from the class. `self.title = title` takes the value stored in the parameter name and stores it in the variable name, which is then attached to the instance being created. Variables that are accessible through instances like this are called attributes."
   ]
  },
  {
   "cell_type": "markdown",
   "metadata": {
    "slideshow": {
     "slide_type": "skip"
    }
   },
   "source": [
    "The `Book` class will have two other methods: `read` and `open`. They will give each book the 'ability' to get `read()` and to get opened `open_book()`."
   ]
  },
  {
   "cell_type": "code",
   "execution_count": null,
   "metadata": {
    "slideshow": {
     "slide_type": "skip"
    }
   },
   "outputs": [],
   "source": [
    "class Book():\n",
    "    \"\"\"A simple book model consisting of chapters, which in \n",
    "    turn consist of paragraphs.\"\"\"\n",
    "\n",
    "    def __init__(self, title, author, chapters=[]):\n",
    "        \"\"\"Initialize title, the author, and the chapters.\"\"\"\n",
    "        self.title = title \n",
    "        self.author = author\n",
    "        self.chapters = chapters        \n",
    "    \n",
    "    def read(self, chapter=1):\n",
    "        \"\"\"Simulate reading a chapter, by calling the reading \n",
    "        method of a chapter.\"\"\" \n",
    "        self.chapters[chapter - 1].read()\n",
    "        \n",
    "    def open_book(self, chapter=1):\n",
    "        \"\"\"Simulate opening a book, which returns a chapter \n",
    "        object.\"\"\" \n",
    "        return self.chapters[chapter - 1]"
   ]
  },
  {
   "cell_type": "markdown",
   "metadata": {
    "slideshow": {
     "slide_type": "skip"
    }
   },
   "source": [
    "In today's session we will create a model for books, which can contain chapters, which in turn can contain paragraphs.\n",
    "\n",
    "![](images/books_cd.png)"
   ]
  },
  {
   "cell_type": "markdown",
   "metadata": {
    "slideshow": {
     "slide_type": "skip"
    }
   },
   "source": [
    "### Making an Instance from a Class\n",
    "\n",
    "Think of a class as a set of instructions for how to make an instance. The class `Book` is a set of instructions that tells Python how to make individual instances representing specific books.\n",
    "\n",
    "We tell Python to create a book whose title is `'The Empty Book'` and whose author is `'Helge'`. When Python reads the line, `empty_book = Book('The Empty Book', 'Helge')` it calls the `__init__()` method in `Book` with the arguments `'The Empty Book'` and `'Helge'`. The `__init__()` method creates an instance representing this particular book and sets the `author` and `title` attributes using the values we provided. The `__init__()` method has no explicit return statement, but Python automatically returns an instance representing this book. We store that instance in the variable `empty_book`. The *naming convention* is helpful here: we can usually assume that a capitalized name like `Book` refers to a class, and a lowercase name like `empty_book` refers to a single instance created from a class.\n",
    "\n",
    "#### Accessing Attributes\n",
    "\n",
    "To access the attributes of an instance, you use 'dot' notation. We access the value of `empty_book`’s attribute `author` by writing: `empty_book.author`."
   ]
  },
  {
   "cell_type": "code",
   "execution_count": null,
   "metadata": {
    "slideshow": {
     "slide_type": "skip"
    }
   },
   "outputs": [],
   "source": [
    "empty_book = Book('The Empty Book', 'Helge')\n",
    "\n",
    "print(empty_book.author)\n",
    "print(empty_book.title)\n",
    "print(len(empty_book.chapters))"
   ]
  },
  {
   "cell_type": "code",
   "execution_count": null,
   "metadata": {
    "slideshow": {
     "slide_type": "skip"
    }
   },
   "outputs": [],
   "source": [
    "class Chapter():\n",
    "\n",
    "    def __init__(self, number, title, paragraphs):\n",
    "        \"\"\"A chapter consists of multiple paragraphs.\"\"\"\n",
    "        self.number = number\n",
    "        self.title = title\n",
    "        self.paragraphs = [] \n",
    "        for paragraph_lines in paragraphs:\n",
    "            new_pragraph = Paragraph(paragraph_lines)\n",
    "            self.paragraphs.append(new_pragraph)\n",
    "\n",
    "    def read(self, paragraph_idx=None):\n",
    "        \"\"\"A paragraph can be read.\"\"\" \n",
    "        if paragraph_idx != None:\n",
    "            self.paragraphs[paragraph_idx].read_all()\n",
    "        else:\n",
    "            for paragraph in self.paragraphs:\n",
    "                paragraph.read_all()"
   ]
  },
  {
   "cell_type": "code",
   "execution_count": null,
   "metadata": {
    "slideshow": {
     "slide_type": "skip"
    }
   },
   "outputs": [],
   "source": [
    "class Paragraph():\n",
    "    \"\"\"A paragraph consists of a list of lines.\"\"\"\n",
    "\n",
    "    def __init__(self, lines):\n",
    "        \"\"\"Initialize the paragraph with its lines of text.\"\"\"\n",
    "        self.lines = lines\n",
    "\n",
    "    def read_all(self):\n",
    "        \"\"\"Simulate reading a paragraph by printing its contents.\"\"\" \n",
    "        for line in self.lines:\n",
    "            print(line)"
   ]
  },
  {
   "cell_type": "markdown",
   "metadata": {
    "slideshow": {
     "slide_type": "skip"
    }
   },
   "source": [
    "Now, we get some text from a real book to build an instance of it using the above clases."
   ]
  },
  {
   "cell_type": "code",
   "execution_count": null,
   "metadata": {
    "slideshow": {
     "slide_type": "skip"
    }
   },
   "outputs": [],
   "source": [
    "# open it and read all lines in the text file\n",
    "with open('bones_in_london.txt') as f:\n",
    "    content = f.readlines()\n",
    "\n",
    "\n",
    "def get_text(lower_bound, upper_bound):\n",
    "    \"\"\"A utility function which allow us to read slices of lines\"\"\"\n",
    "    chapter_content = []\n",
    "    paragraph = []\n",
    "    for line in content[lower_bound:upper_bound]:\n",
    "        if line == '\\n':\n",
    "            chapter_content.append(paragraph)\n",
    "            paragraph = []\n",
    "        else:\n",
    "            paragraph.append(line.strip())\n",
    "\n",
    "    return chapter_content"
   ]
  },
  {
   "cell_type": "markdown",
   "metadata": {
    "slideshow": {
     "slide_type": "skip"
    }
   },
   "source": [
    "Now, that we can read some real text from a file, we can create instances of chapters and an instance of a book. For simplicity, our book consists only of the first two chapters."
   ]
  },
  {
   "cell_type": "code",
   "execution_count": null,
   "metadata": {
    "slideshow": {
     "slide_type": "skip"
    }
   },
   "outputs": [],
   "source": [
    "chapter_1 = Chapter(1, 'Bones and Big Business', get_text(82, 762))\n",
    "chapter_2 = Chapter(2, 'Hidden Treasure', get_text(769, 1455))\n",
    "book = Book('Bones in London', 'Edgar Wallace', [chapter_1, chapter_2])"
   ]
  },
  {
   "cell_type": "code",
   "execution_count": null,
   "metadata": {
    "slideshow": {
     "slide_type": "skip"
    }
   },
   "outputs": [],
   "source": [
    "print(book.author)\n",
    "print(book.title)\n",
    "print(len(book.chapters))"
   ]
  },
  {
   "cell_type": "markdown",
   "metadata": {
    "slideshow": {
     "slide_type": "skip"
    }
   },
   "source": [
    "### Calling Methods\n",
    "\n",
    "After we create an instance from the class `Book`, we can use 'dot' notation to call any method defined in `Book`. To call a method, give the name of the instance (in this case, `book`) and the method you want to call, separated by a dot. When Python reads `book.read(chapter=1)`, it looks for the method `read(chapter)` in the class `Book` and runs that code."
   ]
  },
  {
   "cell_type": "code",
   "execution_count": null,
   "metadata": {
    "slideshow": {
     "slide_type": "skip"
    }
   },
   "outputs": [],
   "source": [
    "book.read(chapter=1)"
   ]
  },
  {
   "cell_type": "code",
   "execution_count": null,
   "metadata": {
    "slideshow": {
     "slide_type": "skip"
    }
   },
   "outputs": [],
   "source": [
    "book.open_book(chapter=2).read(paragraph_idx=3)"
   ]
  },
  {
   "cell_type": "code",
   "execution_count": null,
   "metadata": {
    "slideshow": {
     "slide_type": "skip"
    }
   },
   "outputs": [],
   "source": [
    "book.open_book(chapter=2).read(3)"
   ]
  },
  {
   "cell_type": "markdown",
   "metadata": {
    "slideshow": {
     "slide_type": "skip"
    }
   },
   "source": [
    "### Creating Multiple Instances\n",
    "\n",
    "You can create as many instances from a class as you need. Even if we used the same `title`, `author`, and `chapters` for the second book, Python would still create a separate instance from the `Book` class. You can make as many instances from one class as you need, as long as you give each instance a unique variable name or it occupies a unique spot in a list or dictionary."
   ]
  },
  {
   "cell_type": "code",
   "execution_count": null,
   "metadata": {
    "slideshow": {
     "slide_type": "skip"
    }
   },
   "outputs": [],
   "source": [
    "chapter_1 = Chapter(1, 'Bones and Big Business', get_text(82, 762))\n",
    "chapter_2 = Chapter(2, 'Hidden Treassure', get_text(769, 1455))\n",
    "book = Book('Bones in London', 'Edgar Wallace', [chapter_1, chapter_2])\n",
    "\n",
    "empty_book = Book('The Empty Book', 'Helge')\n",
    "\n",
    "print(book)\n",
    "print(empty_book)"
   ]
  },
  {
   "cell_type": "markdown",
   "metadata": {
    "slideshow": {
     "slide_type": "skip"
    }
   },
   "source": [
    "## Modifying Attribute Values\n",
    "\n",
    "You can change an attribute’s value in three ways: \n",
    "\n",
    "  * you can change the value directly through an instance, \n",
    "  * set the value through a method, \n",
    "  * or increment the value (add a certain amount to it) through a method. \n",
    " \n",
    "Let’s look at each of these approaches.\n",
    "\n",
    "### Modifying an Attribute’s Value Directly\n",
    "\n",
    "The simplest way to modify the value of an attribute is to access the attribute directly through an instance. Here we set the `reading_position` to `3` directly."
   ]
  },
  {
   "cell_type": "code",
   "execution_count": null,
   "metadata": {
    "slideshow": {
     "slide_type": "skip"
    }
   },
   "outputs": [],
   "source": [
    "chapter_1.title = chapter_1.title + '!'\n",
    "print(chapter_1.title)"
   ]
  },
  {
   "cell_type": "markdown",
   "metadata": {
    "slideshow": {
     "slide_type": "skip"
    }
   },
   "source": [
    "# Inheritance\n",
    "\n",
    "You do not always have to start from scratch when writing a class. If the class you are writing is a specialized version of another -readily available- class, you can use inheritance to implement your extensions. \n",
    "\n",
    "When one class inherits from another, it automatically takes on all the attributes and methods of the first class. The original class is called the *parent class*, and the new class is the *child class*. The child class inherits every attribute and method from its parent class but is also free to define new attributes and methods of its own.\n",
    "\n",
    "\n",
    "## The __init__() Method for a Child Class\n",
    "\n",
    "The first task Python has when creating an instance from a child class is to assign values to all attributes in the parent class. To do this, the `__init__()` method for a child class needs help from its parent class.\n",
    "\n",
    "As an example, let’s model a comic book. A comic book is just a specific kind of book, with less text and more images :). Consequently, we can base our new `ComicBook` class on the `Book` class we wrote earlier. Then we’ll only have to write code for the attributes and behavior specific to comic books.\n",
    "\n",
    "When you create a child class, the parent class **must be part of the current file and must appear before the child class in the file**. The name of the parent class must be included in parentheses in the definition of the child class. The `__init__()` method takes the information required to make a `ComicBook` instance.\n",
    "\n",
    "The `super()` function is a special function that helps Python make connections between the parent and child class. It tells Python to call the `__init__()` method from `ComicBook`’s parent class, which gives a `ComicBook` instance all the attributes of its parent class. The name super comes from a convention of calling the parent class a **superclass** and the child class a **subclass**."
   ]
  },
  {
   "cell_type": "code",
   "execution_count": null,
   "metadata": {
    "slideshow": {
     "slide_type": "skip"
    }
   },
   "outputs": [],
   "source": [
    "class Book():\n",
    "    \"\"\"A simple book model consisting of chapters, which in \n",
    "    turn consist of paragraphs.\"\"\"\n",
    "\n",
    "    def __init__(self, title, author, chapters=[]):\n",
    "        \"\"\"Initialize title, the author, and the chapters.\"\"\"\n",
    "        self.title = title \n",
    "        self.author = author\n",
    "        self.chapters = chapters            \n",
    "    \n",
    "    def read(self, chapter=1):\n",
    "        \"\"\"Simulate reading a chapter, by calling the reading \n",
    "        method of a chapter.\"\"\" \n",
    "        self.chapters[chapter - 1].read()\n",
    "        \n",
    "    def open_book(self, chapter=1):\n",
    "        \"\"\"Simulate opening a book, which returns a chapter \n",
    "        object.\"\"\" \n",
    "        return self.chapters[chapter - 1]\n",
    "    \n",
    "    \n",
    "class ComicBook(Book):\n",
    "    def __init__(self, title, author, chapters=[]):\n",
    "        \"\"\"Initialize attributes of the parent class.\"\"\"\n",
    "        super().__init__(title, author, chapters=chapters)"
   ]
  },
  {
   "cell_type": "code",
   "execution_count": null,
   "metadata": {
    "slideshow": {
     "slide_type": "skip"
    }
   },
   "outputs": [],
   "source": [
    "comic = ComicBook('Le Grand Mort', 'Loisel')\n",
    "comic.title"
   ]
  },
  {
   "cell_type": "markdown",
   "metadata": {
    "slideshow": {
     "slide_type": "skip"
    }
   },
   "source": [
    "## Defining Attributes and Methods for the Child Class\n",
    "\n",
    "Once you have a child class that inherits from a parent class, you can add any new attributes and methods necessary to differentiate the child class from the parent class.\n",
    "\n",
    "Let’s add an attribute that is specific to comic books, such as, images, and a method to report on this attribute."
   ]
  },
  {
   "cell_type": "code",
   "execution_count": null,
   "metadata": {
    "slideshow": {
     "slide_type": "skip"
    }
   },
   "outputs": [],
   "source": [
    "class ComicBook(Book):\n",
    "    def __init__(self, title, author, chapters=[]):\n",
    "        \"\"\"Initialize attributes of the parent class.\"\"\"\n",
    "        super().__init__(title, author, chapters=chapters)\n",
    "        self.images = []\n",
    "        \n",
    "    def get_images(self):\n",
    "        return self.images"
   ]
  },
  {
   "cell_type": "markdown",
   "metadata": {
    "slideshow": {
     "slide_type": "skip"
    }
   },
   "source": [
    "There is no limit to how much you can specialize the `ComicBook` class. You can add as many attributes and methods as you need to model acomic book to whatever degree of accuracy you need. An attribute or method that could belong to any book, rather than one that is specific to a comic book, should be added to the `Book` class instead of the `ComicBook` class. Then anyone who uses the `Book` class will have that functionality available as well, and the `ComicBook` class will only contain code for the information and behavior specific to comic books.\n",
    "\n",
    "## Overriding Methods from the Parent Class\n",
    "\n",
    "You can override any method from the parent class that does not fit what you are trying to model with the child class. To do this, you define a method in the child class with **the same name as the method you want to override in the parent class**. Python will disregard the parent class method and only pay attention to the method you define in the child class."
   ]
  },
  {
   "cell_type": "code",
   "execution_count": null,
   "metadata": {
    "slideshow": {
     "slide_type": "skip"
    }
   },
   "outputs": [],
   "source": [
    "class Animal:\n",
    "    def sound(self):\n",
    "        raise Exception(\"What kind of animal are you, a fox?!\")\n",
    "        \n",
    "class Fox(Animal):\n",
    "    def sound(self):\n",
    "        print(\"YOUFYOUFIFIFIF\")"
   ]
  },
  {
   "cell_type": "code",
   "execution_count": null,
   "metadata": {
    "slideshow": {
     "slide_type": "skip"
    }
   },
   "outputs": [],
   "source": [
    "red_fox = Fox()\n",
    "red_fox.sound()"
   ]
  },
  {
   "cell_type": "markdown",
   "metadata": {
    "slideshow": {
     "slide_type": "skip"
    }
   },
   "source": [
    "# Importing Classes\n",
    "\n",
    "As you add more functionality to your classes, your files can get long, even when you use inheritance properly. In keeping with the overall philosophy of Python, you will want to keep your files as uncluttered as possible. To help, Python lets you store classes in modules and then import the classes you need into your main program.\n",
    "\n",
    "You can store as many classes as you need in a single module, although each class in a module should be related somehow.\n",
    "\n",
    "## Importing a Single Class or Multiple Classes\n",
    "\n",
    "We include a module-level docstring that briefly describes the contents of this module. You should write a docstring for each module you create.\n",
    "\n",
    "Now we make a separate file called `book.py`. From this file will import the `Book` class and then create an instance from that class.\n",
    "\n",
    "You can import as many classes as you need into a program file. If we want to make a regular car and an electric car in the same file, we need to import both classes, Car and ElectricCar\n",
    "\n",
    "\n"
   ]
  },
  {
   "cell_type": "code",
   "execution_count": null,
   "metadata": {
    "slideshow": {
     "slide_type": "skip"
    }
   },
   "outputs": [],
   "source": [
    "from book import Book"
   ]
  },
  {
   "cell_type": "code",
   "execution_count": null,
   "metadata": {
    "slideshow": {
     "slide_type": "skip"
    }
   },
   "outputs": [],
   "source": [
    "book?"
   ]
  },
  {
   "cell_type": "code",
   "execution_count": null,
   "metadata": {
    "slideshow": {
     "slide_type": "skip"
    }
   },
   "outputs": [],
   "source": [
    "Book?"
   ]
  },
  {
   "cell_type": "code",
   "execution_count": null,
   "metadata": {
    "slideshow": {
     "slide_type": "skip"
    }
   },
   "outputs": [],
   "source": [
    "from book import Book, Chapter, Paragraph\n",
    "\n",
    "chapter_1 = Chapter(1, 'Bones and Big Business', get_text(82, 762))\n",
    "chapter_2 = Chapter(2, 'Hidden Treassure', get_text(769, 1455))\n",
    "book = Book('Bones in London', 'Edgar Wallace', [chapter_1, chapter_2])\n",
    "\n",
    "empty_book = Book('The Empty Book', 'Helge')\n",
    "\n",
    "empty_book"
   ]
  },
  {
   "cell_type": "markdown",
   "metadata": {
    "slideshow": {
     "slide_type": "skip"
    }
   },
   "source": [
    "  * Have a look on https://michael0x2a.com/blog/turtle-examples to see some examples of how to draw turtle graphics with Python."
   ]
  }
 ],
 "metadata": {
  "celltoolbar": "Slideshow",
  "kernelspec": {
   "display_name": "Python 3",
   "language": "python",
   "name": "python3"
  },
  "language_info": {
   "codemirror_mode": {
    "name": "ipython",
    "version": 3
   },
   "file_extension": ".py",
   "mimetype": "text/x-python",
   "name": "python",
   "nbconvert_exporter": "python",
   "pygments_lexer": "ipython3",
   "version": "3.7.3"
  }
 },
 "nbformat": 4,
 "nbformat_minor": 2
}
