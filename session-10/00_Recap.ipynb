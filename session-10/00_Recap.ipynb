{
 "cells": [
  {
   "cell_type": "markdown",
   "metadata": {
    "slideshow": {
     "slide_type": "slide"
    }
   },
   "source": [
    "# Good morning\n",
    "\n",
    "![](images/snoopy.gif)"
   ]
  },
  {
   "cell_type": "markdown",
   "metadata": {
    "slideshow": {
     "slide_type": "slide"
    }
   },
   "source": [
    "# How are you?\n",
    "\n",
    "How did the sample test work out during the weekend?"
   ]
  },
  {
   "cell_type": "markdown",
   "metadata": {
    "slideshow": {
     "slide_type": "slide"
    }
   },
   "source": [
    "## Read the tasks\n",
    "\n",
    "It is generally a good idea to read the tasks carefully.\n",
    "\n",
    "Usually we would like you to do quite much _exactly_ what is specified there.\n",
    "\n",
    "_Hint_, verbs like `return` indicate what you have to do."
   ]
  },
  {
   "cell_type": "markdown",
   "metadata": {
    "slideshow": {
     "slide_type": "subslide"
    }
   },
   "source": [
    "# Stacks and queues? What was that?"
   ]
  },
  {
   "cell_type": "markdown",
   "metadata": {
    "slideshow": {
     "slide_type": "slide"
    }
   },
   "source": [
    "# Unrelated - But computational responsibility\n",
    "\n",
    "Think about your use of your computers:\n",
    "\n",
    "  > In 2018, online video viewing generated more than 300 MtCO2, i.e. as much greenhouse gas as Spain emits: 1% of global emissions.\n",
    "  >\n",
    "  > Pornographic videos make up 27% of all online video traffic in the world. Taken alone, in 2018 they generated more than 80 MtCO2, i.e. as much as all France’s households: close to 0.2% of global emissions.\n",
    "  >\n",
    "  > The greenhouse gas emissions of VoD (video on demand) ser- vices (e.g. Netflix and Amazon Prime) are equivalent to those of a country like Chile (more than 100 MtCO2eq/year, i.e. close to 0.3% of global emissions), the country hosting the COP25 in 2019.\n",
    "  >\n",
    "  > https://theshiftproject.org/wp-content/uploads/2019/07/Excutive-Summary_EN_The-unsustainable-use-of-online-video.pdf"
   ]
  },
  {
   "cell_type": "markdown",
   "metadata": {
    "slideshow": {
     "slide_type": "subslide"
    }
   },
   "source": [
    "## Functions, parameters and arguments"
   ]
  },
  {
   "cell_type": "markdown",
   "metadata": {
    "slideshow": {
     "slide_type": "fragment"
    }
   },
   "source": [
    "* Parameters are variables that are a part of a functions description.\n"
   ]
  },
  {
   "cell_type": "code",
   "execution_count": 26,
   "metadata": {
    "slideshow": {
     "slide_type": "fragment"
    }
   },
   "outputs": [],
   "source": [
    "# Here are x and y the parameters of the function multiply_numbers.\n",
    "def multiply_numbers(x, y):\n",
    "    return x * y"
   ]
  },
  {
   "cell_type": "markdown",
   "metadata": {
    "slideshow": {
     "slide_type": "fragment"
    }
   },
   "source": [
    "* Arguments are the values, which are passed into a function."
   ]
  },
  {
   "cell_type": "code",
   "execution_count": null,
   "metadata": {
    "slideshow": {
     "slide_type": "fragment"
    }
   },
   "outputs": [],
   "source": [
    "# Here are 4 and 5 the arguments which are passed into the function multiply_numbers\n",
    "multiply_numbers(4, 5)"
   ]
  },
  {
   "cell_type": "markdown",
   "metadata": {
    "slideshow": {
     "slide_type": "subslide"
    }
   },
   "source": [
    "## Required arguments\n",
    "\n",
    "* The arguments which are required by the functions description.\n",
    "\n",
    "* These arguments has to be in positional order (when we don't use keywords)."
   ]
  },
  {
   "cell_type": "code",
   "execution_count": 38,
   "metadata": {
    "slideshow": {
     "slide_type": "subslide"
    }
   },
   "outputs": [],
   "source": [
    "def parrot(some_string, number_repetitions):\n",
    "    \"\"\"This function will repeat some_string, number_repetitions times\n",
    "    \n",
    "    :param some_string: string\n",
    "        The string to repeat\n",
    "    :param number_repetitions: int\n",
    "        The number of times the string should be repeated\n",
    "    :returns: string\n",
    "    \"\"\"\n",
    "    return str(some_string) * int(number_repetitions)"
   ]
  },
  {
   "cell_type": "code",
   "execution_count": 42,
   "metadata": {
    "slideshow": {
     "slide_type": "fragment"
    }
   },
   "outputs": [],
   "source": [
    "# What will happen?\n",
    "# parrot(\"blah \", 16)\n",
    "\n",
    "# parrot(\"blah \")\n",
    "\n",
    "# parrot(16, \"blah \")"
   ]
  },
  {
   "cell_type": "markdown",
   "metadata": {
    "slideshow": {
     "slide_type": "subslide"
    }
   },
   "source": [
    "## Keyword arguments\n",
    "\n",
    "* When the function is called, one can use the parameters names to identify the arguments.\n",
    "\n",
    "* The positional order does not matter when one uses keyword arguments."
   ]
  },
  {
   "cell_type": "code",
   "execution_count": null,
   "metadata": {
    "slideshow": {
     "slide_type": "fragment"
    }
   },
   "outputs": [],
   "source": [
    "multiply_numbers(x=10, y=5)"
   ]
  },
  {
   "cell_type": "code",
   "execution_count": null,
   "metadata": {
    "slideshow": {
     "slide_type": "fragment"
    }
   },
   "outputs": [],
   "source": [
    "parrot(some_string=\"Blah \", number_repetitions=20)"
   ]
  },
  {
   "cell_type": "code",
   "execution_count": null,
   "metadata": {
    "slideshow": {
     "slide_type": "fragment"
    }
   },
   "outputs": [],
   "source": [
    "parrot(some_string=\"Blah \", number_repetitions=20) == parrot(number_repetitions=20, some_string=\"Blah \")"
   ]
  },
  {
   "cell_type": "markdown",
   "metadata": {
    "slideshow": {
     "slide_type": "subslide"
    }
   },
   "source": [
    "## Default arguments\n",
    "\n",
    "* Arguments which will take a default value, if no value were provided in the function call\n",
    "\n",
    "* The default value must be specied in the functions definition."
   ]
  },
  {
   "cell_type": "code",
   "execution_count": null,
   "metadata": {
    "slideshow": {
     "slide_type": "fragment"
    }
   },
   "outputs": [],
   "source": [
    "print(help(print))"
   ]
  },
  {
   "cell_type": "code",
   "execution_count": 50,
   "metadata": {
    "slideshow": {
     "slide_type": "subslide"
    }
   },
   "outputs": [],
   "source": [
    "def parrot(some_string, number_repetitions = 1):\n",
    "    \"\"\"This function will repeat some_string, number_repetitions times\n",
    "    \n",
    "    :param some_string: string\n",
    "        The string to repeat\n",
    "    :param number_repetitions: int\n",
    "        The number of times the string should be repeated, with 1 as default\n",
    "    :returns: string\n",
    "    \"\"\"\n",
    "    return str(some_string) * int(number_repetitions)"
   ]
  },
  {
   "cell_type": "code",
   "execution_count": null,
   "metadata": {
    "slideshow": {
     "slide_type": "fragment"
    }
   },
   "outputs": [],
   "source": [
    "parrot(\"blah\")\n",
    "\n",
    "# parrot(\"blah\", number_repetitions=10)"
   ]
  },
  {
   "cell_type": "markdown",
   "metadata": {
    "slideshow": {
     "slide_type": "subslide"
    }
   },
   "source": [
    "## Variable-length arguments\n",
    "\n",
    "* These arguments can be used when you don't know have many arguments there will be used in a function call\n",
    "\n",
    "* These variable-lenght arguments are shown by the a \\* \n",
    "    \n",
    "* We can see this in print's documentation \n",
    "https://docs.python.org/3/library/functions.html"
   ]
  },
  {
   "cell_type": "code",
   "execution_count": 53,
   "metadata": {
    "slideshow": {
     "slide_type": "fragment"
    }
   },
   "outputs": [],
   "source": [
    "def print_knock_off(*objects):\n",
    "    for obj in objects:\n",
    "        print(obj, end=\" \")"
   ]
  },
  {
   "cell_type": "code",
   "execution_count": null,
   "metadata": {
    "slideshow": {
     "slide_type": "fragment"
    }
   },
   "outputs": [],
   "source": [
    "print_knock_off(\"This\", \"is\", \"a\", \"test\")"
   ]
  },
  {
   "cell_type": "code",
   "execution_count": null,
   "metadata": {
    "slideshow": {
     "slide_type": "fragment"
    }
   },
   "outputs": [],
   "source": [
    "print(\"This\", \"is\", \"a\", \"test\")"
   ]
  }
 ],
 "metadata": {
  "celltoolbar": "Slideshow",
  "hide_input": false,
  "kernelspec": {
   "display_name": "Python 3",
   "language": "python",
   "name": "python3"
  },
  "language_info": {
   "codemirror_mode": {
    "name": "ipython",
    "version": 3
   },
   "file_extension": ".py",
   "mimetype": "text/x-python",
   "name": "python",
   "nbconvert_exporter": "python",
   "pygments_lexer": "ipython3",
   "version": "3.7.3"
  },
  "latex_envs": {
   "LaTeX_envs_menu_present": true,
   "autoclose": false,
   "autocomplete": true,
   "bibliofile": "biblio.bib",
   "cite_by": "apalike",
   "current_citInitial": 1,
   "eqLabelWithNumbers": true,
   "eqNumInitial": 1,
   "hotkeys": {
    "equation": "Ctrl-E",
    "itemize": "Ctrl-I"
   },
   "labels_anchors": false,
   "latex_user_defs": false,
   "report_style_numbering": false,
   "user_envs_cfg": false
  }
 },
 "nbformat": 4,
 "nbformat_minor": 2
}
