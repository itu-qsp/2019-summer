{
 "cells": [
  {
   "cell_type": "markdown",
   "metadata": {},
   "source": [
    "# Exercise A:\n",
    "\n",
    "a)\n",
    "\n",
    "**MacOS**\n",
    "\n",
    "```bash\n",
    "cd ../data\n",
    "pwd\n",
    "ls books/*.txt\n",
    "```"
   ]
  },
  {
   "cell_type": "markdown",
   "metadata": {},
   "source": [
    "**Windows**\n",
    "\n",
    "```\n",
    "cd ../data\n",
    "cd\n",
    "dir books/*.txt\n",
    "```"
   ]
  },
  {
   "cell_type": "markdown",
   "metadata": {},
   "source": [
    "b)\n",
    "\n",
    "**MacOS**\n",
    "\n",
    "```bash\n",
    "cd ../data\n",
    "ls */*.txt\n",
    "```"
   ]
  },
  {
   "cell_type": "markdown",
   "metadata": {},
   "source": [
    "**Windows**\n",
    "\n",
    "```\n",
    "cd ../data\n",
    "dir /b /s *.txt\n",
    "```"
   ]
  },
  {
   "cell_type": "markdown",
   "metadata": {},
   "source": [
    "c)\n",
    "\n",
    "**MacOS**\n",
    "\n",
    "```bash\n",
    "cd ../data\n",
    "\n",
    "mkdir texts\n",
    "mv */*.txt texts\n",
    "ls texts\n",
    "```\n"
   ]
  },
  {
   "cell_type": "markdown",
   "metadata": {},
   "source": [
    "**Windows**\n",
    "\n",
    "On Windows there is unfortunately no single command to move files from arbitrary subdirectories that are selected with a wildcard. Therefore, we need first to list where the files are and then move them manually (twice).\n",
    "\n",
    "There seem also to be different versions of Windows even though they are all called Windows 10. On some of them you can call the move command either via `mv` and `move` on others you can only use the `move` command and do not have a `mv` command.\n",
    "\n",
    "```\n",
    "dir /b /s *.txt\n",
    "\n",
    "mkdir texts\n",
    "move books\\*.txt texts\n",
    "move misc\\*.txt texts\n",
    "dir texts\n",
    "```"
   ]
  },
  {
   "cell_type": "markdown",
   "metadata": {},
   "source": [
    "# Exercise B:\n",
    "\n",
    "**MacOS**\n",
    "\n",
    "```bash\n",
    "cd ../data/\n",
    "ls */*beautiful*\n",
    "```"
   ]
  },
  {
   "cell_type": "markdown",
   "metadata": {},
   "source": [
    "**Windows**\n",
    "\n",
    "\n",
    "```\n",
    "dir /b /s *beautiful*\n",
    "```"
   ]
  },
  {
   "cell_type": "markdown",
   "metadata": {},
   "source": [
    "# Exercise C\n",
    "\n",
    "  * Create a new subdirectory `beaver_bkp`, for example in the `data` directory.\n",
    "  * Copy all files from the directory `beaver` to the new directory `beaver_bkp`"
   ]
  }
 ],
 "metadata": {
  "kernelspec": {
   "display_name": "Python 3",
   "language": "python",
   "name": "python3"
  },
  "language_info": {
   "codemirror_mode": {
    "name": "ipython",
    "version": 3
   },
   "file_extension": ".py",
   "mimetype": "text/x-python",
   "name": "python",
   "nbconvert_exporter": "python",
   "pygments_lexer": "ipython3",
   "version": "3.7.1"
  }
 },
 "nbformat": 4,
 "nbformat_minor": 2
}
