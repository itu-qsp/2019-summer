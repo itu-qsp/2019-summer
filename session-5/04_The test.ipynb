{
 "cells": [
  {
   "cell_type": "markdown",
   "metadata": {
    "slideshow": {
     "slide_type": "slide"
    }
   },
   "source": [
    "## The test\n",
    "\n",
    "* The test will take place on the 2nd of August from 9:00 to 13:00 (4 hours)\n",
    "* It consists of a number of questions (around 8) that start out easy and become gradually harder\n",
    "* You can have all the aids that you want, but you **cannot access the internet**\n",
    "  * Except for LearnIT where you will have to upload your solution as a zip file `<ITU_credentials>.zip`\n",
    "  * Make sure you are connected to the ITU wifi; you need this to access LearnIT"
   ]
  },
  {
   "cell_type": "markdown",
   "metadata": {
    "slideshow": {
     "slide_type": "subslide"
    }
   },
   "source": [
    "## Preparing for the test\n",
    "\n",
    "* First, we have designed the seminar content to prepare you for the test. If you work on the workshop and assignments, you will have a good chance to pass the test.\n",
    "\n",
    "* Second, we will upload a sample test from last summer seminar so you can try it out for yourself.\n",
    "\n",
    "  * **However**, we do not recommend that you do it before Wednesday next week (the 8th session). Then you will have covered enough to answer most of the test.\n",
    "  * But if you do work on it, try to reserve 4 hours and see how far you get\n",
    "\n",
    "* We will release one of the old tests (the one that was written last summer) after the ninth session."
   ]
  },
  {
   "cell_type": "markdown",
   "metadata": {
    "slideshow": {
     "slide_type": "subslide"
    }
   },
   "source": [
    "## Example test \n",
    "\n",
    "An example for a test can be found here: https://github.com/itu-qsp/2019-summer/blob/master/sampletest/test-intro-prog.md\n",
    "\n",
    "Remember, that currently some of the tasks in particular tasks eight and nine are too hard for you as we did not cover all related material yet. So don't use it as a final measure of your abilities. However, it's a example to understand the format of the test."
   ]
  }
 ],
 "metadata": {
  "celltoolbar": "Slideshow",
  "kernelspec": {
   "display_name": "Python 3",
   "language": "python",
   "name": "python3"
  },
  "language_info": {
   "codemirror_mode": {
    "name": "ipython",
    "version": 3
   },
   "file_extension": ".py",
   "mimetype": "text/x-python",
   "name": "python",
   "nbconvert_exporter": "python",
   "pygments_lexer": "ipython3",
   "version": "3.7.3"
  }
 },
 "nbformat": 4,
 "nbformat_minor": 2
}
