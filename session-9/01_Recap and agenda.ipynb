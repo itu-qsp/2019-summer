{
 "cells": [
  {
   "cell_type": "markdown",
   "metadata": {
    "slideshow": {
     "slide_type": "slide"
    }
   },
   "source": [
    "# Good morning!\n",
    "\n",
    "![](https://media1.tenor.com/images/5a2b145ce8e00ae957533b4c24218fb6/tenor.gif?itemid=9225009)"
   ]
  },
  {
   "cell_type": "markdown",
   "metadata": {
    "slideshow": {
     "slide_type": "subslide"
    }
   },
   "source": [
    "## Remaining sessions\n",
    "\n",
    "* Session 9: Abstract data types\n",
    "* Session 10: Summary and split projects\n",
    "* Session 11: Project 1/2\n",
    "* Session 12: Project 2/2"
   ]
  },
  {
   "cell_type": "markdown",
   "metadata": {
    "slideshow": {
     "slide_type": "subslide"
    }
   },
   "source": [
    "## Agenda\n",
    "\n",
    "* Recap on files\n",
    "* Recap on docstrings\n",
    "* Recap on variable scope\n",
    "* Clarification in-place functions\n",
    "\n",
    "\n",
    "* Big-O Notation revisited\n",
    "* Abstract data types\n",
    "* Assignment 9"
   ]
  },
  {
   "cell_type": "markdown",
   "metadata": {
    "slideshow": {
     "slide_type": "slide"
    }
   },
   "source": [
    "# Test test?\n",
    "\n",
    "  - Did you look at it already?\n",
    "  - How did it go?\n",
    "  - How do you feel about it?"
   ]
  },
  {
   "cell_type": "markdown",
   "metadata": {
    "slideshow": {
     "slide_type": "slide"
    }
   },
   "source": [
    "## Working with files\n",
    "\n",
    "* Files are simply just blocks of contents on your harddrive\n",
    "* They can be **read**, **written to**, **created** and **deleted**"
   ]
  },
  {
   "cell_type": "markdown",
   "metadata": {
    "slideshow": {
     "slide_type": "fragment"
    }
   },
   "source": [
    "* In Python you can do all of this!"
   ]
  },
  {
   "cell_type": "code",
   "execution_count": 1,
   "metadata": {
    "slideshow": {
     "slide_type": "fragment"
    }
   },
   "outputs": [],
   "source": [
    "important_file = 'some_file.txt'"
   ]
  },
  {
   "cell_type": "markdown",
   "metadata": {
    "slideshow": {
     "slide_type": "fragment"
    }
   },
   "source": [
    "* Another problem is that I'm not doing anything with that pointer. It's not stored in a variable"
   ]
  },
  {
   "cell_type": "markdown",
   "metadata": {
    "slideshow": {
     "slide_type": "subslide"
    }
   },
   "source": [
    "## `open` argument flags\n",
    "\n",
    "Open can either\n",
    "\n",
    "* **create** or **write to** a file\n",
    "  * ```python\n",
    "       open(important_file, 'w')```\n",
    "* **read** from a file\n",
    "  * ```python\n",
    "       open(important_file, 'r')```\n",
    "* **append** to a file\n",
    "  * ```python\n",
    "       open(important_file, 'a')```"
   ]
  },
  {
   "cell_type": "code",
   "execution_count": null,
   "metadata": {
    "slideshow": {
     "slide_type": "subslide"
    }
   },
   "outputs": [],
   "source": [
    "with open(important_file, 'r') as file:\n",
    "    pass"
   ]
  },
  {
   "cell_type": "markdown",
   "metadata": {
    "slideshow": {
     "slide_type": "fragment"
    }
   },
   "source": [
    "* Write that into your code editor"
   ]
  },
  {
   "cell_type": "markdown",
   "metadata": {
    "slideshow": {
     "slide_type": "subslide"
    }
   },
   "source": [
    "## Reading from a file\n",
    "\n",
    "* Now that we have a **pointer** to the beginning of the file, we can read all the contents"
   ]
  },
  {
   "cell_type": "code",
   "execution_count": null,
   "metadata": {
    "slideshow": {
     "slide_type": "fragment"
    }
   },
   "outputs": [],
   "source": [
    "with open(important_file, 'r') as file:\n",
    "    file_pointer.read()"
   ]
  },
  {
   "cell_type": "markdown",
   "metadata": {
    "slideshow": {
     "slide_type": "subslide"
    }
   },
   "source": [
    "| Function | Effect\n",
    "| --- | --- |\n",
    "| `read()` | Reads **all** the file content into **one** string |\n",
    "| `readlines()` | Reads **all** the file content into a **list** of lines |"
   ]
  },
  {
   "cell_type": "code",
   "execution_count": 45,
   "metadata": {
    "slideshow": {
     "slide_type": "subslide"
    }
   },
   "outputs": [],
   "source": [
    "with open(important_file, 'a') as file_pointer:\n",
    "    file_pointer.write('Moomin My')"
   ]
  },
  {
   "cell_type": "code",
   "execution_count": 46,
   "metadata": {
    "slideshow": {
     "slide_type": "fragment"
    }
   },
   "outputs": [
    {
     "name": "stdout",
     "output_type": "stream",
     "text": [
      "Moomin SniffMoomin MyMoomin MyMoomin MyMoomin MyMoomin MyMoomin My\n"
     ]
    }
   ],
   "source": [
    "with open(important_file, 'r') as file_pointer:\n",
    "    print(file_pointer.read())"
   ]
  },
  {
   "cell_type": "code",
   "execution_count": null,
   "metadata": {
    "slideshow": {
     "slide_type": "subslide"
    }
   },
   "outputs": [],
   "source": [
    "with open(important_file, 'a') as file_pointer:\n",
    "    print('Moomin My', file = file_pointer)"
   ]
  },
  {
   "cell_type": "code",
   "execution_count": null,
   "metadata": {
    "slideshow": {
     "slide_type": "fragment"
    }
   },
   "outputs": [],
   "source": [
    "with open(important_file, 'r') as file_pointer:\n",
    "    print(file_pointer.read())"
   ]
  },
  {
   "cell_type": "markdown",
   "metadata": {
    "slideshow": {
     "slide_type": "subslide"
    }
   },
   "source": [
    "## Files in summary\n",
    "\n",
    "* Files can be **read** (`r`), **written to**/**created** (`w`) or **appended to** (`a`)\n",
    "* Use the `with open(..) as` syntax\n",
    "  * It saves changes automatically"
   ]
  },
  {
   "cell_type": "markdown",
   "metadata": {
    "slideshow": {
     "slide_type": "subslide"
    }
   },
   "source": [
    "## Your turn!\n",
    "\n",
    "* Go to GitHub and download the file `the_hound_of_the_baskervilles.txt` from session 9\n",
    "* Open it with a Python script (using the `with` notation)\n",
    "* Print the very last line of the story"
   ]
  },
  {
   "cell_type": "markdown",
   "metadata": {
    "slideshow": {
     "slide_type": "subslide"
    }
   },
   "source": [
    "## Remembering state and solving problems\n",
    "\n",
    "The line `open(important_file, 'r')` only makes sense when you keep the value of `important_file` in your head!\n",
    "\n",
    "* We're practicing running code line by line\n",
    "  * Goal: understand what happens in the program\n",
    "* Make sure you understand that 100% before you solve your problems\n",
    "  * What is in my variable?!\n",
    "  * What variables do I have?"
   ]
  },
  {
   "cell_type": "code",
   "execution_count": null,
   "metadata": {
    "slideshow": {
     "slide_type": "subslide"
    }
   },
   "outputs": [],
   "source": []
  },
  {
   "cell_type": "markdown",
   "metadata": {
    "slideshow": {
     "slide_type": "subslide"
    }
   },
   "source": [
    "## How to use docstrings\n",
    "\n",
    "* Docstrings are documentation that the future you or future users can read"
   ]
  },
  {
   "cell_type": "code",
   "execution_count": null,
   "metadata": {
    "slideshow": {
     "slide_type": "subslide"
    }
   },
   "outputs": [],
   "source": [
    "def is_even(number):\n",
    "    \"\"\"Examines whether a positive number is even. False if negative\n",
    "    :param number: int\n",
    "        The number to examine\n",
    "    bool :\n",
    "        True if the number is even and above 0, False otherwise\n",
    "    \"\"\"\n",
    "    if number <= 0:\n",
    "        return False\n",
    "    else:\n",
    "        return number % 2 == 0"
   ]
  },
  {
   "cell_type": "markdown",
   "metadata": {
    "slideshow": {
     "slide_type": "subslide"
    }
   },
   "source": [
    "## Your turn:\n",
    "\n",
    "Clean up and document this function:\n",
    "\n",
    "```python\n",
    "def t(y, k):\n",
    "    \"\"\"This is a single line comment\n",
    "    \n",
    "    \"\"\"\n",
    "    return \"Firstname (\" + y + \") and lastname (\" + k + \")\"\n",
    "```"
   ]
  },
  {
   "cell_type": "markdown",
   "metadata": {
    "slideshow": {
     "slide_type": "subslide"
    }
   },
   "source": [
    "## Global and local variables\n"
   ]
  },
  {
   "cell_type": "markdown",
   "metadata": {
    "slideshow": {
     "slide_type": "subslide"
    }
   },
   "source": [
    "\n",
    "Global variables.\n",
    "* Are declared outside of functions and objects.\n",
    "* Can be used inside and outside of functions."
   ]
  },
  {
   "cell_type": "code",
   "execution_count": null,
   "metadata": {
    "slideshow": {
     "slide_type": "fragment"
    }
   },
   "outputs": [],
   "source": [
    "def deep_thought():\n",
    "    \"\"\"Ask my enything\n",
    "    \"\"\"\n",
    "    print(your_question)  # your_question is a global variable. Everybody knows your_question.  \n",
    "    print('The answer to your question is:')\n",
    "    print(42)\n",
    "\n",
    "\n",
    "# your_question is a global variable\n",
    "your_question = 'what is the meaning of life the universe and everything?'\n",
    "deep_thought()"
   ]
  },
  {
   "cell_type": "markdown",
   "metadata": {
    "slideshow": {
     "slide_type": "subslide"
    }
   },
   "source": [
    "Local variabels:\n",
    "* Are declared inside of functinos.\n",
    "* Can ONLY be used inside the function where it is declared"
   ]
  },
  {
   "cell_type": "code",
   "execution_count": null,
   "metadata": {
    "slideshow": {
     "slide_type": "fragment"
    }
   },
   "outputs": [],
   "source": [
    "def deep_thought(the_question):\n",
    "    \"\"\"Ask my anything\n",
    "    :param your_question: string\n",
    "        A string containing your question\n",
    "    \"\"\"\n",
    "    the_answer = 42         # This is a local variable. Only Deep thought knows the_answer.\n",
    "    print(the_question)     # the_question is a parameter, which acts as a local varible. \n",
    "    print('The answer to your question is:')\n",
    "    print(the_answer) \n",
    "\n",
    "\n",
    "your_question = 'what is the meaning of life the universe and everything?''\n",
    "deep_thought(your_question) "
   ]
  },
  {
   "cell_type": "markdown",
   "metadata": {
    "slideshow": {
     "slide_type": "subslide"
    }
   },
   "source": [
    "## When to print and when to return.\n",
    "\n",
    "* print will ONLY print something, afterwards it will be forgotten forever.\n"
   ]
  },
  {
   "cell_type": "code",
   "execution_count": null,
   "metadata": {
    "slideshow": {
     "slide_type": "fragment"
    }
   },
   "outputs": [],
   "source": [
    "def greetings(name):\n",
    "    print('Hi ' + name)\n",
    "    \n",
    "\n",
    "greetings('Viktor')"
   ]
  },
  {
   "cell_type": "markdown",
   "metadata": {
    "slideshow": {
     "slide_type": "subslide"
    }
   },
   "source": [
    "## When to print and when to return.\n",
    "* return will return something, which you then can store and use forever and ever."
   ]
  },
  {
   "cell_type": "code",
   "execution_count": null,
   "metadata": {
    "slideshow": {
     "slide_type": "fragment"
    }
   },
   "outputs": [],
   "source": [
    "def remove_strings(data_list):\n",
    "    \"\"\"This function removes strings from a list\n",
    "    :param data_list: list\n",
    "        A list containing strings and other types.\n",
    "    \"\"\"\n",
    "    new_list = []\n",
    "    for element in data_list:\n",
    "        if type(element) != str:\n",
    "            new_list.append(element)\n",
    "    return new_list\n",
    "\n",
    "\n",
    "some_list = ['This', 1, 'is', 3, 'an', 12, 'odd', 536, 'list.'] \n",
    "\n",
    "clean_list = remove_strings(some_list)  # The new list is now stored as a variable\n",
    "print('This is the cleaned new list:', clean_list)  # Therefore we can print it as we like "
   ]
  },
  {
   "cell_type": "code",
   "execution_count": null,
   "metadata": {
    "slideshow": {
     "slide_type": "fragment"
    }
   },
   "outputs": [],
   "source": [
    "# We can also perform new calculations on this varible, e.g., `sum`\n",
    "print('This new list have a sum of:', sum(clean_list))"
   ]
  },
  {
   "cell_type": "markdown",
   "metadata": {
    "slideshow": {
     "slide_type": "subslide"
    }
   },
   "source": [
    "## List `sorted` vs. `sort`\n",
    "\n",
    "What do you expect is printed by the following program?"
   ]
  },
  {
   "cell_type": "code",
   "execution_count": null,
   "metadata": {
    "slideshow": {
     "slide_type": "slide"
    }
   },
   "outputs": [],
   "source": [
    "my_data = [9, 7, 5, 1, 8, 2]\n",
    "\n",
    "sorted_list = sorted(my_data)\n",
    "print(sorted_list)\n",
    "print(my_data)"
   ]
  },
  {
   "cell_type": "markdown",
   "metadata": {
    "slideshow": {
     "slide_type": "fragment"
    }
   },
   "source": [
    "What do you expect is printed by this one?"
   ]
  },
  {
   "cell_type": "code",
   "execution_count": null,
   "metadata": {},
   "outputs": [],
   "source": [
    "my_data = [9, 7, 5, 1, 8, 2]\n",
    "\n",
    "sorted_list = my_data.sort()\n",
    "print(sorted_list)\n",
    "print(my_data)"
   ]
  },
  {
   "cell_type": "code",
   "execution_count": null,
   "metadata": {
    "slideshow": {
     "slide_type": "subslide"
    }
   },
   "outputs": [],
   "source": [
    "print(help(sorted))"
   ]
  },
  {
   "cell_type": "code",
   "execution_count": null,
   "metadata": {
    "slideshow": {
     "slide_type": "fragment"
    }
   },
   "outputs": [],
   "source": [
    "print(help([].sort))"
   ]
  },
  {
   "cell_type": "markdown",
   "metadata": {
    "slideshow": {
     "slide_type": "subslide"
    }
   },
   "source": [
    "## Homework 7 solutions"
   ]
  },
  {
   "cell_type": "markdown",
   "metadata": {
    "slideshow": {
     "slide_type": "subslide"
    }
   },
   "source": [
    "### Part A\n",
    "\n",
    "> Two functions but they do the same. Read Excel file, take\n",
    "> 'Sheet1', turn columns into a list, choose single column,\n",
    "> slice column to exclude first entry, extract values from \n",
    "> cell objects to list. Return list of values.\n",
    "\n",
    "```python\n",
    "    filename = 'country_codes.xlsx'\n",
    "    wb = openpyxl.load_workbook(filename)\n",
    "    sheet = wb.get_sheet_by_name(\"Sheet1\")\n",
    "\n",
    "    list_of_columns = list(sheet.columns)\n",
    "    column_of_interest = list_of_columns[0]\n",
    "    cells_of_interest = column_of_interest[1:]\n",
    "\n",
    "    country_codes = []\n",
    "\n",
    "    for cell_object in cells_of_interest:\n",
    "        country_codes.append(cell_object.value)\n",
    "\n",
    "    return country_codes\n",
    "```"
   ]
  },
  {
   "cell_type": "markdown",
   "metadata": {
    "slideshow": {
     "slide_type": "subslide"
    }
   },
   "source": [
    "### Part B\n",
    "\n",
    "```python\n",
    "    wb = openpyxl.load_workbook(filename)\n",
    "    sheet = wb[\"Sheet1\"]\n",
    "\n",
    "    list_of_columns = list(sheet.columns)\n",
    "    column_of_interest = list_of_columns[column_number]\n",
    "    cells_of_interest = column_of_interest[1:]\n",
    "```"
   ]
  },
  {
   "cell_type": "markdown",
   "metadata": {
    "slideshow": {
     "slide_type": "subslide"
    }
   },
   "source": [
    "### Part C\n",
    "\n",
    "Modify the function `country_codes_data(filename, column_number)` from the earlier `country_codes_stats.py` so that it returns a **sorted** list of **unique** country codes. That is, it does not contain duplicates!"
   ]
  },
  {
   "cell_type": "code",
   "execution_count": null,
   "metadata": {
    "slideshow": {
     "slide_type": "fragment"
    }
   },
   "outputs": [],
   "source": [
    "...\n",
    "country_codes = set(country_codes)\n",
    "country_codes = sorted(country_codes)\n",
    "\n",
    "return country_codes"
   ]
  },
  {
   "cell_type": "markdown",
   "metadata": {
    "slideshow": {
     "slide_type": "subslide"
    }
   },
   "source": [
    "## Part E\n",
    "\n",
    "Implement the function `translate_code_to_text` in your `country_codes_stats.py` module. The goal is to allow you to translate a numerical country code into an explanatory string. For example, the following code should print `'Belgien'`.\n",
    "\n",
    "```python\n",
    "descriptive_string = translate_code_to_text(5126)\n",
    "print(descriptive_string)\n",
    "```"
   ]
  },
  {
   "cell_type": "code",
   "execution_count": null,
   "metadata": {
    "slideshow": {
     "slide_type": "fragment"
    }
   },
   "outputs": [],
   "source": [
    "def translate_code_to_text(code):\n",
    "    \"\"\"Finds the country name for a given country code.\n",
    "    \n",
    "    :param code: str or int\n",
    "        The country code\n",
    "    :return: str\n",
    "        The country name\n",
    "    \"\"\"\n",
    "    return stat_codes.COUNTRY_CODES[str(code)]"
   ]
  }
 ],
 "metadata": {
  "celltoolbar": "Slideshow",
  "hide_input": false,
  "kernelspec": {
   "display_name": "Python 3",
   "language": "python",
   "name": "python3"
  },
  "language_info": {
   "codemirror_mode": {
    "name": "ipython",
    "version": 3
   },
   "file_extension": ".py",
   "mimetype": "text/x-python",
   "name": "python",
   "nbconvert_exporter": "python",
   "pygments_lexer": "ipython3",
   "version": "3.7.3"
  },
  "latex_envs": {
   "LaTeX_envs_menu_present": true,
   "autoclose": false,
   "autocomplete": true,
   "bibliofile": "biblio.bib",
   "cite_by": "apalike",
   "current_citInitial": 1,
   "eqLabelWithNumbers": true,
   "eqNumInitial": 1,
   "hotkeys": {
    "equation": "Ctrl-E",
    "itemize": "Ctrl-I"
   },
   "labels_anchors": false,
   "latex_user_defs": false,
   "report_style_numbering": false,
   "user_envs_cfg": false
  }
 },
 "nbformat": 4,
 "nbformat_minor": 2
}
