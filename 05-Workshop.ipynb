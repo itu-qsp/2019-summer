{
 "cells": [
  {
   "cell_type": "markdown",
   "metadata": {},
   "source": [
    "## Workshop\n",
    "\n",
    "\n",
    "![image](https://media.giphy.com/media/13HgwGsXF0aiGY/giphy.gif)\n",
    "\n",
    "1. Go through the slides and make sure you know what these things are:\n",
    "  * Lists\n",
    "  * For loops\n",
    "  * While loops\n",
    "  * Conditional statements (`if`-`else`)\n"
   ]
  },
  {
   "cell_type": "markdown",
   "metadata": {},
   "source": [
    "1. Remove the first two numbers from the following list:\n",
    "```python \n",
    "[2, 3, 9, 10]\n",
    "```\n",
    "2. Extract the fourth character 'B' in the string\n",
    "```python\n",
    "'To Be or Not To Be'\n",
    "```\n",
    "3. Stop the loop after it has run 500'000 times:\n",
    "```python\n",
    "    for x in range(0, 1000000):\n",
    "        print(x)\n",
    "```\n",
    "4. Modify the following program to print all numbers from the list except the number `12`:\n",
    "```python\n",
    "    for x in [1, 2, 3, 4, 5, 6, 7, 8, 9, 10, 11, 12, 13, 14]:\n",
    "        print(x)\n",
    "```\n",
    "5. Reverse the following list and print it:\n",
    "```python\n",
    "[9, 2, 5, 1]\n",
    "```\n",
    "6. Remove the element `1` in the list `[9, 2, 5, 1]`\n",
    "7. Is the number `70686` contained in the following range?\n",
    "```python\n",
    "range(0, 1323123, 2142)\n",
    "```\n",
    "8. What is the value of the variable `counter` after the execution of the following program?\n",
    "```python\n",
    "counter = 2132 * 0 + 100\n",
    "counter += 4\n",
    "counter *= 2\n",
    "```\n",
    "9. What is the printed by the following program?\n",
    "```python\n",
    "book_title = 'Fantastic Beasts and Where to Find them'\n",
    "book_title = book_title[:13] + book_title[14:]\n",
    "print(book_title)\n",
    "```"
   ]
  },
  {
   "cell_type": "markdown",
   "metadata": {},
   "source": [
    "10. Enter the following program in Mu editor. Set a breakpoint on line number 5. What is the value of the variable content in the eight iteration of the loop?"
   ]
  },
  {
   "cell_type": "code",
   "execution_count": null,
   "metadata": {},
   "outputs": [],
   "source": [
    "idx = 0\n",
    "content = 0\n",
    "for character in 'Call me Ishmael.':\n",
    "    content += idx + ord(character)\n",
    "    print(content)\n",
    "    idx += 1"
   ]
  },
  {
   "cell_type": "markdown",
   "metadata": {},
   "source": [
    "11. Your very first Python program from the last session was the game Hangman (in file `hangman.py` or again listed below). \n",
    "\n",
    "    Take this program, go line-by-line through it and try to write for each line a comment that explains what is going on in that line. In case you do not understand what is going on try to discuss it with your fellow students or take a note and come back to it after one of the following sessions.\n",
    "    \n",
    "    For example, the lines: \n",
    "    \n",
    "    ```python\n",
    "guesses = ''\n",
    "turns = 10\n",
    "    ```\n",
    "    \n",
    "    could be annotated with the following comments:\n",
    "    \n",
    "    ```python\n",
    "# an empty string is assigned to the variable `guesses`\n",
    "guesses = ''\n",
    "# the integer `10` is assigned to the variable `turns`\n",
    "turns = 10\n",
    "    ```\n",
    "\n",
    "\n"
   ]
  },
  {
   "cell_type": "code",
   "execution_count": null,
   "metadata": {},
   "outputs": [],
   "source": [
    "name = input('What is your name? ')\n",
    "print('Hello, ' + name + '. Time to play hangman!')\n",
    "print('Start guessing...')\n",
    "\n",
    "secret_word = 'secret'\n",
    "guesses = ''\n",
    "turns = 10\n",
    "\n",
    "while turns > 0:\n",
    "    failed = 0\n",
    "\n",
    "    for char in secret_word:\n",
    "        if char in guesses:\n",
    "            print(char, end='')\n",
    "        else:\n",
    "            print('_', end='')\n",
    "            failed += 1\n",
    "\n",
    "    if failed == 0:\n",
    "        print('\\nYou won')\n",
    "        break\n",
    "\n",
    "    print()\n",
    "    guess = input('guess a character: ')\n",
    "\n",
    "    if len(guess) > 1:\n",
    "        print('Only one character at the time, please!')\n",
    "        continue\n",
    "\n",
    "    guesses += guess\n",
    "\n",
    "    if guess not in secret_word:\n",
    "        turns -= 1\n",
    "        print('Wrong\\n')\n",
    "        print('You have ', turns,  ' more guesses')\n",
    "        if turns == 0:\n",
    "            print('You Loose')"
   ]
  }
 ],
 "metadata": {
  "kernelspec": {
   "display_name": "Python 3",
   "language": "python",
   "name": "python3"
  },
  "language_info": {
   "codemirror_mode": {
    "name": "ipython",
    "version": 3
   },
   "file_extension": ".py",
   "mimetype": "text/x-python",
   "name": "python",
   "nbconvert_exporter": "python",
   "pygments_lexer": "ipython3",
   "version": "3.7.3"
  }
 },
 "nbformat": 4,
 "nbformat_minor": 2
}
