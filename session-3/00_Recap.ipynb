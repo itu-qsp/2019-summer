{
 "cells": [
  {
   "cell_type": "markdown",
   "metadata": {
    "slideshow": {
     "slide_type": "slide"
    }
   },
   "source": [
    "![](https://acegif.com/wp-content/uploads/gifs-good-morning-62-gap.jpg)"
   ]
  },
  {
   "cell_type": "markdown",
   "metadata": {
    "slideshow": {
     "slide_type": "slide"
    }
   },
   "source": [
    "# Recap\n",
    "\n",
    "## Status"
   ]
  },
  {
   "cell_type": "markdown",
   "metadata": {
    "slideshow": {
     "slide_type": "fragment"
    }
   },
   "source": [
    "  * How are you feeling with respect to using and programming your computers?"
   ]
  },
  {
   "cell_type": "markdown",
   "metadata": {
    "slideshow": {
     "slide_type": "fragment"
    }
   },
   "source": [
    "## Technical Setup\n",
    "\n",
    "  * Everybody has Anaconda and the Mu editor installed an usable?"
   ]
  },
  {
   "cell_type": "markdown",
   "metadata": {
    "slideshow": {
     "slide_type": "subslide"
    }
   },
   "source": [
    "# Assignments with unknown material\n",
    "\n",
    "In the last assignment we were asking you to work with various way of calling the `print` function, such as\n",
    "\n",
    "```python\n",
    "print('This' + 'is' + 'a' + 'message')\n",
    "print('This', 'is', 'another', 'message')\n",
    "print('This', 'is', 'yet', 'another', 'message', sep='_')\n",
    "```\n",
    "\n",
    "Even though we did not talk about functions and arguments yet. We are aware of that and it is on purpose :)\n",
    "\n",
    "We would like to tickle you to explore and lose your fear of not knowing something/doing something wrong."
   ]
  },
  {
   "cell_type": "markdown",
   "metadata": {
    "slideshow": {
     "slide_type": "subslide"
    }
   },
   "source": [
    "## Deciphering the docstring\n",
    "\n",
    "```\n",
    "print(*objects, sep=' ', end='\\n')\n",
    "Print objects, separated by 'sep' and followed by 'end'. \n",
    "All non-keyword arguments are converted to strings.\n",
    "```"
   ]
  },
  {
   "cell_type": "markdown",
   "metadata": {
    "slideshow": {
     "slide_type": "subslide"
    }
   },
   "source": [
    "## What are functions then?\n",
    "\n",
    "\n",
    "Functions are just subprograms, i.e., small programs in your or other programs."
   ]
  },
  {
   "cell_type": "markdown",
   "metadata": {
    "slideshow": {
     "slide_type": "fragment"
    }
   },
   "source": [
    "In a way, they are comparable to variables. We said that these are vaults keeping data.\n",
    "\n",
    "Functions are like vaults keeping functionality, i.e., sequences of statements.\n",
    "\n",
    "Since they are about functionality they do something and return something"
   ]
  },
  {
   "cell_type": "markdown",
   "metadata": {
    "slideshow": {
     "slide_type": "fragment"
    }
   },
   "source": [
    "Functions structure sequences of statements into subprograms.\n",
    "\n",
    "For now, functions are just something that we just use. We will talk about them in detail on Wednesday."
   ]
  }
 ],
 "metadata": {
  "celltoolbar": "Slideshow",
  "kernelspec": {
   "display_name": "Python 3",
   "language": "python",
   "name": "python3"
  },
  "language_info": {
   "codemirror_mode": {
    "name": "ipython",
    "version": 3
   },
   "file_extension": ".py",
   "mimetype": "text/x-python",
   "name": "python",
   "nbconvert_exporter": "python",
   "pygments_lexer": "ipython3",
   "version": "3.7.3"
  }
 },
 "nbformat": 4,
 "nbformat_minor": 2
}
