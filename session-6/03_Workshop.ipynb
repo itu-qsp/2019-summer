{
 "cells": [
  {
   "cell_type": "markdown",
   "metadata": {},
   "source": [
    "## Workshop: Files and objects\n",
    "\n",
    "This workshop will let you practice using files and objects. Go through the slides to make sure you understand the following:\n",
    "* Classes and objects \n",
    "  * Can you write you own class?\n",
    "  * What is the difference between an object and a class?\n",
    "  * What is a method in a class?\n",
    "* Reading files in Python\n",
    "  * `open(filename, 'r')`\n",
    "* Writing to files in Python\n",
    "  * `open(filename, 'w')`\n",
    "  * `open(filename, 'a')`"
   ]
  },
  {
   "cell_type": "markdown",
   "metadata": {},
   "source": [
    "## Part A: Understanding turtles\n",
    "\n",
    "A blogger wrote up some examples on how to work with Turtles: https://michael0x2a.com/blog/turtle-examples\n",
    "\n",
    "* Go through the first three examples and understand what is happening. Preferably without running the code. Can you describe in pseudo-code what is happening line by line?\n",
    "* After understanding the code, copy-paste it into Mu and use the debugger to run it line by line. Does your pseudo-code match the reality?"
   ]
  },
  {
   "cell_type": "markdown",
   "metadata": {},
   "source": [
    "## Part B: What is turtle race doing?\n",
    "\n",
    "  1. Download the file `turtle_race.py` from the materials repository\n",
    "  2. Run the program `turtle_race.py` with `python turtle_race.py` and observe what it is doing.\n",
    "    * Without looking at the code, write it down in pseudo-code\n",
    "  3. Understand what the program `turtle_race.py` is doing and how it works by opening the code in Mu and doing the following:\n",
    "    - Set a breakpoint on line `33`\n",
    "    - Run `turtle_race.py` through the debugger line by line, starting from line `33`\n",
    "    - Explain to your fellow student what is going on. In particular:\n",
    "      - What happens on lines `33`, `34`, and `35`?\n",
    "      - What does `Turtle()` mean on line 33?"
   ]
  },
  {
   "cell_type": "markdown",
   "metadata": {},
   "source": [
    "## Part C: Reading and writing files\n",
    "\n",
    "  1. Write a program `print_file_contents.py` that opens the file `script1.trtl` from the `homework` directory and prints every line that it contains to the screen.\n",
    "    * **Hint**: Whenever you are asked to use a file, such as `script1.trtl`, make sure to open it and see what it contains\n",
    "  2. Write a new program `print_file_contents_split.py`, which:\n",
    "    - Opens the file `script1.trtl`, \n",
    "    - `split`s every line on space `' '`, \n",
    "    - Converts the number value, i.e., the value following the space to an integer, and\n",
    "    - Prints the two values on separate lines.\n",
    "    \n",
    "    Example:\n",
    "    \n",
    "    If the file `script1.trtl` contains\n",
    "    ```\n",
    "Walk 10\n",
    "Turn 20\n",
    "Walk 30\n",
    "Turn 40\n",
    "Walk 50\n",
    "Turn 60\n",
    "Walk 70\n",
    "```\n",
    "    The your program shall print:\n",
    "    ```\n",
    "Walk\n",
    "10\n",
    "Turn\n",
    "20\n",
    "Walk\n",
    "30\n",
    "Turn\n",
    "40\n",
    "Walk\n",
    "50\n",
    "Turn\n",
    "60\n",
    "Walk\n",
    "70\n",
    "```    \n",
    "  3. Extend your first program `print_file_contents.py` so that it reads a file given to it via a command line argument. That is, if it is called via the terminal like so:\n",
    "  \n",
    "  ```$ python print_file_contents.py turtle_program.trtl``` \n",
    "  \n",
    "  it shall print:\n",
    "```\n",
    "Walk 10\n",
    "Turn 20\n",
    "Walk 30\n",
    "Turn 40\n",
    "Walk 50\n",
    "Turn 60\n",
    "Walk 70\n",
    "```\n",
    "  "
   ]
  }
 ],
 "metadata": {
  "kernelspec": {
   "display_name": "Python 3",
   "language": "python",
   "name": "python3"
  },
  "language_info": {
   "codemirror_mode": {
    "name": "ipython",
    "version": 3
   },
   "file_extension": ".py",
   "mimetype": "text/x-python",
   "name": "python",
   "nbconvert_exporter": "python",
   "pygments_lexer": "ipython3",
   "version": "3.7.3"
  }
 },
 "nbformat": 4,
 "nbformat_minor": 2
}
