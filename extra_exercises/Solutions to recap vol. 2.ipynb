{
 "cells": [
  {
   "cell_type": "markdown",
   "metadata": {},
   "source": [
    "# Small Python exercises Vol. 2\n",
    "So this is the second edition of the recap exercises with the same purpose of rehearsing some of your skills."
   ]
  },
  {
   "cell_type": "markdown",
   "metadata": {},
   "source": [
    "# Functions"
   ]
  },
  {
   "cell_type": "markdown",
   "metadata": {},
   "source": [
    "** Create a function called: naive_printer that prints the following: **\n",
    "\n",
    "    \"This is a function with no arguments, and it does not return anything\"\n",
    "    \n",
    "  Then call the function afterwards"
   ]
  },
  {
   "cell_type": "code",
   "execution_count": 1,
   "metadata": {},
   "outputs": [
    {
     "name": "stdout",
     "output_type": "stream",
     "text": [
      "This is a function with no arguments, and it does not return anything\n"
     ]
    }
   ],
   "source": [
    "def naive_printer():\n",
    "    print(\"This is a function with no arguments, and it does not return anything\")\n",
    "naive_printer()"
   ]
  },
  {
   "cell_type": "markdown",
   "metadata": {},
   "source": [
    "** Now it is time to make it a bit more advanced **\n",
    "\n",
    "   * Now update the naive printer so it takes one parameter and prints it\n",
    "    \n",
    "   * Then call the function afterwards with some random string"
   ]
  },
  {
   "cell_type": "code",
   "execution_count": 2,
   "metadata": {},
   "outputs": [
    {
     "name": "stdout",
     "output_type": "stream",
     "text": [
      "Some random string\n"
     ]
    }
   ],
   "source": [
    "def naive_printer(print_this):\n",
    "    print(print_this)\n",
    "naive_printer(\"Some random string\")"
   ]
  },
  {
   "cell_type": "markdown",
   "metadata": {},
   "source": [
    "** now create a new fucntion called print_list, which has one parameter called list_a**\n",
    " * This fucntion should print all items in list_a seperated by a comma\n",
    " * test on the follwing list:\n",
    " \n",
    " ['This','is','a','test']\n",
    " \n",
    " This should print:\n",
    " This,is,a,test"
   ]
  },
  {
   "cell_type": "code",
   "execution_count": 3,
   "metadata": {},
   "outputs": [
    {
     "name": "stdout",
     "output_type": "stream",
     "text": [
      "This,is,a,test\n"
     ]
    }
   ],
   "source": [
    "def print_list(list_a):\n",
    "    print(\",\".join(list_a))\n",
    "print_list(['This','is','a','test'])"
   ]
  },
  {
   "cell_type": "markdown",
   "metadata": {},
   "source": [
    "** This is still a relativly simple function so lets try to make a more advanced one **\n",
    "\n",
    "  * Make a function called containing_numbers, which has 1 parameter called text\n",
    "    \n",
    "  * Create a loop that checks all charachtersin text to see if they are a number\n",
    "    \n",
    "  * If there is a number in text then return True\n",
    "  * Check to see if the function works on the two following strings, by printing the returned result:\n",
    "  \"This should be False\"\n",
    "  \"Th1s sh0uld b3 True\""
   ]
  },
  {
   "cell_type": "code",
   "execution_count": 4,
   "metadata": {},
   "outputs": [
    {
     "name": "stdout",
     "output_type": "stream",
     "text": [
      "False\n",
      "True\n"
     ]
    }
   ],
   "source": [
    "def containing_numbers(text):\n",
    "    for char in text:\n",
    "        if char in [str(i) for i in range(10)]:\n",
    "            return True\n",
    "    return False\n",
    "print(containing_numbers(\"This should be False\"))\n",
    "print(containing_numbers(\"Th1s sh0uld b3 True\"))"
   ]
  },
  {
   "cell_type": "markdown",
   "metadata": {},
   "source": [
    "** Now we want to create a new function called print_numbers which prints the numbers in a text or and error message **\n",
    "\n",
    "  * Make a function called print_numbers, which has 2 parameter first called text second called error_message\n",
    "  * The parameter error_message should have the default message \"There is no numbers in the text\"\n",
    "    \n",
    "  * First check if the list contains any numbers.\n",
    "  * If there is no numbers in the text then print the error message\n",
    "  * If there is numbers in the text, then store all of the numbers in a list and print \"This is all of the numbers in the text: \" and then all of the numbers seperated by a comma\n",
    "  * Test then new functions on the the two following texts:\n",
    "  \n",
    "  \"This is a test without any numbers\"\n",
    "  \n",
    "  \"Th1s is a t3st w1th numb3r 1234\"\n",
    "  \n",
    "  \n",
    "  \n",
    "  * Hint use the functions above\n",
    "    "
   ]
  },
  {
   "cell_type": "code",
   "execution_count": 5,
   "metadata": {},
   "outputs": [
    {
     "name": "stdout",
     "output_type": "stream",
     "text": [
      "There is no numbers in the text\n",
      "This is all of the numbers in the text: 1,3,1,3,1,2,3,4\n"
     ]
    }
   ],
   "source": [
    "def print_numbers(text, error_message=\"There is no numbers in the text\"):\n",
    "    if containing_numbers(text):\n",
    "        numbers_list = []\n",
    "        for char in text:\n",
    "            if char in [str(i) for i in range(10)]:\n",
    "                numbers_list.append(char)\n",
    "        print(\"This is all of the numbers in the text: \", end=\"\")\n",
    "        print_list(numbers_list)\n",
    "    else:\n",
    "        print(error_message)\n",
    "print_numbers(\"This is a test without any numbers\")\n",
    "print_numbers(\"Th1s is a t3st w1th numb3r 1234\")"
   ]
  },
  {
   "cell_type": "markdown",
   "metadata": {},
   "source": [
    "## So fare so good!\n",
    "## Now it's time for some Object Oriented Programming"
   ]
  },
  {
   "cell_type": "markdown",
   "metadata": {},
   "source": [
    "** Lets create a class that describes a vehicle ** \n",
    "  * Give constructer of the class i.e. the __init__, one argument licensnumber\n",
    "  * Create two proberties, self.licensnumber and self.registered = True\n",
    "  * This class should contain the following 3 methods:\n",
    "      * is_registered: A method that only prints if the vehicle is registered.\n",
    "  \n",
    "      * say_licens :A method that print the licensnumber if the vehicle is registered else print \"Sorry the vehicle is not registered\"\n",
    "      \n",
    "      * cancel_registration: A method that changes the licensnumber to None and registration to False and prints \"The registration is now cancelled\"\n",
    "          \n",
    "          \n",
    "          \n",
    " * Test the method with the following commands:\n",
    " \n",
    "new_vehicle = Vehicle(\"23 xlxkkx\")\n",
    "\n",
    "new_vehicle.is_registered()\n",
    "\n",
    "new_vehicle.say_licens()\n",
    "\n",
    "new_vehicle.cancel_registration()\n",
    "\n",
    "new_vehicle.is_registered()\n",
    "\n",
    "new_vehicle.say_licens()\n",
    "   "
   ]
  },
  {
   "cell_type": "code",
   "execution_count": 6,
   "metadata": {},
   "outputs": [],
   "source": [
    "class Vehicle():\n",
    "    def __init__(self, licensnumber):\n",
    "        self.licensnumber = licensnumber\n",
    "        self.registered = True\n",
    "    \n",
    "    \n",
    "    def is_registered(self):\n",
    "        print(self.registered)\n",
    "    \n",
    "    \n",
    "    def say_licens(self):\n",
    "        if self.registered:\n",
    "            print(self.licensnumber)\n",
    "        else:\n",
    "            print(\"Sorry the vehicle is not registered\")\n",
    "    \n",
    "    \n",
    "    def cancel_registration(self):\n",
    "        self.registered = False\n",
    "        self.licensplate = None\n",
    "        print(\"The registration is now cancelled\")"
   ]
  },
  {
   "cell_type": "code",
   "execution_count": 7,
   "metadata": {},
   "outputs": [
    {
     "name": "stdout",
     "output_type": "stream",
     "text": [
      "True\n",
      "23 xlxkkx\n",
      "The registration is now cancelled\n",
      "False\n",
      "Sorry the vehicle is not registered\n"
     ]
    }
   ],
   "source": [
    "new_vehicle = Vehicle(\"23 xlxkkx\")\n",
    "new_vehicle.is_registered()\n",
    "new_vehicle.say_licens()\n",
    "new_vehicle.cancel_registration()\n",
    "new_vehicle.is_registered()\n",
    "new_vehicle.say_licens()"
   ]
  },
  {
   "cell_type": "markdown",
   "metadata": {},
   "source": [
    "** Now we will create a class called Car which should inherits from Vehicle i.e. car is a sub-class of the super-class vehicle **\n",
    "\n",
    "* Give constructer of the class i.e. the __init__, two argument licensnumber and km_pr_l_petrol(kilometers pr liter of petrol) which is the amount of km the car is able to drive with 1 liter of petrol\n",
    "* Give the super() the licensnumber (Look at the slides from session 5 if you dont remember)\n",
    "* Create three proberties, self.licensnumber and self.liter_petrol = 0 (aka. the tank), and self.km_pr_l_petrol = km_pr_l_petrol\n",
    "  * This class should contain the following 3 methods:\n",
    "      * fill_the_tank: This method takes one argument, liters, which is the amount of liters one needs to increment self.liter_petrol with\n",
    "  \n",
    "      * drive: This method takes 1 argument, kilometers, which is the amount of kilometers one needs to drive. Furthermore, this method should calculate if it is posible to drive this distance with the current amount of petrol in the tank. If it is posible print \"BRruuuum Bbrrrruuum  BBrrrum. I just drove 20 km!\" otherwise print \"Not enough petrol in the tank\"\n",
    "      \n",
    "      * can_i_fly: This method only prints \"No, I'm a car\"\n",
    "          \n",
    "          \n",
    "          \n",
    " * Test the method with the following commands:\n",
    " \n",
    "This is to test if it inherited from vehicle: \n",
    "\n",
    "new_car = Vehicle(\"23 xlxkkx\",20)\n",
    "\n",
    "new_car.is_registered()\n",
    "\n",
    "new_car.say_licens()\n",
    "\n",
    "new_car.cancel_registration()\n",
    "\n",
    "new_car.is_registered()\n",
    "\n",
    "new_car.say_licens()\n",
    "   \n",
    "Now test the behavior of the class with:\n",
    "\n",
    "new_car.fill_the_tank(10)\n",
    "\n",
    "new_car.drive(20)\n",
    "\n",
    "new_car.drive(1000)\n",
    "\n",
    "new_car.can_I_fly()\n",
    "\n",
    "\n"
   ]
  },
  {
   "cell_type": "code",
   "execution_count": 8,
   "metadata": {},
   "outputs": [],
   "source": [
    "class Car(Vehicle):\n",
    "    def __init__(self, licensnumber, km_pr_l_petrol):\n",
    "        super().__init__(licensnumber)\n",
    "        self.licensnumber = licensnumber\n",
    "        self.liters_petrol = 0\n",
    "        self.km_pr_l_petrol = km_pr_l_petrol\n",
    "    \n",
    "    def fill_the_tank(self, liters):\n",
    "        self.liters_petrol += liters\n",
    "        \n",
    "    def drive(self, kilometers):\n",
    "        if kilometers <= self.liters_petrol * self.km_pr_l_petrol:\n",
    "            self.liters_petrol -= kilometers / self.km_pr_l_petrol\n",
    "            print(\"BRruuuum Bbrrrruuum  BBrrrum. I just drove \" + str(kilometers)+ \" km!\")\n",
    "        else:\n",
    "            print(\"Not enough petrol in the tank\")\n",
    "            \n",
    "    def can_I_fly(self):\n",
    "        print(\"No, I'm a car\")\n",
    "    \n",
    "    "
   ]
  },
  {
   "cell_type": "code",
   "execution_count": 9,
   "metadata": {},
   "outputs": [
    {
     "name": "stdout",
     "output_type": "stream",
     "text": [
      "True\n",
      "23 xlxkkx\n",
      "The registration is now cancelled\n",
      "False\n",
      "Sorry the vehicle is not registered\n",
      "BRruuuum Bbrrrruuum  BBrrrum. I just drove 20 km!\n",
      "Not enough petrol in the tank\n",
      "No, I'm a car\n"
     ]
    }
   ],
   "source": [
    "new_car = Car(\"23 xlxkkx\",20)\n",
    "\n",
    "new_car.is_registered()\n",
    "\n",
    "new_car.say_licens()\n",
    "\n",
    "new_car.cancel_registration()\n",
    "\n",
    "new_car.is_registered()\n",
    "\n",
    "new_car.say_licens()\n",
    "   \n",
    "new_car.fill_the_tank(10)\n",
    "\n",
    "new_car.drive(20)\n",
    "\n",
    "new_car.drive(1000)\n",
    "\n",
    "new_car.can_I_fly()\n"
   ]
  },
  {
   "cell_type": "markdown",
   "metadata": {},
   "source": [
    "** Now we will create a new class called Plane which should inherits from Vehicle i.e. car is a sub-class of the super-class vehicle **\n",
    "\n",
    "* Give constructer of the class i.e. the __init__, one argument licensnumber\n",
    "* Give the super() the licensnumber (Look at the slides from session 5 if you dont remember)\n",
    "* Create three proberty, self.licensnumber \n",
    "\n",
    "  * This class should only contain the following method:\n",
    "\n",
    "      * can_i_fly: This method only prints \"Yes, yes I can\"\n",
    "          \n",
    " * Test the method with the following commands:\n",
    " \n",
    "This is to test if it inherited from vehicle: \n",
    "\n",
    "new_plane = Vehicle(\"23 plane\")\n",
    "\n",
    "new_plane.is_registered()\n",
    "\n",
    "new_plane.say_licens()\n",
    "\n",
    "new_plane.cancel_registration()\n",
    "\n",
    "new_plane.is_registered()\n",
    "\n",
    "new_plane.say_licens()\n",
    "   \n",
    "Now test the behavior of the class with:\n",
    "\n",
    "new_plane.can_I_fly()\n",
    "\n",
    "\n",
    "\n"
   ]
  },
  {
   "cell_type": "code",
   "execution_count": 10,
   "metadata": {},
   "outputs": [],
   "source": [
    "class Plane(Vehicle):\n",
    "    def __init__(self, licensnumber):\n",
    "        super().__init__(licensnumber)\n",
    "        self.licensnumber = licensnumber\n",
    "        \n",
    "    def can_I_fly(self):\n",
    "        print(\"Yes, yes I can\")\n",
    "    "
   ]
  },
  {
   "cell_type": "code",
   "execution_count": 11,
   "metadata": {},
   "outputs": [
    {
     "name": "stdout",
     "output_type": "stream",
     "text": [
      "True\n",
      "23 plane\n",
      "The registration is now cancelled\n",
      "False\n",
      "Sorry the vehicle is not registered\n",
      "Yes, yes I can\n"
     ]
    }
   ],
   "source": [
    "new_plane = Plane(\"23 plane\")\n",
    "\n",
    "new_plane.is_registered()\n",
    "\n",
    "new_plane.say_licens()\n",
    "\n",
    "new_plane.cancel_registration()\n",
    "\n",
    "new_plane.is_registered()\n",
    "\n",
    "new_plane.say_licens()\n",
    "   \n",
    "new_plane.can_I_fly()"
   ]
  }
 ],
 "metadata": {
  "kernelspec": {
   "display_name": "Python 3",
   "language": "python",
   "name": "python3"
  },
  "language_info": {
   "codemirror_mode": {
    "name": "ipython",
    "version": 3
   },
   "file_extension": ".py",
   "mimetype": "text/x-python",
   "name": "python",
   "nbconvert_exporter": "python",
   "pygments_lexer": "ipython3",
   "version": "3.6.5"
  },
  "latex_envs": {
   "LaTeX_envs_menu_present": true,
   "autoclose": false,
   "autocomplete": true,
   "bibliofile": "biblio.bib",
   "cite_by": "apalike",
   "current_citInitial": 1,
   "eqLabelWithNumbers": true,
   "eqNumInitial": 1,
   "hotkeys": {
    "equation": "Ctrl-E",
    "itemize": "Ctrl-I"
   },
   "labels_anchors": false,
   "latex_user_defs": false,
   "report_style_numbering": false,
   "user_envs_cfg": false
  }
 },
 "nbformat": 4,
 "nbformat_minor": 2
}
