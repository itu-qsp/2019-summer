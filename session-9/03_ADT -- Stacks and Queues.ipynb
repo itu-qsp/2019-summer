{
 "cells": [
  {
   "cell_type": "markdown",
   "metadata": {
    "slideshow": {
     "slide_type": "slide"
    }
   },
   "source": [
    "# Abstract Data Types\n",
    "\n",
    "## Content: \n",
    "- What is an abstract data type (ADT)?\n",
    "- ADT: Stack, Queue, with applications"
   ]
  },
  {
   "cell_type": "markdown",
   "metadata": {
    "slideshow": {
     "slide_type": "subslide"
    }
   },
   "source": [
    "## Abstract Data Types - A User Perspective\n",
    "\n",
    "\n",
    "An Abstract Data Type (ADT) is a\n",
    "  > ... class of objects whose logical behavior is defined by a set of values and a set of operations.\n",
    "  > \n",
    "  > https://en.wikipedia.org/wiki/Abstract_data_type\n"
   ]
  },
  {
   "cell_type": "markdown",
   "metadata": {
    "slideshow": {
     "slide_type": "fragment"
    }
   },
   "source": [
    "  > ... is a logical description of how we view the data and the operations that are allowed without regard to how they will be implemented.\n",
    "  >\n",
    "  > http://interactivepython.org/runestone/static/pythonds/Introduction/WhyStudyDataStructuresandAbstractDataTypes.html"
   ]
  },
  {
   "cell_type": "markdown",
   "metadata": {
    "slideshow": {
     "slide_type": "fragment"
    }
   },
   "source": [
    "- _What does this mean?_\n",
    "- Have we seen and used ADTs?"
   ]
  },
  {
   "cell_type": "markdown",
   "metadata": {
    "slideshow": {
     "slide_type": "subslide"
    }
   },
   "source": [
    "## Lists\n",
    "\n",
    "We have in fact encountered abstract data types before, see the following example:\n"
   ]
  },
  {
   "cell_type": "code",
   "execution_count": null,
   "metadata": {
    "slideshow": {
     "slide_type": "fragment"
    }
   },
   "outputs": [],
   "source": [
    "ringding_lst = []\n",
    "ringding_lst.append('Ring')\n",
    "ringding_lst.append('ding')\n",
    "ringding_lst.append(3)\n",
    "ringding_lst.append('dingeringeding')\n",
    "print(ringding_lst)"
   ]
  },
  {
   "cell_type": "code",
   "execution_count": null,
   "metadata": {
    "slideshow": {
     "slide_type": "fragment"
    }
   },
   "outputs": [],
   "source": [
    "ringding_lst.remove('ding')\n",
    "print(ringding_lst)\n",
    "print(len(ringding_lst))"
   ]
  },
  {
   "cell_type": "markdown",
   "metadata": {
    "slideshow": {
     "slide_type": "subslide"
    }
   },
   "source": [
    "### Values?\n",
    "\n",
    "- A list is a collection of Python _values_ in a specific order."
   ]
  },
  {
   "cell_type": "markdown",
   "metadata": {
    "slideshow": {
     "slide_type": "fragment"
    }
   },
   "source": [
    "### Set of operations?\n",
    "\n",
    "Lists provide behaviour (methods) such as: \n",
    "\n",
    "- `l.append(value)`: Add `value` to the end of the collection\n",
    "- `l.remove(value)`: Remove `value` from the collection\n",
    "\n",
    "Additionally, the length of a list can be determined with the `len` function\n",
    "\n",
    "- `len(l)`: The number of elements in the collection\n",
    "\n",
    "\n",
    "The empty list is represented by `[]`."
   ]
  },
  {
   "cell_type": "markdown",
   "metadata": {
    "slideshow": {
     "slide_type": "subslide"
    }
   },
   "source": [
    "## User-centric Perspective\n",
    "\n",
    "- While we did a lot of programming, we actually do not know how a `list` is implemented!\n",
    "- An ADT describes a *user perspective*, not an implementation perspective.\n",
    "- It is specified by providing a collection of values that \"are the specific ADT\", and a list of operations to modify it. \n"
   ]
  },
  {
   "cell_type": "markdown",
   "metadata": {
    "slideshow": {
     "slide_type": "subslide"
    }
   },
   "source": [
    "## Exercise!\n",
    "\n",
    "Describe to each other the _dictionary_ ADT, that Python provides internally for mapping keys to values.\n",
    "\n",
    "- What are the values allowed in a dictionary?\n",
    "- List some methods and describe their behavior in the style of the description for Python's `list`."
   ]
  },
  {
   "cell_type": "markdown",
   "metadata": {
    "slideshow": {
     "slide_type": "slide"
    }
   },
   "source": [
    "## Basic Abstract Data Types: Stacks and Queues\n",
    "\n",
    "Last time we talked about _algorithms_ we saw algorithms for finding elements in lists and for sorting elements in lists.\n",
    "\n",
    "Often, algorithms get easier to describe by modelling the data appropriately."
   ]
  },
  {
   "cell_type": "markdown",
   "metadata": {
    "slideshow": {
     "slide_type": "subslide"
    }
   },
   "source": [
    "### The Stack ADT\n",
    "\n",
    "A _Stack_ is a list in which we can only add to the end and remove from the end.\n",
    "That is called a _LIFO_ list, i.e., last in, first out.\n",
    "\n",
    "![](https://www.tagesspiegel.de/images/symbolbild-buerokratie/19188142/1-format6001.jpg?inIsFirst=true)\n",
    "\n"
   ]
  },
  {
   "cell_type": "markdown",
   "metadata": {
    "slideshow": {
     "slide_type": "subslide"
    }
   },
   "source": [
    "Create a Python module called `my_adts.py` and add the following code."
   ]
  },
  {
   "cell_type": "code",
   "execution_count": null,
   "metadata": {
    "slideshow": {
     "slide_type": "fragment"
    }
   },
   "outputs": [],
   "source": [
    "class Stack:\n",
    "\n",
    "    def __init__(self):\n",
    "        self.items = []\n",
    "\n",
    "    def push(self, item):\n",
    "        self.items.append(item)\n",
    "\n",
    "    def peek(self):\n",
    "        return self.items[-1]"
   ]
  },
  {
   "cell_type": "markdown",
   "metadata": {
    "slideshow": {
     "slide_type": "-"
    }
   },
   "source": [
    "  * What does it do?\n",
    "  * How can you now use a Stack?"
   ]
  },
  {
   "cell_type": "code",
   "execution_count": null,
   "metadata": {
    "slideshow": {
     "slide_type": "subslide"
    }
   },
   "outputs": [],
   "source": [
    "my_stack = Stack()\n",
    "\n",
    "my_stack.push('H')\n",
    "my_stack.push('e')\n",
    "my_stack.push('l')\n",
    "my_stack.push('l')\n",
    "my_stack.push('o')\n",
    "print(my_stack.peek())"
   ]
  },
  {
   "cell_type": "markdown",
   "metadata": {
    "slideshow": {
     "slide_type": "subslide"
    }
   },
   "source": [
    "## Specification of the Abstract Data Type (ADT) Stack\n",
    "\n",
    "**Values**\n",
    "\n",
    "- A stack is an ordered collection of items where items are added to and removed from the end called the _top_. Stacks are ordered by the _LIFO_ principle.\n",
    "\n",
    "**Methods**\n",
    "\n",
    "_Name_       | Description\n",
    ":-------: | :---\n",
    "`__init__`   | Called via `Stack()`, creates an empty stack, i.e., an empty collection of items.\n",
    "`push(item)` | Adds a new item on top of the stack. The parameter is the item to be added, it returns nothing.\n",
    "`peek()`     | Returns the top item from the stack. It does not modify the stack.\n",
    "`pop()`      | Removes the top item from the stack. No parameter is given, it returns an item. The stack is modified.\n",
    "`is_empty()` | Returns true, if and only if the stack is empty.\n",
    "`size()`     | Returns the number of items that are stored in the stack."
   ]
  },
  {
   "cell_type": "code",
   "execution_count": null,
   "metadata": {
    "slideshow": {
     "slide_type": "fragment"
    }
   },
   "outputs": [],
   "source": [
    "my_stack = Stack()\n",
    "\n",
    "my_stack.push('H')\n",
    "my_stack.push('e')\n",
    "my_stack.push('j')\n",
    "my_stack.pop()\n",
    "my_stack.pop()\n",
    "\n",
    "my_stack.peek() == 'H'"
   ]
  },
  {
   "cell_type": "markdown",
   "metadata": {
    "slideshow": {
     "slide_type": "subslide"
    }
   },
   "source": [
    "## Exercises!\n",
    "\n",
    "We implemented now the first three methods `__init__`, `push(item)`, and `peek()`\n",
    "\n",
    "Add the methods `pop()`, `is_empty()`, and `size()` to your implementation of the stack ADT."
   ]
  },
  {
   "cell_type": "code",
   "execution_count": null,
   "metadata": {
    "slideshow": {
     "slide_type": "fragment"
    }
   },
   "outputs": [],
   "source": [
    "class Stack:\n",
    "    def __init__(self):\n",
    "        self.items = []\n",
    "\n",
    "    def is_empty(self):\n",
    "        pass\n",
    "\n",
    "    def push(self, item):\n",
    "        self.items.append(item)\n",
    "\n",
    "    def pop(self):\n",
    "        pass\n",
    "\n",
    "    def peek(self):\n",
    "        return self.items[-1]\n",
    "\n",
    "    def size(self):\n",
    "        pass"
   ]
  },
  {
   "cell_type": "markdown",
   "metadata": {
    "slideshow": {
     "slide_type": "subslide"
    }
   },
   "source": [
    "## Why does this matter?\n",
    "\n",
    "Now, we can easily build tools that check text for syntactical correctness, i.e., for correctly balanced parenthesis and quote signs.\n",
    "\n",
    "Consider the following text, an excerpt from _The Hounds of Baskervilles_. It contains many quotation marks, such as `“` and `”` and we want to help Arthur Conan Doyle with a program to always remember to set closing quotation marks."
   ]
  },
  {
   "cell_type": "code",
   "execution_count": null,
   "metadata": {
    "slideshow": {
     "slide_type": "fragment"
    }
   },
   "outputs": [],
   "source": [
    "def get_text_from_file(path_to_file):\n",
    "    with open(path_to_file) as fp:\n",
    "        content_lines = fp.readlines()\n",
    "    return content_lines\n",
    "\n",
    "\n",
    "lines = get_text_from_file('the_hound_of_the_baskervilles.txt')\n",
    "text_for_analysis = ''.join(lines[146:172])\n",
    "print(text_for_analysis)"
   ]
  },
  {
   "cell_type": "code",
   "execution_count": null,
   "metadata": {
    "slideshow": {
     "slide_type": "subslide"
    }
   },
   "outputs": [],
   "source": [
    "def balanced_quotation_marks(text):\n",
    "    check_stack = Stack()\n",
    "\n",
    "    for character in text:\n",
    "        if character == '“':\n",
    "            check_stack.push(character)\n",
    "        elif character == '”':\n",
    "            check_stack.pop()\n",
    "\n",
    "    if check_stack.is_empty():\n",
    "        print('I think you quotation signs are balanced.')\n",
    "        return True\n",
    "    else:\n",
    "        print('Hov, it seems as if you forgot to unquote text.')\n",
    "        return False"
   ]
  },
  {
   "cell_type": "code",
   "execution_count": null,
   "metadata": {
    "slideshow": {
     "slide_type": "fragment"
    }
   },
   "outputs": [],
   "source": [
    "balanced_quotation_marks(text_for_analysis)"
   ]
  },
  {
   "cell_type": "markdown",
   "metadata": {
    "slideshow": {
     "slide_type": "fragment"
    }
   },
   "source": [
    "What is the runtime of this algorithm?"
   ]
  },
  {
   "cell_type": "markdown",
   "metadata": {
    "slideshow": {
     "slide_type": "slide"
    }
   },
   "source": [
    "## Specification of the ADT Queue\n",
    "\n",
    "![](http://getlevelten.com/sites/default/files/styles/900x450/public/content/blog/images/istock_000017920441small.jpg?itok=8VNc9Bje)"
   ]
  },
  {
   "cell_type": "markdown",
   "metadata": {
    "slideshow": {
     "slide_type": "subslide"
    }
   },
   "source": [
    "**Values**\n",
    "\n",
    "- A _Queue_ is an ordered collection of items which are added at one end, called the _rear_, and removed from the other end, called the _front_. Queues maintain a _FIFO_ ordering property.\n",
    "\n",
    "**Methods**\n",
    "\n",
    "\n",
    "*Name*          | Description\n",
    "--------------- | ---\n",
    "`__init__()`    | creates a new queue that is empty, via a call to `Queue()`.\n",
    "`enqueue(item)` | Adds a new item to the rear of the queue. It needs an item and returns nothing.\n",
    "`dequeue()`     | Removes the front item from the queue. It needs no parameters and returns the item. The queue is modified.\n",
    "`is_empty()`    | Tests to see whether the queue is empty. It needs no parameters and returns a boolean value.\n",
    "`size()`        | Returns the number of items in the queue. It needs no parameters and returns an integer.\n"
   ]
  },
  {
   "cell_type": "markdown",
   "metadata": {
    "slideshow": {
     "slide_type": "subslide"
    }
   },
   "source": [
    "## Exercise!\n",
    "\n",
    "Complete the following implementation of the _Queue_ ADT."
   ]
  },
  {
   "cell_type": "code",
   "execution_count": null,
   "metadata": {
    "slideshow": {
     "slide_type": "subslide"
    }
   },
   "outputs": [],
   "source": [
    "class Queue:\n",
    "    def __init__(self):\n",
    "        self.items = []\n",
    "\n",
    "    def is_empty(self):\n",
    "        # TODO: implement me!\n",
    "        pass\n",
    "\n",
    "    def enqueue(self, item):\n",
    "        self.items.insert(0, item)\n",
    "\n",
    "    def dequeue(self):\n",
    "        return self.items.pop()\n",
    "    \n",
    "    def size(self):\n",
    "        # TODO: implement me!\n",
    "        pass"
   ]
  },
  {
   "cell_type": "code",
   "execution_count": null,
   "metadata": {},
   "outputs": [],
   "source": []
  },
  {
   "cell_type": "markdown",
   "metadata": {
    "slideshow": {
     "slide_type": "subslide"
    }
   },
   "source": [
    "### What can we do with it now?\n",
    "\n",
    "We can for example implement a small system helping the ice cream shop next door to keep track of customers waiting and preventing them to jump the line."
   ]
  },
  {
   "cell_type": "code",
   "execution_count": null,
   "metadata": {
    "slideshow": {
     "slide_type": "subslide"
    }
   },
   "outputs": [],
   "source": [
    "from adts import Queue\n",
    "\n",
    "ismejeriet = Queue()\n",
    "# Let's say we have 32 customers queueing\n",
    "for customer_no in range(100, 132):\n",
    "    ismejeriet.enqueue(customer_no)\n",
    "\n",
    "# First clerk serving ice cream\n",
    "print(ismejeriet.dequeue())\n",
    "# Second clerk serving ice cream\n",
    "print(ismejeriet.dequeue())\n",
    "# Third clerk serving ice cream\n",
    "print(ismejeriet.dequeue())\n",
    "\n",
    "# In the meanwhile we get two new customers...\n",
    "ismejeriet.enqueue(132)\n",
    "ismejeriet.enqueue(133)\n",
    "# Still they cannot jump the line\n",
    "print(ismejeriet.dequeue())"
   ]
  }
 ],
 "metadata": {
  "celltoolbar": "Slideshow",
  "hide_input": false,
  "kernelspec": {
   "display_name": "Python 3",
   "language": "python",
   "name": "python3"
  },
  "language_info": {
   "codemirror_mode": {
    "name": "ipython",
    "version": 3
   },
   "file_extension": ".py",
   "mimetype": "text/x-python",
   "name": "python",
   "nbconvert_exporter": "python",
   "pygments_lexer": "ipython3",
   "version": "3.7.3"
  }
 },
 "nbformat": 4,
 "nbformat_minor": 2
}
