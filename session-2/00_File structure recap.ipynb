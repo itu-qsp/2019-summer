{
 "cells": [
  {
   "cell_type": "markdown",
   "metadata": {
    "slideshow": {
     "slide_type": "slide"
    }
   },
   "source": [
    "# Recap\n",
    "\n",
    "* Seminar goals\n",
    "* Meta cognition\n",
    "  * Fail fast\n",
    "  * PS: We also make mistakes\n",
    "* Mu installation\n",
    "* Terminal\n",
    "  * Compatibility problems\n",
    "  * Files and folders"
   ]
  },
  {
   "cell_type": "markdown",
   "metadata": {
    "slideshow": {
     "slide_type": "subslide"
    }
   },
   "source": [
    "# Windows vs. Mac vs. Linux vs. ...\n",
    "\n",
    "* The real world is very very messy in terms of software\n",
    "  * Operating systems\n",
    "  * Programming languages\n",
    "  * Hardware differences\n",
    "  * Etc..."
   ]
  },
  {
   "cell_type": "markdown",
   "metadata": {
    "slideshow": {
     "slide_type": "fragment"
    }
   },
   "source": [
    "* We tried to shield you from most of it, but there was an error in the last assignment\n",
    "  * Moving subfolders (`*\\*`) in Windows\n",
    "* We apologise for the inconvenience, but it's still an important lesson:\n",
    "  * Be careful when you work with software"
   ]
  },
  {
   "cell_type": "markdown",
   "metadata": {
    "slideshow": {
     "slide_type": "fragment"
    }
   },
   "source": [
    "* Good news: Python is operating system independent!"
   ]
  },
  {
   "cell_type": "markdown",
   "metadata": {
    "slideshow": {
     "slide_type": "subslide"
    }
   },
   "source": [
    "# Recap on file structure "
   ]
  },
  {
   "cell_type": "markdown",
   "metadata": {
    "slideshow": {
     "slide_type": "subslide"
    }
   },
   "source": [
    "<img src=\"images/folder_example.png\" style=\"float:right\" />\n",
    "\n",
    "* Entering `books`\n",
    "  * Mac: `$ cd books`\n",
    "  * Windows: `$ cd books`\n",
    "* Going back to `data`:\n",
    "  * Mac: `$ cd ..`\n",
    "  * Windows: `$ cd ..`\n",
    "* Entering `images` and `beaver`\n",
    "  * Mac: `$ cd images/beaver`\n",
    "  * Windows: `$ cd images\\beaver`\n",
    "* Going back to `data`:\n",
    "  * Mac: `$ cd ../..`\n",
    "  * Windows: `$ cd ..\\..`"
   ]
  },
  {
   "cell_type": "markdown",
   "metadata": {
    "slideshow": {
     "slide_type": "slide"
    }
   },
   "source": [
    "## Absolute versus relative paths\n",
    "\n",
    "* Absolute paths does not require context\n",
    "  * You are currently at `80.8265,-66.4529`\n",
    "  * I live at Rued Langgaardsvej 7, in Copenhagen Denmark\n",
    "  * His phone number is +44 8138182732\n",
    "* Relative paths requires context\n",
    "  * You are in front of me\n",
    "  * I live down the street and to the right\n",
    "  * His phone number is the same as hers"
   ]
  },
  {
   "cell_type": "markdown",
   "metadata": {
    "slideshow": {
     "slide_type": "subslide"
    }
   },
   "source": [
    "`pwd` gives *absolute* paths, but you can describe paths both with *absolute* or *relative paths*\n",
    "\n",
    "![](images/path_abs_example.png)"
   ]
  }
 ],
 "metadata": {
  "celltoolbar": "Slideshow",
  "kernelspec": {
   "display_name": "Python 3",
   "language": "python",
   "name": "python3"
  },
  "language_info": {
   "codemirror_mode": {
    "name": "ipython",
    "version": 3
   },
   "file_extension": ".py",
   "mimetype": "text/x-python",
   "name": "python",
   "nbconvert_exporter": "python",
   "pygments_lexer": "ipython3",
   "version": "3.7.3"
  }
 },
 "nbformat": 4,
 "nbformat_minor": 2
}
