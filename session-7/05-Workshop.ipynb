{
 "cells": [
  {
   "cell_type": "markdown",
   "metadata": {},
   "source": [
    "![image](http://innov8tiv.com/wp-content/uploads/2015/02/life-of-programmer-1.gif)\n"
   ]
  },
  {
   "cell_type": "markdown",
   "metadata": {},
   "source": [
    "## Unit Testing\n",
    "\n",
    "* Take your previous function `german_polite_form` and save it in the file `german.py`\n",
    "* Create the file `test_german.py`\n",
    "* Write one test that verifies that `Conchita Wurst` gets addressed correctly\n",
    "  - You only need to import your `german_polite_form` file and create a function for the test starting with `test_`\n",
    "  - Use `assert` to test your assumption\n",
    "* Write one test that verifies that using the number 3 does *not* work\n",
    "  - Use the `try ... except` construct in the unit test to verify that `german_polite_form` raises the expected exception."
   ]
  },
  {
   "cell_type": "markdown",
   "metadata": {},
   "source": [
    "## Reading documentation\n",
    "\n",
    "Download the Python module (file) `animal.py`, but **do not open it yet**. The module contains a class called `Animal`. It is a little different than the `Animal` class we created in class on Friday.\n",
    "\n",
    "1. Print the module's documentation by writing:\n",
    "\n",
    "```python\n",
    "import animal\n",
    "\n",
    "\n",
    "print(help(animal.Animal))\n",
    "```\n",
    "\n",
    "2. Answer the following questions just by reading the docstring:\n",
    "  1. What are the attributes (properties) of the class?\n",
    "  2. How many methods does the class have?\n",
    "  3. What happens if you call `.says('Moooooo')`?\n",
    "  4. Verify your expectation by creating an Animal and asking it to `.says('Moooooo')`.\"\n"
   ]
  },
  {
   "cell_type": "markdown",
   "metadata": {},
   "source": [
    "## Reading an Excel file with `openpyxl`\n",
    "\n",
    "1. Open the Befolknings data in file `befkbhalderstatkode_small.xlsx` using `openpyxl`.\n",
    "  * ```python\n",
    "openpyxl.load_workbook(filename)\n",
    "    ```\n",
    "2. Store the sheet object in a variable\n",
    "  *  Remember you can get a sheet by doing: \n",
    "  ```python\n",
    "workbook[\"Sheet1\"]\n",
    "```\n",
    "  * What is type of the variable?\n",
    "\n",
    "3. Using the `[]` notation of the sheet, get the cell `C3`\n",
    "\n",
    "4. Can you use the range-notation `:` from lists to get the cells from `A1` to `C3`?"
   ]
  },
  {
   "cell_type": "markdown",
   "metadata": {},
   "source": [
    "## Descriptive Statistics with an Excel file and `openpyxl`\n",
    "\n",
    "\n",
    "Write a small CLI program that counts how many people from a certain nation lived in Copenhagen in 2015.\n",
    "\n",
    "\n",
    "  - Call your program `count_nationalities.py`\n",
    "  - Let it read data from the Excel file `befkbhalderstatkode_small.xlsx`\n",
    "  - Let it consume an argument from the command-line, which says which nationality you want to count. For example, running `count_nationalities.py` with the CLI argument `5126` -the country code for Belgien- should print `273`:\n",
    "\n",
    "```bash\n",
    "$ python count_nationalities.py 5126\n",
    "273\n",
    "```\n",
    "  - _Hint:_ Use a `for` loop iterating over each row in the spreadsheet.\n",
    "  - _Hint:_ When the value of the element in first cell of the row is `2015` and the value of the fourth cell of the row is the given country code then you want to use the value of the last cell of the row for counting."
   ]
  }
 ],
 "metadata": {
  "kernelspec": {
   "display_name": "Python 3",
   "language": "python",
   "name": "python3"
  },
  "language_info": {
   "codemirror_mode": {
    "name": "ipython",
    "version": 3
   },
   "file_extension": ".py",
   "mimetype": "text/x-python",
   "name": "python",
   "nbconvert_exporter": "python",
   "pygments_lexer": "ipython3",
   "version": "3.7.3"
  }
 },
 "nbformat": 4,
 "nbformat_minor": 2
}
