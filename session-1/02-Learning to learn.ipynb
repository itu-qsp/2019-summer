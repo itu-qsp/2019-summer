{
 "cells": [
  {
   "cell_type": "markdown",
   "metadata": {
    "slideshow": {
     "slide_type": "slide"
    }
   },
   "source": [
    "# Learning to learn\n",
    "\n",
    "### ... And why you should care\n",
    "\n",
    "1. Introducing us\n",
    "2. Dunning-Kruger effect\n",
    "3. Meta learning\n",
    "4. Metacognition\n",
    "5. Summary"
   ]
  },
  {
   "cell_type": "markdown",
   "metadata": {
    "slideshow": {
     "slide_type": "slide"
    }
   },
   "source": [
    "# But first; about us"
   ]
  },
  {
   "cell_type": "markdown",
   "metadata": {
    "slideshow": {
     "slide_type": "subslide"
    }
   },
   "source": [
    "# Helge\n",
    "\n",
    "<img src=\"http://staticmap.openstreetmap.de/staticmap.php?center=50.9281717,11.5879359&zoom=5&size=865x512&maptype=mapnik&markers=50.9281717,11.5879359,lightblue1\"/>\n",
    "\n",
    "  * Dipl-Inf. in Software Engineering from Friedrich-Schiller Universität Jena\n",
    "  * TA and research assistant at Friedrich-Schiller Universität Jena"
   ]
  },
  {
   "cell_type": "markdown",
   "metadata": {
    "slideshow": {
     "slide_type": "subslide"
    }
   },
   "source": [
    "# Helge\n",
    "\n",
    "<img src=\"https://avatars3.githubusercontent.com/u/21216985?s=400&v=4\" width=\"100px\"/>\n",
    "\n",
    "\n",
    "  * PhD in Software Engineering from ITU\n",
    "  * Software engineer at DMI\n",
    "  * Lecturer at Cphbusiness\n",
    "  * Since January back to ITU as adjunkt in the Center for Public IT"
   ]
  },
  {
   "cell_type": "markdown",
   "metadata": {
    "slideshow": {
     "slide_type": "subslide"
    }
   },
   "source": [
    "# Jens\n",
    "\n",
    "<img src=\"http://staticmap.openstreetmap.de/staticmap.php?center=55.779167,8.2875&zoom=6&size=865x512&maptype=mapnik&markers=55.779167,8.2875,lightblue1\" width=\"50%\"/>\n",
    "\n",
    "\n",
    "* BSc. political science\n",
    "* BSc. software development (ITU)\n",
    "* MSc. IT & Cognition"
   ]
  },
  {
   "cell_type": "markdown",
   "metadata": {
    "slideshow": {
     "slide_type": "subslide"
    }
   },
   "source": [
    "# Jens\n",
    "\n",
    "<img src=\"https://avatars0.githubusercontent.com/u/1064317?s=460&v=4\" width=\"100px\"/>\n",
    "\n",
    "* TA and research assistant at ITU\n",
    "* Software engineer at CERN\n",
    "* Lecturer at Cphbusiness\n",
    "* Researching spiking neural networks"
   ]
  },
  {
   "cell_type": "markdown",
   "metadata": {
    "slideshow": {
     "slide_type": "subslide"
    }
   },
   "source": [
    "# The TAs"
   ]
  },
  {
   "cell_type": "markdown",
   "metadata": {
    "slideshow": {
     "slide_type": "subslide"
    }
   },
   "source": [
    "# Anna\n",
    "\n",
    "<img src = 'images/Anna.png' width='400px' >\n",
    "\n",
    "* Designer-turned-Data-Science-student at ITU\n",
    "* Crazy plant lady with a blue belt in taekwondo\n",
    "* reis@itu.dk"
   ]
  },
  {
   "cell_type": "markdown",
   "metadata": {
    "slideshow": {
     "slide_type": "subslide"
    }
   },
   "source": [
    "# Jana\n",
    "\n",
    "<img src=\"images/jana.png\" style=\"float:left;\" width=\"25%\"/>\n",
    "\n",
    "<div style=\"width: 75%; float: right;\">\n",
    "<ul>\n",
    "<li>Bachelor in International Management (Finance & Strategy)</li>\n",
    "<li>Got excited about the possibilities of coding at first job in Berlin: An NGO providing web tools for online donations.</li>\n",
    "<li>Moved to Denmark and started Master in Software Development in 2017, with specialization in Algorithms.</li>\n",
    "<li>Got her degree last week Monday. YAY!</li>\n",
    "<li>Super excited to be here. YAY YAY!</li>\n",
    "</ul>\n",
    "</div>"
   ]
  },
  {
   "cell_type": "markdown",
   "metadata": {
    "slideshow": {
     "slide_type": "subslide"
    }
   },
   "source": [
    "# Morten\n",
    "\n",
    "<img src=\"images/morten.png\" width=\"350px\">\n",
    "\n",
    "* Biochemist degree from Aarhus University\n",
    "* Data Science student at ITU\n",
    "* ITU tip: Kitchens w/ microwave ovens on 2nd, 3rd, 4th, and 5th floor\n",
    "* morg@itu.dk"
   ]
  },
  {
   "cell_type": "markdown",
   "metadata": {
    "slideshow": {
     "slide_type": "subslide"
    }
   },
   "source": [
    "# Viktor\n",
    "\n",
    "<img src = 'images/viktor.jpg' width='400px' >\n",
    "\n",
    "* Data Science\n",
    "* Culinary school dropout\n",
    "* Food, climbing and Downton Abbey"
   ]
  },
  {
   "cell_type": "markdown",
   "metadata": {
    "slideshow": {
     "slide_type": "slide"
    }
   },
   "source": [
    "# Being human\n",
    "\n",
    "* Contrary to computers, humans are genius guessing machines"
   ]
  },
  {
   "cell_type": "markdown",
   "metadata": {
    "slideshow": {
     "slide_type": "fragment"
    }
   },
   "source": [
    "* ... Except when it comes to our own abilities"
   ]
  },
  {
   "cell_type": "markdown",
   "metadata": {
    "slideshow": {
     "slide_type": "fragment"
    }
   },
   "source": [
    "<img src=\"images/donning-kruger.png\"/>"
   ]
  },
  {
   "cell_type": "markdown",
   "metadata": {
    "slideshow": {
     "slide_type": "subslide"
    }
   },
   "source": [
    "## Dunning-Kruger effect\n",
    "\n",
    "* Unskilled and unaware of it: why people fail to recognise their incompetence\n"
   ]
  },
  {
   "cell_type": "markdown",
   "metadata": {
    "slideshow": {
     "slide_type": "fragment"
    }
   },
   "source": [
    "* This course is technical, and it's ok\n",
    "  * The best strategy is to acknowledge that you have something to learn"
   ]
  },
  {
   "cell_type": "markdown",
   "metadata": {
    "slideshow": {
     "slide_type": "fragment"
    }
   },
   "source": [
    "* If you are not failing, you are doing it wrong!\n",
    "  * \"A person who never made a mistake never tried anything new.\""
   ]
  },
  {
   "cell_type": "markdown",
   "metadata": {
    "slideshow": {
     "slide_type": "slide"
    }
   },
   "source": [
    "# Meta learning\n",
    "\n",
    "* Learning how to learn\n",
    "  * \"Being aware of and taking control of one’s own learning\" - John Biggs"
   ]
  },
  {
   "cell_type": "markdown",
   "metadata": {
    "slideshow": {
     "slide_type": "fragment"
    }
   },
   "source": [
    "1. Planning\n",
    "  * Selection of strategies\n",
    "2. Monitoring\n",
    "  * Awareness of comprehension and task performance\n",
    "3. Evaluating\n",
    "  * Appraising and correct strategies"
   ]
  },
  {
   "cell_type": "markdown",
   "metadata": {
    "slideshow": {
     "slide_type": "subslide"
    }
   },
   "source": [
    "You may have seen Bloom's taxonomy before.  \n",
    "The important point is that lower levels are prerequisite for higher levels but higher levels powerfully reinforce lower levels.  \n",
    "\n",
    "<img src=\"images/animated.gif\" width=\"80%\"/>"
   ]
  },
  {
   "cell_type": "markdown",
   "metadata": {
    "slideshow": {
     "slide_type": "fragment"
    }
   },
   "source": [
    "* Most importantly: learning is **not** free"
   ]
  },
  {
   "cell_type": "markdown",
   "metadata": {
    "slideshow": {
     "slide_type": "subslide"
    }
   },
   "source": [
    "## Meta learning example 1: Handwritten notes\n",
    "\n",
    "* Your conceptual understanding increases when you take notes by hand\n",
    "  * A study [on students and their note taking habits](https://www.scientificamerican.com/article/a-learning-secret-don-t-take-notes-with-a-laptop/)\n",
    "* Cognitive processing improves when you interact physically"
   ]
  },
  {
   "cell_type": "markdown",
   "metadata": {
    "slideshow": {
     "slide_type": "subslide"
    }
   },
   "source": [
    "## Meta learning example 2: Avoid multitasking\n",
    "\n",
    "* Brains are notoriously bad at multitasking\n",
    "* Apparently **40%** of your time in class is spent on unrelated activities\n",
    "  * Study on [affects of multitasking with laptops](https://eric.ed.gov/?id=EJ893903)"
   ]
  },
  {
   "cell_type": "markdown",
   "metadata": {
    "slideshow": {
     "slide_type": "fragment"
    }
   },
   "source": [
    "* Take-away\n",
    "  1. Exploit your tactile senses to take physical notes\n",
    "  2. Have the self-discipline to shut down your laptop when we speak"
   ]
  },
  {
   "cell_type": "markdown",
   "metadata": {
    "slideshow": {
     "slide_type": "slide"
    }
   },
   "source": [
    "# Metacognition\n",
    "\n",
    "A [study on metacognition](https://phys.org/news/2017-10-metacognition-boosts-gen-chem-exam.html) shows that teaching students about metacognition gives better grades:\n",
    "\n",
    "  > \"The students who are successful will ask themselves—what is this question asking me to do? How does that relate\n",
    "  > to what we're doing in class? Why are they giving me this question? If there's an equation, why does this equation\n",
    "  > work? That's the metacognitive part. \n",
    "  > If they will kick that in, they will see their grades go straight through the roof.\" \n",
    "  >\n",
    "  > Charles Atwood"
   ]
  },
  {
   "cell_type": "markdown",
   "metadata": {
    "slideshow": {
     "slide_type": "subslide"
    }
   },
   "source": [
    "## Hacking your grades\n",
    "\n",
    "* Be aware of how you think\n",
    "  * How are you currently going about it? Is that the best way?\n",
    "* **What** are you learning?\n",
    "  * And how does that fit into the bigger picture? Why is it relevant?\n",
    "* **How** are you learning?\n",
    "  * Visual, auditory etc. (modalities)\n",
    "  * Practical vs theoretical"
   ]
  },
  {
   "cell_type": "markdown",
   "metadata": {
    "slideshow": {
     "slide_type": "slide"
    }
   },
   "source": [
    "# Summary\n",
    "\n",
    "* We prepared a lot for you, and you will likely not find it easy"
   ]
  },
  {
   "cell_type": "markdown",
   "metadata": {
    "slideshow": {
     "slide_type": "fragment"
    }
   },
   "source": [
    "* You are human: fail fast"
   ]
  },
  {
   "cell_type": "markdown",
   "metadata": {
    "slideshow": {
     "slide_type": "fragment"
    }
   },
   "source": [
    "* This takes time. Seriously. Take. The. Time"
   ]
  },
  {
   "cell_type": "markdown",
   "metadata": {
    "slideshow": {
     "slide_type": "fragment"
    }
   },
   "source": [
    "* Think about how you think and learn\n",
    "  * Is it smart to attend the lectures but never work on it by yourself? \n",
    "  * Take notes!\n",
    "  * (Hint: we won't be there to help you at the exam)"
   ]
  },
  {
   "cell_type": "markdown",
   "metadata": {
    "slideshow": {
     "slide_type": "slide"
    }
   },
   "source": [
    "# Practicalities\n",
    "\n",
    "* Everything can be found on:\n",
    "  * LearnIT: https://learnit.itu.dk/course/view.php?id=3019134 or\n",
    "  * GitHub: https://github.com/itu-qsp/2019-summer\n",
    "* Mondays, Wednesdays and Fridays at 9:00 - 15:00\n",
    "  * Assignments due for Tuesdays, Thursdays and Sundays\n",
    "* 4 hours of common time\n",
    "  * Switching between lecture and workshops\n",
    "  * Please stay focused!\n",
    "* 2 hours of exercises"
   ]
  },
  {
   "cell_type": "markdown",
   "metadata": {
    "slideshow": {
     "slide_type": "subslide"
    }
   },
   "source": [
    "## ITU formalia\n",
    "\n",
    "Did you:\n",
    "\n",
    "1. Take a photo for your student card?\n",
    "2. Log on to the ITU wifi?\n",
    "  * http://go.itu.dk/eduroam-connected\n",
    "  * **NOTE**: This is important for the final test\n",
    "3. Login to  https://learnit.itu.dk"
   ]
  },
  {
   "cell_type": "markdown",
   "metadata": {
    "slideshow": {
     "slide_type": "subslide"
    }
   },
   "source": [
    "## An 82 year old can do it, so can you!\n",
    "\n",
    "https://www.aarp.org/work/working-at-50-plus/info-2018/worlds-oldest-app-developer-fd.html\n",
    "\n",
    "<img src=\"https://cdn.aarp.net/content/dam/aarp/work/working_retirement/2018/02/1140-82-year-old-programmer-masako-wakamiya.imgcache.revb1513d0bd11318c0698969e7455b397a.jpg\"/>"
   ]
  }
 ],
 "metadata": {
  "celltoolbar": "Slideshow",
  "kernelspec": {
   "display_name": "Python 3",
   "language": "python",
   "name": "python3"
  },
  "language_info": {
   "codemirror_mode": {
    "name": "ipython",
    "version": 3
   },
   "file_extension": ".py",
   "mimetype": "text/x-python",
   "name": "python",
   "nbconvert_exporter": "python",
   "pygments_lexer": "ipython3",
   "version": "3.7.1"
  },
  "latex_envs": {
   "LaTeX_envs_menu_present": true,
   "autoclose": false,
   "autocomplete": true,
   "bibliofile": "biblio.bib",
   "cite_by": "apalike",
   "current_citInitial": 1,
   "eqLabelWithNumbers": true,
   "eqNumInitial": 1,
   "hotkeys": {
    "equation": "Ctrl-E",
    "itemize": "Ctrl-I"
   },
   "labels_anchors": false,
   "latex_user_defs": false,
   "report_style_numbering": false,
   "user_envs_cfg": false
  }
 },
 "nbformat": 4,
 "nbformat_minor": 2
}
